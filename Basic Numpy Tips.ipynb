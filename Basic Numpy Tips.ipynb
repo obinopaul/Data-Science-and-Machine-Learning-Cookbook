{
 "cells": [
  {
   "cell_type": "code",
   "execution_count": 3,
   "id": "b9c8e009",
   "metadata": {},
   "outputs": [
    {
     "data": {
      "text/plain": [
       "array([[1, 2, 3],\n",
       "       [1, 2, 3]])"
      ]
     },
     "execution_count": 3,
     "metadata": {},
     "output_type": "execute_result"
    }
   ],
   "source": [
    "#Numpy\n",
    "#1D - Vectors\n",
    "#2D - Matrices\n",
    "import numpy as np\n",
    "\n",
    "arr = np.array([[1,2,3], [1,2,3]])\n",
    "arr"
   ]
  },
  {
   "cell_type": "code",
   "execution_count": 21,
   "id": "535fe108",
   "metadata": {},
   "outputs": [
    {
     "data": {
      "text/plain": [
       "[0, 1, 2, 3, 4, 5, 6, 7, 8, 9]"
      ]
     },
     "execution_count": 21,
     "metadata": {},
     "output_type": "execute_result"
    }
   ],
   "source": [
    "#Numpy built-in functions\n",
    "    #creating arrays\n",
    "np.arange(0,11,2) #(start, stop, step)\n",
    "np.zeros((3,3)) #(row, col)\n",
    "np.ones((2,3)) #(row, col)\n",
    "np.linspace(1,5,10) #(start, stop, number of items)\n",
    "np.eye(4) #identity matrix\n",
    "\n",
    "\n",
    "#creating arrays of random numbers\n",
    "np.random.rand(5) #random samples of a uniform distribution from 0-1\n",
    "    np.random.rand (5,5) #2D random samples from 0-1\n",
    "np.random.randn(2) #random samples from a standard normal distribution centered around zero (0)\n",
    "np.random.randint(5) #returns random integers from a low to a high number\n",
    "    np.random.randint(1,100,10) #(low, high, size) #inclusive on the low end, exclusive on the high end\n",
    "np.random.permutation(np.arange(10)) #to shuffle\n",
    "np.random.choice(1,15,20)\n",
    "\n",
    "\n",
    "#attributes and methods of Array\n",
    "arr = np.array(range(10))\n",
    "arr.reshape(5,5) #reshape an array (row, col)\n",
    "arr.shape #find the shape of an array\n",
    "\n",
    "\n",
    "#Numpy Indexing and Slicing\n",
    "arr[1:3] = array([1,2]) #for 1D #inclusive on the low end and exclusive on the high end\n",
    "arr[1:2, 0:1] #for 2-D (row, col)\n",
    "arr[0][2] #[row][col]\n",
    "\n",
    "arr[1:2] = 10 #Broadcasting an array #its always best to make a copy before broadcasting an array\n",
    "    arr.copy() #to copy an array\n",
    "\n",
    "\n",
    "#Conditional selection\n",
    "arr[arr>3]\n",
    "arr[(arr<8) & (arr > 4)] #and\n",
    "arr[(arr>5) | (arr < 3)] #or"
   ]
  },
  {
   "cell_type": "code",
   "execution_count": 53,
   "id": "0e847f5d",
   "metadata": {},
   "outputs": [
    {
     "data": {
      "text/plain": [
       "array([7, 1, 3, 4, 0, 6, 5, 9, 8, 2])"
      ]
     },
     "execution_count": 53,
     "metadata": {},
     "output_type": "execute_result"
    }
   ],
   "source": [
    "#Useful functions in Numpy\n",
    "np.where(arr==3) or np.argwhere(arr==3) or np.unravel_index(3, arr) #find index of 3 in array \"arr\"\n",
    "np.repeat(3,5) or np.tile(arr,5) #repeat number 3, 5 times. #repeat - 1D; tile - 2D\n",
    "    np.tile(arr, (2,2)) #repeat array \"arr\" in 2 rows and 2 cols\n",
    "\n",
    "#plot\n",
    "np.polyfit(x,y)\n",
    "np.polyval(p,x)\n",
    "np.histogram(a, bins=10, range=None, normed=None)\n",
    "\n",
    "np.full((2,4), fill_value=2) #fill an array of 2 rows, 4 cols with the value 2\n",
    "np.unique(arr, return_counts=True) #return_counts = If True, also return the number of times each unique item appears\n",
    "np.T(arr) or arr.T (transpose)\n",
    "\n",
    "#maths\n",
    "np.mean()\n",
    "np.desribe()\n",
    "np.sum()\n",
    "np.sort()\n",
    "np.flatten(arr) #flatten from x-dim to 1D\n",
    "np.add(arr_1, arr_2)\n",
    "np.subtract(x,y)\n",
    "np.multiply(x,y)\n",
    "np.divide(x,y)\n",
    "np.min(arr)\n",
    "np.max(arr)\n",
    "np.power(arr)\n",
    "np.sqrt(arr)\n",
    "np.sin(arr)\n",
    "np.floor(arr)\n",
    "np.round(arr)\n",
    "np.std(arr)\n",
    "np.abs(arr)\n",
    "np.var(arr)\n",
    "\n",
    "np.digitize(x, bins, right=False) #to xxxx\n",
    "np.shape or np.reshape()\n",
    "np.expand_dims(ar, axis=0) or np.flatten(arr, axis=0) or np.squeeze(arr, axis=0)\n",
    "np.count_nonzero(arr) #count all non-zero elements\n",
    "np.argwhere(arr)\n",
    "np.argmin(arr) or np.argmax(arr)\n",
    "arr.clip(0,5) #to keep all values of an array within a range\n",
    "np.put(arr, [1,2], [6,7]) #(arr, (indices = [where to replace]), (value = [what to replace it with]))\n",
    "np.astype(int) #change the datatype to integer\n",
    "np.astype(float) #change the datatype to float\n",
    "\n",
    "#set operations\n",
    "np.intersect1d(arr1,arr2) #(arr1 n arr2 ) returns all unique values from the two arrays\n",
    "np.setdiff1d(a,b) #returns al unique elements of a not in b\n",
    "np.setxor1d(a,b) #same with above but in sorted order\n",
    "np.union1d(a,b) (a U b)\n",
    "\n",
    "#splitting\n",
    "np.hsplit(arr, 2) #split the data horizontally (rows) into two equal parts\n",
    "np.vsplit (arr, 3) #split the data vertically (cols) into three equal parts\n",
    "\n",
    "#stacking\n",
    "np.hstack((a, b)) #stack/appends b unto a horizontally (rows)\n",
    "np.vstack((a,b)) #stack/appends b unto a vertically (cols)\n",
    "\n",
    "#comparing\n",
    "np.allclose(a,b, tolerance) #compares two array base in tolerance level\n",
    "np.equal(a,b) #compares elements of both arrays\n",
    "\n",
    "#print options\n",
    "np.set_printoptions(precision=2) #show floats within two decimal points\n",
    "np.set_printoptions(threshold=np.inf) #print array to its max (np.inf - positive infinity)\n",
    "np.printoptions(linewidth = 100) #increase the number of elements in a line\n",
    "\n",
    "#save and load array\n",
    "np.savetxt(\"array.txt\", arr)\n",
    "np.loadtxt(\"array.txt\")\n",
    "\n",
    "#multiply\n",
    "np.multiply(a,b) #multiply two arrays of the same shape\n",
    "np.dot(a,b) #multiply two arrays of different shapes"
   ]
  }
 ],
 "metadata": {
  "kernelspec": {
   "display_name": "Python 3 (ipykernel)",
   "language": "python",
   "name": "python3"
  },
  "language_info": {
   "codemirror_mode": {
    "name": "ipython",
    "version": 3
   },
   "file_extension": ".py",
   "mimetype": "text/x-python",
   "name": "python",
   "nbconvert_exporter": "python",
   "pygments_lexer": "ipython3",
   "version": "3.9.15"
  },
  "nbTranslate": {
   "displayLangs": [
    "*"
   ],
   "hotkey": "alt-t",
   "langInMainMenu": true,
   "sourceLang": "en",
   "targetLang": "fr",
   "useGoogleTranslate": true
  },
  "toc": {
   "base_numbering": 1,
   "nav_menu": {},
   "number_sections": true,
   "sideBar": true,
   "skip_h1_title": false,
   "title_cell": "Table of Contents",
   "title_sidebar": "Contents",
   "toc_cell": false,
   "toc_position": {},
   "toc_section_display": true,
   "toc_window_display": false
  },
  "varInspector": {
   "cols": {
    "lenName": 16,
    "lenType": 16,
    "lenVar": 40
   },
   "kernels_config": {
    "python": {
     "delete_cmd_postfix": "",
     "delete_cmd_prefix": "del ",
     "library": "var_list.py",
     "varRefreshCmd": "print(var_dic_list())"
    },
    "r": {
     "delete_cmd_postfix": ") ",
     "delete_cmd_prefix": "rm(",
     "library": "var_list.r",
     "varRefreshCmd": "cat(var_dic_list()) "
    }
   },
   "types_to_exclude": [
    "module",
    "function",
    "builtin_function_or_method",
    "instance",
    "_Feature"
   ],
   "window_display": false
  }
 },
 "nbformat": 4,
 "nbformat_minor": 5
}
