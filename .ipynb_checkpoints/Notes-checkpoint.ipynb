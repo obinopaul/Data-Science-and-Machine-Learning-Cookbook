{
 "cells": [
  {
   "cell_type": "markdown",
   "id": "a629eaf6",
   "metadata": {},
   "source": [
    "##### Matplotlib"
   ]
  },
  {
   "cell_type": "code",
   "execution_count": 5,
   "id": "bea4055d",
   "metadata": {},
   "outputs": [],
   "source": [
    "import matplotlib.pyplot as plt\n",
    "%matplotlib inline\n",
    "\n",
    "#Functional method of creating plots\n",
    "#plot 1\n",
    "# plt.subplot(148654,12,1)  #1: plot number being referred to (row, col, number of plot)\n",
    "plt.plot(df_salary[\"TotalPayBenefits\"], df_salary[\"Year\"], \"r\") \n",
    "                                            #r = red\n",
    "plt.xlabel(\"Total Pay Benefits\")\n",
    "plt.ylabel(\"Year\")\n",
    "plt.title(\"A plot of Employees Total enumerations for diffrent years\")\n",
    "plt.legend()\n",
    "\n",
    "plot 2\n",
    "plt.subplot(148654,12,2)  #2: plot number being referred to\n",
    "plt.plot(df_salary[\"TotalPayBenefits\"], df_salary[\"Year\"]) #Functional method of creating plots\n",
    "plt.xlabel(\"Total Pay Benefits\")\n",
    "plt.ylabel(\"Year\")\n",
    "plt.title(\"A plot of Employees Total enumerations for diffrent years\")\n",
    "plt.legend()\n"
   ]
  },
  {
   "cell_type": "code",
   "execution_count": null,
   "id": "bb660eab",
   "metadata": {},
   "outputs": [],
   "source": [
    "#object oriented API plots (Another method of making plots)\n",
    "\n",
    "fig = plt.figure()\n",
    "axes = fig.add_axes([0.1,0.1,0.8, 0.8]) #left, bottom, width, and height\n",
    "axes.plot(df_salary[\"TotalPayBenefits\"], df_salary[\"Year\"], \"r\")\n",
    "axes.plot(df_salary[\"TotalPayBenefits\"], df_salary[\"Year\"], \"b\")\n",
    "axes.set_xlabel(\"X Label\")\n",
    "axes.set_ylabel(\"Y Label\")\n",
    "\n",
    "\n",
    "fig = plt.figure()\n",
    "axes_1 = fig.add_axes([0.1,0.1,0.9, 0.8]) #left, bottom, width, and height\n",
    "axes_2 = fig.add_axes([0.2,0.5,0.4, 0.3])\n",
    "axes_1.plot(df_salary_new[\"Year\"], df_salary_new[\"TotalPayBenefits\"][\"sum\"],  \"r\")\n",
    "axes_2.plot(df_salary_new[\"Year\"], df_salary_new[\"TotalPayBenefits\"][\"mean\"],  \"b\")\n",
    "axes_1.set_title(\"A graph of Total pay benefits vs Year\")\n",
    "axes_2.set_title(\"A graph of Average Total pay benefits vs Year\")\n",
    "# axes_1.plot(df_salary[\"TotalPayBenefits\"], df_salary[\"Year\"], \"r\")\n",
    "# axes_2.plot(df_salary[\"TotalPayBenefits\"], df_salary[\"Year\"], \"b\")\n",
    "# axes.set_xlabel(\"X Label\") \n",
    "# axes.set_ylabel(\"Y Label\")"
   ]
  },
  {
   "cell_type": "code",
   "execution_count": 6,
   "id": "30e79356",
   "metadata": {},
   "outputs": [
    {
     "data": {
      "image/png": "[encoded data removed]",
      "text/plain": [
       "<Figure size 640x480 with 4 Axes>"
      ]
     },
     "metadata": {},
     "output_type": "display_data"
    }
   ],
   "source": [
    "#when creating subplots, you can combine the following two functions into one.\n",
    "fig = plt.figure() #function 1\n",
    "axes_1 = fig.add_axes([0.1,0.1,0.9, 0.8]) function 1(a) #left, bottom, width, and height\n",
    "axes_2 = fig.add_axes([0.2,0.5,0.4, 0.3]) function 1(b)\n",
    "\n",
    "#into\n",
    "fig,axes = plt.subplots(nrows = 2, ncols = 2) #You then specify the number of plots based on the rows and columns\n",
    "\n",
    "plt.tight_layout() #to fix the issue of overlapping\n",
    "axes[o].plot(x,y)\n",
    "axes[0].set_title(\"This is the title for the first chart\")\n",
    "axes[0,0].plot(df_salary[\"TotalPayBenefits\"], df_salary[\"Year\"], \"r\")\n",
    "\n",
    "axes[1].plot(x,y)\n",
    "axes[1].set_title(\"xxxxxxx\")\n",
    "axes[1].set_xlabel(\"This the label for the x-axis\")"
   ]
  },
  {
   "cell_type": "code",
   "execution_count": null,
   "id": "745eb304",
   "metadata": {},
   "outputs": [],
   "source": [
    "#Figure Size and DPI (dots/pixels per inch)\n",
    "fig = plt.figure(figsize=(3,2), dpi=100)#figsize(width,height) in inches; dpi\n",
    "\n",
    "fig,axes = plt.subplots(nrows = 2, ncols = 2, figsize=(3,2), dpi=100)\n",
    "\n",
    "#save figure\n",
    "fig.savefig(\"my_first_chart.png\")\n",
    "\n",
    "#adding Legends\n",
    "fig = plt.figure() #function 1\n",
    "axes_1 = fig.add_axes([0.1,0.1,0.9, 0.8]) function 1(a) #left, bottom, width, and height\n",
    "axes_1.plot(x,y**2, label = \"First Chart\")\n",
    "axes_1.plot(x,y**3, label = \"Second Chart\")\n",
    "axes_1.legend(loc= 0) #for location: 0 = best; you can also use tupe (left, bottom) to specify exact location. "
   ]
  },
  {
   "cell_type": "code",
   "execution_count": null,
   "id": "28351a1b",
   "metadata": {},
   "outputs": [],
   "source": [
    "#First Chart (single or multiple charts)\n",
    "fig = plt.figure(figsize=(3,2), dpi=100) #figsize(width,height) in inches; dpi\n",
    "\n",
    "axes_1 = fig.add_axes([0.1,0.1,0.9, 0.8]) #left, bottom, width, and height. If you want more than one chart, keep adding new axis\n",
    "axes_1.plot(x, y**2, label = \"First Chart\", color = \"r\", linewidth = 3, linestyle = \":\",\n",
    "            markers = \"*\" , markersize = 10, markerfacecolor = \"yellow\", markeredgewidth = 3, \n",
    "            markeredgewidthecolor = \"green\" , alpha = 0.5) #alpha shows the level of transparency of the line\n",
    "            #you can also use the following: lw = linewidth; ls = linestyle\n",
    "            #for color and customization, you can combine it together: \"r--\"\n",
    "            \n",
    "axes_1.plot(x,y**3, label = \"Second Chart\", \"r\")\n",
    "axes_1.set_title(\"This is my title\")\n",
    "axes_1.set_xlabel(\"This is xlabel\")\n",
    "axes_1.set_ylabel(\"This is ylabel\")\n",
    "axes_1.legend(loc= 0) #adding legends #for location: 0 = best; you can also use tupe (left, bottom) to specify exact location. \n",
    "axes.set_xlim([0, 1]) #plot range for x-axis  #[lower bound, upper bound]\n",
    "axes.set_ylim([0, 2]) #plot range for y-axis  #[lower bound, upper bound]\n",
    "axes_1.tight_layout()\n",
    "fig.savefig(\"my_first_chart.png\") #save figure\n",
    "\n",
    "\n",
    "\n",
    "\n",
    "#Second Chart (single or multiple charts)\n",
    "fig,axes = plt.subplots(nrows = 2, ncols = 2, figsize=(3,2), dpi=100) #figsize(width,height) in inches; dpi. #You then specify the number of plots based on the rows and columns\n",
    "\n",
    "plt.tight_layout() #to fix the issue of overlapping\n",
    "axes[o,1].plot(x,y, label = \"First Chart\", \"r\") \n",
    "axes[0,1].set_title(\"This is the title for the first chart\")\n",
    "axes[0,1].set_xlabel(\"This is xlabel\")\n",
    "axes[0,1].set_ylabel(\"This is ylabel\")\n",
    "axes[0,1].legend(loc= 0) #adding legends #for location: 0 = best; you can also use tuple (left, bottom) to specify exact location.\n",
    "axes.set_xlim([0, 1]) #plot range for x-axis  #[lower bound, upper bound]\n",
    "axes.set_ylim([0, 2]) #plot range for y-axis  #[lower bound, upper bound]\n",
    "\n",
    "axes[1].plot(x,y, label = \"Second Chart\")\n",
    "axes[1].set_title(\"xxxxxxx\")\n",
    "axes[1].set_xlabel(\"This the label for the x-axis\")\n",
    "axes[1].set_ylabel(\"This is ylabel\")\n",
    "axes[1].legend(loc= 0) #adding legends #for location: 0 = best; you can also use tuple (left, bottom) to specify exact location.\n",
    "axes.set_xlim([0, 1]) #plot range for x-axis  #[lower bound, upper bound]\n",
    "axes.set_ylim([0, 2]) #plot range for y-axis  #[lower bound, upper bound]\n",
    "\n",
    "fig.savefig(\"my_first_chart.png\") #save figure"
   ]
  },
  {
   "cell_type": "code",
   "execution_count": null,
   "id": "f237d8fb",
   "metadata": {},
   "outputs": [],
   "source": []
  },
  {
   "cell_type": "code",
   "execution_count": null,
   "id": "fa9d9301",
   "metadata": {},
   "outputs": [],
   "source": []
  },
  {
   "cell_type": "markdown",
   "id": "6fd38e3e",
   "metadata": {},
   "source": [
    "##### Seaborn"
   ]
  },
  {
   "cell_type": "code",
   "execution_count": null,
   "id": "572f03bf",
   "metadata": {},
   "outputs": [],
   "source": []
  }
 ],
 "metadata": {
  "kernelspec": {
   "display_name": "Python 3 (ipykernel)",
   "language": "python",
   "name": "python3"
  },
  "language_info": {
   "codemirror_mode": {
    "name": "ipython",
    "version": 3
   },
   "file_extension": ".py",
   "mimetype": "text/x-python",
   "name": "python",
   "nbconvert_exporter": "python",
   "pygments_lexer": "ipython3",
   "version": "3.9.15"
  },
  "nbTranslate": {
   "displayLangs": [
    "*"
   ],
   "hotkey": "alt-t",
   "langInMainMenu": true,
   "sourceLang": "en",
   "targetLang": "fr",
   "useGoogleTranslate": true
  },
  "toc": {
   "base_numbering": 1,
   "nav_menu": {},
   "number_sections": true,
   "sideBar": true,
   "skip_h1_title": false,
   "title_cell": "Table of Contents",
   "title_sidebar": "Contents",
   "toc_cell": false,
   "toc_position": {
    "height": "calc(100% - 180px)",
    "left": "10px",
    "top": "150px",
    "width": "273.188px"
   },
   "toc_section_display": true,
   "toc_window_display": false
  },
  "varInspector": {
   "cols": {
    "lenName": 16,
    "lenType": 16,
    "lenVar": 40
   },
   "kernels_config": {
    "python": {
     "delete_cmd_postfix": "",
     "delete_cmd_prefix": "del ",
     "library": "var_list.py",
     "varRefreshCmd": "print(var_dic_list())"
    },
    "r": {
     "delete_cmd_postfix": ") ",
     "delete_cmd_prefix": "rm(",
     "library": "var_list.r",
     "varRefreshCmd": "cat(var_dic_list()) "
    }
   },
   "types_to_exclude": [
    "module",
    "function",
    "builtin_function_or_method",
    "instance",
    "_Feature"
   ],
   "window_display": false
  }
 },
 "nbformat": 4,
 "nbformat_minor": 5
}
