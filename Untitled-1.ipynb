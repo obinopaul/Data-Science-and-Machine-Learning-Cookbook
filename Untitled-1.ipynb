{
 "cells": [
  {
   "cell_type": "code",
   "execution_count": null,
   "metadata": {},
   "outputs": [],
   "source": [
    "import numpy as np\n",
    "import pandas as pd\n",
    "import matplotlib.pyplot as plt\n",
    "import scipy.stats as stats\n",
    "%matplotlib inline\n",
    "\n",
    "from sklearn.datasets import load_iris, load_digits, load_breast_cancer\n",
    "from sklearn.tree import DecisionTreeClassifier\n",
    "from sklearn.ensemble import RandomForestClassifier\n",
    "from sklearn.model_selection import train_test_split, KFold, cross_val_score"
   ]
  },
  {
   "cell_type": "code",
   "execution_count": null,
   "metadata": {},
   "outputs": [],
   "source": [
    "# Load the breast cancer dataset\n",
    "X, y  = load_breast_cancer(return_X_y=True,as_frame=True)\n",
    "\n",
    "numerical_feature = [feature for feature in X.columns if X[feature].dtypes != 'O']\n",
    "discrete_feature=[feature for feature in numerical_feature if len(X[feature].unique())<25]\n",
    "continuous_feature = [feature for feature in numerical_feature if feature not in discrete_feature]\n",
    "categorical_feature = [feature for feature in X.columns if feature not in numerical_feature]\n",
    "print(\"Numerical Features Count {}\".format(len(numerical_feature)))\n",
    "print(\"Discrete feature Count {}\".format(len(discrete_feature)))\n",
    "print(\"Continuous feature Count {}\".format(len(continuous_feature)))\n",
    "print(\"Categorical feature Count {}\".format(len(categorical_feature)))"
   ]
  },
  {
   "cell_type": "code",
   "execution_count": 149,
   "metadata": {},
   "outputs": [
    {
     "data": {
      "text/html": [
       "<style>#sk-container-id-2 {color: black;background-color: white;}#sk-container-id-2 pre{padding: 0;}#sk-container-id-2 div.sk-toggleable {background-color: white;}#sk-container-id-2 label.sk-toggleable__label {cursor: pointer;display: block;width: 100%;margin-bottom: 0;padding: 0.3em;box-sizing: border-box;text-align: center;}#sk-container-id-2 label.sk-toggleable__label-arrow:before {content: \"▸\";float: left;margin-right: 0.25em;color: #696969;}#sk-container-id-2 label.sk-toggleable__label-arrow:hover:before {color: black;}#sk-container-id-2 div.sk-estimator:hover label.sk-toggleable__label-arrow:before {color: black;}#sk-container-id-2 div.sk-toggleable__content {max-height: 0;max-width: 0;overflow: hidden;text-align: left;background-color: #f0f8ff;}#sk-container-id-2 div.sk-toggleable__content pre {margin: 0.2em;color: black;border-radius: 0.25em;background-color: #f0f8ff;}#sk-container-id-2 input.sk-toggleable__control:checked~div.sk-toggleable__content {max-height: 200px;max-width: 100%;overflow: auto;}#sk-container-id-2 input.sk-toggleable__control:checked~label.sk-toggleable__label-arrow:before {content: \"▾\";}#sk-container-id-2 div.sk-estimator input.sk-toggleable__control:checked~label.sk-toggleable__label {background-color: #d4ebff;}#sk-container-id-2 div.sk-label input.sk-toggleable__control:checked~label.sk-toggleable__label {background-color: #d4ebff;}#sk-container-id-2 input.sk-hidden--visually {border: 0;clip: rect(1px 1px 1px 1px);clip: rect(1px, 1px, 1px, 1px);height: 1px;margin: -1px;overflow: hidden;padding: 0;position: absolute;width: 1px;}#sk-container-id-2 div.sk-estimator {font-family: monospace;background-color: #f0f8ff;border: 1px dotted black;border-radius: 0.25em;box-sizing: border-box;margin-bottom: 0.5em;}#sk-container-id-2 div.sk-estimator:hover {background-color: #d4ebff;}#sk-container-id-2 div.sk-parallel-item::after {content: \"\";width: 100%;border-bottom: 1px solid gray;flex-grow: 1;}#sk-container-id-2 div.sk-label:hover label.sk-toggleable__label {background-color: #d4ebff;}#sk-container-id-2 div.sk-serial::before {content: \"\";position: absolute;border-left: 1px solid gray;box-sizing: border-box;top: 0;bottom: 0;left: 50%;z-index: 0;}#sk-container-id-2 div.sk-serial {display: flex;flex-direction: column;align-items: center;background-color: white;padding-right: 0.2em;padding-left: 0.2em;position: relative;}#sk-container-id-2 div.sk-item {position: relative;z-index: 1;}#sk-container-id-2 div.sk-parallel {display: flex;align-items: stretch;justify-content: center;background-color: white;position: relative;}#sk-container-id-2 div.sk-item::before, #sk-container-id-2 div.sk-parallel-item::before {content: \"\";position: absolute;border-left: 1px solid gray;box-sizing: border-box;top: 0;bottom: 0;left: 50%;z-index: -1;}#sk-container-id-2 div.sk-parallel-item {display: flex;flex-direction: column;z-index: 1;position: relative;background-color: white;}#sk-container-id-2 div.sk-parallel-item:first-child::after {align-self: flex-end;width: 50%;}#sk-container-id-2 div.sk-parallel-item:last-child::after {align-self: flex-start;width: 50%;}#sk-container-id-2 div.sk-parallel-item:only-child::after {width: 0;}#sk-container-id-2 div.sk-dashed-wrapped {border: 1px dashed gray;margin: 0 0.4em 0.5em 0.4em;box-sizing: border-box;padding-bottom: 0.4em;background-color: white;}#sk-container-id-2 div.sk-label label {font-family: monospace;font-weight: bold;display: inline-block;line-height: 1.2em;}#sk-container-id-2 div.sk-label-container {text-align: center;}#sk-container-id-2 div.sk-container {/* jupyter's `normalize.less` sets `[hidden] { display: none; }` but bootstrap.min.css set `[hidden] { display: none !important; }` so we also need the `!important` here to be able to override the default hidden behavior on the sphinx rendered scikit-learn.org. See: https://github.com/scikit-learn/scikit-learn/issues/21755 */display: inline-block !important;position: relative;}#sk-container-id-2 div.sk-text-repr-fallback {display: none;}</style><div id=\"sk-container-id-2\" class=\"sk-top-container\"><div class=\"sk-text-repr-fallback\"><pre>RandomForestClassifier(bootstrap=True, ccp_alpha=0.0, class_weight=None,\n",
       "                       criterion=&#x27;gini&#x27;, max_depth=None, max_features=&#x27;sqrt&#x27;,\n",
       "                       max_leaf_nodes=None, max_samples=None,\n",
       "                       min_impurity_decrease=0.0, min_samples_leaf=1,\n",
       "                       min_samples_split=2, min_weight_fraction_leaf=0.0,\n",
       "                       n_estimators=100, n_jobs=None, oob_score=False,\n",
       "                       random_state=None, verbose=0, warm_start=False)</pre><b>In a Jupyter environment, please rerun this cell to show the HTML representation or trust the notebook. <br />On GitHub, the HTML representation is unable to render, please try loading this page with nbviewer.org.</b></div><div class=\"sk-container\" hidden><div class=\"sk-item\"><div class=\"sk-estimator sk-toggleable\"><input class=\"sk-toggleable__control sk-hidden--visually\" id=\"sk-estimator-id-2\" type=\"checkbox\" checked><label for=\"sk-estimator-id-2\" class=\"sk-toggleable__label sk-toggleable__label-arrow\">RandomForestClassifier</label><div class=\"sk-toggleable__content\"><pre>RandomForestClassifier(bootstrap=True, ccp_alpha=0.0, class_weight=None,\n",
       "                       criterion=&#x27;gini&#x27;, max_depth=None, max_features=&#x27;sqrt&#x27;,\n",
       "                       max_leaf_nodes=None, max_samples=None,\n",
       "                       min_impurity_decrease=0.0, min_samples_leaf=1,\n",
       "                       min_samples_split=2, min_weight_fraction_leaf=0.0,\n",
       "                       n_estimators=100, n_jobs=None, oob_score=False,\n",
       "                       random_state=None, verbose=0, warm_start=False)</pre></div></div></div></div></div>"
      ],
      "text/plain": [
       "RandomForestClassifier(bootstrap=True, ccp_alpha=0.0, class_weight=None,\n",
       "                       criterion='gini', max_depth=None, max_features='sqrt',\n",
       "                       max_leaf_nodes=None, max_samples=None,\n",
       "                       min_impurity_decrease=0.0, min_samples_leaf=1,\n",
       "                       min_samples_split=2, min_weight_fraction_leaf=0.0,\n",
       "                       n_estimators=100, n_jobs=None, oob_score=False,\n",
       "                       random_state=None, verbose=0, warm_start=False)"
      ]
     },
     "execution_count": 149,
     "metadata": {},
     "output_type": "execute_result"
    }
   ],
   "source": [
    "from sklearn.datasets import load_breast_cancer\n",
    "from sklearn.ensemble import RandomForestClassifier\n",
    "from sklearn.model_selection import train_test_split\n",
    "\n",
    "X,y = load_breast_cancer(return_X_y=True, as_frame=True)\n",
    "X_train, X_test, y_train, y_test = train_test_split(X, y, random_state=42)\n",
    "\n",
    "model = RandomForestClassifier()\n",
    "model.fit(X_train, y_train)\n",
    "# X.head()\n"
   ]
  },
  {
   "cell_type": "code",
   "execution_count": 169,
   "metadata": {},
   "outputs": [
    {
     "data": {
      "text/html": [
       "<div>\n",
       "<style scoped>\n",
       "    .dataframe tbody tr th:only-of-type {\n",
       "        vertical-align: middle;\n",
       "    }\n",
       "\n",
       "    .dataframe tbody tr th {\n",
       "        vertical-align: top;\n",
       "    }\n",
       "\n",
       "    .dataframe thead th {\n",
       "        text-align: right;\n",
       "    }\n",
       "</style>\n",
       "<table border=\"1\" class=\"dataframe\">\n",
       "  <thead>\n",
       "    <tr style=\"text-align: right;\">\n",
       "      <th></th>\n",
       "      <th>cap-shape</th>\n",
       "      <th>cap-surface</th>\n",
       "      <th>cap-color</th>\n",
       "      <th>bruises%3F</th>\n",
       "      <th>odor</th>\n",
       "      <th>gill-attachment</th>\n",
       "      <th>gill-spacing</th>\n",
       "      <th>gill-size</th>\n",
       "      <th>gill-color</th>\n",
       "      <th>stalk-shape</th>\n",
       "      <th>...</th>\n",
       "      <th>stalk-surface-below-ring</th>\n",
       "      <th>stalk-color-above-ring</th>\n",
       "      <th>stalk-color-below-ring</th>\n",
       "      <th>veil-type</th>\n",
       "      <th>veil-color</th>\n",
       "      <th>ring-number</th>\n",
       "      <th>ring-type</th>\n",
       "      <th>spore-print-color</th>\n",
       "      <th>population</th>\n",
       "      <th>habitat</th>\n",
       "    </tr>\n",
       "  </thead>\n",
       "  <tbody>\n",
       "    <tr>\n",
       "      <th>0</th>\n",
       "      <td>x</td>\n",
       "      <td>s</td>\n",
       "      <td>n</td>\n",
       "      <td>t</td>\n",
       "      <td>p</td>\n",
       "      <td>f</td>\n",
       "      <td>c</td>\n",
       "      <td>n</td>\n",
       "      <td>k</td>\n",
       "      <td>e</td>\n",
       "      <td>...</td>\n",
       "      <td>s</td>\n",
       "      <td>w</td>\n",
       "      <td>w</td>\n",
       "      <td>p</td>\n",
       "      <td>w</td>\n",
       "      <td>o</td>\n",
       "      <td>p</td>\n",
       "      <td>k</td>\n",
       "      <td>s</td>\n",
       "      <td>u</td>\n",
       "    </tr>\n",
       "    <tr>\n",
       "      <th>1</th>\n",
       "      <td>x</td>\n",
       "      <td>s</td>\n",
       "      <td>y</td>\n",
       "      <td>t</td>\n",
       "      <td>a</td>\n",
       "      <td>f</td>\n",
       "      <td>c</td>\n",
       "      <td>b</td>\n",
       "      <td>k</td>\n",
       "      <td>e</td>\n",
       "      <td>...</td>\n",
       "      <td>s</td>\n",
       "      <td>w</td>\n",
       "      <td>w</td>\n",
       "      <td>p</td>\n",
       "      <td>w</td>\n",
       "      <td>o</td>\n",
       "      <td>p</td>\n",
       "      <td>n</td>\n",
       "      <td>n</td>\n",
       "      <td>g</td>\n",
       "    </tr>\n",
       "    <tr>\n",
       "      <th>2</th>\n",
       "      <td>b</td>\n",
       "      <td>s</td>\n",
       "      <td>w</td>\n",
       "      <td>t</td>\n",
       "      <td>l</td>\n",
       "      <td>f</td>\n",
       "      <td>c</td>\n",
       "      <td>b</td>\n",
       "      <td>n</td>\n",
       "      <td>e</td>\n",
       "      <td>...</td>\n",
       "      <td>s</td>\n",
       "      <td>w</td>\n",
       "      <td>w</td>\n",
       "      <td>p</td>\n",
       "      <td>w</td>\n",
       "      <td>o</td>\n",
       "      <td>p</td>\n",
       "      <td>n</td>\n",
       "      <td>n</td>\n",
       "      <td>m</td>\n",
       "    </tr>\n",
       "    <tr>\n",
       "      <th>3</th>\n",
       "      <td>x</td>\n",
       "      <td>y</td>\n",
       "      <td>w</td>\n",
       "      <td>t</td>\n",
       "      <td>p</td>\n",
       "      <td>f</td>\n",
       "      <td>c</td>\n",
       "      <td>n</td>\n",
       "      <td>n</td>\n",
       "      <td>e</td>\n",
       "      <td>...</td>\n",
       "      <td>s</td>\n",
       "      <td>w</td>\n",
       "      <td>w</td>\n",
       "      <td>p</td>\n",
       "      <td>w</td>\n",
       "      <td>o</td>\n",
       "      <td>p</td>\n",
       "      <td>k</td>\n",
       "      <td>s</td>\n",
       "      <td>u</td>\n",
       "    </tr>\n",
       "    <tr>\n",
       "      <th>4</th>\n",
       "      <td>x</td>\n",
       "      <td>s</td>\n",
       "      <td>g</td>\n",
       "      <td>f</td>\n",
       "      <td>n</td>\n",
       "      <td>f</td>\n",
       "      <td>w</td>\n",
       "      <td>b</td>\n",
       "      <td>k</td>\n",
       "      <td>t</td>\n",
       "      <td>...</td>\n",
       "      <td>s</td>\n",
       "      <td>w</td>\n",
       "      <td>w</td>\n",
       "      <td>p</td>\n",
       "      <td>w</td>\n",
       "      <td>o</td>\n",
       "      <td>e</td>\n",
       "      <td>n</td>\n",
       "      <td>a</td>\n",
       "      <td>g</td>\n",
       "    </tr>\n",
       "    <tr>\n",
       "      <th>...</th>\n",
       "      <td>...</td>\n",
       "      <td>...</td>\n",
       "      <td>...</td>\n",
       "      <td>...</td>\n",
       "      <td>...</td>\n",
       "      <td>...</td>\n",
       "      <td>...</td>\n",
       "      <td>...</td>\n",
       "      <td>...</td>\n",
       "      <td>...</td>\n",
       "      <td>...</td>\n",
       "      <td>...</td>\n",
       "      <td>...</td>\n",
       "      <td>...</td>\n",
       "      <td>...</td>\n",
       "      <td>...</td>\n",
       "      <td>...</td>\n",
       "      <td>...</td>\n",
       "      <td>...</td>\n",
       "      <td>...</td>\n",
       "      <td>...</td>\n",
       "    </tr>\n",
       "    <tr>\n",
       "      <th>8119</th>\n",
       "      <td>k</td>\n",
       "      <td>s</td>\n",
       "      <td>n</td>\n",
       "      <td>f</td>\n",
       "      <td>n</td>\n",
       "      <td>a</td>\n",
       "      <td>c</td>\n",
       "      <td>b</td>\n",
       "      <td>y</td>\n",
       "      <td>e</td>\n",
       "      <td>...</td>\n",
       "      <td>s</td>\n",
       "      <td>o</td>\n",
       "      <td>o</td>\n",
       "      <td>p</td>\n",
       "      <td>o</td>\n",
       "      <td>o</td>\n",
       "      <td>p</td>\n",
       "      <td>b</td>\n",
       "      <td>c</td>\n",
       "      <td>l</td>\n",
       "    </tr>\n",
       "    <tr>\n",
       "      <th>8120</th>\n",
       "      <td>x</td>\n",
       "      <td>s</td>\n",
       "      <td>n</td>\n",
       "      <td>f</td>\n",
       "      <td>n</td>\n",
       "      <td>a</td>\n",
       "      <td>c</td>\n",
       "      <td>b</td>\n",
       "      <td>y</td>\n",
       "      <td>e</td>\n",
       "      <td>...</td>\n",
       "      <td>s</td>\n",
       "      <td>o</td>\n",
       "      <td>o</td>\n",
       "      <td>p</td>\n",
       "      <td>n</td>\n",
       "      <td>o</td>\n",
       "      <td>p</td>\n",
       "      <td>b</td>\n",
       "      <td>v</td>\n",
       "      <td>l</td>\n",
       "    </tr>\n",
       "    <tr>\n",
       "      <th>8121</th>\n",
       "      <td>f</td>\n",
       "      <td>s</td>\n",
       "      <td>n</td>\n",
       "      <td>f</td>\n",
       "      <td>n</td>\n",
       "      <td>a</td>\n",
       "      <td>c</td>\n",
       "      <td>b</td>\n",
       "      <td>n</td>\n",
       "      <td>e</td>\n",
       "      <td>...</td>\n",
       "      <td>s</td>\n",
       "      <td>o</td>\n",
       "      <td>o</td>\n",
       "      <td>p</td>\n",
       "      <td>o</td>\n",
       "      <td>o</td>\n",
       "      <td>p</td>\n",
       "      <td>b</td>\n",
       "      <td>c</td>\n",
       "      <td>l</td>\n",
       "    </tr>\n",
       "    <tr>\n",
       "      <th>8122</th>\n",
       "      <td>k</td>\n",
       "      <td>y</td>\n",
       "      <td>n</td>\n",
       "      <td>f</td>\n",
       "      <td>y</td>\n",
       "      <td>f</td>\n",
       "      <td>c</td>\n",
       "      <td>n</td>\n",
       "      <td>b</td>\n",
       "      <td>t</td>\n",
       "      <td>...</td>\n",
       "      <td>k</td>\n",
       "      <td>w</td>\n",
       "      <td>w</td>\n",
       "      <td>p</td>\n",
       "      <td>w</td>\n",
       "      <td>o</td>\n",
       "      <td>e</td>\n",
       "      <td>w</td>\n",
       "      <td>v</td>\n",
       "      <td>l</td>\n",
       "    </tr>\n",
       "    <tr>\n",
       "      <th>8123</th>\n",
       "      <td>x</td>\n",
       "      <td>s</td>\n",
       "      <td>n</td>\n",
       "      <td>f</td>\n",
       "      <td>n</td>\n",
       "      <td>a</td>\n",
       "      <td>c</td>\n",
       "      <td>b</td>\n",
       "      <td>y</td>\n",
       "      <td>e</td>\n",
       "      <td>...</td>\n",
       "      <td>s</td>\n",
       "      <td>o</td>\n",
       "      <td>o</td>\n",
       "      <td>p</td>\n",
       "      <td>o</td>\n",
       "      <td>o</td>\n",
       "      <td>p</td>\n",
       "      <td>o</td>\n",
       "      <td>c</td>\n",
       "      <td>l</td>\n",
       "    </tr>\n",
       "  </tbody>\n",
       "</table>\n",
       "<p>8124 rows × 22 columns</p>\n",
       "</div>"
      ],
      "text/plain": [
       "     cap-shape cap-surface cap-color bruises%3F odor gill-attachment  \\\n",
       "0            x           s         n          t    p               f   \n",
       "1            x           s         y          t    a               f   \n",
       "2            b           s         w          t    l               f   \n",
       "3            x           y         w          t    p               f   \n",
       "4            x           s         g          f    n               f   \n",
       "...        ...         ...       ...        ...  ...             ...   \n",
       "8119         k           s         n          f    n               a   \n",
       "8120         x           s         n          f    n               a   \n",
       "8121         f           s         n          f    n               a   \n",
       "8122         k           y         n          f    y               f   \n",
       "8123         x           s         n          f    n               a   \n",
       "\n",
       "     gill-spacing gill-size gill-color stalk-shape  ...  \\\n",
       "0               c         n          k           e  ...   \n",
       "1               c         b          k           e  ...   \n",
       "2               c         b          n           e  ...   \n",
       "3               c         n          n           e  ...   \n",
       "4               w         b          k           t  ...   \n",
       "...           ...       ...        ...         ...  ...   \n",
       "8119            c         b          y           e  ...   \n",
       "8120            c         b          y           e  ...   \n",
       "8121            c         b          n           e  ...   \n",
       "8122            c         n          b           t  ...   \n",
       "8123            c         b          y           e  ...   \n",
       "\n",
       "     stalk-surface-below-ring stalk-color-above-ring stalk-color-below-ring  \\\n",
       "0                           s                      w                      w   \n",
       "1                           s                      w                      w   \n",
       "2                           s                      w                      w   \n",
       "3                           s                      w                      w   \n",
       "4                           s                      w                      w   \n",
       "...                       ...                    ...                    ...   \n",
       "8119                        s                      o                      o   \n",
       "8120                        s                      o                      o   \n",
       "8121                        s                      o                      o   \n",
       "8122                        k                      w                      w   \n",
       "8123                        s                      o                      o   \n",
       "\n",
       "     veil-type veil-color ring-number ring-type spore-print-color population  \\\n",
       "0            p          w           o         p                 k          s   \n",
       "1            p          w           o         p                 n          n   \n",
       "2            p          w           o         p                 n          n   \n",
       "3            p          w           o         p                 k          s   \n",
       "4            p          w           o         e                 n          a   \n",
       "...        ...        ...         ...       ...               ...        ...   \n",
       "8119         p          o           o         p                 b          c   \n",
       "8120         p          n           o         p                 b          v   \n",
       "8121         p          o           o         p                 b          c   \n",
       "8122         p          w           o         e                 w          v   \n",
       "8123         p          o           o         p                 o          c   \n",
       "\n",
       "     habitat  \n",
       "0          u  \n",
       "1          g  \n",
       "2          m  \n",
       "3          u  \n",
       "4          g  \n",
       "...      ...  \n",
       "8119       l  \n",
       "8120       l  \n",
       "8121       l  \n",
       "8122       l  \n",
       "8123       l  \n",
       "\n",
       "[8124 rows x 22 columns]"
      ]
     },
     "execution_count": 169,
     "metadata": {},
     "output_type": "execute_result"
    },
    {
     "ename": "",
     "evalue": "",
     "output_type": "error",
     "traceback": [
      "\u001b[1;31mThe Kernel crashed while executing code in the the current cell or a previous cell. Please review the code in the cell(s) to identify a possible cause of the failure. Click <a href='https://aka.ms/vscodeJupyterKernelCrash'>here</a> for more info. View Jupyter <a href='command:jupyter.viewOutput'>log</a> for further details."
     ]
    }
   ],
   "source": [
    "from sklearn.datasets import fetch_openml\n",
    "X, y = fetch_openml(data_id=24, as_frame=True, return_X_y=True)\n",
    "# X, y = mushroom_data['data'], mushroom_data['target']\n",
    "# X, y = mushroom_data(return_X_y = True)\n",
    "X"
   ]
  },
  {
   "cell_type": "code",
   "execution_count": 4,
   "metadata": {},
   "outputs": [],
   "source": [
    "from sklearn.datasets import load_iris"
   ]
  },
  {
   "cell_type": "code",
   "execution_count": 15,
   "metadata": {},
   "outputs": [
    {
     "name": "stderr",
     "output_type": "stream",
     "text": [
      "\u001b[32m[I 2023-05-06 06:39:39,890]\u001b[0m A new study created in memory with name: no-name-83278cd6-f961-44d0-a22e-d9f7a3048451\u001b[0m\n",
      "c:\\Users\\Cornel\\anaconda3\\lib\\site-packages\\optuna\\distributions.py:716: UserWarning:\n",
      "\n",
      "The distribution is specified by [5, 50] and step=100, but the range is not divisible by `step`. It will be replaced by [5, 5].\n",
      "\n",
      "\u001b[32m[I 2023-05-06 06:39:39,937]\u001b[0m Trial 0 finished with value: 0.9466666666666667 and parameters: {'n_estimators': 5, 'max_depth': 18.895169943434595, 'max_features': 'auto', 'min_samples_split': 8, 'min_samples_leaf': 10}. Best is trial 0 with value: 0.9466666666666667.\u001b[0m\n",
      "c:\\Users\\Cornel\\anaconda3\\lib\\site-packages\\optuna\\distributions.py:716: UserWarning:\n",
      "\n",
      "The distribution is specified by [5, 50] and step=100, but the range is not divisible by `step`. It will be replaced by [5, 5].\n",
      "\n",
      "\u001b[32m[I 2023-05-06 06:39:39,980]\u001b[0m Trial 1 finished with value: 0.9533333333333333 and parameters: {'n_estimators': 5, 'max_depth': 31.056732223075787, 'max_features': 'log2', 'min_samples_split': 2, 'min_samples_leaf': 2}. Best is trial 1 with value: 0.9533333333333333.\u001b[0m\n",
      "c:\\Users\\Cornel\\anaconda3\\lib\\site-packages\\optuna\\distributions.py:716: UserWarning:\n",
      "\n",
      "The distribution is specified by [5, 50] and step=100, but the range is not divisible by `step`. It will be replaced by [5, 5].\n",
      "\n",
      "\u001b[32m[I 2023-05-06 06:39:40,019]\u001b[0m Trial 2 finished with value: 0.9466666666666667 and parameters: {'n_estimators': 5, 'max_depth': 21.888692130448696, 'max_features': 'log2', 'min_samples_split': 4, 'min_samples_leaf': 6}. Best is trial 1 with value: 0.9533333333333333.\u001b[0m\n",
      "c:\\Users\\Cornel\\anaconda3\\lib\\site-packages\\optuna\\distributions.py:716: UserWarning:\n",
      "\n",
      "The distribution is specified by [5, 50] and step=100, but the range is not divisible by `step`. It will be replaced by [5, 5].\n",
      "\n",
      "\u001b[32m[I 2023-05-06 06:39:40,060]\u001b[0m Trial 3 finished with value: 0.9466666666666667 and parameters: {'n_estimators': 5, 'max_depth': 12.979209307864945, 'max_features': 'auto', 'min_samples_split': 5, 'min_samples_leaf': 8}. Best is trial 1 with value: 0.9533333333333333.\u001b[0m\n",
      "c:\\Users\\Cornel\\anaconda3\\lib\\site-packages\\optuna\\distributions.py:716: UserWarning:\n",
      "\n",
      "The distribution is specified by [5, 50] and step=100, but the range is not divisible by `step`. It will be replaced by [5, 5].\n",
      "\n",
      "\u001b[32m[I 2023-05-06 06:39:40,097]\u001b[0m Trial 4 finished with value: 0.96 and parameters: {'n_estimators': 5, 'max_depth': 26.84013403559526, 'max_features': 'auto', 'min_samples_split': 6, 'min_samples_leaf': 9}. Best is trial 4 with value: 0.96.\u001b[0m\n",
      "c:\\Users\\Cornel\\anaconda3\\lib\\site-packages\\optuna\\distributions.py:716: UserWarning:\n",
      "\n",
      "The distribution is specified by [5, 50] and step=100, but the range is not divisible by `step`. It will be replaced by [5, 5].\n",
      "\n",
      "\u001b[32m[I 2023-05-06 06:39:40,148]\u001b[0m Trial 5 finished with value: 0.9666666666666667 and parameters: {'n_estimators': 5, 'max_depth': 8.036926956917464, 'max_features': 'sqrt', 'min_samples_split': 9, 'min_samples_leaf': 1}. Best is trial 5 with value: 0.9666666666666667.\u001b[0m\n",
      "c:\\Users\\Cornel\\anaconda3\\lib\\site-packages\\optuna\\distributions.py:716: UserWarning:\n",
      "\n",
      "The distribution is specified by [5, 50] and step=100, but the range is not divisible by `step`. It will be replaced by [5, 5].\n",
      "\n",
      "\u001b[32m[I 2023-05-06 06:39:40,193]\u001b[0m Trial 6 finished with value: 0.96 and parameters: {'n_estimators': 5, 'max_depth': 21.81690116005058, 'max_features': 'auto', 'min_samples_split': 4, 'min_samples_leaf': 3}. Best is trial 5 with value: 0.9666666666666667.\u001b[0m\n",
      "c:\\Users\\Cornel\\anaconda3\\lib\\site-packages\\optuna\\distributions.py:716: UserWarning:\n",
      "\n",
      "The distribution is specified by [5, 50] and step=100, but the range is not divisible by `step`. It will be replaced by [5, 5].\n",
      "\n",
      "\u001b[32m[I 2023-05-06 06:39:40,239]\u001b[0m Trial 7 finished with value: 0.9533333333333333 and parameters: {'n_estimators': 5, 'max_depth': 25.610253916662668, 'max_features': 'sqrt', 'min_samples_split': 5, 'min_samples_leaf': 5}. Best is trial 5 with value: 0.9666666666666667.\u001b[0m\n",
      "c:\\Users\\Cornel\\anaconda3\\lib\\site-packages\\optuna\\distributions.py:716: UserWarning:\n",
      "\n",
      "The distribution is specified by [5, 50] and step=100, but the range is not divisible by `step`. It will be replaced by [5, 5].\n",
      "\n",
      "\u001b[32m[I 2023-05-06 06:39:40,278]\u001b[0m Trial 8 finished with value: 0.94 and parameters: {'n_estimators': 5, 'max_depth': 10.951343105584478, 'max_features': 'log2', 'min_samples_split': 6, 'min_samples_leaf': 8}. Best is trial 5 with value: 0.9666666666666667.\u001b[0m\n",
      "c:\\Users\\Cornel\\anaconda3\\lib\\site-packages\\optuna\\distributions.py:716: UserWarning:\n",
      "\n",
      "The distribution is specified by [5, 50] and step=100, but the range is not divisible by `step`. It will be replaced by [5, 5].\n",
      "\n",
      "\u001b[32m[I 2023-05-06 06:39:40,328]\u001b[0m Trial 9 finished with value: 0.94 and parameters: {'n_estimators': 5, 'max_depth': 30.249823308346812, 'max_features': 'auto', 'min_samples_split': 5, 'min_samples_leaf': 2}. Best is trial 5 with value: 0.9666666666666667.\u001b[0m\n",
      "c:\\Users\\Cornel\\anaconda3\\lib\\site-packages\\optuna\\distributions.py:716: UserWarning:\n",
      "\n",
      "The distribution is specified by [5, 50] and step=100, but the range is not divisible by `step`. It will be replaced by [5, 5].\n",
      "\n",
      "\u001b[32m[I 2023-05-06 06:39:40,416]\u001b[0m Trial 10 finished with value: 0.9666666666666667 and parameters: {'n_estimators': 5, 'max_depth': 5.118338615466312, 'max_features': 'sqrt', 'min_samples_split': 10, 'min_samples_leaf': 1}. Best is trial 5 with value: 0.9666666666666667.\u001b[0m\n",
      "c:\\Users\\Cornel\\anaconda3\\lib\\site-packages\\optuna\\distributions.py:716: UserWarning:\n",
      "\n",
      "The distribution is specified by [5, 50] and step=100, but the range is not divisible by `step`. It will be replaced by [5, 5].\n",
      "\n",
      "\u001b[32m[I 2023-05-06 06:39:40,506]\u001b[0m Trial 11 finished with value: 0.9733333333333333 and parameters: {'n_estimators': 5, 'max_depth': 5.53491999822429, 'max_features': 'sqrt', 'min_samples_split': 10, 'min_samples_leaf': 1}. Best is trial 11 with value: 0.9733333333333333.\u001b[0m\n",
      "c:\\Users\\Cornel\\anaconda3\\lib\\site-packages\\optuna\\distributions.py:716: UserWarning:\n",
      "\n",
      "The distribution is specified by [5, 50] and step=100, but the range is not divisible by `step`. It will be replaced by [5, 5].\n",
      "\n",
      "\u001b[32m[I 2023-05-06 06:39:40,585]\u001b[0m Trial 12 finished with value: 0.9466666666666667 and parameters: {'n_estimators': 5, 'max_depth': 5.851544325020636, 'max_features': 'sqrt', 'min_samples_split': 10, 'min_samples_leaf': 4}. Best is trial 11 with value: 0.9733333333333333.\u001b[0m\n",
      "c:\\Users\\Cornel\\anaconda3\\lib\\site-packages\\optuna\\distributions.py:716: UserWarning:\n",
      "\n",
      "The distribution is specified by [5, 50] and step=100, but the range is not divisible by `step`. It will be replaced by [5, 5].\n",
      "\n",
      "\u001b[32m[I 2023-05-06 06:39:40,647]\u001b[0m Trial 13 finished with value: 0.9466666666666667 and parameters: {'n_estimators': 5, 'max_depth': 7.4465386591377385, 'max_features': 'sqrt', 'min_samples_split': 8, 'min_samples_leaf': 1}. Best is trial 11 with value: 0.9733333333333333.\u001b[0m\n",
      "c:\\Users\\Cornel\\anaconda3\\lib\\site-packages\\optuna\\distributions.py:716: UserWarning:\n",
      "\n",
      "The distribution is specified by [5, 50] and step=100, but the range is not divisible by `step`. It will be replaced by [5, 5].\n",
      "\n",
      "\u001b[32m[I 2023-05-06 06:39:40,714]\u001b[0m Trial 14 finished with value: 0.9466666666666667 and parameters: {'n_estimators': 5, 'max_depth': 7.255373761389951, 'max_features': 'sqrt', 'min_samples_split': 8, 'min_samples_leaf': 3}. Best is trial 11 with value: 0.9733333333333333.\u001b[0m\n",
      "c:\\Users\\Cornel\\anaconda3\\lib\\site-packages\\optuna\\distributions.py:716: UserWarning:\n",
      "\n",
      "The distribution is specified by [5, 50] and step=100, but the range is not divisible by `step`. It will be replaced by [5, 5].\n",
      "\n",
      "\u001b[32m[I 2023-05-06 06:39:40,788]\u001b[0m Trial 15 finished with value: 0.94 and parameters: {'n_estimators': 5, 'max_depth': 7.315391148762006, 'max_features': 'sqrt', 'min_samples_split': 9, 'min_samples_leaf': 6}. Best is trial 11 with value: 0.9733333333333333.\u001b[0m\n",
      "c:\\Users\\Cornel\\anaconda3\\lib\\site-packages\\optuna\\distributions.py:716: UserWarning:\n",
      "\n",
      "The distribution is specified by [5, 50] and step=100, but the range is not divisible by `step`. It will be replaced by [5, 5].\n",
      "\n",
      "\u001b[32m[I 2023-05-06 06:39:40,843]\u001b[0m Trial 16 finished with value: 0.9533333333333333 and parameters: {'n_estimators': 5, 'max_depth': 9.464322398518513, 'max_features': 'sqrt', 'min_samples_split': 9, 'min_samples_leaf': 1}. Best is trial 11 with value: 0.9733333333333333.\u001b[0m\n",
      "c:\\Users\\Cornel\\anaconda3\\lib\\site-packages\\optuna\\distributions.py:716: UserWarning:\n",
      "\n",
      "The distribution is specified by [5, 50] and step=100, but the range is not divisible by `step`. It will be replaced by [5, 5].\n",
      "\n",
      "\u001b[32m[I 2023-05-06 06:39:40,911]\u001b[0m Trial 17 finished with value: 0.9666666666666667 and parameters: {'n_estimators': 5, 'max_depth': 5.530375631875184, 'max_features': 'sqrt', 'min_samples_split': 9, 'min_samples_leaf': 4}. Best is trial 11 with value: 0.9733333333333333.\u001b[0m\n",
      "c:\\Users\\Cornel\\anaconda3\\lib\\site-packages\\optuna\\distributions.py:716: UserWarning:\n",
      "\n",
      "The distribution is specified by [5, 50] and step=100, but the range is not divisible by `step`. It will be replaced by [5, 5].\n",
      "\n",
      "\u001b[32m[I 2023-05-06 06:39:40,980]\u001b[0m Trial 18 finished with value: 0.9733333333333333 and parameters: {'n_estimators': 5, 'max_depth': 6.334765894920925, 'max_features': 'sqrt', 'min_samples_split': 7, 'min_samples_leaf': 2}. Best is trial 11 with value: 0.9733333333333333.\u001b[0m\n",
      "c:\\Users\\Cornel\\anaconda3\\lib\\site-packages\\optuna\\distributions.py:716: UserWarning:\n",
      "\n",
      "The distribution is specified by [5, 50] and step=100, but the range is not divisible by `step`. It will be replaced by [5, 5].\n",
      "\n",
      "\u001b[32m[I 2023-05-06 06:39:41,040]\u001b[0m Trial 19 finished with value: 0.96 and parameters: {'n_estimators': 5, 'max_depth': 5.05088664780868, 'max_features': 'sqrt', 'min_samples_split': 7, 'min_samples_leaf': 3}. Best is trial 11 with value: 0.9733333333333333.\u001b[0m\n",
      "c:\\Users\\Cornel\\anaconda3\\lib\\site-packages\\optuna\\distributions.py:716: UserWarning:\n",
      "\n",
      "The distribution is specified by [5, 50] and step=100, but the range is not divisible by `step`. It will be replaced by [5, 5].\n",
      "\n",
      "\u001b[32m[I 2023-05-06 06:39:41,098]\u001b[0m Trial 20 finished with value: 0.9333333333333332 and parameters: {'n_estimators': 5, 'max_depth': 6.21748858622919, 'max_features': 'log2', 'min_samples_split': 2, 'min_samples_leaf': 2}. Best is trial 11 with value: 0.9733333333333333.\u001b[0m\n",
      "c:\\Users\\Cornel\\anaconda3\\lib\\site-packages\\optuna\\distributions.py:716: UserWarning:\n",
      "\n",
      "The distribution is specified by [5, 50] and step=100, but the range is not divisible by `step`. It will be replaced by [5, 5].\n",
      "\n",
      "\u001b[32m[I 2023-05-06 06:39:41,157]\u001b[0m Trial 21 finished with value: 0.9533333333333333 and parameters: {'n_estimators': 5, 'max_depth': 6.693043973182661, 'max_features': 'sqrt', 'min_samples_split': 10, 'min_samples_leaf': 1}. Best is trial 11 with value: 0.9733333333333333.\u001b[0m\n",
      "c:\\Users\\Cornel\\anaconda3\\lib\\site-packages\\optuna\\distributions.py:716: UserWarning:\n",
      "\n",
      "The distribution is specified by [5, 50] and step=100, but the range is not divisible by `step`. It will be replaced by [5, 5].\n",
      "\n",
      "\u001b[32m[I 2023-05-06 06:39:41,228]\u001b[0m Trial 22 finished with value: 0.9666666666666667 and parameters: {'n_estimators': 5, 'max_depth': 8.418113541061583, 'max_features': 'sqrt', 'min_samples_split': 7, 'min_samples_leaf': 2}. Best is trial 11 with value: 0.9733333333333333.\u001b[0m\n",
      "c:\\Users\\Cornel\\anaconda3\\lib\\site-packages\\optuna\\distributions.py:716: UserWarning:\n",
      "\n",
      "The distribution is specified by [5, 50] and step=100, but the range is not divisible by `step`. It will be replaced by [5, 5].\n",
      "\n",
      "\u001b[32m[I 2023-05-06 06:39:41,310]\u001b[0m Trial 23 finished with value: 0.94 and parameters: {'n_estimators': 5, 'max_depth': 6.216950318307787, 'max_features': 'sqrt', 'min_samples_split': 9, 'min_samples_leaf': 4}. Best is trial 11 with value: 0.9733333333333333.\u001b[0m\n",
      "c:\\Users\\Cornel\\anaconda3\\lib\\site-packages\\optuna\\distributions.py:716: UserWarning:\n",
      "\n",
      "The distribution is specified by [5, 50] and step=100, but the range is not divisible by `step`. It will be replaced by [5, 5].\n",
      "\n",
      "\u001b[32m[I 2023-05-06 06:39:41,368]\u001b[0m Trial 24 finished with value: 0.9466666666666667 and parameters: {'n_estimators': 5, 'max_depth': 8.455450548995206, 'max_features': 'sqrt', 'min_samples_split': 7, 'min_samples_leaf': 1}. Best is trial 11 with value: 0.9733333333333333.\u001b[0m\n",
      "c:\\Users\\Cornel\\anaconda3\\lib\\site-packages\\optuna\\distributions.py:716: UserWarning:\n",
      "\n",
      "The distribution is specified by [5, 50] and step=100, but the range is not divisible by `step`. It will be replaced by [5, 5].\n",
      "\n",
      "\u001b[32m[I 2023-05-06 06:39:41,426]\u001b[0m Trial 25 finished with value: 0.96 and parameters: {'n_estimators': 5, 'max_depth': 5.848472534289869, 'max_features': 'sqrt', 'min_samples_split': 10, 'min_samples_leaf': 2}. Best is trial 11 with value: 0.9733333333333333.\u001b[0m\n",
      "c:\\Users\\Cornel\\anaconda3\\lib\\site-packages\\optuna\\distributions.py:716: UserWarning:\n",
      "\n",
      "The distribution is specified by [5, 50] and step=100, but the range is not divisible by `step`. It will be replaced by [5, 5].\n",
      "\n",
      "\u001b[32m[I 2023-05-06 06:39:41,483]\u001b[0m Trial 26 finished with value: 0.9533333333333333 and parameters: {'n_estimators': 5, 'max_depth': 6.536643038281493, 'max_features': 'sqrt', 'min_samples_split': 8, 'min_samples_leaf': 3}. Best is trial 11 with value: 0.9733333333333333.\u001b[0m\n",
      "c:\\Users\\Cornel\\anaconda3\\lib\\site-packages\\optuna\\distributions.py:716: UserWarning:\n",
      "\n",
      "The distribution is specified by [5, 50] and step=100, but the range is not divisible by `step`. It will be replaced by [5, 5].\n",
      "\n",
      "\u001b[32m[I 2023-05-06 06:39:41,553]\u001b[0m Trial 27 finished with value: 0.9533333333333333 and parameters: {'n_estimators': 5, 'max_depth': 5.389805803100552, 'max_features': 'sqrt', 'min_samples_split': 9, 'min_samples_leaf': 5}. Best is trial 11 with value: 0.9733333333333333.\u001b[0m\n",
      "c:\\Users\\Cornel\\anaconda3\\lib\\site-packages\\optuna\\distributions.py:716: UserWarning:\n",
      "\n",
      "The distribution is specified by [5, 50] and step=100, but the range is not divisible by `step`. It will be replaced by [5, 5].\n",
      "\n",
      "\u001b[32m[I 2023-05-06 06:39:41,611]\u001b[0m Trial 28 finished with value: 0.9666666666666667 and parameters: {'n_estimators': 5, 'max_depth': 8.087092664310946, 'max_features': 'sqrt', 'min_samples_split': 7, 'min_samples_leaf': 1}. Best is trial 11 with value: 0.9733333333333333.\u001b[0m\n",
      "c:\\Users\\Cornel\\anaconda3\\lib\\site-packages\\optuna\\distributions.py:716: UserWarning:\n",
      "\n",
      "The distribution is specified by [5, 50] and step=100, but the range is not divisible by `step`. It will be replaced by [5, 5].\n",
      "\n",
      "\u001b[32m[I 2023-05-06 06:39:41,668]\u001b[0m Trial 29 finished with value: 0.9533333333333333 and parameters: {'n_estimators': 5, 'max_depth': 9.76157250072377, 'max_features': 'log2', 'min_samples_split': 8, 'min_samples_leaf': 7}. Best is trial 11 with value: 0.9733333333333333.\u001b[0m\n",
      "c:\\Users\\Cornel\\anaconda3\\lib\\site-packages\\optuna\\distributions.py:716: UserWarning:\n",
      "\n",
      "The distribution is specified by [5, 50] and step=100, but the range is not divisible by `step`. It will be replaced by [5, 5].\n",
      "\n",
      "\u001b[32m[I 2023-05-06 06:39:41,728]\u001b[0m Trial 30 finished with value: 0.9466666666666667 and parameters: {'n_estimators': 5, 'max_depth': 14.559339085405098, 'max_features': 'auto', 'min_samples_split': 10, 'min_samples_leaf': 2}. Best is trial 11 with value: 0.9733333333333333.\u001b[0m\n",
      "c:\\Users\\Cornel\\anaconda3\\lib\\site-packages\\optuna\\distributions.py:716: UserWarning:\n",
      "\n",
      "The distribution is specified by [5, 50] and step=100, but the range is not divisible by `step`. It will be replaced by [5, 5].\n",
      "\n",
      "\u001b[32m[I 2023-05-06 06:39:41,788]\u001b[0m Trial 31 finished with value: 0.9533333333333333 and parameters: {'n_estimators': 5, 'max_depth': 5.040977689823324, 'max_features': 'sqrt', 'min_samples_split': 10, 'min_samples_leaf': 1}. Best is trial 11 with value: 0.9733333333333333.\u001b[0m\n",
      "c:\\Users\\Cornel\\anaconda3\\lib\\site-packages\\optuna\\distributions.py:716: UserWarning:\n",
      "\n",
      "The distribution is specified by [5, 50] and step=100, but the range is not divisible by `step`. It will be replaced by [5, 5].\n",
      "\n",
      "\u001b[32m[I 2023-05-06 06:39:41,846]\u001b[0m Trial 32 finished with value: 0.96 and parameters: {'n_estimators': 5, 'max_depth': 5.029989547743595, 'max_features': 'sqrt', 'min_samples_split': 9, 'min_samples_leaf': 1}. Best is trial 11 with value: 0.9733333333333333.\u001b[0m\n",
      "c:\\Users\\Cornel\\anaconda3\\lib\\site-packages\\optuna\\distributions.py:716: UserWarning:\n",
      "\n",
      "The distribution is specified by [5, 50] and step=100, but the range is not divisible by `step`. It will be replaced by [5, 5].\n",
      "\n",
      "\u001b[32m[I 2023-05-06 06:39:41,905]\u001b[0m Trial 33 finished with value: 0.9466666666666667 and parameters: {'n_estimators': 5, 'max_depth': 6.713591542136602, 'max_features': 'sqrt', 'min_samples_split': 10, 'min_samples_leaf': 2}. Best is trial 11 with value: 0.9733333333333333.\u001b[0m\n",
      "c:\\Users\\Cornel\\anaconda3\\lib\\site-packages\\optuna\\distributions.py:716: UserWarning:\n",
      "\n",
      "The distribution is specified by [5, 50] and step=100, but the range is not divisible by `step`. It will be replaced by [5, 5].\n",
      "\n",
      "\u001b[32m[I 2023-05-06 06:39:41,975]\u001b[0m Trial 34 finished with value: 0.9466666666666667 and parameters: {'n_estimators': 5, 'max_depth': 5.839467938153462, 'max_features': 'log2', 'min_samples_split': 9, 'min_samples_leaf': 3}. Best is trial 11 with value: 0.9733333333333333.\u001b[0m\n",
      "c:\\Users\\Cornel\\anaconda3\\lib\\site-packages\\optuna\\distributions.py:716: UserWarning:\n",
      "\n",
      "The distribution is specified by [5, 50] and step=100, but the range is not divisible by `step`. It will be replaced by [5, 5].\n",
      "\n",
      "\u001b[32m[I 2023-05-06 06:39:42,037]\u001b[0m Trial 35 finished with value: 0.9533333333333333 and parameters: {'n_estimators': 5, 'max_depth': 5.547225142885753, 'max_features': 'sqrt', 'min_samples_split': 10, 'min_samples_leaf': 1}. Best is trial 11 with value: 0.9733333333333333.\u001b[0m\n",
      "c:\\Users\\Cornel\\anaconda3\\lib\\site-packages\\optuna\\distributions.py:716: UserWarning:\n",
      "\n",
      "The distribution is specified by [5, 50] and step=100, but the range is not divisible by `step`. It will be replaced by [5, 5].\n",
      "\n",
      "\u001b[32m[I 2023-05-06 06:39:42,094]\u001b[0m Trial 36 finished with value: 0.9666666666666667 and parameters: {'n_estimators': 5, 'max_depth': 6.433019222876454, 'max_features': 'auto', 'min_samples_split': 8, 'min_samples_leaf': 2}. Best is trial 11 with value: 0.9733333333333333.\u001b[0m\n",
      "c:\\Users\\Cornel\\anaconda3\\lib\\site-packages\\optuna\\distributions.py:716: UserWarning:\n",
      "\n",
      "The distribution is specified by [5, 50] and step=100, but the range is not divisible by `step`. It will be replaced by [5, 5].\n",
      "\n",
      "\u001b[32m[I 2023-05-06 06:39:42,148]\u001b[0m Trial 37 finished with value: 0.9533333333333333 and parameters: {'n_estimators': 5, 'max_depth': 7.2429030703189765, 'max_features': 'sqrt', 'min_samples_split': 3, 'min_samples_leaf': 3}. Best is trial 11 with value: 0.9733333333333333.\u001b[0m\n",
      "c:\\Users\\Cornel\\anaconda3\\lib\\site-packages\\optuna\\distributions.py:716: UserWarning:\n",
      "\n",
      "The distribution is specified by [5, 50] and step=100, but the range is not divisible by `step`. It will be replaced by [5, 5].\n",
      "\n",
      "\u001b[32m[I 2023-05-06 06:39:42,216]\u001b[0m Trial 38 finished with value: 0.9466666666666667 and parameters: {'n_estimators': 5, 'max_depth': 5.936995098559649, 'max_features': 'sqrt', 'min_samples_split': 8, 'min_samples_leaf': 2}. Best is trial 11 with value: 0.9733333333333333.\u001b[0m\n",
      "c:\\Users\\Cornel\\anaconda3\\lib\\site-packages\\optuna\\distributions.py:716: UserWarning:\n",
      "\n",
      "The distribution is specified by [5, 50] and step=100, but the range is not divisible by `step`. It will be replaced by [5, 5].\n",
      "\n",
      "\u001b[32m[I 2023-05-06 06:39:42,276]\u001b[0m Trial 39 finished with value: 0.94 and parameters: {'n_estimators': 5, 'max_depth': 5.406528323970847, 'max_features': 'log2', 'min_samples_split': 6, 'min_samples_leaf': 9}. Best is trial 11 with value: 0.9733333333333333.\u001b[0m\n",
      "c:\\Users\\Cornel\\anaconda3\\lib\\site-packages\\optuna\\distributions.py:716: UserWarning:\n",
      "\n",
      "The distribution is specified by [5, 50] and step=100, but the range is not divisible by `step`. It will be replaced by [5, 5].\n",
      "\n",
      "\u001b[32m[I 2023-05-06 06:39:42,338]\u001b[0m Trial 40 finished with value: 0.9466666666666667 and parameters: {'n_estimators': 5, 'max_depth': 6.892693216947577, 'max_features': 'sqrt', 'min_samples_split': 9, 'min_samples_leaf': 10}. Best is trial 11 with value: 0.9733333333333333.\u001b[0m\n",
      "c:\\Users\\Cornel\\anaconda3\\lib\\site-packages\\optuna\\distributions.py:716: UserWarning:\n",
      "\n",
      "The distribution is specified by [5, 50] and step=100, but the range is not divisible by `step`. It will be replaced by [5, 5].\n",
      "\n",
      "\u001b[32m[I 2023-05-06 06:39:42,401]\u001b[0m Trial 41 finished with value: 0.9533333333333333 and parameters: {'n_estimators': 5, 'max_depth': 5.543579099095204, 'max_features': 'sqrt', 'min_samples_split': 9, 'min_samples_leaf': 4}. Best is trial 11 with value: 0.9733333333333333.\u001b[0m\n",
      "c:\\Users\\Cornel\\anaconda3\\lib\\site-packages\\optuna\\distributions.py:716: UserWarning:\n",
      "\n",
      "The distribution is specified by [5, 50] and step=100, but the range is not divisible by `step`. It will be replaced by [5, 5].\n",
      "\n",
      "\u001b[32m[I 2023-05-06 06:39:42,461]\u001b[0m Trial 42 finished with value: 0.96 and parameters: {'n_estimators': 5, 'max_depth': 6.06742257511874, 'max_features': 'sqrt', 'min_samples_split': 10, 'min_samples_leaf': 4}. Best is trial 11 with value: 0.9733333333333333.\u001b[0m\n",
      "c:\\Users\\Cornel\\anaconda3\\lib\\site-packages\\optuna\\distributions.py:716: UserWarning:\n",
      "\n",
      "The distribution is specified by [5, 50] and step=100, but the range is not divisible by `step`. It will be replaced by [5, 5].\n",
      "\n",
      "\u001b[32m[I 2023-05-06 06:39:42,517]\u001b[0m Trial 43 finished with value: 0.94 and parameters: {'n_estimators': 5, 'max_depth': 5.011691002452878, 'max_features': 'auto', 'min_samples_split': 9, 'min_samples_leaf': 5}. Best is trial 11 with value: 0.9733333333333333.\u001b[0m\n",
      "c:\\Users\\Cornel\\anaconda3\\lib\\site-packages\\optuna\\distributions.py:716: UserWarning:\n",
      "\n",
      "The distribution is specified by [5, 50] and step=100, but the range is not divisible by `step`. It will be replaced by [5, 5].\n",
      "\n",
      "\u001b[32m[I 2023-05-06 06:39:42,572]\u001b[0m Trial 44 finished with value: 0.9533333333333333 and parameters: {'n_estimators': 5, 'max_depth': 6.3807478955507815, 'max_features': 'sqrt', 'min_samples_split': 10, 'min_samples_leaf': 1}. Best is trial 11 with value: 0.9733333333333333.\u001b[0m\n",
      "c:\\Users\\Cornel\\anaconda3\\lib\\site-packages\\optuna\\distributions.py:716: UserWarning:\n",
      "\n",
      "The distribution is specified by [5, 50] and step=100, but the range is not divisible by `step`. It will be replaced by [5, 5].\n",
      "\n",
      "\u001b[32m[I 2023-05-06 06:39:42,633]\u001b[0m Trial 45 finished with value: 0.9666666666666667 and parameters: {'n_estimators': 5, 'max_depth': 7.885666614169802, 'max_features': 'sqrt', 'min_samples_split': 5, 'min_samples_leaf': 2}. Best is trial 11 with value: 0.9733333333333333.\u001b[0m\n",
      "c:\\Users\\Cornel\\anaconda3\\lib\\site-packages\\optuna\\distributions.py:716: UserWarning:\n",
      "\n",
      "The distribution is specified by [5, 50] and step=100, but the range is not divisible by `step`. It will be replaced by [5, 5].\n",
      "\n",
      "\u001b[32m[I 2023-05-06 06:39:42,687]\u001b[0m Trial 46 finished with value: 0.96 and parameters: {'n_estimators': 5, 'max_depth': 5.547260902927545, 'max_features': 'sqrt', 'min_samples_split': 8, 'min_samples_leaf': 3}. Best is trial 11 with value: 0.9733333333333333.\u001b[0m\n",
      "c:\\Users\\Cornel\\anaconda3\\lib\\site-packages\\optuna\\distributions.py:716: UserWarning:\n",
      "\n",
      "The distribution is specified by [5, 50] and step=100, but the range is not divisible by `step`. It will be replaced by [5, 5].\n",
      "\n",
      "\u001b[32m[I 2023-05-06 06:39:42,747]\u001b[0m Trial 47 finished with value: 0.9533333333333333 and parameters: {'n_estimators': 5, 'max_depth': 7.064064843027679, 'max_features': 'sqrt', 'min_samples_split': 4, 'min_samples_leaf': 1}. Best is trial 11 with value: 0.9733333333333333.\u001b[0m\n",
      "c:\\Users\\Cornel\\anaconda3\\lib\\site-packages\\optuna\\distributions.py:716: UserWarning:\n",
      "\n",
      "The distribution is specified by [5, 50] and step=100, but the range is not divisible by `step`. It will be replaced by [5, 5].\n",
      "\n",
      "\u001b[32m[I 2023-05-06 06:39:42,812]\u001b[0m Trial 48 finished with value: 0.9533333333333333 and parameters: {'n_estimators': 5, 'max_depth': 7.545897121279637, 'max_features': 'auto', 'min_samples_split': 6, 'min_samples_leaf': 6}. Best is trial 11 with value: 0.9733333333333333.\u001b[0m\n",
      "c:\\Users\\Cornel\\anaconda3\\lib\\site-packages\\optuna\\distributions.py:716: UserWarning:\n",
      "\n",
      "The distribution is specified by [5, 50] and step=100, but the range is not divisible by `step`. It will be replaced by [5, 5].\n",
      "\n",
      "\u001b[32m[I 2023-05-06 06:39:42,877]\u001b[0m Trial 49 finished with value: 0.96 and parameters: {'n_estimators': 5, 'max_depth': 6.884816577548297, 'max_features': 'sqrt', 'min_samples_split': 10, 'min_samples_leaf': 4}. Best is trial 11 with value: 0.9733333333333333.\u001b[0m\n",
      "c:\\Users\\Cornel\\anaconda3\\lib\\site-packages\\optuna\\distributions.py:716: UserWarning:\n",
      "\n",
      "The distribution is specified by [5, 50] and step=100, but the range is not divisible by `step`. It will be replaced by [5, 5].\n",
      "\n",
      "\u001b[32m[I 2023-05-06 06:39:42,930]\u001b[0m Trial 50 finished with value: 0.94 and parameters: {'n_estimators': 5, 'max_depth': 5.820827294665502, 'max_features': 'log2', 'min_samples_split': 9, 'min_samples_leaf': 1}. Best is trial 11 with value: 0.9733333333333333.\u001b[0m\n",
      "c:\\Users\\Cornel\\anaconda3\\lib\\site-packages\\optuna\\distributions.py:716: UserWarning:\n",
      "\n",
      "The distribution is specified by [5, 50] and step=100, but the range is not divisible by `step`. It will be replaced by [5, 5].\n",
      "\n",
      "\u001b[32m[I 2023-05-06 06:39:42,996]\u001b[0m Trial 51 finished with value: 0.9666666666666667 and parameters: {'n_estimators': 5, 'max_depth': 8.707933494531689, 'max_features': 'sqrt', 'min_samples_split': 7, 'min_samples_leaf': 2}. Best is trial 11 with value: 0.9733333333333333.\u001b[0m\n",
      "c:\\Users\\Cornel\\anaconda3\\lib\\site-packages\\optuna\\distributions.py:716: UserWarning:\n",
      "\n",
      "The distribution is specified by [5, 50] and step=100, but the range is not divisible by `step`. It will be replaced by [5, 5].\n",
      "\n",
      "\u001b[32m[I 2023-05-06 06:39:43,052]\u001b[0m Trial 52 finished with value: 0.9533333333333333 and parameters: {'n_estimators': 5, 'max_depth': 7.727613577458473, 'max_features': 'sqrt', 'min_samples_split': 7, 'min_samples_leaf': 2}. Best is trial 11 with value: 0.9733333333333333.\u001b[0m\n",
      "c:\\Users\\Cornel\\anaconda3\\lib\\site-packages\\optuna\\distributions.py:716: UserWarning:\n",
      "\n",
      "The distribution is specified by [5, 50] and step=100, but the range is not divisible by `step`. It will be replaced by [5, 5].\n",
      "\n",
      "\u001b[32m[I 2023-05-06 06:39:43,112]\u001b[0m Trial 53 finished with value: 0.9466666666666667 and parameters: {'n_estimators': 5, 'max_depth': 6.310423663159325, 'max_features': 'sqrt', 'min_samples_split': 6, 'min_samples_leaf': 7}. Best is trial 11 with value: 0.9733333333333333.\u001b[0m\n",
      "c:\\Users\\Cornel\\anaconda3\\lib\\site-packages\\optuna\\distributions.py:716: UserWarning:\n",
      "\n",
      "The distribution is specified by [5, 50] and step=100, but the range is not divisible by `step`. It will be replaced by [5, 5].\n",
      "\n",
      "\u001b[32m[I 2023-05-06 06:39:43,172]\u001b[0m Trial 54 finished with value: 0.9466666666666667 and parameters: {'n_estimators': 5, 'max_depth': 6.989281335690717, 'max_features': 'sqrt', 'min_samples_split': 8, 'min_samples_leaf': 2}. Best is trial 11 with value: 0.9733333333333333.\u001b[0m\n",
      "c:\\Users\\Cornel\\anaconda3\\lib\\site-packages\\optuna\\distributions.py:716: UserWarning:\n",
      "\n",
      "The distribution is specified by [5, 50] and step=100, but the range is not divisible by `step`. It will be replaced by [5, 5].\n",
      "\n",
      "\u001b[32m[I 2023-05-06 06:39:43,234]\u001b[0m Trial 55 finished with value: 0.96 and parameters: {'n_estimators': 5, 'max_depth': 5.297332249355536, 'max_features': 'sqrt', 'min_samples_split': 7, 'min_samples_leaf': 3}. Best is trial 11 with value: 0.9733333333333333.\u001b[0m\n",
      "c:\\Users\\Cornel\\anaconda3\\lib\\site-packages\\optuna\\distributions.py:716: UserWarning:\n",
      "\n",
      "The distribution is specified by [5, 50] and step=100, but the range is not divisible by `step`. It will be replaced by [5, 5].\n",
      "\n",
      "\u001b[32m[I 2023-05-06 06:39:43,290]\u001b[0m Trial 56 finished with value: 0.9666666666666667 and parameters: {'n_estimators': 5, 'max_depth': 8.458802218995212, 'max_features': 'sqrt', 'min_samples_split': 5, 'min_samples_leaf': 1}. Best is trial 11 with value: 0.9733333333333333.\u001b[0m\n",
      "c:\\Users\\Cornel\\anaconda3\\lib\\site-packages\\optuna\\distributions.py:716: UserWarning:\n",
      "\n",
      "The distribution is specified by [5, 50] and step=100, but the range is not divisible by `step`. It will be replaced by [5, 5].\n",
      "\n",
      "\u001b[32m[I 2023-05-06 06:39:43,382]\u001b[0m Trial 57 finished with value: 0.9666666666666667 and parameters: {'n_estimators': 5, 'max_depth': 6.098781071672723, 'max_features': 'sqrt', 'min_samples_split': 8, 'min_samples_leaf': 2}. Best is trial 11 with value: 0.9733333333333333.\u001b[0m\n",
      "c:\\Users\\Cornel\\anaconda3\\lib\\site-packages\\optuna\\distributions.py:716: UserWarning:\n",
      "\n",
      "The distribution is specified by [5, 50] and step=100, but the range is not divisible by `step`. It will be replaced by [5, 5].\n",
      "\n",
      "\u001b[32m[I 2023-05-06 06:39:43,461]\u001b[0m Trial 58 finished with value: 0.96 and parameters: {'n_estimators': 5, 'max_depth': 7.430758214437569, 'max_features': 'sqrt', 'min_samples_split': 6, 'min_samples_leaf': 3}. Best is trial 11 with value: 0.9733333333333333.\u001b[0m\n",
      "c:\\Users\\Cornel\\anaconda3\\lib\\site-packages\\optuna\\distributions.py:716: UserWarning:\n",
      "\n",
      "The distribution is specified by [5, 50] and step=100, but the range is not divisible by `step`. It will be replaced by [5, 5].\n",
      "\n",
      "\u001b[32m[I 2023-05-06 06:39:43,550]\u001b[0m Trial 59 finished with value: 0.9666666666666667 and parameters: {'n_estimators': 5, 'max_depth': 5.82588903387551, 'max_features': 'sqrt', 'min_samples_split': 10, 'min_samples_leaf': 1}. Best is trial 11 with value: 0.9733333333333333.\u001b[0m\n",
      "c:\\Users\\Cornel\\anaconda3\\lib\\site-packages\\optuna\\distributions.py:716: UserWarning:\n",
      "\n",
      "The distribution is specified by [5, 50] and step=100, but the range is not divisible by `step`. It will be replaced by [5, 5].\n",
      "\n",
      "\u001b[32m[I 2023-05-06 06:39:43,606]\u001b[0m Trial 60 finished with value: 0.9666666666666667 and parameters: {'n_estimators': 5, 'max_depth': 6.644314507573452, 'max_features': 'sqrt', 'min_samples_split': 9, 'min_samples_leaf': 1}. Best is trial 11 with value: 0.9733333333333333.\u001b[0m\n",
      "c:\\Users\\Cornel\\anaconda3\\lib\\site-packages\\optuna\\distributions.py:716: UserWarning:\n",
      "\n",
      "The distribution is specified by [5, 50] and step=100, but the range is not divisible by `step`. It will be replaced by [5, 5].\n",
      "\n",
      "\u001b[32m[I 2023-05-06 06:39:43,668]\u001b[0m Trial 61 finished with value: 0.9533333333333333 and parameters: {'n_estimators': 5, 'max_depth': 7.941509226727913, 'max_features': 'sqrt', 'min_samples_split': 7, 'min_samples_leaf': 1}. Best is trial 11 with value: 0.9733333333333333.\u001b[0m\n",
      "c:\\Users\\Cornel\\anaconda3\\lib\\site-packages\\optuna\\distributions.py:716: UserWarning:\n",
      "\n",
      "The distribution is specified by [5, 50] and step=100, but the range is not divisible by `step`. It will be replaced by [5, 5].\n",
      "\n",
      "\u001b[32m[I 2023-05-06 06:39:43,733]\u001b[0m Trial 62 finished with value: 0.9666666666666667 and parameters: {'n_estimators': 5, 'max_depth': 11.286804084932172, 'max_features': 'sqrt', 'min_samples_split': 7, 'min_samples_leaf': 1}. Best is trial 11 with value: 0.9733333333333333.\u001b[0m\n",
      "c:\\Users\\Cornel\\anaconda3\\lib\\site-packages\\optuna\\distributions.py:716: UserWarning:\n",
      "\n",
      "The distribution is specified by [5, 50] and step=100, but the range is not divisible by `step`. It will be replaced by [5, 5].\n",
      "\n",
      "\u001b[32m[I 2023-05-06 06:39:43,790]\u001b[0m Trial 63 finished with value: 0.9533333333333333 and parameters: {'n_estimators': 5, 'max_depth': 9.563763632816258, 'max_features': 'sqrt', 'min_samples_split': 7, 'min_samples_leaf': 2}. Best is trial 11 with value: 0.9733333333333333.\u001b[0m\n",
      "c:\\Users\\Cornel\\anaconda3\\lib\\site-packages\\optuna\\distributions.py:716: UserWarning:\n",
      "\n",
      "The distribution is specified by [5, 50] and step=100, but the range is not divisible by `step`. It will be replaced by [5, 5].\n",
      "\n",
      "\u001b[32m[I 2023-05-06 06:39:43,869]\u001b[0m Trial 64 finished with value: 0.96 and parameters: {'n_estimators': 5, 'max_depth': 5.271449149153815, 'max_features': 'sqrt', 'min_samples_split': 8, 'min_samples_leaf': 1}. Best is trial 11 with value: 0.9733333333333333.\u001b[0m\n",
      "c:\\Users\\Cornel\\anaconda3\\lib\\site-packages\\optuna\\distributions.py:716: UserWarning:\n",
      "\n",
      "The distribution is specified by [5, 50] and step=100, but the range is not divisible by `step`. It will be replaced by [5, 5].\n",
      "\n",
      "\u001b[32m[I 2023-05-06 06:39:43,935]\u001b[0m Trial 65 finished with value: 0.9533333333333333 and parameters: {'n_estimators': 5, 'max_depth': 6.387001402466332, 'max_features': 'auto', 'min_samples_split': 10, 'min_samples_leaf': 2}. Best is trial 11 with value: 0.9733333333333333.\u001b[0m\n",
      "c:\\Users\\Cornel\\anaconda3\\lib\\site-packages\\optuna\\distributions.py:716: UserWarning:\n",
      "\n",
      "The distribution is specified by [5, 50] and step=100, but the range is not divisible by `step`. It will be replaced by [5, 5].\n",
      "\n",
      "\u001b[32m[I 2023-05-06 06:39:44,002]\u001b[0m Trial 66 finished with value: 0.9666666666666667 and parameters: {'n_estimators': 5, 'max_depth': 8.15148264990164, 'max_features': 'log2', 'min_samples_split': 9, 'min_samples_leaf': 1}. Best is trial 11 with value: 0.9733333333333333.\u001b[0m\n",
      "c:\\Users\\Cornel\\anaconda3\\lib\\site-packages\\optuna\\distributions.py:716: UserWarning:\n",
      "\n",
      "The distribution is specified by [5, 50] and step=100, but the range is not divisible by `step`. It will be replaced by [5, 5].\n",
      "\n",
      "\u001b[32m[I 2023-05-06 06:39:44,063]\u001b[0m Trial 67 finished with value: 0.96 and parameters: {'n_estimators': 5, 'max_depth': 8.953095719979334, 'max_features': 'sqrt', 'min_samples_split': 7, 'min_samples_leaf': 3}. Best is trial 11 with value: 0.9733333333333333.\u001b[0m\n",
      "c:\\Users\\Cornel\\anaconda3\\lib\\site-packages\\optuna\\distributions.py:716: UserWarning:\n",
      "\n",
      "The distribution is specified by [5, 50] and step=100, but the range is not divisible by `step`. It will be replaced by [5, 5].\n",
      "\n",
      "\u001b[32m[I 2023-05-06 06:39:44,126]\u001b[0m Trial 68 finished with value: 0.9533333333333333 and parameters: {'n_estimators': 5, 'max_depth': 7.5260458750867505, 'max_features': 'sqrt', 'min_samples_split': 6, 'min_samples_leaf': 2}. Best is trial 11 with value: 0.9733333333333333.\u001b[0m\n",
      "c:\\Users\\Cornel\\anaconda3\\lib\\site-packages\\optuna\\distributions.py:716: UserWarning:\n",
      "\n",
      "The distribution is specified by [5, 50] and step=100, but the range is not divisible by `step`. It will be replaced by [5, 5].\n",
      "\n",
      "\u001b[32m[I 2023-05-06 06:39:44,190]\u001b[0m Trial 69 finished with value: 0.9533333333333333 and parameters: {'n_estimators': 5, 'max_depth': 5.6979896864779365, 'max_features': 'sqrt', 'min_samples_split': 9, 'min_samples_leaf': 5}. Best is trial 11 with value: 0.9733333333333333.\u001b[0m\n",
      "c:\\Users\\Cornel\\anaconda3\\lib\\site-packages\\optuna\\distributions.py:716: UserWarning:\n",
      "\n",
      "The distribution is specified by [5, 50] and step=100, but the range is not divisible by `step`. It will be replaced by [5, 5].\n",
      "\n",
      "\u001b[32m[I 2023-05-06 06:39:44,249]\u001b[0m Trial 70 finished with value: 0.9533333333333333 and parameters: {'n_estimators': 5, 'max_depth': 6.113694564859814, 'max_features': 'sqrt', 'min_samples_split': 8, 'min_samples_leaf': 1}. Best is trial 11 with value: 0.9733333333333333.\u001b[0m\n",
      "c:\\Users\\Cornel\\anaconda3\\lib\\site-packages\\optuna\\distributions.py:716: UserWarning:\n",
      "\n",
      "The distribution is specified by [5, 50] and step=100, but the range is not divisible by `step`. It will be replaced by [5, 5].\n",
      "\n",
      "\u001b[32m[I 2023-05-06 06:39:44,304]\u001b[0m Trial 71 finished with value: 0.96 and parameters: {'n_estimators': 5, 'max_depth': 6.706132991486846, 'max_features': 'auto', 'min_samples_split': 8, 'min_samples_leaf': 2}. Best is trial 11 with value: 0.9733333333333333.\u001b[0m\n",
      "c:\\Users\\Cornel\\anaconda3\\lib\\site-packages\\optuna\\distributions.py:716: UserWarning:\n",
      "\n",
      "The distribution is specified by [5, 50] and step=100, but the range is not divisible by `step`. It will be replaced by [5, 5].\n",
      "\n",
      "\u001b[32m[I 2023-05-06 06:39:44,372]\u001b[0m Trial 72 finished with value: 0.9466666666666667 and parameters: {'n_estimators': 5, 'max_depth': 6.479073166703277, 'max_features': 'auto', 'min_samples_split': 7, 'min_samples_leaf': 2}. Best is trial 11 with value: 0.9733333333333333.\u001b[0m\n",
      "c:\\Users\\Cornel\\anaconda3\\lib\\site-packages\\optuna\\distributions.py:716: UserWarning:\n",
      "\n",
      "The distribution is specified by [5, 50] and step=100, but the range is not divisible by `step`. It will be replaced by [5, 5].\n",
      "\n",
      "\u001b[32m[I 2023-05-06 06:39:44,431]\u001b[0m Trial 73 finished with value: 0.9266666666666667 and parameters: {'n_estimators': 5, 'max_depth': 5.235488079149135, 'max_features': 'auto', 'min_samples_split': 8, 'min_samples_leaf': 2}. Best is trial 11 with value: 0.9733333333333333.\u001b[0m\n",
      "c:\\Users\\Cornel\\anaconda3\\lib\\site-packages\\optuna\\distributions.py:716: UserWarning:\n",
      "\n",
      "The distribution is specified by [5, 50] and step=100, but the range is not divisible by `step`. It will be replaced by [5, 5].\n",
      "\n",
      "\u001b[32m[I 2023-05-06 06:39:44,490]\u001b[0m Trial 74 finished with value: 0.96 and parameters: {'n_estimators': 5, 'max_depth': 5.646206092771308, 'max_features': 'auto', 'min_samples_split': 9, 'min_samples_leaf': 1}. Best is trial 11 with value: 0.9733333333333333.\u001b[0m\n",
      "c:\\Users\\Cornel\\anaconda3\\lib\\site-packages\\optuna\\distributions.py:716: UserWarning:\n",
      "\n",
      "The distribution is specified by [5, 50] and step=100, but the range is not divisible by `step`. It will be replaced by [5, 5].\n",
      "\n",
      "\u001b[32m[I 2023-05-06 06:39:44,551]\u001b[0m Trial 75 finished with value: 0.9333333333333332 and parameters: {'n_estimators': 5, 'max_depth': 7.11621668129818, 'max_features': 'auto', 'min_samples_split': 10, 'min_samples_leaf': 3}. Best is trial 11 with value: 0.9733333333333333.\u001b[0m\n",
      "c:\\Users\\Cornel\\anaconda3\\lib\\site-packages\\optuna\\distributions.py:716: UserWarning:\n",
      "\n",
      "The distribution is specified by [5, 50] and step=100, but the range is not divisible by `step`. It will be replaced by [5, 5].\n",
      "\n",
      "\u001b[32m[I 2023-05-06 06:39:44,610]\u001b[0m Trial 76 finished with value: 0.9733333333333333 and parameters: {'n_estimators': 5, 'max_depth': 6.081504092291556, 'max_features': 'sqrt', 'min_samples_split': 9, 'min_samples_leaf': 1}. Best is trial 11 with value: 0.9733333333333333.\u001b[0m\n",
      "c:\\Users\\Cornel\\anaconda3\\lib\\site-packages\\optuna\\distributions.py:716: UserWarning:\n",
      "\n",
      "The distribution is specified by [5, 50] and step=100, but the range is not divisible by `step`. It will be replaced by [5, 5].\n",
      "\n",
      "\u001b[32m[I 2023-05-06 06:39:44,672]\u001b[0m Trial 77 finished with value: 0.96 and parameters: {'n_estimators': 5, 'max_depth': 6.036756151278902, 'max_features': 'sqrt', 'min_samples_split': 9, 'min_samples_leaf': 1}. Best is trial 11 with value: 0.9733333333333333.\u001b[0m\n",
      "c:\\Users\\Cornel\\anaconda3\\lib\\site-packages\\optuna\\distributions.py:716: UserWarning:\n",
      "\n",
      "The distribution is specified by [5, 50] and step=100, but the range is not divisible by `step`. It will be replaced by [5, 5].\n",
      "\n",
      "\u001b[32m[I 2023-05-06 06:39:44,736]\u001b[0m Trial 78 finished with value: 0.9466666666666667 and parameters: {'n_estimators': 5, 'max_depth': 5.2939586101765395, 'max_features': 'sqrt', 'min_samples_split': 10, 'min_samples_leaf': 1}. Best is trial 11 with value: 0.9733333333333333.\u001b[0m\n",
      "c:\\Users\\Cornel\\anaconda3\\lib\\site-packages\\optuna\\distributions.py:716: UserWarning:\n",
      "\n",
      "The distribution is specified by [5, 50] and step=100, but the range is not divisible by `step`. It will be replaced by [5, 5].\n",
      "\n",
      "\u001b[32m[I 2023-05-06 06:39:44,793]\u001b[0m Trial 79 finished with value: 0.96 and parameters: {'n_estimators': 5, 'max_depth': 5.693697594796374, 'max_features': 'sqrt', 'min_samples_split': 2, 'min_samples_leaf': 1}. Best is trial 11 with value: 0.9733333333333333.\u001b[0m\n",
      "c:\\Users\\Cornel\\anaconda3\\lib\\site-packages\\optuna\\distributions.py:716: UserWarning:\n",
      "\n",
      "The distribution is specified by [5, 50] and step=100, but the range is not divisible by `step`. It will be replaced by [5, 5].\n",
      "\n",
      "\u001b[32m[I 2023-05-06 06:39:44,849]\u001b[0m Trial 80 finished with value: 0.9533333333333333 and parameters: {'n_estimators': 5, 'max_depth': 8.06831244724142, 'max_features': 'sqrt', 'min_samples_split': 9, 'min_samples_leaf': 1}. Best is trial 11 with value: 0.9733333333333333.\u001b[0m\n",
      "c:\\Users\\Cornel\\anaconda3\\lib\\site-packages\\optuna\\distributions.py:716: UserWarning:\n",
      "\n",
      "The distribution is specified by [5, 50] and step=100, but the range is not divisible by `step`. It will be replaced by [5, 5].\n",
      "\n",
      "\u001b[32m[I 2023-05-06 06:39:44,910]\u001b[0m Trial 81 finished with value: 0.94 and parameters: {'n_estimators': 5, 'max_depth': 6.527113117278716, 'max_features': 'sqrt', 'min_samples_split': 8, 'min_samples_leaf': 2}. Best is trial 11 with value: 0.9733333333333333.\u001b[0m\n",
      "c:\\Users\\Cornel\\anaconda3\\lib\\site-packages\\optuna\\distributions.py:716: UserWarning:\n",
      "\n",
      "The distribution is specified by [5, 50] and step=100, but the range is not divisible by `step`. It will be replaced by [5, 5].\n",
      "\n",
      "\u001b[32m[I 2023-05-06 06:39:44,974]\u001b[0m Trial 82 finished with value: 0.9533333333333333 and parameters: {'n_estimators': 5, 'max_depth': 6.1829368087969865, 'max_features': 'log2', 'min_samples_split': 9, 'min_samples_leaf': 2}. Best is trial 11 with value: 0.9733333333333333.\u001b[0m\n",
      "c:\\Users\\Cornel\\anaconda3\\lib\\site-packages\\optuna\\distributions.py:716: UserWarning:\n",
      "\n",
      "The distribution is specified by [5, 50] and step=100, but the range is not divisible by `step`. It will be replaced by [5, 5].\n",
      "\n",
      "\u001b[32m[I 2023-05-06 06:39:45,033]\u001b[0m Trial 83 finished with value: 0.9533333333333333 and parameters: {'n_estimators': 5, 'max_depth': 5.482035272355516, 'max_features': 'sqrt', 'min_samples_split': 8, 'min_samples_leaf': 2}. Best is trial 11 with value: 0.9733333333333333.\u001b[0m\n",
      "c:\\Users\\Cornel\\anaconda3\\lib\\site-packages\\optuna\\distributions.py:716: UserWarning:\n",
      "\n",
      "The distribution is specified by [5, 50] and step=100, but the range is not divisible by `step`. It will be replaced by [5, 5].\n",
      "\n",
      "\u001b[32m[I 2023-05-06 06:39:45,099]\u001b[0m Trial 84 finished with value: 0.96 and parameters: {'n_estimators': 5, 'max_depth': 7.066469995854945, 'max_features': 'sqrt', 'min_samples_split': 10, 'min_samples_leaf': 1}. Best is trial 11 with value: 0.9733333333333333.\u001b[0m\n",
      "c:\\Users\\Cornel\\anaconda3\\lib\\site-packages\\optuna\\distributions.py:716: UserWarning:\n",
      "\n",
      "The distribution is specified by [5, 50] and step=100, but the range is not divisible by `step`. It will be replaced by [5, 5].\n",
      "\n",
      "\u001b[32m[I 2023-05-06 06:39:45,156]\u001b[0m Trial 85 finished with value: 0.9466666666666667 and parameters: {'n_estimators': 5, 'max_depth': 5.057060319248138, 'max_features': 'auto', 'min_samples_split': 7, 'min_samples_leaf': 3}. Best is trial 11 with value: 0.9733333333333333.\u001b[0m\n",
      "c:\\Users\\Cornel\\anaconda3\\lib\\site-packages\\optuna\\distributions.py:716: UserWarning:\n",
      "\n",
      "The distribution is specified by [5, 50] and step=100, but the range is not divisible by `step`. It will be replaced by [5, 5].\n",
      "\n",
      "\u001b[32m[I 2023-05-06 06:39:45,214]\u001b[0m Trial 86 finished with value: 0.9533333333333333 and parameters: {'n_estimators': 5, 'max_depth': 7.272949573945489, 'max_features': 'sqrt', 'min_samples_split': 3, 'min_samples_leaf': 4}. Best is trial 11 with value: 0.9733333333333333.\u001b[0m\n",
      "c:\\Users\\Cornel\\anaconda3\\lib\\site-packages\\optuna\\distributions.py:716: UserWarning:\n",
      "\n",
      "The distribution is specified by [5, 50] and step=100, but the range is not divisible by `step`. It will be replaced by [5, 5].\n",
      "\n",
      "\u001b[32m[I 2023-05-06 06:39:45,279]\u001b[0m Trial 87 finished with value: 0.9466666666666667 and parameters: {'n_estimators': 5, 'max_depth': 5.954090985236737, 'max_features': 'sqrt', 'min_samples_split': 10, 'min_samples_leaf': 2}. Best is trial 11 with value: 0.9733333333333333.\u001b[0m\n",
      "c:\\Users\\Cornel\\anaconda3\\lib\\site-packages\\optuna\\distributions.py:716: UserWarning:\n",
      "\n",
      "The distribution is specified by [5, 50] and step=100, but the range is not divisible by `step`. It will be replaced by [5, 5].\n",
      "\n",
      "\u001b[32m[I 2023-05-06 06:39:45,337]\u001b[0m Trial 88 finished with value: 0.96 and parameters: {'n_estimators': 5, 'max_depth': 6.742900583598792, 'max_features': 'sqrt', 'min_samples_split': 9, 'min_samples_leaf': 1}. Best is trial 11 with value: 0.9733333333333333.\u001b[0m\n",
      "c:\\Users\\Cornel\\anaconda3\\lib\\site-packages\\optuna\\distributions.py:716: UserWarning:\n",
      "\n",
      "The distribution is specified by [5, 50] and step=100, but the range is not divisible by `step`. It will be replaced by [5, 5].\n",
      "\n",
      "\u001b[32m[I 2023-05-06 06:39:45,405]\u001b[0m Trial 89 finished with value: 0.9466666666666667 and parameters: {'n_estimators': 5, 'max_depth': 5.509164926654478, 'max_features': 'sqrt', 'min_samples_split': 9, 'min_samples_leaf': 1}. Best is trial 11 with value: 0.9733333333333333.\u001b[0m\n",
      "c:\\Users\\Cornel\\anaconda3\\lib\\site-packages\\optuna\\distributions.py:716: UserWarning:\n",
      "\n",
      "The distribution is specified by [5, 50] and step=100, but the range is not divisible by `step`. It will be replaced by [5, 5].\n",
      "\n",
      "\u001b[32m[I 2023-05-06 06:39:45,468]\u001b[0m Trial 90 finished with value: 0.9466666666666667 and parameters: {'n_estimators': 5, 'max_depth': 6.23953434564648, 'max_features': 'log2', 'min_samples_split': 6, 'min_samples_leaf': 7}. Best is trial 11 with value: 0.9733333333333333.\u001b[0m\n",
      "c:\\Users\\Cornel\\anaconda3\\lib\\site-packages\\optuna\\distributions.py:716: UserWarning:\n",
      "\n",
      "The distribution is specified by [5, 50] and step=100, but the range is not divisible by `step`. It will be replaced by [5, 5].\n",
      "\n",
      "\u001b[32m[I 2023-05-06 06:39:45,526]\u001b[0m Trial 91 finished with value: 0.9666666666666667 and parameters: {'n_estimators': 5, 'max_depth': 8.02618463598685, 'max_features': 'sqrt', 'min_samples_split': 5, 'min_samples_leaf': 2}. Best is trial 11 with value: 0.9733333333333333.\u001b[0m\n",
      "c:\\Users\\Cornel\\anaconda3\\lib\\site-packages\\optuna\\distributions.py:716: UserWarning:\n",
      "\n",
      "The distribution is specified by [5, 50] and step=100, but the range is not divisible by `step`. It will be replaced by [5, 5].\n",
      "\n",
      "\u001b[32m[I 2023-05-06 06:39:45,590]\u001b[0m Trial 92 finished with value: 0.96 and parameters: {'n_estimators': 5, 'max_depth': 7.791896247084134, 'max_features': 'sqrt', 'min_samples_split': 5, 'min_samples_leaf': 2}. Best is trial 11 with value: 0.9733333333333333.\u001b[0m\n",
      "c:\\Users\\Cornel\\anaconda3\\lib\\site-packages\\optuna\\distributions.py:716: UserWarning:\n",
      "\n",
      "The distribution is specified by [5, 50] and step=100, but the range is not divisible by `step`. It will be replaced by [5, 5].\n",
      "\n",
      "\u001b[32m[I 2023-05-06 06:39:45,654]\u001b[0m Trial 93 finished with value: 0.94 and parameters: {'n_estimators': 5, 'max_depth': 8.904021166022712, 'max_features': 'sqrt', 'min_samples_split': 6, 'min_samples_leaf': 3}. Best is trial 11 with value: 0.9733333333333333.\u001b[0m\n",
      "c:\\Users\\Cornel\\anaconda3\\lib\\site-packages\\optuna\\distributions.py:716: UserWarning:\n",
      "\n",
      "The distribution is specified by [5, 50] and step=100, but the range is not divisible by `step`. It will be replaced by [5, 5].\n",
      "\n",
      "\u001b[32m[I 2023-05-06 06:39:45,716]\u001b[0m Trial 94 finished with value: 0.9533333333333333 and parameters: {'n_estimators': 5, 'max_depth': 6.861665296189883, 'max_features': 'sqrt', 'min_samples_split': 7, 'min_samples_leaf': 1}. Best is trial 11 with value: 0.9733333333333333.\u001b[0m\n",
      "c:\\Users\\Cornel\\anaconda3\\lib\\site-packages\\optuna\\distributions.py:716: UserWarning:\n",
      "\n",
      "The distribution is specified by [5, 50] and step=100, but the range is not divisible by `step`. It will be replaced by [5, 5].\n",
      "\n",
      "\u001b[32m[I 2023-05-06 06:39:45,774]\u001b[0m Trial 95 finished with value: 0.9533333333333333 and parameters: {'n_estimators': 5, 'max_depth': 7.601194201914904, 'max_features': 'sqrt', 'min_samples_split': 4, 'min_samples_leaf': 2}. Best is trial 11 with value: 0.9733333333333333.\u001b[0m\n",
      "c:\\Users\\Cornel\\anaconda3\\lib\\site-packages\\optuna\\distributions.py:716: UserWarning:\n",
      "\n",
      "The distribution is specified by [5, 50] and step=100, but the range is not divisible by `step`. It will be replaced by [5, 5].\n",
      "\n",
      "\u001b[32m[I 2023-05-06 06:39:45,865]\u001b[0m Trial 96 finished with value: 0.9533333333333333 and parameters: {'n_estimators': 5, 'max_depth': 5.857898397471374, 'max_features': 'sqrt', 'min_samples_split': 8, 'min_samples_leaf': 8}. Best is trial 11 with value: 0.9733333333333333.\u001b[0m\n",
      "c:\\Users\\Cornel\\anaconda3\\lib\\site-packages\\optuna\\distributions.py:716: UserWarning:\n",
      "\n",
      "The distribution is specified by [5, 50] and step=100, but the range is not divisible by `step`. It will be replaced by [5, 5].\n",
      "\n",
      "\u001b[32m[I 2023-05-06 06:39:45,966]\u001b[0m Trial 97 finished with value: 0.9466666666666667 and parameters: {'n_estimators': 5, 'max_depth': 6.450216216186261, 'max_features': 'sqrt', 'min_samples_split': 10, 'min_samples_leaf': 3}. Best is trial 11 with value: 0.9733333333333333.\u001b[0m\n",
      "c:\\Users\\Cornel\\anaconda3\\lib\\site-packages\\optuna\\distributions.py:716: UserWarning:\n",
      "\n",
      "The distribution is specified by [5, 50] and step=100, but the range is not divisible by `step`. It will be replaced by [5, 5].\n",
      "\n",
      "\u001b[32m[I 2023-05-06 06:39:46,035]\u001b[0m Trial 98 finished with value: 0.96 and parameters: {'n_estimators': 5, 'max_depth': 8.275497765047945, 'max_features': 'auto', 'min_samples_split': 7, 'min_samples_leaf': 1}. Best is trial 11 with value: 0.9733333333333333.\u001b[0m\n",
      "c:\\Users\\Cornel\\anaconda3\\lib\\site-packages\\optuna\\distributions.py:716: UserWarning:\n",
      "\n",
      "The distribution is specified by [5, 50] and step=100, but the range is not divisible by `step`. It will be replaced by [5, 5].\n",
      "\n",
      "\u001b[32m[I 2023-05-06 06:39:46,105]\u001b[0m Trial 99 finished with value: 0.96 and parameters: {'n_estimators': 5, 'max_depth': 7.444960006598391, 'max_features': 'sqrt', 'min_samples_split': 10, 'min_samples_leaf': 1}. Best is trial 11 with value: 0.9733333333333333.\u001b[0m\n"
     ]
    },
    {
     "name": "stdout",
     "output_type": "stream",
     "text": [
      "Accuracy: 0.9733333333333333\n",
      "Best hyperparameters: {'n_estimators': 5, 'max_depth': 5.53491999822429, 'max_features': 'sqrt', 'min_samples_split': 10, 'min_samples_leaf': 1}\n"
     ]
    }
   ],
   "source": [
    "#Automatic Hyperparameter Optimization using Ray Tune or Optuna (use this for deep learning)\n",
    "\n",
    "#OPTUNA\n",
    "\n",
    "import optuna \n",
    "import sklearn \n",
    "from sklearn.ensemble import RandomForestClassifier\n",
    "from sklearn.model_selection import cross_val_score\n",
    "\n",
    "def objective(trial):\n",
    "    iris = load_iris()\n",
    "    \n",
    "    # Define the search space for the hyperparameters\n",
    "    n_estimators = trial.suggest_int('n_estimators', 5, 50, 100)\n",
    "    max_depth = int(trial.suggest_float('max_depth', 5, 32, log=True))\n",
    "    max_features = trial.suggest_categorical('max_features', ['auto', 'sqrt', 'log2'])\n",
    "    min_samples_split = trial.suggest_int('min_samples_split', 2, 10)\n",
    "    min_samples_leaf = trial.suggest_int('min_samples_leaf', 1, 10)\n",
    "    #you can add other hyperparameters below\n",
    "    \n",
    "    \n",
    "    # Create the Random Forest classifier model\n",
    "    clf = RandomForestClassifier(n_estimators=n_estimators, max_depth=max_depth,\n",
    "                                  max_features=max_features, min_samples_split=min_samples_split,\n",
    "                                  min_samples_leaf=min_samples_leaf)\n",
    "    \n",
    "    return cross_val_score(\n",
    "        clf, iris.data, iris.target, n_jobs=-1, cv=3).mean()\n",
    "\n",
    "study = optuna.create_study(direction='maximize')\n",
    "study.optimize(objective, n_trials=100)\n",
    "\n",
    "trial = study.best_trial\n",
    "\n",
    "print('Accuracy: {}'.format(trial.value))\n",
    "print(\"Best hyperparameters: {}\".format(trial.params))\n",
    "\n"
   ]
  },
  {
   "cell_type": "code",
   "execution_count": 16,
   "metadata": {},
   "outputs": [
    {
     "data": {
      "text/plain": [
       "{'n_estimators': 5,\n",
       " 'max_depth': 5.53491999822429,\n",
       " 'max_features': 'sqrt',\n",
       " 'min_samples_split': 10,\n",
       " 'min_samples_leaf': 1}"
      ]
     },
     "execution_count": 16,
     "metadata": {},
     "output_type": "execute_result"
    }
   ],
   "source": [
    "study.best_params "
   ]
  },
  {
   "cell_type": "code",
   "execution_count": 11,
   "metadata": {},
   "outputs": [
    {
     "name": "stderr",
     "output_type": "stream",
     "text": [
      "\u001b[32m[I 2023-05-06 06:23:18,695]\u001b[0m A new study created in memory with name: no-name-90e14488-068b-4987-b1db-e33f38d70d9a\u001b[0m\n",
      "\u001b[32m[I 2023-05-06 06:23:18,738]\u001b[0m Trial 0 finished with value: 0.96 and parameters: {'n_estimators': 7, 'max_depth': 4.337308275206553}. Best is trial 0 with value: 0.96.\u001b[0m\n",
      "\u001b[32m[I 2023-05-06 06:23:18,830]\u001b[0m Trial 1 finished with value: 0.8333333333333334 and parameters: {'n_estimators': 19, 'max_depth': 1.0500924068025614}. Best is trial 0 with value: 0.96.\u001b[0m\n",
      "\u001b[32m[I 2023-05-06 06:23:18,889]\u001b[0m Trial 2 finished with value: 0.9466666666666667 and parameters: {'n_estimators': 11, 'max_depth': 8.167600596271539}. Best is trial 0 with value: 0.96.\u001b[0m\n",
      "\u001b[32m[I 2023-05-06 06:23:18,971]\u001b[0m Trial 3 finished with value: 0.96 and parameters: {'n_estimators': 13, 'max_depth': 4.292154425714685}. Best is trial 0 with value: 0.96.\u001b[0m\n",
      "\u001b[32m[I 2023-05-06 06:23:19,037]\u001b[0m Trial 4 finished with value: 0.96 and parameters: {'n_estimators': 6, 'max_depth': 5.27313565099865}. Best is trial 0 with value: 0.96.\u001b[0m\n",
      "\u001b[32m[I 2023-05-06 06:23:19,091]\u001b[0m Trial 5 finished with value: 0.84 and parameters: {'n_estimators': 8, 'max_depth': 1.6985744061510872}. Best is trial 0 with value: 0.96.\u001b[0m\n",
      "\u001b[32m[I 2023-05-06 06:23:19,161]\u001b[0m Trial 6 finished with value: 0.8666666666666666 and parameters: {'n_estimators': 9, 'max_depth': 1.424128072921002}. Best is trial 0 with value: 0.96.\u001b[0m\n",
      "\u001b[32m[I 2023-05-06 06:23:19,199]\u001b[0m Trial 7 finished with value: 0.9533333333333333 and parameters: {'n_estimators': 3, 'max_depth': 15.183286206083604}. Best is trial 0 with value: 0.96.\u001b[0m\n",
      "\u001b[32m[I 2023-05-06 06:23:19,251]\u001b[0m Trial 8 finished with value: 0.9533333333333333 and parameters: {'n_estimators': 5, 'max_depth': 8.920708555344701}. Best is trial 0 with value: 0.96.\u001b[0m\n",
      "\u001b[32m[I 2023-05-06 06:23:19,334]\u001b[0m Trial 9 finished with value: 0.96 and parameters: {'n_estimators': 15, 'max_depth': 3.73347694316918}. Best is trial 0 with value: 0.96.\u001b[0m\n",
      "\u001b[32m[I 2023-05-06 06:23:19,390]\u001b[0m Trial 10 finished with value: 0.9466666666666667 and parameters: {'n_estimators': 2, 'max_depth': 31.111861372245368}. Best is trial 0 with value: 0.96.\u001b[0m\n",
      "\u001b[32m[I 2023-05-06 06:23:19,495]\u001b[0m Trial 11 finished with value: 0.9466666666666667 and parameters: {'n_estimators': 14, 'max_depth': 3.0894451031060153}. Best is trial 0 with value: 0.96.\u001b[0m\n",
      "\u001b[32m[I 2023-05-06 06:23:19,583]\u001b[0m Trial 12 finished with value: 0.96 and parameters: {'n_estimators': 14, 'max_depth': 3.5679433012037394}. Best is trial 0 with value: 0.96.\u001b[0m\n",
      "\u001b[32m[I 2023-05-06 06:23:19,678]\u001b[0m Trial 13 finished with value: 0.9533333333333333 and parameters: {'n_estimators': 18, 'max_depth': 2.857142554476237}. Best is trial 0 with value: 0.96.\u001b[0m\n",
      "\u001b[32m[I 2023-05-06 06:23:19,757]\u001b[0m Trial 14 finished with value: 0.9533333333333333 and parameters: {'n_estimators': 11, 'max_depth': 6.148918412019292}. Best is trial 0 with value: 0.96.\u001b[0m\n",
      "\u001b[32m[I 2023-05-06 06:23:19,828]\u001b[0m Trial 15 finished with value: 0.9466666666666667 and parameters: {'n_estimators': 8, 'max_depth': 2.1868648621222744}. Best is trial 0 with value: 0.96.\u001b[0m\n",
      "\u001b[32m[I 2023-05-06 06:23:19,936]\u001b[0m Trial 16 finished with value: 0.9533333333333333 and parameters: {'n_estimators': 16, 'max_depth': 5.132226281772422}. Best is trial 0 with value: 0.96.\u001b[0m\n",
      "\u001b[32m[I 2023-05-06 06:23:20,037]\u001b[0m Trial 17 finished with value: 0.94 and parameters: {'n_estimators': 13, 'max_depth': 2.307465043693538}. Best is trial 0 with value: 0.96.\u001b[0m\n",
      "\u001b[32m[I 2023-05-06 06:23:20,114]\u001b[0m Trial 18 finished with value: 0.9466666666666667 and parameters: {'n_estimators': 11, 'max_depth': 4.205434963692961}. Best is trial 0 with value: 0.96.\u001b[0m\n",
      "\u001b[32m[I 2023-05-06 06:23:20,169]\u001b[0m Trial 19 finished with value: 0.96 and parameters: {'n_estimators': 5, 'max_depth': 7.251567203312949}. Best is trial 0 with value: 0.96.\u001b[0m\n",
      "\u001b[32m[I 2023-05-06 06:23:20,288]\u001b[0m Trial 20 finished with value: 0.9533333333333333 and parameters: {'n_estimators': 17, 'max_depth': 10.80163790841241}. Best is trial 0 with value: 0.96.\u001b[0m\n",
      "\u001b[32m[I 2023-05-06 06:23:20,347]\u001b[0m Trial 21 finished with value: 0.96 and parameters: {'n_estimators': 6, 'max_depth': 4.998561595679321}. Best is trial 0 with value: 0.96.\u001b[0m\n",
      "\u001b[32m[I 2023-05-06 06:23:20,422]\u001b[0m Trial 22 finished with value: 0.9666666666666667 and parameters: {'n_estimators': 7, 'max_depth': 5.017451084124522}. Best is trial 22 with value: 0.9666666666666667.\u001b[0m\n",
      "\u001b[32m[I 2023-05-06 06:23:20,557]\u001b[0m Trial 23 finished with value: 0.9666666666666667 and parameters: {'n_estimators': 9, 'max_depth': 4.331949109038039}. Best is trial 22 with value: 0.9666666666666667.\u001b[0m\n",
      "\u001b[32m[I 2023-05-06 06:23:20,630]\u001b[0m Trial 24 finished with value: 0.94 and parameters: {'n_estimators': 9, 'max_depth': 2.8317370881452026}. Best is trial 22 with value: 0.9666666666666667.\u001b[0m\n",
      "\u001b[32m[I 2023-05-06 06:23:20,695]\u001b[0m Trial 25 finished with value: 0.9533333333333333 and parameters: {'n_estimators': 7, 'max_depth': 5.822122448845678}. Best is trial 22 with value: 0.9666666666666667.\u001b[0m\n",
      "\u001b[32m[I 2023-05-06 06:23:20,780]\u001b[0m Trial 26 finished with value: 0.96 and parameters: {'n_estimators': 10, 'max_depth': 3.9037803036894054}. Best is trial 22 with value: 0.9666666666666667.\u001b[0m\n",
      "\u001b[32m[I 2023-05-06 06:23:20,831]\u001b[0m Trial 27 finished with value: 0.96 and parameters: {'n_estimators': 3, 'max_depth': 6.421352100547339}. Best is trial 22 with value: 0.9666666666666667.\u001b[0m\n",
      "\u001b[32m[I 2023-05-06 06:23:20,922]\u001b[0m Trial 28 finished with value: 0.9533333333333333 and parameters: {'n_estimators': 4, 'max_depth': 2.290671828641709}. Best is trial 22 with value: 0.9666666666666667.\u001b[0m\n",
      "\u001b[32m[I 2023-05-06 06:23:21,021]\u001b[0m Trial 29 finished with value: 0.66 and parameters: {'n_estimators': 7, 'max_depth': 1.0473550013645494}. Best is trial 22 with value: 0.9666666666666667.\u001b[0m\n",
      "\u001b[32m[I 2023-05-06 06:23:21,121]\u001b[0m Trial 30 finished with value: 0.9666666666666667 and parameters: {'n_estimators': 9, 'max_depth': 4.444710082747342}. Best is trial 22 with value: 0.9666666666666667.\u001b[0m\n",
      "\u001b[32m[I 2023-05-06 06:23:21,221]\u001b[0m Trial 31 finished with value: 0.9666666666666667 and parameters: {'n_estimators': 10, 'max_depth': 4.665745444640535}. Best is trial 22 with value: 0.9666666666666667.\u001b[0m\n",
      "\u001b[32m[I 2023-05-06 06:23:21,360]\u001b[0m Trial 32 finished with value: 0.96 and parameters: {'n_estimators': 10, 'max_depth': 4.689117221367734}. Best is trial 22 with value: 0.9666666666666667.\u001b[0m\n",
      "\u001b[32m[I 2023-05-06 06:23:21,506]\u001b[0m Trial 33 finished with value: 0.9666666666666667 and parameters: {'n_estimators': 12, 'max_depth': 3.2185438955981676}. Best is trial 22 with value: 0.9666666666666667.\u001b[0m\n",
      "\u001b[32m[I 2023-05-06 06:23:21,581]\u001b[0m Trial 34 finished with value: 0.9666666666666667 and parameters: {'n_estimators': 9, 'max_depth': 4.357798585055719}. Best is trial 22 with value: 0.9666666666666667.\u001b[0m\n",
      "\u001b[32m[I 2023-05-06 06:23:21,698]\u001b[0m Trial 35 finished with value: 0.96 and parameters: {'n_estimators': 20, 'max_depth': 7.018176840123472}. Best is trial 22 with value: 0.9666666666666667.\u001b[0m\n",
      "\u001b[32m[I 2023-05-06 06:23:21,781]\u001b[0m Trial 36 finished with value: 0.96 and parameters: {'n_estimators': 10, 'max_depth': 5.392292967662201}. Best is trial 22 with value: 0.9666666666666667.\u001b[0m\n",
      "\u001b[32m[I 2023-05-06 06:23:21,839]\u001b[0m Trial 37 finished with value: 0.9666666666666667 and parameters: {'n_estimators': 8, 'max_depth': 4.599710066993974}. Best is trial 22 with value: 0.9666666666666667.\u001b[0m\n",
      "\u001b[32m[I 2023-05-06 06:23:21,918]\u001b[0m Trial 38 finished with value: 0.9533333333333333 and parameters: {'n_estimators': 12, 'max_depth': 3.511226572525755}. Best is trial 22 with value: 0.9666666666666667.\u001b[0m\n",
      "\u001b[32m[I 2023-05-06 06:23:21,971]\u001b[0m Trial 39 finished with value: 0.96 and parameters: {'n_estimators': 6, 'max_depth': 8.21514284671063}. Best is trial 22 with value: 0.9666666666666667.\u001b[0m\n",
      "\u001b[32m[I 2023-05-06 06:23:22,063]\u001b[0m Trial 40 finished with value: 0.9533333333333333 and parameters: {'n_estimators': 8, 'max_depth': 5.345316555726604}. Best is trial 22 with value: 0.9666666666666667.\u001b[0m\n",
      "\u001b[32m[I 2023-05-06 06:23:22,169]\u001b[0m Trial 41 finished with value: 0.9533333333333333 and parameters: {'n_estimators': 12, 'max_depth': 3.145737909105488}. Best is trial 22 with value: 0.9666666666666667.\u001b[0m\n",
      "\u001b[32m[I 2023-05-06 06:23:22,262]\u001b[0m Trial 42 finished with value: 0.9666666666666667 and parameters: {'n_estimators': 12, 'max_depth': 3.5417333528723183}. Best is trial 22 with value: 0.9666666666666667.\u001b[0m\n",
      "\u001b[32m[I 2023-05-06 06:23:22,345]\u001b[0m Trial 43 finished with value: 0.9466666666666667 and parameters: {'n_estimators': 9, 'max_depth': 4.011647738677376}. Best is trial 22 with value: 0.9666666666666667.\u001b[0m\n",
      "\u001b[32m[I 2023-05-06 06:23:22,437]\u001b[0m Trial 44 finished with value: 0.9466666666666667 and parameters: {'n_estimators': 10, 'max_depth': 4.444886706368351}. Best is trial 22 with value: 0.9666666666666667.\u001b[0m\n",
      "\u001b[32m[I 2023-05-06 06:23:22,541]\u001b[0m Trial 45 finished with value: 0.94 and parameters: {'n_estimators': 13, 'max_depth': 2.6287220961257223}. Best is trial 22 with value: 0.9666666666666667.\u001b[0m\n",
      "\u001b[32m[I 2023-05-06 06:23:22,611]\u001b[0m Trial 46 finished with value: 0.96 and parameters: {'n_estimators': 6, 'max_depth': 3.4491906500524823}. Best is trial 22 with value: 0.9666666666666667.\u001b[0m\n",
      "\u001b[32m[I 2023-05-06 06:23:22,697]\u001b[0m Trial 47 finished with value: 0.9466666666666667 and parameters: {'n_estimators': 11, 'max_depth': 5.669999523598079}. Best is trial 22 with value: 0.9666666666666667.\u001b[0m\n",
      "\u001b[32m[I 2023-05-06 06:23:22,778]\u001b[0m Trial 48 finished with value: 0.96 and parameters: {'n_estimators': 7, 'max_depth': 3.154763748358345}. Best is trial 22 with value: 0.9666666666666667.\u001b[0m\n",
      "\u001b[32m[I 2023-05-06 06:23:22,884]\u001b[0m Trial 49 finished with value: 0.9533333333333333 and parameters: {'n_estimators': 14, 'max_depth': 6.593130995270074}. Best is trial 22 with value: 0.9666666666666667.\u001b[0m\n",
      "\u001b[32m[I 2023-05-06 06:23:22,971]\u001b[0m Trial 50 finished with value: 0.86 and parameters: {'n_estimators': 11, 'max_depth': 1.9170939174524027}. Best is trial 22 with value: 0.9666666666666667.\u001b[0m\n",
      "\u001b[32m[I 2023-05-06 06:23:23,054]\u001b[0m Trial 51 finished with value: 0.96 and parameters: {'n_estimators': 9, 'max_depth': 4.059081807606242}. Best is trial 22 with value: 0.9666666666666667.\u001b[0m\n",
      "\u001b[32m[I 2023-05-06 06:23:23,143]\u001b[0m Trial 52 finished with value: 0.9533333333333333 and parameters: {'n_estimators': 9, 'max_depth': 4.749618171419316}. Best is trial 22 with value: 0.9666666666666667.\u001b[0m\n",
      "\u001b[32m[I 2023-05-06 06:23:23,220]\u001b[0m Trial 53 finished with value: 0.9533333333333333 and parameters: {'n_estimators': 8, 'max_depth': 4.180076758388768}. Best is trial 22 with value: 0.9666666666666667.\u001b[0m\n",
      "\u001b[32m[I 2023-05-06 06:23:23,304]\u001b[0m Trial 54 finished with value: 0.96 and parameters: {'n_estimators': 10, 'max_depth': 5.041911293222271}. Best is trial 22 with value: 0.9666666666666667.\u001b[0m\n",
      "\u001b[32m[I 2023-05-06 06:23:23,384]\u001b[0m Trial 55 finished with value: 0.96 and parameters: {'n_estimators': 8, 'max_depth': 3.75165543050928}. Best is trial 22 with value: 0.9666666666666667.\u001b[0m\n",
      "\u001b[32m[I 2023-05-06 06:23:23,479]\u001b[0m Trial 56 finished with value: 0.96 and parameters: {'n_estimators': 12, 'max_depth': 2.6200984403106062}. Best is trial 22 with value: 0.9666666666666667.\u001b[0m\n",
      "\u001b[32m[I 2023-05-06 06:23:23,575]\u001b[0m Trial 57 finished with value: 0.9533333333333333 and parameters: {'n_estimators': 13, 'max_depth': 4.403682920211485}. Best is trial 22 with value: 0.9666666666666667.\u001b[0m\n",
      "\u001b[32m[I 2023-05-06 06:23:23,658]\u001b[0m Trial 58 finished with value: 0.9533333333333333 and parameters: {'n_estimators': 9, 'max_depth': 6.131498159487076}. Best is trial 22 with value: 0.9666666666666667.\u001b[0m\n",
      "\u001b[32m[I 2023-05-06 06:23:23,747]\u001b[0m Trial 59 finished with value: 0.9533333333333333 and parameters: {'n_estimators': 10, 'max_depth': 3.0977688812419357}. Best is trial 22 with value: 0.9666666666666667.\u001b[0m\n",
      "\u001b[32m[I 2023-05-06 06:23:23,835]\u001b[0m Trial 60 finished with value: 0.9666666666666667 and parameters: {'n_estimators': 11, 'max_depth': 5.866534157382657}. Best is trial 22 with value: 0.9666666666666667.\u001b[0m\n",
      "\u001b[32m[I 2023-05-06 06:23:23,894]\u001b[0m Trial 61 finished with value: 0.9666666666666667 and parameters: {'n_estimators': 7, 'max_depth': 4.710362961784118}. Best is trial 22 with value: 0.9666666666666667.\u001b[0m\n",
      "\u001b[32m[I 2023-05-06 06:23:23,959]\u001b[0m Trial 62 finished with value: 0.96 and parameters: {'n_estimators': 8, 'max_depth': 4.358768550962647}. Best is trial 22 with value: 0.9666666666666667.\u001b[0m\n",
      "\u001b[32m[I 2023-05-06 06:23:24,011]\u001b[0m Trial 63 finished with value: 0.9533333333333333 and parameters: {'n_estimators': 6, 'max_depth': 3.7414299668412236}. Best is trial 22 with value: 0.9666666666666667.\u001b[0m\n",
      "\u001b[32m[I 2023-05-06 06:23:24,061]\u001b[0m Trial 64 finished with value: 0.9533333333333333 and parameters: {'n_estimators': 5, 'max_depth': 5.230317116978645}. Best is trial 22 with value: 0.9666666666666667.\u001b[0m\n",
      "\u001b[32m[I 2023-05-06 06:23:24,128]\u001b[0m Trial 65 finished with value: 0.9666666666666667 and parameters: {'n_estimators': 9, 'max_depth': 4.903494863569286}. Best is trial 22 with value: 0.9666666666666667.\u001b[0m\n",
      "\u001b[32m[I 2023-05-06 06:23:24,195]\u001b[0m Trial 66 finished with value: 0.96 and parameters: {'n_estimators': 7, 'max_depth': 3.3325002093058167}. Best is trial 22 with value: 0.9666666666666667.\u001b[0m\n",
      "\u001b[32m[I 2023-05-06 06:23:24,257]\u001b[0m Trial 67 finished with value: 0.9533333333333333 and parameters: {'n_estimators': 8, 'max_depth': 4.076058452815233}. Best is trial 22 with value: 0.9666666666666667.\u001b[0m\n",
      "\u001b[32m[I 2023-05-06 06:23:24,322]\u001b[0m Trial 68 finished with value: 0.9666666666666667 and parameters: {'n_estimators': 9, 'max_depth': 7.139043528159119}. Best is trial 22 with value: 0.9666666666666667.\u001b[0m\n",
      "\u001b[32m[I 2023-05-06 06:23:24,396]\u001b[0m Trial 69 finished with value: 0.96 and parameters: {'n_estimators': 10, 'max_depth': 5.632297575092681}. Best is trial 22 with value: 0.9666666666666667.\u001b[0m\n",
      "\u001b[32m[I 2023-05-06 06:23:24,454]\u001b[0m Trial 70 finished with value: 0.9266666666666666 and parameters: {'n_estimators': 8, 'max_depth': 2.933598085624879}. Best is trial 22 with value: 0.9666666666666667.\u001b[0m\n",
      "\u001b[32m[I 2023-05-06 06:23:24,526]\u001b[0m Trial 71 finished with value: 0.9533333333333333 and parameters: {'n_estimators': 11, 'max_depth': 3.5689670582250628}. Best is trial 22 with value: 0.9666666666666667.\u001b[0m\n",
      "\u001b[32m[I 2023-05-06 06:23:24,613]\u001b[0m Trial 72 finished with value: 0.9533333333333333 and parameters: {'n_estimators': 15, 'max_depth': 3.8953115939716936}. Best is trial 22 with value: 0.9666666666666667.\u001b[0m\n",
      "\u001b[32m[I 2023-05-06 06:23:24,686]\u001b[0m Trial 73 finished with value: 0.9733333333333333 and parameters: {'n_estimators': 12, 'max_depth': 4.490459807827673}. Best is trial 73 with value: 0.9733333333333333.\u001b[0m\n",
      "\u001b[32m[I 2023-05-06 06:23:24,772]\u001b[0m Trial 74 finished with value: 0.96 and parameters: {'n_estimators': 11, 'max_depth': 4.476542576955236}. Best is trial 73 with value: 0.9733333333333333.\u001b[0m\n",
      "\u001b[32m[I 2023-05-06 06:23:24,860]\u001b[0m Trial 75 finished with value: 0.96 and parameters: {'n_estimators': 12, 'max_depth': 4.999134309243478}. Best is trial 73 with value: 0.9733333333333333.\u001b[0m\n",
      "\u001b[32m[I 2023-05-06 06:23:24,945]\u001b[0m Trial 76 finished with value: 0.96 and parameters: {'n_estimators': 14, 'max_depth': 4.470255753467389}. Best is trial 73 with value: 0.9733333333333333.\u001b[0m\n",
      "\u001b[32m[I 2023-05-06 06:23:25,072]\u001b[0m Trial 77 finished with value: 0.9666666666666667 and parameters: {'n_estimators': 13, 'max_depth': 6.214107366465771}. Best is trial 73 with value: 0.9733333333333333.\u001b[0m\n",
      "\u001b[32m[I 2023-05-06 06:23:25,156]\u001b[0m Trial 78 finished with value: 0.9533333333333333 and parameters: {'n_estimators': 7, 'max_depth': 5.4793052841730985}. Best is trial 73 with value: 0.9733333333333333.\u001b[0m\n",
      "\u001b[32m[I 2023-05-06 06:23:25,242]\u001b[0m Trial 79 finished with value: 0.96 and parameters: {'n_estimators': 10, 'max_depth': 3.291523134523571}. Best is trial 73 with value: 0.9733333333333333.\u001b[0m\n",
      "\u001b[32m[I 2023-05-06 06:23:25,346]\u001b[0m Trial 80 finished with value: 0.96 and parameters: {'n_estimators': 15, 'max_depth': 4.124073767349444}. Best is trial 73 with value: 0.9733333333333333.\u001b[0m\n",
      "\u001b[32m[I 2023-05-06 06:23:25,437]\u001b[0m Trial 81 finished with value: 0.9533333333333333 and parameters: {'n_estimators': 12, 'max_depth': 3.626994898501149}. Best is trial 73 with value: 0.9733333333333333.\u001b[0m\n",
      "\u001b[32m[I 2023-05-06 06:23:25,531]\u001b[0m Trial 82 finished with value: 0.9666666666666667 and parameters: {'n_estimators': 13, 'max_depth': 3.7819628875954696}. Best is trial 73 with value: 0.9733333333333333.\u001b[0m\n",
      "\u001b[32m[I 2023-05-06 06:23:25,601]\u001b[0m Trial 83 finished with value: 0.9533333333333333 and parameters: {'n_estimators': 12, 'max_depth': 4.878369990080615}. Best is trial 73 with value: 0.9733333333333333.\u001b[0m\n",
      "\u001b[32m[I 2023-05-06 06:23:25,670]\u001b[0m Trial 84 finished with value: 0.96 and parameters: {'n_estimators': 11, 'max_depth': 3.6236444899351485}. Best is trial 73 with value: 0.9733333333333333.\u001b[0m\n",
      "\u001b[32m[I 2023-05-06 06:23:25,737]\u001b[0m Trial 85 finished with value: 0.9733333333333333 and parameters: {'n_estimators': 9, 'max_depth': 3.3300271145949956}. Best is trial 73 with value: 0.9733333333333333.\u001b[0m\n",
      "\u001b[32m[I 2023-05-06 06:23:25,805]\u001b[0m Trial 86 finished with value: 0.9533333333333333 and parameters: {'n_estimators': 9, 'max_depth': 2.764883173640336}. Best is trial 73 with value: 0.9733333333333333.\u001b[0m\n",
      "\u001b[32m[I 2023-05-06 06:23:25,869]\u001b[0m Trial 87 finished with value: 0.96 and parameters: {'n_estimators': 10, 'max_depth': 5.380732541803954}. Best is trial 73 with value: 0.9733333333333333.\u001b[0m\n",
      "\u001b[32m[I 2023-05-06 06:23:25,935]\u001b[0m Trial 88 finished with value: 0.9533333333333333 and parameters: {'n_estimators': 9, 'max_depth': 3.286660434439213}. Best is trial 73 with value: 0.9733333333333333.\u001b[0m\n",
      "\u001b[32m[I 2023-05-06 06:23:25,995]\u001b[0m Trial 89 finished with value: 0.9533333333333333 and parameters: {'n_estimators': 8, 'max_depth': 4.440868552943465}. Best is trial 73 with value: 0.9733333333333333.\u001b[0m\n",
      "\u001b[32m[I 2023-05-06 06:23:26,051]\u001b[0m Trial 90 finished with value: 0.9666666666666667 and parameters: {'n_estimators': 5, 'max_depth': 3.0245535971270603}. Best is trial 73 with value: 0.9733333333333333.\u001b[0m\n",
      "\u001b[32m[I 2023-05-06 06:23:26,116]\u001b[0m Trial 91 finished with value: 0.9533333333333333 and parameters: {'n_estimators': 10, 'max_depth': 3.9296277125041805}. Best is trial 73 with value: 0.9733333333333333.\u001b[0m\n",
      "\u001b[32m[I 2023-05-06 06:23:26,176]\u001b[0m Trial 92 finished with value: 0.9666666666666667 and parameters: {'n_estimators': 7, 'max_depth': 3.4565776958915797}. Best is trial 73 with value: 0.9733333333333333.\u001b[0m\n",
      "\u001b[32m[I 2023-05-06 06:23:26,249]\u001b[0m Trial 93 finished with value: 0.96 and parameters: {'n_estimators': 11, 'max_depth': 4.6347269382246425}. Best is trial 73 with value: 0.9733333333333333.\u001b[0m\n",
      "\u001b[32m[I 2023-05-06 06:23:26,321]\u001b[0m Trial 94 finished with value: 0.96 and parameters: {'n_estimators': 12, 'max_depth': 4.197251752678774}. Best is trial 73 with value: 0.9733333333333333.\u001b[0m\n",
      "\u001b[32m[I 2023-05-06 06:23:26,388]\u001b[0m Trial 95 finished with value: 0.96 and parameters: {'n_estimators': 9, 'max_depth': 5.09332472955048}. Best is trial 73 with value: 0.9733333333333333.\u001b[0m\n",
      "\u001b[32m[I 2023-05-06 06:23:26,449]\u001b[0m Trial 96 finished with value: 0.94 and parameters: {'n_estimators': 8, 'max_depth': 3.9381330381001916}. Best is trial 73 with value: 0.9733333333333333.\u001b[0m\n",
      "\u001b[32m[I 2023-05-06 06:23:26,519]\u001b[0m Trial 97 finished with value: 0.9666666666666667 and parameters: {'n_estimators': 10, 'max_depth': 5.874930141099155}. Best is trial 73 with value: 0.9733333333333333.\u001b[0m\n",
      "\u001b[32m[I 2023-05-06 06:23:26,581]\u001b[0m Trial 98 finished with value: 0.9533333333333333 and parameters: {'n_estimators': 8, 'max_depth': 4.766431053016702}. Best is trial 73 with value: 0.9733333333333333.\u001b[0m\n",
      "\u001b[32m[I 2023-05-06 06:23:26,635]\u001b[0m Trial 99 finished with value: 0.9533333333333333 and parameters: {'n_estimators': 7, 'max_depth': 2.5539187512434336}. Best is trial 73 with value: 0.9733333333333333.\u001b[0m\n"
     ]
    },
    {
     "name": "stdout",
     "output_type": "stream",
     "text": [
      "Accuracy: 0.9733333333333333\n",
      "Best hyperparameters: {'n_estimators': 12, 'max_depth': 4.490459807827673}\n"
     ]
    }
   ],
   "source": [
    "def objective(trial):\n",
    "    iris = sklearn.datasets.load_iris()\n",
    "    \n",
    "    n_estimators = trial.suggest_int('n_estimators', 2, 20)\n",
    "    max_depth = int(trial.suggest_float('max_depth', 1, 32, log=True))\n",
    "    \n",
    "    clf = sklearn.ensemble.RandomForestClassifier(\n",
    "        n_estimators=n_estimators, max_depth=max_depth)\n",
    "    \n",
    "    return sklearn.model_selection.cross_val_score(\n",
    "        clf, iris.data, iris.target, n_jobs=-1, cv=3).mean()\n",
    "\n",
    "study = optuna.create_study(direction='maximize')\n",
    "study.optimize(objective, n_trials=100)\n",
    "\n",
    "trial = study.best_trial\n",
    "\n",
    "print('Accuracy: {}'.format(trial.value))\n",
    "print(\"Best hyperparameters: {}\".format(trial.params))"
   ]
  },
  {
   "cell_type": "code",
   "execution_count": 7,
   "metadata": {},
   "outputs": [
    {
     "data": {
      "application/vnd.plotly.v1+json": {
       "config": {
        "plotlyServerURL": "https://plot.ly"
       },
       "data": [
        {
         "mode": "markers",
         "name": "Objective Value",
         "type": "scatter",
         "x": [
          0,
          1,
          2,
          3,
          4,
          5,
          6,
          7,
          8,
          9,
          10,
          11,
          12,
          13,
          14,
          15,
          16,
          17,
          18,
          19,
          20,
          21,
          22,
          23,
          24,
          25,
          26,
          27,
          28,
          29,
          30,
          31,
          32,
          33,
          34,
          35,
          36,
          37,
          38,
          39,
          40,
          41,
          42,
          43,
          44,
          45,
          46,
          47,
          48,
          49,
          50,
          51,
          52,
          53,
          54,
          55,
          56,
          57,
          58,
          59,
          60,
          61,
          62,
          63,
          64,
          65,
          66,
          67,
          68,
          69,
          70,
          71,
          72,
          73,
          74,
          75,
          76,
          77,
          78,
          79,
          80,
          81,
          82,
          83,
          84,
          85,
          86,
          87,
          88,
          89,
          90,
          91,
          92,
          93,
          94,
          95,
          96,
          97,
          98,
          99
         ],
         "y": [
          0.9666666666666667,
          0.9533333333333333,
          0.96,
          0.9466666666666667,
          0.96,
          0.96,
          0.9533333333333333,
          0.9199999999999999,
          0.94,
          0.9666666666666667,
          0.9466666666666667,
          0.9533333333333333,
          0.96,
          0.9666666666666667,
          0.9666666666666667,
          0.9533333333333333,
          0.9666666666666667,
          0.66,
          0.96,
          0.9666666666666667,
          0.9666666666666667,
          0.96,
          0.96,
          0.96,
          0.96,
          0.9666666666666667,
          0.9666666666666667,
          0.9533333333333333,
          0.9666666666666667,
          0.96,
          0.96,
          0.9533333333333333,
          0.9666666666666667,
          0.9533333333333333,
          0.9666666666666667,
          0.9533333333333333,
          0.9666666666666667,
          0.9466666666666667,
          0.94,
          0.9466666666666667,
          0.96,
          0.9533333333333333,
          0.9533333333333333,
          0.96,
          0.9666666666666667,
          0.9466666666666667,
          0.96,
          0.9533333333333333,
          0.96,
          0.96,
          0.9466666666666667,
          0.94,
          0.9533333333333333,
          0.9666666666666667,
          0.96,
          0.9533333333333333,
          0.9666666666666667,
          0.96,
          0.9266666666666666,
          0.96,
          0.9533333333333333,
          0.96,
          0.9466666666666667,
          0.9466666666666667,
          0.9666666666666667,
          0.9733333333333333,
          0.9666666666666667,
          0.96,
          0.9533333333333333,
          0.9466666666666667,
          0.9533333333333333,
          0.9666666666666667,
          0.96,
          0.9533333333333333,
          0.9666666666666667,
          0.9666666666666667,
          0.9666666666666667,
          0.96,
          0.96,
          0.96,
          0.96,
          0.9466666666666667,
          0.96,
          0.9466666666666667,
          0.9533333333333333,
          0.9666666666666667,
          0.9666666666666667,
          0.96,
          0.9533333333333333,
          0.96,
          0.9466666666666667,
          0.9666666666666667,
          0.9533333333333333,
          0.9333333333333332,
          0.96,
          0.96,
          0.9533333333333333,
          0.9666666666666667,
          0.96,
          0.9666666666666667
         ]
        },
        {
         "name": "Best Value",
         "type": "scatter",
         "x": [
          0,
          1,
          2,
          3,
          4,
          5,
          6,
          7,
          8,
          9,
          10,
          11,
          12,
          13,
          14,
          15,
          16,
          17,
          18,
          19,
          20,
          21,
          22,
          23,
          24,
          25,
          26,
          27,
          28,
          29,
          30,
          31,
          32,
          33,
          34,
          35,
          36,
          37,
          38,
          39,
          40,
          41,
          42,
          43,
          44,
          45,
          46,
          47,
          48,
          49,
          50,
          51,
          52,
          53,
          54,
          55,
          56,
          57,
          58,
          59,
          60,
          61,
          62,
          63,
          64,
          65,
          66,
          67,
          68,
          69,
          70,
          71,
          72,
          73,
          74,
          75,
          76,
          77,
          78,
          79,
          80,
          81,
          82,
          83,
          84,
          85,
          86,
          87,
          88,
          89,
          90,
          91,
          92,
          93,
          94,
          95,
          96,
          97,
          98,
          99
         ],
         "y": [
          0.9666666666666667,
          0.9666666666666667,
          0.9666666666666667,
          0.9666666666666667,
          0.9666666666666667,
          0.9666666666666667,
          0.9666666666666667,
          0.9666666666666667,
          0.9666666666666667,
          0.9666666666666667,
          0.9666666666666667,
          0.9666666666666667,
          0.9666666666666667,
          0.9666666666666667,
          0.9666666666666667,
          0.9666666666666667,
          0.9666666666666667,
          0.9666666666666667,
          0.9666666666666667,
          0.9666666666666667,
          0.9666666666666667,
          0.9666666666666667,
          0.9666666666666667,
          0.9666666666666667,
          0.9666666666666667,
          0.9666666666666667,
          0.9666666666666667,
          0.9666666666666667,
          0.9666666666666667,
          0.9666666666666667,
          0.9666666666666667,
          0.9666666666666667,
          0.9666666666666667,
          0.9666666666666667,
          0.9666666666666667,
          0.9666666666666667,
          0.9666666666666667,
          0.9666666666666667,
          0.9666666666666667,
          0.9666666666666667,
          0.9666666666666667,
          0.9666666666666667,
          0.9666666666666667,
          0.9666666666666667,
          0.9666666666666667,
          0.9666666666666667,
          0.9666666666666667,
          0.9666666666666667,
          0.9666666666666667,
          0.9666666666666667,
          0.9666666666666667,
          0.9666666666666667,
          0.9666666666666667,
          0.9666666666666667,
          0.9666666666666667,
          0.9666666666666667,
          0.9666666666666667,
          0.9666666666666667,
          0.9666666666666667,
          0.9666666666666667,
          0.9666666666666667,
          0.9666666666666667,
          0.9666666666666667,
          0.9666666666666667,
          0.9666666666666667,
          0.9733333333333333,
          0.9733333333333333,
          0.9733333333333333,
          0.9733333333333333,
          0.9733333333333333,
          0.9733333333333333,
          0.9733333333333333,
          0.9733333333333333,
          0.9733333333333333,
          0.9733333333333333,
          0.9733333333333333,
          0.9733333333333333,
          0.9733333333333333,
          0.9733333333333333,
          0.9733333333333333,
          0.9733333333333333,
          0.9733333333333333,
          0.9733333333333333,
          0.9733333333333333,
          0.9733333333333333,
          0.9733333333333333,
          0.9733333333333333,
          0.9733333333333333,
          0.9733333333333333,
          0.9733333333333333,
          0.9733333333333333,
          0.9733333333333333,
          0.9733333333333333,
          0.9733333333333333,
          0.9733333333333333,
          0.9733333333333333,
          0.9733333333333333,
          0.9733333333333333,
          0.9733333333333333,
          0.9733333333333333
         ]
        }
       ],
       "layout": {
        "template": {
         "data": {
          "bar": [
           {
            "error_x": {
             "color": "#2a3f5f"
            },
            "error_y": {
             "color": "#2a3f5f"
            },
            "marker": {
             "line": {
              "color": "#E5ECF6",
              "width": 0.5
             },
             "pattern": {
              "fillmode": "overlay",
              "size": 10,
              "solidity": 0.2
             }
            },
            "type": "bar"
           }
          ],
          "barpolar": [
           {
            "marker": {
             "line": {
              "color": "#E5ECF6",
              "width": 0.5
             },
             "pattern": {
              "fillmode": "overlay",
              "size": 10,
              "solidity": 0.2
             }
            },
            "type": "barpolar"
           }
          ],
          "carpet": [
           {
            "aaxis": {
             "endlinecolor": "#2a3f5f",
             "gridcolor": "white",
             "linecolor": "white",
             "minorgridcolor": "white",
             "startlinecolor": "#2a3f5f"
            },
            "baxis": {
             "endlinecolor": "#2a3f5f",
             "gridcolor": "white",
             "linecolor": "white",
             "minorgridcolor": "white",
             "startlinecolor": "#2a3f5f"
            },
            "type": "carpet"
           }
          ],
          "choropleth": [
           {
            "colorbar": {
             "outlinewidth": 0,
             "ticks": ""
            },
            "type": "choropleth"
           }
          ],
          "contour": [
           {
            "colorbar": {
             "outlinewidth": 0,
             "ticks": ""
            },
            "colorscale": [
             [
              0,
              "#0d0887"
             ],
             [
              0.1111111111111111,
              "#46039f"
             ],
             [
              0.2222222222222222,
              "#7201a8"
             ],
             [
              0.3333333333333333,
              "#9c179e"
             ],
             [
              0.4444444444444444,
              "#bd3786"
             ],
             [
              0.5555555555555556,
              "#d8576b"
             ],
             [
              0.6666666666666666,
              "#ed7953"
             ],
             [
              0.7777777777777778,
              "#fb9f3a"
             ],
             [
              0.8888888888888888,
              "#fdca26"
             ],
             [
              1,
              "#f0f921"
             ]
            ],
            "type": "contour"
           }
          ],
          "contourcarpet": [
           {
            "colorbar": {
             "outlinewidth": 0,
             "ticks": ""
            },
            "type": "contourcarpet"
           }
          ],
          "heatmap": [
           {
            "colorbar": {
             "outlinewidth": 0,
             "ticks": ""
            },
            "colorscale": [
             [
              0,
              "#0d0887"
             ],
             [
              0.1111111111111111,
              "#46039f"
             ],
             [
              0.2222222222222222,
              "#7201a8"
             ],
             [
              0.3333333333333333,
              "#9c179e"
             ],
             [
              0.4444444444444444,
              "#bd3786"
             ],
             [
              0.5555555555555556,
              "#d8576b"
             ],
             [
              0.6666666666666666,
              "#ed7953"
             ],
             [
              0.7777777777777778,
              "#fb9f3a"
             ],
             [
              0.8888888888888888,
              "#fdca26"
             ],
             [
              1,
              "#f0f921"
             ]
            ],
            "type": "heatmap"
           }
          ],
          "heatmapgl": [
           {
            "colorbar": {
             "outlinewidth": 0,
             "ticks": ""
            },
            "colorscale": [
             [
              0,
              "#0d0887"
             ],
             [
              0.1111111111111111,
              "#46039f"
             ],
             [
              0.2222222222222222,
              "#7201a8"
             ],
             [
              0.3333333333333333,
              "#9c179e"
             ],
             [
              0.4444444444444444,
              "#bd3786"
             ],
             [
              0.5555555555555556,
              "#d8576b"
             ],
             [
              0.6666666666666666,
              "#ed7953"
             ],
             [
              0.7777777777777778,
              "#fb9f3a"
             ],
             [
              0.8888888888888888,
              "#fdca26"
             ],
             [
              1,
              "#f0f921"
             ]
            ],
            "type": "heatmapgl"
           }
          ],
          "histogram": [
           {
            "marker": {
             "pattern": {
              "fillmode": "overlay",
              "size": 10,
              "solidity": 0.2
             }
            },
            "type": "histogram"
           }
          ],
          "histogram2d": [
           {
            "colorbar": {
             "outlinewidth": 0,
             "ticks": ""
            },
            "colorscale": [
             [
              0,
              "#0d0887"
             ],
             [
              0.1111111111111111,
              "#46039f"
             ],
             [
              0.2222222222222222,
              "#7201a8"
             ],
             [
              0.3333333333333333,
              "#9c179e"
             ],
             [
              0.4444444444444444,
              "#bd3786"
             ],
             [
              0.5555555555555556,
              "#d8576b"
             ],
             [
              0.6666666666666666,
              "#ed7953"
             ],
             [
              0.7777777777777778,
              "#fb9f3a"
             ],
             [
              0.8888888888888888,
              "#fdca26"
             ],
             [
              1,
              "#f0f921"
             ]
            ],
            "type": "histogram2d"
           }
          ],
          "histogram2dcontour": [
           {
            "colorbar": {
             "outlinewidth": 0,
             "ticks": ""
            },
            "colorscale": [
             [
              0,
              "#0d0887"
             ],
             [
              0.1111111111111111,
              "#46039f"
             ],
             [
              0.2222222222222222,
              "#7201a8"
             ],
             [
              0.3333333333333333,
              "#9c179e"
             ],
             [
              0.4444444444444444,
              "#bd3786"
             ],
             [
              0.5555555555555556,
              "#d8576b"
             ],
             [
              0.6666666666666666,
              "#ed7953"
             ],
             [
              0.7777777777777778,
              "#fb9f3a"
             ],
             [
              0.8888888888888888,
              "#fdca26"
             ],
             [
              1,
              "#f0f921"
             ]
            ],
            "type": "histogram2dcontour"
           }
          ],
          "mesh3d": [
           {
            "colorbar": {
             "outlinewidth": 0,
             "ticks": ""
            },
            "type": "mesh3d"
           }
          ],
          "parcoords": [
           {
            "line": {
             "colorbar": {
              "outlinewidth": 0,
              "ticks": ""
             }
            },
            "type": "parcoords"
           }
          ],
          "pie": [
           {
            "automargin": true,
            "type": "pie"
           }
          ],
          "scatter": [
           {
            "fillpattern": {
             "fillmode": "overlay",
             "size": 10,
             "solidity": 0.2
            },
            "type": "scatter"
           }
          ],
          "scatter3d": [
           {
            "line": {
             "colorbar": {
              "outlinewidth": 0,
              "ticks": ""
             }
            },
            "marker": {
             "colorbar": {
              "outlinewidth": 0,
              "ticks": ""
             }
            },
            "type": "scatter3d"
           }
          ],
          "scattercarpet": [
           {
            "marker": {
             "colorbar": {
              "outlinewidth": 0,
              "ticks": ""
             }
            },
            "type": "scattercarpet"
           }
          ],
          "scattergeo": [
           {
            "marker": {
             "colorbar": {
              "outlinewidth": 0,
              "ticks": ""
             }
            },
            "type": "scattergeo"
           }
          ],
          "scattergl": [
           {
            "marker": {
             "colorbar": {
              "outlinewidth": 0,
              "ticks": ""
             }
            },
            "type": "scattergl"
           }
          ],
          "scattermapbox": [
           {
            "marker": {
             "colorbar": {
              "outlinewidth": 0,
              "ticks": ""
             }
            },
            "type": "scattermapbox"
           }
          ],
          "scatterpolar": [
           {
            "marker": {
             "colorbar": {
              "outlinewidth": 0,
              "ticks": ""
             }
            },
            "type": "scatterpolar"
           }
          ],
          "scatterpolargl": [
           {
            "marker": {
             "colorbar": {
              "outlinewidth": 0,
              "ticks": ""
             }
            },
            "type": "scatterpolargl"
           }
          ],
          "scatterternary": [
           {
            "marker": {
             "colorbar": {
              "outlinewidth": 0,
              "ticks": ""
             }
            },
            "type": "scatterternary"
           }
          ],
          "surface": [
           {
            "colorbar": {
             "outlinewidth": 0,
             "ticks": ""
            },
            "colorscale": [
             [
              0,
              "#0d0887"
             ],
             [
              0.1111111111111111,
              "#46039f"
             ],
             [
              0.2222222222222222,
              "#7201a8"
             ],
             [
              0.3333333333333333,
              "#9c179e"
             ],
             [
              0.4444444444444444,
              "#bd3786"
             ],
             [
              0.5555555555555556,
              "#d8576b"
             ],
             [
              0.6666666666666666,
              "#ed7953"
             ],
             [
              0.7777777777777778,
              "#fb9f3a"
             ],
             [
              0.8888888888888888,
              "#fdca26"
             ],
             [
              1,
              "#f0f921"
             ]
            ],
            "type": "surface"
           }
          ],
          "table": [
           {
            "cells": {
             "fill": {
              "color": "#EBF0F8"
             },
             "line": {
              "color": "white"
             }
            },
            "header": {
             "fill": {
              "color": "#C8D4E3"
             },
             "line": {
              "color": "white"
             }
            },
            "type": "table"
           }
          ]
         },
         "layout": {
          "annotationdefaults": {
           "arrowcolor": "#2a3f5f",
           "arrowhead": 0,
           "arrowwidth": 1
          },
          "autotypenumbers": "strict",
          "coloraxis": {
           "colorbar": {
            "outlinewidth": 0,
            "ticks": ""
           }
          },
          "colorscale": {
           "diverging": [
            [
             0,
             "#8e0152"
            ],
            [
             0.1,
             "#c51b7d"
            ],
            [
             0.2,
             "#de77ae"
            ],
            [
             0.3,
             "#f1b6da"
            ],
            [
             0.4,
             "#fde0ef"
            ],
            [
             0.5,
             "#f7f7f7"
            ],
            [
             0.6,
             "#e6f5d0"
            ],
            [
             0.7,
             "#b8e186"
            ],
            [
             0.8,
             "#7fbc41"
            ],
            [
             0.9,
             "#4d9221"
            ],
            [
             1,
             "#276419"
            ]
           ],
           "sequential": [
            [
             0,
             "#0d0887"
            ],
            [
             0.1111111111111111,
             "#46039f"
            ],
            [
             0.2222222222222222,
             "#7201a8"
            ],
            [
             0.3333333333333333,
             "#9c179e"
            ],
            [
             0.4444444444444444,
             "#bd3786"
            ],
            [
             0.5555555555555556,
             "#d8576b"
            ],
            [
             0.6666666666666666,
             "#ed7953"
            ],
            [
             0.7777777777777778,
             "#fb9f3a"
            ],
            [
             0.8888888888888888,
             "#fdca26"
            ],
            [
             1,
             "#f0f921"
            ]
           ],
           "sequentialminus": [
            [
             0,
             "#0d0887"
            ],
            [
             0.1111111111111111,
             "#46039f"
            ],
            [
             0.2222222222222222,
             "#7201a8"
            ],
            [
             0.3333333333333333,
             "#9c179e"
            ],
            [
             0.4444444444444444,
             "#bd3786"
            ],
            [
             0.5555555555555556,
             "#d8576b"
            ],
            [
             0.6666666666666666,
             "#ed7953"
            ],
            [
             0.7777777777777778,
             "#fb9f3a"
            ],
            [
             0.8888888888888888,
             "#fdca26"
            ],
            [
             1,
             "#f0f921"
            ]
           ]
          },
          "colorway": [
           "#636efa",
           "#EF553B",
           "#00cc96",
           "#ab63fa",
           "#FFA15A",
           "#19d3f3",
           "#FF6692",
           "#B6E880",
           "#FF97FF",
           "#FECB52"
          ],
          "font": {
           "color": "#2a3f5f"
          },
          "geo": {
           "bgcolor": "white",
           "lakecolor": "white",
           "landcolor": "#E5ECF6",
           "showlakes": true,
           "showland": true,
           "subunitcolor": "white"
          },
          "hoverlabel": {
           "align": "left"
          },
          "hovermode": "closest",
          "mapbox": {
           "style": "light"
          },
          "paper_bgcolor": "white",
          "plot_bgcolor": "#E5ECF6",
          "polar": {
           "angularaxis": {
            "gridcolor": "white",
            "linecolor": "white",
            "ticks": ""
           },
           "bgcolor": "#E5ECF6",
           "radialaxis": {
            "gridcolor": "white",
            "linecolor": "white",
            "ticks": ""
           }
          },
          "scene": {
           "xaxis": {
            "backgroundcolor": "#E5ECF6",
            "gridcolor": "white",
            "gridwidth": 2,
            "linecolor": "white",
            "showbackground": true,
            "ticks": "",
            "zerolinecolor": "white"
           },
           "yaxis": {
            "backgroundcolor": "#E5ECF6",
            "gridcolor": "white",
            "gridwidth": 2,
            "linecolor": "white",
            "showbackground": true,
            "ticks": "",
            "zerolinecolor": "white"
           },
           "zaxis": {
            "backgroundcolor": "#E5ECF6",
            "gridcolor": "white",
            "gridwidth": 2,
            "linecolor": "white",
            "showbackground": true,
            "ticks": "",
            "zerolinecolor": "white"
           }
          },
          "shapedefaults": {
           "line": {
            "color": "#2a3f5f"
           }
          },
          "ternary": {
           "aaxis": {
            "gridcolor": "white",
            "linecolor": "white",
            "ticks": ""
           },
           "baxis": {
            "gridcolor": "white",
            "linecolor": "white",
            "ticks": ""
           },
           "bgcolor": "#E5ECF6",
           "caxis": {
            "gridcolor": "white",
            "linecolor": "white",
            "ticks": ""
           }
          },
          "title": {
           "x": 0.05
          },
          "xaxis": {
           "automargin": true,
           "gridcolor": "white",
           "linecolor": "white",
           "ticks": "",
           "title": {
            "standoff": 15
           },
           "zerolinecolor": "white",
           "zerolinewidth": 2
          },
          "yaxis": {
           "automargin": true,
           "gridcolor": "white",
           "linecolor": "white",
           "ticks": "",
           "title": {
            "standoff": 15
           },
           "zerolinecolor": "white",
           "zerolinewidth": 2
          }
         }
        },
        "title": {
         "text": "Optimization History Plot"
        },
        "xaxis": {
         "title": {
          "text": "Trial"
         }
        },
        "yaxis": {
         "title": {
          "text": "Objective Value"
         }
        }
       }
      }
     },
     "metadata": {},
     "output_type": "display_data"
    }
   ],
   "source": [
    "optuna.visualization.plot_optimization_history(study)"
   ]
  },
  {
   "cell_type": "code",
   "execution_count": 8,
   "metadata": {},
   "outputs": [
    {
     "data": {
      "application/vnd.plotly.v1+json": {
       "config": {
        "plotlyServerURL": "https://plot.ly"
       },
       "data": [
        {
         "marker": {
          "color": [
           0,
           1,
           2,
           3,
           4,
           5,
           6,
           7,
           8,
           9,
           10,
           11,
           12,
           13,
           14,
           15,
           16,
           17,
           18,
           19,
           20,
           21,
           22,
           23,
           24,
           25,
           26,
           27,
           28,
           29,
           30,
           31,
           32,
           33,
           34,
           35,
           36,
           37,
           38,
           39,
           40,
           41,
           42,
           43,
           44,
           45,
           46,
           47,
           48,
           49,
           50,
           51,
           52,
           53,
           54,
           55,
           56,
           57,
           58,
           59,
           60,
           61,
           62,
           63,
           64,
           65,
           66,
           67,
           68,
           69,
           70,
           71,
           72,
           73,
           74,
           75,
           76,
           77,
           78,
           79,
           80,
           81,
           82,
           83,
           84,
           85,
           86,
           87,
           88,
           89,
           90,
           91,
           92,
           93,
           94,
           95,
           96,
           97,
           98,
           99
          ],
          "colorbar": {
           "title": {
            "text": "Trial"
           },
           "x": 1,
           "xpad": 40
          },
          "colorscale": [
           [
            0,
            "rgb(247,251,255)"
           ],
           [
            0.125,
            "rgb(222,235,247)"
           ],
           [
            0.25,
            "rgb(198,219,239)"
           ],
           [
            0.375,
            "rgb(158,202,225)"
           ],
           [
            0.5,
            "rgb(107,174,214)"
           ],
           [
            0.625,
            "rgb(66,146,198)"
           ],
           [
            0.75,
            "rgb(33,113,181)"
           ],
           [
            0.875,
            "rgb(8,81,156)"
           ],
           [
            1,
            "rgb(8,48,107)"
           ]
          ],
          "line": {
           "color": "Grey",
           "width": 0.5
          },
          "showscale": true
         },
         "mode": "markers",
         "showlegend": false,
         "type": "scatter",
         "x": [
          11.103024875687456,
          19.37186098632145,
          12.984089000856496,
          15.049513619772489,
          1.6830776565363519,
          4.203454504155698,
          4.358603720012281,
          1.8471414539962416,
          30.359051976025665,
          7.215679878616114,
          8.183935099927984,
          6.962031732111057,
          9.334683350820526,
          5.063227875741023,
          3.026975277216243,
          11.620837619489505,
          6.6469414891223995,
          1.0693461847231125,
          9.119755861599971,
          19.015892520415367,
          5.925127113341414,
          4.4372017402794635,
          9.833084936033753,
          5.800270758029982,
          7.357758106663802,
          11.018034950537505,
          4.868519698340214,
          3.289820537727741,
          8.125338886969663,
          15.603805848584186,
          5.723969935507925,
          3.9762615564328034,
          3.2976053346407634,
          12.93921956506717,
          3.0693704525327132,
          5.25101439280781,
          6.871835463820829,
          2.7073268927734984,
          2.389896730592488,
          3.8166941270980814,
          5.068319550456286,
          6.390300542593111,
          7.717476360318786,
          6.797651756187942,
          4.959187978596134,
          9.101760195013545,
          10.52894209755397,
          6.247164164423148,
          8.476365136856352,
          4.343911892620264,
          12.329196788475803,
          22.501291472948505,
          13.416936297851368,
          16.94806693764645,
          7.92853861543846,
          10.32168564253788,
          19.633266446037773,
          9.364089251952608,
          5.7420886465828165,
          7.277611503260899,
          11.441476147736891,
          6.129050665361263,
          5.334737508474816,
          4.525006207988432,
          8.542270850295811,
          7.00419688529958,
          6.823211083348897,
          7.536149898819352,
          10.409331804767302,
          3.802378723765806,
          14.124858426413473,
          5.527684171986348,
          6.241787565775667,
          8.678300329889948,
          4.58862915727576,
          9.817659493959564,
          7.3395669466108036,
          5.009559305978066,
          5.777818071061996,
          6.789955336145924,
          12.014009748192855,
          7.866768457186083,
          8.491875703582727,
          11.518540648810843,
          6.62643276610234,
          5.99179305678057,
          9.360549979250338,
          4.129920579781043,
          5.523511584354126,
          7.327515653095146,
          15.026674869299262,
          4.827386676833755,
          4.777064400703086,
          5.152546568732742,
          6.7385691804457775,
          6.259608473543833,
          7.8844149137643535,
          5.463854936052602,
          10.955769388943057,
          4.138674085031833
         ],
         "xaxis": "x",
         "y": [
          0.9666666666666667,
          0.9533333333333333,
          0.96,
          0.9466666666666667,
          0.96,
          0.96,
          0.9533333333333333,
          0.9199999999999999,
          0.94,
          0.9666666666666667,
          0.9466666666666667,
          0.9533333333333333,
          0.96,
          0.9666666666666667,
          0.9666666666666667,
          0.9533333333333333,
          0.9666666666666667,
          0.66,
          0.96,
          0.9666666666666667,
          0.9666666666666667,
          0.96,
          0.96,
          0.96,
          0.96,
          0.9666666666666667,
          0.9666666666666667,
          0.9533333333333333,
          0.9666666666666667,
          0.96,
          0.96,
          0.9533333333333333,
          0.9666666666666667,
          0.9533333333333333,
          0.9666666666666667,
          0.9533333333333333,
          0.9666666666666667,
          0.9466666666666667,
          0.94,
          0.9466666666666667,
          0.96,
          0.9533333333333333,
          0.9533333333333333,
          0.96,
          0.9666666666666667,
          0.9466666666666667,
          0.96,
          0.9533333333333333,
          0.96,
          0.96,
          0.9466666666666667,
          0.94,
          0.9533333333333333,
          0.9666666666666667,
          0.96,
          0.9533333333333333,
          0.9666666666666667,
          0.96,
          0.9266666666666666,
          0.96,
          0.9533333333333333,
          0.96,
          0.9466666666666667,
          0.9466666666666667,
          0.9666666666666667,
          0.9733333333333333,
          0.9666666666666667,
          0.96,
          0.9533333333333333,
          0.9466666666666667,
          0.9533333333333333,
          0.9666666666666667,
          0.96,
          0.9533333333333333,
          0.9666666666666667,
          0.9666666666666667,
          0.9666666666666667,
          0.96,
          0.96,
          0.96,
          0.96,
          0.9466666666666667,
          0.96,
          0.9466666666666667,
          0.9533333333333333,
          0.9666666666666667,
          0.9666666666666667,
          0.96,
          0.9533333333333333,
          0.96,
          0.9466666666666667,
          0.9666666666666667,
          0.9533333333333333,
          0.9333333333333332,
          0.96,
          0.96,
          0.9533333333333333,
          0.9666666666666667,
          0.96,
          0.9666666666666667
         ],
         "yaxis": "y"
        },
        {
         "marker": {
          "color": [
           0,
           1,
           2,
           3,
           4,
           5,
           6,
           7,
           8,
           9,
           10,
           11,
           12,
           13,
           14,
           15,
           16,
           17,
           18,
           19,
           20,
           21,
           22,
           23,
           24,
           25,
           26,
           27,
           28,
           29,
           30,
           31,
           32,
           33,
           34,
           35,
           36,
           37,
           38,
           39,
           40,
           41,
           42,
           43,
           44,
           45,
           46,
           47,
           48,
           49,
           50,
           51,
           52,
           53,
           54,
           55,
           56,
           57,
           58,
           59,
           60,
           61,
           62,
           63,
           64,
           65,
           66,
           67,
           68,
           69,
           70,
           71,
           72,
           73,
           74,
           75,
           76,
           77,
           78,
           79,
           80,
           81,
           82,
           83,
           84,
           85,
           86,
           87,
           88,
           89,
           90,
           91,
           92,
           93,
           94,
           95,
           96,
           97,
           98,
           99
          ],
          "colorbar": {
           "title": {
            "text": "Trial"
           },
           "x": 1,
           "xpad": 40
          },
          "colorscale": [
           [
            0,
            "rgb(247,251,255)"
           ],
           [
            0.125,
            "rgb(222,235,247)"
           ],
           [
            0.25,
            "rgb(198,219,239)"
           ],
           [
            0.375,
            "rgb(158,202,225)"
           ],
           [
            0.5,
            "rgb(107,174,214)"
           ],
           [
            0.625,
            "rgb(66,146,198)"
           ],
           [
            0.75,
            "rgb(33,113,181)"
           ],
           [
            0.875,
            "rgb(8,81,156)"
           ],
           [
            1,
            "rgb(8,48,107)"
           ]
          ],
          "line": {
           "color": "Grey",
           "width": 0.5
          },
          "showscale": false
         },
         "mode": "markers",
         "showlegend": false,
         "type": "scatter",
         "x": [
          14,
          20,
          16,
          7,
          13,
          18,
          10,
          8,
          3,
          19,
          14,
          20,
          15,
          17,
          12,
          18,
          10,
          2,
          16,
          5,
          19,
          17,
          14,
          17,
          12,
          15,
          18,
          16,
          20,
          19,
          14,
          12,
          11,
          9,
          13,
          17,
          15,
          12,
          7,
          16,
          19,
          10,
          10,
          13,
          8,
          11,
          9,
          6,
          20,
          13,
          18,
          4,
          14,
          6,
          5,
          11,
          17,
          15,
          2,
          19,
          3,
          19,
          20,
          17,
          18,
          16,
          16,
          14,
          15,
          16,
          12,
          19,
          17,
          18,
          13,
          18,
          19,
          16,
          9,
          15,
          8,
          14,
          15,
          12,
          10,
          16,
          17,
          14,
          13,
          7,
          18,
          20,
          11,
          17,
          16,
          19,
          18,
          15,
          18,
          3
         ],
         "xaxis": "x2",
         "y": [
          0.9666666666666667,
          0.9533333333333333,
          0.96,
          0.9466666666666667,
          0.96,
          0.96,
          0.9533333333333333,
          0.9199999999999999,
          0.94,
          0.9666666666666667,
          0.9466666666666667,
          0.9533333333333333,
          0.96,
          0.9666666666666667,
          0.9666666666666667,
          0.9533333333333333,
          0.9666666666666667,
          0.66,
          0.96,
          0.9666666666666667,
          0.9666666666666667,
          0.96,
          0.96,
          0.96,
          0.96,
          0.9666666666666667,
          0.9666666666666667,
          0.9533333333333333,
          0.9666666666666667,
          0.96,
          0.96,
          0.9533333333333333,
          0.9666666666666667,
          0.9533333333333333,
          0.9666666666666667,
          0.9533333333333333,
          0.9666666666666667,
          0.9466666666666667,
          0.94,
          0.9466666666666667,
          0.96,
          0.9533333333333333,
          0.9533333333333333,
          0.96,
          0.9666666666666667,
          0.9466666666666667,
          0.96,
          0.9533333333333333,
          0.96,
          0.96,
          0.9466666666666667,
          0.94,
          0.9533333333333333,
          0.9666666666666667,
          0.96,
          0.9533333333333333,
          0.9666666666666667,
          0.96,
          0.9266666666666666,
          0.96,
          0.9533333333333333,
          0.96,
          0.9466666666666667,
          0.9466666666666667,
          0.9666666666666667,
          0.9733333333333333,
          0.9666666666666667,
          0.96,
          0.9533333333333333,
          0.9466666666666667,
          0.9533333333333333,
          0.9666666666666667,
          0.96,
          0.9533333333333333,
          0.9666666666666667,
          0.9666666666666667,
          0.9666666666666667,
          0.96,
          0.96,
          0.96,
          0.96,
          0.9466666666666667,
          0.96,
          0.9466666666666667,
          0.9533333333333333,
          0.9666666666666667,
          0.9666666666666667,
          0.96,
          0.9533333333333333,
          0.96,
          0.9466666666666667,
          0.9666666666666667,
          0.9533333333333333,
          0.9333333333333332,
          0.96,
          0.96,
          0.9533333333333333,
          0.9666666666666667,
          0.96,
          0.9666666666666667
         ],
         "yaxis": "y2"
        }
       ],
       "layout": {
        "template": {
         "data": {
          "bar": [
           {
            "error_x": {
             "color": "#2a3f5f"
            },
            "error_y": {
             "color": "#2a3f5f"
            },
            "marker": {
             "line": {
              "color": "#E5ECF6",
              "width": 0.5
             },
             "pattern": {
              "fillmode": "overlay",
              "size": 10,
              "solidity": 0.2
             }
            },
            "type": "bar"
           }
          ],
          "barpolar": [
           {
            "marker": {
             "line": {
              "color": "#E5ECF6",
              "width": 0.5
             },
             "pattern": {
              "fillmode": "overlay",
              "size": 10,
              "solidity": 0.2
             }
            },
            "type": "barpolar"
           }
          ],
          "carpet": [
           {
            "aaxis": {
             "endlinecolor": "#2a3f5f",
             "gridcolor": "white",
             "linecolor": "white",
             "minorgridcolor": "white",
             "startlinecolor": "#2a3f5f"
            },
            "baxis": {
             "endlinecolor": "#2a3f5f",
             "gridcolor": "white",
             "linecolor": "white",
             "minorgridcolor": "white",
             "startlinecolor": "#2a3f5f"
            },
            "type": "carpet"
           }
          ],
          "choropleth": [
           {
            "colorbar": {
             "outlinewidth": 0,
             "ticks": ""
            },
            "type": "choropleth"
           }
          ],
          "contour": [
           {
            "colorbar": {
             "outlinewidth": 0,
             "ticks": ""
            },
            "colorscale": [
             [
              0,
              "#0d0887"
             ],
             [
              0.1111111111111111,
              "#46039f"
             ],
             [
              0.2222222222222222,
              "#7201a8"
             ],
             [
              0.3333333333333333,
              "#9c179e"
             ],
             [
              0.4444444444444444,
              "#bd3786"
             ],
             [
              0.5555555555555556,
              "#d8576b"
             ],
             [
              0.6666666666666666,
              "#ed7953"
             ],
             [
              0.7777777777777778,
              "#fb9f3a"
             ],
             [
              0.8888888888888888,
              "#fdca26"
             ],
             [
              1,
              "#f0f921"
             ]
            ],
            "type": "contour"
           }
          ],
          "contourcarpet": [
           {
            "colorbar": {
             "outlinewidth": 0,
             "ticks": ""
            },
            "type": "contourcarpet"
           }
          ],
          "heatmap": [
           {
            "colorbar": {
             "outlinewidth": 0,
             "ticks": ""
            },
            "colorscale": [
             [
              0,
              "#0d0887"
             ],
             [
              0.1111111111111111,
              "#46039f"
             ],
             [
              0.2222222222222222,
              "#7201a8"
             ],
             [
              0.3333333333333333,
              "#9c179e"
             ],
             [
              0.4444444444444444,
              "#bd3786"
             ],
             [
              0.5555555555555556,
              "#d8576b"
             ],
             [
              0.6666666666666666,
              "#ed7953"
             ],
             [
              0.7777777777777778,
              "#fb9f3a"
             ],
             [
              0.8888888888888888,
              "#fdca26"
             ],
             [
              1,
              "#f0f921"
             ]
            ],
            "type": "heatmap"
           }
          ],
          "heatmapgl": [
           {
            "colorbar": {
             "outlinewidth": 0,
             "ticks": ""
            },
            "colorscale": [
             [
              0,
              "#0d0887"
             ],
             [
              0.1111111111111111,
              "#46039f"
             ],
             [
              0.2222222222222222,
              "#7201a8"
             ],
             [
              0.3333333333333333,
              "#9c179e"
             ],
             [
              0.4444444444444444,
              "#bd3786"
             ],
             [
              0.5555555555555556,
              "#d8576b"
             ],
             [
              0.6666666666666666,
              "#ed7953"
             ],
             [
              0.7777777777777778,
              "#fb9f3a"
             ],
             [
              0.8888888888888888,
              "#fdca26"
             ],
             [
              1,
              "#f0f921"
             ]
            ],
            "type": "heatmapgl"
           }
          ],
          "histogram": [
           {
            "marker": {
             "pattern": {
              "fillmode": "overlay",
              "size": 10,
              "solidity": 0.2
             }
            },
            "type": "histogram"
           }
          ],
          "histogram2d": [
           {
            "colorbar": {
             "outlinewidth": 0,
             "ticks": ""
            },
            "colorscale": [
             [
              0,
              "#0d0887"
             ],
             [
              0.1111111111111111,
              "#46039f"
             ],
             [
              0.2222222222222222,
              "#7201a8"
             ],
             [
              0.3333333333333333,
              "#9c179e"
             ],
             [
              0.4444444444444444,
              "#bd3786"
             ],
             [
              0.5555555555555556,
              "#d8576b"
             ],
             [
              0.6666666666666666,
              "#ed7953"
             ],
             [
              0.7777777777777778,
              "#fb9f3a"
             ],
             [
              0.8888888888888888,
              "#fdca26"
             ],
             [
              1,
              "#f0f921"
             ]
            ],
            "type": "histogram2d"
           }
          ],
          "histogram2dcontour": [
           {
            "colorbar": {
             "outlinewidth": 0,
             "ticks": ""
            },
            "colorscale": [
             [
              0,
              "#0d0887"
             ],
             [
              0.1111111111111111,
              "#46039f"
             ],
             [
              0.2222222222222222,
              "#7201a8"
             ],
             [
              0.3333333333333333,
              "#9c179e"
             ],
             [
              0.4444444444444444,
              "#bd3786"
             ],
             [
              0.5555555555555556,
              "#d8576b"
             ],
             [
              0.6666666666666666,
              "#ed7953"
             ],
             [
              0.7777777777777778,
              "#fb9f3a"
             ],
             [
              0.8888888888888888,
              "#fdca26"
             ],
             [
              1,
              "#f0f921"
             ]
            ],
            "type": "histogram2dcontour"
           }
          ],
          "mesh3d": [
           {
            "colorbar": {
             "outlinewidth": 0,
             "ticks": ""
            },
            "type": "mesh3d"
           }
          ],
          "parcoords": [
           {
            "line": {
             "colorbar": {
              "outlinewidth": 0,
              "ticks": ""
             }
            },
            "type": "parcoords"
           }
          ],
          "pie": [
           {
            "automargin": true,
            "type": "pie"
           }
          ],
          "scatter": [
           {
            "fillpattern": {
             "fillmode": "overlay",
             "size": 10,
             "solidity": 0.2
            },
            "type": "scatter"
           }
          ],
          "scatter3d": [
           {
            "line": {
             "colorbar": {
              "outlinewidth": 0,
              "ticks": ""
             }
            },
            "marker": {
             "colorbar": {
              "outlinewidth": 0,
              "ticks": ""
             }
            },
            "type": "scatter3d"
           }
          ],
          "scattercarpet": [
           {
            "marker": {
             "colorbar": {
              "outlinewidth": 0,
              "ticks": ""
             }
            },
            "type": "scattercarpet"
           }
          ],
          "scattergeo": [
           {
            "marker": {
             "colorbar": {
              "outlinewidth": 0,
              "ticks": ""
             }
            },
            "type": "scattergeo"
           }
          ],
          "scattergl": [
           {
            "marker": {
             "colorbar": {
              "outlinewidth": 0,
              "ticks": ""
             }
            },
            "type": "scattergl"
           }
          ],
          "scattermapbox": [
           {
            "marker": {
             "colorbar": {
              "outlinewidth": 0,
              "ticks": ""
             }
            },
            "type": "scattermapbox"
           }
          ],
          "scatterpolar": [
           {
            "marker": {
             "colorbar": {
              "outlinewidth": 0,
              "ticks": ""
             }
            },
            "type": "scatterpolar"
           }
          ],
          "scatterpolargl": [
           {
            "marker": {
             "colorbar": {
              "outlinewidth": 0,
              "ticks": ""
             }
            },
            "type": "scatterpolargl"
           }
          ],
          "scatterternary": [
           {
            "marker": {
             "colorbar": {
              "outlinewidth": 0,
              "ticks": ""
             }
            },
            "type": "scatterternary"
           }
          ],
          "surface": [
           {
            "colorbar": {
             "outlinewidth": 0,
             "ticks": ""
            },
            "colorscale": [
             [
              0,
              "#0d0887"
             ],
             [
              0.1111111111111111,
              "#46039f"
             ],
             [
              0.2222222222222222,
              "#7201a8"
             ],
             [
              0.3333333333333333,
              "#9c179e"
             ],
             [
              0.4444444444444444,
              "#bd3786"
             ],
             [
              0.5555555555555556,
              "#d8576b"
             ],
             [
              0.6666666666666666,
              "#ed7953"
             ],
             [
              0.7777777777777778,
              "#fb9f3a"
             ],
             [
              0.8888888888888888,
              "#fdca26"
             ],
             [
              1,
              "#f0f921"
             ]
            ],
            "type": "surface"
           }
          ],
          "table": [
           {
            "cells": {
             "fill": {
              "color": "#EBF0F8"
             },
             "line": {
              "color": "white"
             }
            },
            "header": {
             "fill": {
              "color": "#C8D4E3"
             },
             "line": {
              "color": "white"
             }
            },
            "type": "table"
           }
          ]
         },
         "layout": {
          "annotationdefaults": {
           "arrowcolor": "#2a3f5f",
           "arrowhead": 0,
           "arrowwidth": 1
          },
          "autotypenumbers": "strict",
          "coloraxis": {
           "colorbar": {
            "outlinewidth": 0,
            "ticks": ""
           }
          },
          "colorscale": {
           "diverging": [
            [
             0,
             "#8e0152"
            ],
            [
             0.1,
             "#c51b7d"
            ],
            [
             0.2,
             "#de77ae"
            ],
            [
             0.3,
             "#f1b6da"
            ],
            [
             0.4,
             "#fde0ef"
            ],
            [
             0.5,
             "#f7f7f7"
            ],
            [
             0.6,
             "#e6f5d0"
            ],
            [
             0.7,
             "#b8e186"
            ],
            [
             0.8,
             "#7fbc41"
            ],
            [
             0.9,
             "#4d9221"
            ],
            [
             1,
             "#276419"
            ]
           ],
           "sequential": [
            [
             0,
             "#0d0887"
            ],
            [
             0.1111111111111111,
             "#46039f"
            ],
            [
             0.2222222222222222,
             "#7201a8"
            ],
            [
             0.3333333333333333,
             "#9c179e"
            ],
            [
             0.4444444444444444,
             "#bd3786"
            ],
            [
             0.5555555555555556,
             "#d8576b"
            ],
            [
             0.6666666666666666,
             "#ed7953"
            ],
            [
             0.7777777777777778,
             "#fb9f3a"
            ],
            [
             0.8888888888888888,
             "#fdca26"
            ],
            [
             1,
             "#f0f921"
            ]
           ],
           "sequentialminus": [
            [
             0,
             "#0d0887"
            ],
            [
             0.1111111111111111,
             "#46039f"
            ],
            [
             0.2222222222222222,
             "#7201a8"
            ],
            [
             0.3333333333333333,
             "#9c179e"
            ],
            [
             0.4444444444444444,
             "#bd3786"
            ],
            [
             0.5555555555555556,
             "#d8576b"
            ],
            [
             0.6666666666666666,
             "#ed7953"
            ],
            [
             0.7777777777777778,
             "#fb9f3a"
            ],
            [
             0.8888888888888888,
             "#fdca26"
            ],
            [
             1,
             "#f0f921"
            ]
           ]
          },
          "colorway": [
           "#636efa",
           "#EF553B",
           "#00cc96",
           "#ab63fa",
           "#FFA15A",
           "#19d3f3",
           "#FF6692",
           "#B6E880",
           "#FF97FF",
           "#FECB52"
          ],
          "font": {
           "color": "#2a3f5f"
          },
          "geo": {
           "bgcolor": "white",
           "lakecolor": "white",
           "landcolor": "#E5ECF6",
           "showlakes": true,
           "showland": true,
           "subunitcolor": "white"
          },
          "hoverlabel": {
           "align": "left"
          },
          "hovermode": "closest",
          "mapbox": {
           "style": "light"
          },
          "paper_bgcolor": "white",
          "plot_bgcolor": "#E5ECF6",
          "polar": {
           "angularaxis": {
            "gridcolor": "white",
            "linecolor": "white",
            "ticks": ""
           },
           "bgcolor": "#E5ECF6",
           "radialaxis": {
            "gridcolor": "white",
            "linecolor": "white",
            "ticks": ""
           }
          },
          "scene": {
           "xaxis": {
            "backgroundcolor": "#E5ECF6",
            "gridcolor": "white",
            "gridwidth": 2,
            "linecolor": "white",
            "showbackground": true,
            "ticks": "",
            "zerolinecolor": "white"
           },
           "yaxis": {
            "backgroundcolor": "#E5ECF6",
            "gridcolor": "white",
            "gridwidth": 2,
            "linecolor": "white",
            "showbackground": true,
            "ticks": "",
            "zerolinecolor": "white"
           },
           "zaxis": {
            "backgroundcolor": "#E5ECF6",
            "gridcolor": "white",
            "gridwidth": 2,
            "linecolor": "white",
            "showbackground": true,
            "ticks": "",
            "zerolinecolor": "white"
           }
          },
          "shapedefaults": {
           "line": {
            "color": "#2a3f5f"
           }
          },
          "ternary": {
           "aaxis": {
            "gridcolor": "white",
            "linecolor": "white",
            "ticks": ""
           },
           "baxis": {
            "gridcolor": "white",
            "linecolor": "white",
            "ticks": ""
           },
           "bgcolor": "#E5ECF6",
           "caxis": {
            "gridcolor": "white",
            "linecolor": "white",
            "ticks": ""
           }
          },
          "title": {
           "x": 0.05
          },
          "xaxis": {
           "automargin": true,
           "gridcolor": "white",
           "linecolor": "white",
           "ticks": "",
           "title": {
            "standoff": 15
           },
           "zerolinecolor": "white",
           "zerolinewidth": 2
          },
          "yaxis": {
           "automargin": true,
           "gridcolor": "white",
           "linecolor": "white",
           "ticks": "",
           "title": {
            "standoff": 15
           },
           "zerolinecolor": "white",
           "zerolinewidth": 2
          }
         }
        },
        "title": {
         "text": "Slice Plot"
        },
        "xaxis": {
         "anchor": "y",
         "domain": [
          0,
          0.45
         ],
         "title": {
          "text": "max_depth"
         },
         "type": "log"
        },
        "xaxis2": {
         "anchor": "y2",
         "domain": [
          0.55,
          1
         ],
         "title": {
          "text": "n_estimators"
         }
        },
        "yaxis": {
         "anchor": "x",
         "domain": [
          0,
          1
         ],
         "title": {
          "text": "Objective Value"
         }
        },
        "yaxis2": {
         "anchor": "x2",
         "domain": [
          0,
          1
         ],
         "matches": "y",
         "showticklabels": false
        }
       }
      }
     },
     "metadata": {},
     "output_type": "display_data"
    }
   ],
   "source": [
    "optuna.visualization.plot_slice(study)"
   ]
  },
  {
   "cell_type": "code",
   "execution_count": 9,
   "metadata": {},
   "outputs": [
    {
     "data": {
      "application/vnd.plotly.v1+json": {
       "config": {
        "plotlyServerURL": "https://plot.ly"
       },
       "data": [
        {
         "colorbar": {
          "title": {
           "text": "Objective Value"
          }
         },
         "colorscale": [
          [
           0,
           "rgb(247,251,255)"
          ],
          [
           0.125,
           "rgb(222,235,247)"
          ],
          [
           0.25,
           "rgb(198,219,239)"
          ],
          [
           0.375,
           "rgb(158,202,225)"
          ],
          [
           0.5,
           "rgb(107,174,214)"
          ],
          [
           0.625,
           "rgb(66,146,198)"
          ],
          [
           0.75,
           "rgb(33,113,181)"
          ],
          [
           0.875,
           "rgb(8,81,156)"
          ],
          [
           1,
           "rgb(8,48,107)"
          ]
         ],
         "connectgaps": true,
         "contours": {
          "coloring": "heatmap"
         },
         "hoverinfo": "none",
         "line": {
          "smoothing": 1.3
         },
         "reversescale": false,
         "type": "contour",
         "x": [
          0.9046067628212656,
          1.0693461847231125,
          1.6830776565363519,
          1.8471414539962416,
          2.389896730592488,
          2.7073268927734984,
          3.026975277216243,
          3.0693704525327132,
          3.289820537727741,
          3.2976053346407634,
          3.802378723765806,
          3.8166941270980814,
          3.9762615564328034,
          4.129920579781043,
          4.138674085031833,
          4.203454504155698,
          4.343911892620264,
          4.358603720012281,
          4.4372017402794635,
          4.525006207988432,
          4.58862915727576,
          4.777064400703086,
          4.827386676833755,
          4.868519698340214,
          4.959187978596134,
          5.009559305978066,
          5.063227875741023,
          5.068319550456286,
          5.152546568732742,
          5.25101439280781,
          5.334737508474816,
          5.463854936052602,
          5.523511584354126,
          5.527684171986348,
          5.723969935507925,
          5.7420886465828165,
          5.777818071061996,
          5.800270758029982,
          5.925127113341414,
          5.99179305678057,
          6.129050665361263,
          6.241787565775667,
          6.247164164423148,
          6.259608473543833,
          6.390300542593111,
          6.62643276610234,
          6.6469414891223995,
          6.7385691804457775,
          6.789955336145924,
          6.797651756187942,
          6.823211083348897,
          6.871835463820829,
          6.962031732111057,
          7.00419688529958,
          7.215679878616114,
          7.277611503260899,
          7.327515653095146,
          7.3395669466108036,
          7.357758106663802,
          7.536149898819352,
          7.717476360318786,
          7.866768457186083,
          7.8844149137643535,
          7.92853861543846,
          8.125338886969663,
          8.183935099927984,
          8.476365136856352,
          8.491875703582727,
          8.542270850295811,
          8.678300329889948,
          9.101760195013545,
          9.119755861599971,
          9.334683350820526,
          9.360549979250338,
          9.364089251952608,
          9.817659493959564,
          9.833084936033753,
          10.32168564253788,
          10.409331804767302,
          10.52894209755397,
          10.955769388943057,
          11.018034950537505,
          11.103024875687456,
          11.441476147736891,
          11.518540648810843,
          11.620837619489505,
          12.014009748192855,
          12.329196788475803,
          12.93921956506717,
          12.984089000856496,
          13.416936297851368,
          14.124858426413473,
          15.026674869299262,
          15.049513619772489,
          15.603805848584186,
          16.94806693764645,
          19.015892520415367,
          19.37186098632145,
          19.633266446037773,
          22.501291472948505,
          30.359051976025665,
          35.88778874604555
         ],
         "y": [
          1.1,
          2,
          3,
          4,
          5,
          6,
          7,
          8,
          9,
          10,
          11,
          12,
          13,
          14,
          15,
          16,
          17,
          18,
          19,
          20,
          20.9
         ],
         "z": [
          [
           null,
           null,
           null,
           null,
           null,
           null,
           null,
           null,
           null,
           null,
           null,
           null,
           null,
           null,
           null,
           null,
           null,
           null,
           null,
           null,
           null,
           null,
           null,
           null,
           null,
           null,
           null,
           null,
           null,
           null,
           null,
           null,
           null,
           null,
           null,
           null,
           null,
           null,
           null,
           null,
           null,
           null,
           null,
           null,
           null,
           null,
           null,
           null,
           null,
           null,
           null,
           null,
           null,
           null,
           null,
           null,
           null,
           null,
           null,
           null,
           null,
           null,
           null,
           null,
           null,
           null,
           null,
           null,
           null,
           null,
           null,
           null,
           null,
           null,
           null,
           null,
           null,
           null,
           null,
           null,
           null,
           null,
           null,
           null,
           null,
           null,
           null,
           null,
           null,
           null,
           null,
           null,
           null,
           null,
           null,
           null,
           null,
           null,
           null,
           null,
           null,
           null
          ],
          [
           null,
           0.66,
           null,
           null,
           null,
           null,
           null,
           null,
           null,
           null,
           null,
           null,
           null,
           null,
           null,
           null,
           null,
           null,
           null,
           null,
           null,
           null,
           null,
           null,
           null,
           null,
           null,
           null,
           null,
           null,
           null,
           null,
           null,
           null,
           null,
           0.9266666666666666,
           null,
           null,
           null,
           null,
           null,
           null,
           null,
           null,
           null,
           null,
           null,
           null,
           null,
           null,
           null,
           null,
           null,
           null,
           null,
           null,
           null,
           null,
           null,
           null,
           null,
           null,
           null,
           null,
           null,
           null,
           null,
           null,
           null,
           null,
           null,
           null,
           null,
           null,
           null,
           null,
           null,
           null,
           null,
           null,
           null,
           null,
           null,
           null,
           null,
           null,
           null,
           null,
           null,
           null,
           null,
           null,
           null,
           null,
           null,
           null,
           null,
           null,
           null,
           null,
           null,
           null
          ],
          [
           null,
           null,
           null,
           null,
           null,
           null,
           null,
           null,
           null,
           null,
           null,
           null,
           null,
           null,
           0.9666666666666667,
           null,
           null,
           null,
           null,
           null,
           null,
           null,
           null,
           null,
           null,
           null,
           null,
           null,
           null,
           null,
           null,
           null,
           null,
           null,
           null,
           null,
           null,
           null,
           null,
           null,
           null,
           null,
           null,
           null,
           null,
           null,
           null,
           null,
           null,
           null,
           null,
           null,
           null,
           null,
           null,
           null,
           null,
           null,
           null,
           null,
           null,
           null,
           null,
           null,
           null,
           null,
           null,
           null,
           null,
           null,
           null,
           null,
           null,
           null,
           null,
           null,
           null,
           null,
           null,
           null,
           null,
           null,
           null,
           0.9533333333333333,
           null,
           null,
           null,
           null,
           null,
           null,
           null,
           null,
           null,
           null,
           null,
           null,
           null,
           null,
           null,
           null,
           0.94,
           null
          ],
          [
           null,
           null,
           null,
           null,
           null,
           null,
           null,
           null,
           null,
           null,
           null,
           null,
           null,
           null,
           null,
           null,
           null,
           null,
           null,
           null,
           null,
           null,
           null,
           null,
           null,
           null,
           null,
           null,
           null,
           null,
           null,
           null,
           null,
           null,
           null,
           null,
           null,
           null,
           null,
           null,
           null,
           null,
           null,
           null,
           null,
           null,
           null,
           null,
           null,
           null,
           null,
           null,
           null,
           null,
           null,
           null,
           null,
           null,
           null,
           null,
           null,
           null,
           null,
           null,
           null,
           null,
           null,
           null,
           null,
           null,
           null,
           null,
           null,
           null,
           null,
           null,
           null,
           null,
           null,
           null,
           null,
           null,
           null,
           null,
           null,
           null,
           null,
           null,
           null,
           null,
           null,
           null,
           null,
           null,
           null,
           null,
           null,
           null,
           null,
           0.94,
           null,
           null
          ],
          [
           null,
           null,
           null,
           null,
           null,
           null,
           null,
           null,
           null,
           null,
           null,
           null,
           null,
           null,
           null,
           null,
           null,
           null,
           null,
           null,
           null,
           null,
           null,
           null,
           null,
           null,
           null,
           null,
           null,
           null,
           null,
           null,
           null,
           null,
           null,
           null,
           null,
           null,
           null,
           null,
           null,
           null,
           null,
           null,
           null,
           null,
           null,
           null,
           null,
           null,
           null,
           null,
           null,
           null,
           null,
           null,
           null,
           null,
           null,
           null,
           null,
           null,
           null,
           0.96,
           null,
           null,
           null,
           null,
           null,
           null,
           null,
           null,
           null,
           null,
           null,
           null,
           null,
           null,
           null,
           null,
           null,
           null,
           null,
           null,
           null,
           null,
           null,
           null,
           null,
           null,
           null,
           null,
           null,
           null,
           null,
           null,
           0.9666666666666667,
           null,
           null,
           null,
           null,
           null
          ],
          [
           null,
           null,
           null,
           null,
           null,
           null,
           null,
           null,
           null,
           null,
           null,
           null,
           null,
           null,
           null,
           null,
           null,
           null,
           null,
           null,
           null,
           null,
           null,
           null,
           null,
           null,
           null,
           null,
           null,
           null,
           null,
           null,
           null,
           null,
           null,
           null,
           null,
           null,
           null,
           null,
           null,
           null,
           0.9533333333333333,
           null,
           null,
           null,
           null,
           null,
           null,
           null,
           null,
           null,
           null,
           null,
           null,
           null,
           null,
           null,
           null,
           null,
           null,
           null,
           null,
           null,
           null,
           null,
           null,
           null,
           null,
           null,
           null,
           null,
           null,
           null,
           null,
           null,
           null,
           null,
           null,
           null,
           null,
           null,
           null,
           null,
           null,
           null,
           null,
           null,
           null,
           null,
           null,
           null,
           null,
           null,
           null,
           0.9666666666666667,
           null,
           null,
           null,
           null,
           null,
           null
          ],
          [
           null,
           null,
           null,
           null,
           0.94,
           null,
           null,
           null,
           null,
           null,
           null,
           null,
           null,
           null,
           null,
           null,
           null,
           null,
           null,
           null,
           null,
           null,
           null,
           null,
           null,
           null,
           null,
           null,
           null,
           null,
           null,
           null,
           null,
           null,
           null,
           null,
           null,
           null,
           null,
           null,
           null,
           null,
           null,
           null,
           null,
           null,
           null,
           null,
           null,
           null,
           null,
           null,
           null,
           null,
           null,
           null,
           0.96,
           null,
           null,
           null,
           null,
           null,
           null,
           null,
           null,
           null,
           null,
           null,
           null,
           null,
           null,
           null,
           null,
           null,
           null,
           null,
           null,
           null,
           null,
           null,
           null,
           null,
           null,
           null,
           null,
           null,
           null,
           null,
           null,
           null,
           null,
           null,
           null,
           0.9466666666666667,
           null,
           null,
           null,
           null,
           null,
           null,
           null,
           null
          ],
          [
           null,
           null,
           null,
           0.9199999999999999,
           null,
           null,
           null,
           null,
           null,
           null,
           null,
           null,
           null,
           null,
           null,
           null,
           null,
           null,
           null,
           null,
           null,
           null,
           null,
           null,
           0.9666666666666667,
           null,
           null,
           null,
           null,
           null,
           null,
           null,
           null,
           null,
           null,
           null,
           null,
           null,
           null,
           null,
           null,
           null,
           null,
           null,
           null,
           null,
           null,
           null,
           null,
           null,
           null,
           null,
           null,
           null,
           null,
           null,
           null,
           null,
           null,
           null,
           null,
           null,
           null,
           null,
           null,
           null,
           null,
           null,
           null,
           null,
           null,
           null,
           null,
           null,
           null,
           null,
           null,
           null,
           null,
           null,
           null,
           null,
           null,
           null,
           null,
           null,
           0.96,
           null,
           null,
           null,
           null,
           null,
           null,
           null,
           null,
           null,
           null,
           null,
           null,
           null,
           null,
           null
          ],
          [
           null,
           null,
           null,
           null,
           null,
           null,
           null,
           null,
           null,
           null,
           null,
           null,
           null,
           null,
           null,
           null,
           null,
           null,
           null,
           null,
           null,
           null,
           null,
           null,
           null,
           null,
           null,
           null,
           null,
           null,
           null,
           null,
           null,
           null,
           null,
           null,
           0.96,
           null,
           null,
           null,
           null,
           null,
           null,
           null,
           null,
           null,
           null,
           null,
           null,
           null,
           null,
           null,
           null,
           null,
           null,
           null,
           null,
           null,
           null,
           null,
           null,
           null,
           null,
           null,
           null,
           null,
           null,
           null,
           null,
           null,
           null,
           null,
           null,
           null,
           null,
           null,
           null,
           null,
           null,
           0.96,
           null,
           null,
           null,
           null,
           null,
           null,
           null,
           null,
           0.9533333333333333,
           null,
           null,
           null,
           null,
           null,
           null,
           null,
           null,
           null,
           null,
           null,
           null,
           null
          ],
          [
           null,
           null,
           null,
           null,
           null,
           null,
           null,
           null,
           null,
           null,
           null,
           null,
           null,
           null,
           null,
           null,
           null,
           0.9533333333333333,
           null,
           null,
           null,
           null,
           null,
           null,
           null,
           null,
           null,
           null,
           null,
           null,
           null,
           null,
           null,
           null,
           null,
           null,
           null,
           null,
           null,
           null,
           null,
           null,
           null,
           null,
           0.9533333333333333,
           0.9533333333333333,
           0.9666666666666667,
           null,
           null,
           null,
           null,
           null,
           null,
           null,
           null,
           null,
           null,
           null,
           null,
           null,
           0.9533333333333333,
           null,
           null,
           null,
           null,
           null,
           null,
           null,
           null,
           null,
           null,
           null,
           null,
           null,
           null,
           null,
           null,
           null,
           null,
           null,
           null,
           null,
           null,
           null,
           null,
           null,
           null,
           null,
           null,
           null,
           null,
           null,
           null,
           null,
           null,
           null,
           null,
           null,
           null,
           null,
           null,
           null
          ],
          [
           null,
           null,
           null,
           null,
           null,
           null,
           null,
           null,
           null,
           0.9666666666666667,
           null,
           null,
           null,
           null,
           null,
           null,
           null,
           null,
           null,
           null,
           null,
           0.9533333333333333,
           null,
           null,
           null,
           null,
           null,
           null,
           null,
           null,
           null,
           null,
           null,
           null,
           null,
           null,
           null,
           null,
           null,
           null,
           null,
           null,
           null,
           null,
           null,
           null,
           null,
           null,
           null,
           null,
           null,
           null,
           null,
           null,
           null,
           null,
           null,
           null,
           null,
           null,
           null,
           null,
           null,
           null,
           null,
           null,
           null,
           null,
           null,
           null,
           0.9466666666666667,
           null,
           null,
           null,
           null,
           null,
           null,
           0.9533333333333333,
           null,
           null,
           null,
           null,
           null,
           null,
           null,
           null,
           null,
           null,
           null,
           null,
           null,
           null,
           null,
           null,
           null,
           null,
           null,
           null,
           null,
           null,
           null,
           null
          ],
          [
           null,
           null,
           null,
           null,
           null,
           0.9466666666666667,
           0.9666666666666667,
           null,
           null,
           null,
           null,
           null,
           0.9533333333333333,
           null,
           null,
           null,
           null,
           null,
           null,
           null,
           null,
           null,
           null,
           null,
           null,
           null,
           null,
           null,
           null,
           null,
           null,
           null,
           null,
           null,
           null,
           null,
           null,
           null,
           null,
           null,
           null,
           null,
           null,
           null,
           null,
           null,
           null,
           null,
           null,
           null,
           null,
           null,
           null,
           null,
           null,
           null,
           null,
           null,
           0.96,
           null,
           null,
           null,
           null,
           null,
           null,
           null,
           null,
           null,
           null,
           null,
           null,
           null,
           null,
           null,
           null,
           null,
           null,
           null,
           null,
           null,
           null,
           null,
           null,
           null,
           0.9466666666666667,
           null,
           null,
           null,
           null,
           null,
           null,
           0.9533333333333333,
           null,
           null,
           null,
           null,
           null,
           null,
           null,
           null,
           null,
           null
          ],
          [
           null,
           null,
           0.96,
           null,
           null,
           null,
           null,
           0.9666666666666667,
           null,
           null,
           null,
           null,
           null,
           null,
           null,
           null,
           0.96,
           null,
           null,
           null,
           0.9666666666666667,
           null,
           null,
           null,
           null,
           null,
           null,
           null,
           null,
           null,
           null,
           null,
           0.9533333333333333,
           null,
           null,
           null,
           null,
           null,
           null,
           null,
           null,
           null,
           null,
           null,
           null,
           null,
           null,
           null,
           null,
           0.96,
           null,
           null,
           null,
           null,
           null,
           null,
           null,
           null,
           null,
           null,
           null,
           null,
           null,
           null,
           null,
           null,
           null,
           null,
           null,
           null,
           null,
           null,
           null,
           null,
           null,
           null,
           null,
           null,
           null,
           null,
           null,
           null,
           null,
           null,
           null,
           null,
           null,
           null,
           null,
           null,
           null,
           null,
           null,
           null,
           null,
           null,
           null,
           null,
           null,
           null,
           null,
           null
          ],
          [
           null,
           null,
           null,
           null,
           null,
           null,
           null,
           null,
           null,
           null,
           null,
           null,
           null,
           0.96,
           null,
           null,
           null,
           null,
           null,
           null,
           null,
           null,
           null,
           null,
           null,
           null,
           null,
           null,
           null,
           null,
           null,
           null,
           null,
           null,
           0.96,
           null,
           null,
           null,
           null,
           null,
           null,
           null,
           null,
           null,
           null,
           null,
           null,
           null,
           null,
           null,
           null,
           null,
           null,
           null,
           null,
           null,
           null,
           null,
           null,
           0.96,
           null,
           0.9466666666666667,
           null,
           null,
           null,
           0.9466666666666667,
           null,
           null,
           null,
           null,
           null,
           null,
           null,
           null,
           null,
           null,
           0.96,
           null,
           null,
           null,
           null,
           null,
           0.9666666666666667,
           null,
           null,
           null,
           null,
           null,
           null,
           null,
           0.9533333333333333,
           null,
           null,
           null,
           null,
           null,
           null,
           null,
           null,
           null,
           null,
           null
          ],
          [
           null,
           null,
           null,
           null,
           null,
           null,
           null,
           null,
           null,
           null,
           null,
           null,
           null,
           null,
           null,
           null,
           null,
           null,
           null,
           null,
           null,
           null,
           null,
           null,
           null,
           null,
           null,
           null,
           null,
           null,
           null,
           0.9666666666666667,
           null,
           null,
           null,
           null,
           null,
           null,
           null,
           null,
           null,
           null,
           null,
           null,
           null,
           null,
           null,
           null,
           0.96,
           null,
           null,
           0.9666666666666667,
           null,
           null,
           null,
           null,
           null,
           null,
           null,
           null,
           null,
           null,
           null,
           null,
           null,
           null,
           null,
           0.96,
           null,
           null,
           null,
           null,
           0.96,
           null,
           0.96,
           null,
           null,
           null,
           0.9533333333333333,
           null,
           null,
           0.9666666666666667,
           null,
           null,
           null,
           null,
           null,
           null,
           null,
           null,
           null,
           null,
           null,
           null,
           null,
           null,
           null,
           null,
           null,
           null,
           null,
           null
          ],
          [
           null,
           null,
           null,
           null,
           null,
           null,
           null,
           null,
           0.9533333333333333,
           null,
           0.9466666666666667,
           0.9466666666666667,
           null,
           null,
           null,
           null,
           null,
           null,
           null,
           null,
           null,
           null,
           null,
           null,
           null,
           0.96,
           null,
           null,
           null,
           null,
           null,
           null,
           null,
           null,
           null,
           null,
           null,
           null,
           null,
           0.9666666666666667,
           null,
           null,
           null,
           null,
           null,
           null,
           null,
           0.96,
           null,
           null,
           0.9666666666666667,
           null,
           null,
           0.9733333333333333,
           null,
           null,
           null,
           null,
           null,
           null,
           null,
           null,
           null,
           null,
           null,
           null,
           null,
           null,
           null,
           null,
           null,
           0.96,
           null,
           null,
           null,
           null,
           null,
           null,
           null,
           null,
           null,
           null,
           null,
           null,
           null,
           null,
           null,
           null,
           null,
           0.96,
           null,
           null,
           null,
           null,
           null,
           null,
           null,
           null,
           null,
           null,
           null,
           null
          ],
          [
           null,
           null,
           null,
           null,
           null,
           null,
           null,
           null,
           null,
           null,
           null,
           null,
           null,
           null,
           null,
           null,
           null,
           null,
           0.96,
           0.9466666666666667,
           null,
           null,
           null,
           null,
           null,
           null,
           0.9666666666666667,
           null,
           0.9333333333333332,
           0.9533333333333333,
           null,
           null,
           null,
           null,
           null,
           null,
           null,
           0.96,
           null,
           null,
           null,
           0.96,
           null,
           null,
           null,
           null,
           null,
           null,
           null,
           null,
           null,
           null,
           null,
           null,
           null,
           null,
           null,
           null,
           null,
           null,
           null,
           null,
           null,
           null,
           null,
           null,
           null,
           null,
           null,
           null,
           null,
           null,
           null,
           0.9666666666666667,
           null,
           null,
           null,
           null,
           null,
           null,
           null,
           null,
           null,
           null,
           null,
           null,
           null,
           null,
           null,
           null,
           null,
           null,
           null,
           null,
           null,
           null,
           null,
           null,
           0.9666666666666667,
           null,
           null,
           null
          ],
          [
           null,
           null,
           null,
           null,
           null,
           null,
           null,
           null,
           null,
           null,
           null,
           null,
           null,
           null,
           null,
           0.96,
           null,
           null,
           null,
           null,
           null,
           null,
           null,
           0.9666666666666667,
           null,
           null,
           null,
           null,
           null,
           null,
           null,
           null,
           null,
           null,
           null,
           null,
           null,
           null,
           null,
           null,
           null,
           null,
           null,
           null,
           null,
           null,
           null,
           null,
           null,
           null,
           null,
           null,
           null,
           null,
           null,
           null,
           null,
           null,
           null,
           null,
           null,
           null,
           0.9533333333333333,
           null,
           null,
           null,
           null,
           null,
           0.9666666666666667,
           0.9533333333333333,
           null,
           null,
           null,
           null,
           null,
           0.9666666666666667,
           null,
           null,
           null,
           null,
           0.96,
           null,
           null,
           null,
           null,
           0.9533333333333333,
           null,
           0.9466666666666667,
           null,
           null,
           null,
           null,
           0.9466666666666667,
           null,
           null,
           null,
           null,
           null,
           null,
           null,
           null,
           null
          ],
          [
           null,
           null,
           null,
           null,
           null,
           null,
           null,
           null,
           null,
           null,
           null,
           null,
           null,
           null,
           null,
           null,
           null,
           null,
           null,
           null,
           null,
           null,
           null,
           null,
           null,
           null,
           null,
           0.96,
           null,
           null,
           null,
           null,
           null,
           0.9666666666666667,
           null,
           null,
           null,
           null,
           0.9666666666666667,
           null,
           0.96,
           null,
           null,
           0.96,
           null,
           null,
           null,
           null,
           null,
           null,
           null,
           null,
           null,
           null,
           0.9666666666666667,
           0.96,
           null,
           0.9666666666666667,
           null,
           null,
           null,
           null,
           null,
           null,
           null,
           null,
           null,
           null,
           null,
           null,
           null,
           null,
           null,
           null,
           null,
           null,
           null,
           null,
           null,
           null,
           null,
           null,
           null,
           null,
           null,
           null,
           null,
           null,
           null,
           null,
           null,
           null,
           null,
           null,
           0.96,
           null,
           null,
           null,
           null,
           null,
           null,
           null
          ],
          [
           null,
           null,
           null,
           null,
           null,
           null,
           null,
           null,
           null,
           null,
           null,
           null,
           null,
           null,
           null,
           null,
           null,
           null,
           null,
           null,
           null,
           null,
           0.9666666666666667,
           null,
           null,
           null,
           null,
           null,
           null,
           null,
           0.9466666666666667,
           null,
           null,
           null,
           null,
           null,
           null,
           null,
           null,
           null,
           null,
           null,
           null,
           null,
           null,
           null,
           null,
           null,
           null,
           null,
           null,
           null,
           0.9533333333333333,
           null,
           null,
           null,
           null,
           null,
           null,
           null,
           null,
           null,
           null,
           null,
           0.9666666666666667,
           null,
           0.96,
           null,
           null,
           null,
           null,
           null,
           null,
           null,
           null,
           null,
           null,
           null,
           null,
           null,
           null,
           null,
           null,
           null,
           null,
           null,
           null,
           null,
           null,
           null,
           null,
           null,
           null,
           null,
           null,
           null,
           null,
           0.9533333333333333,
           null,
           null,
           null,
           null
          ],
          [
           null,
           null,
           null,
           null,
           null,
           null,
           null,
           null,
           null,
           null,
           null,
           null,
           null,
           null,
           null,
           null,
           null,
           null,
           null,
           null,
           null,
           null,
           null,
           null,
           null,
           null,
           null,
           null,
           null,
           null,
           null,
           null,
           null,
           null,
           null,
           null,
           null,
           null,
           null,
           null,
           null,
           null,
           null,
           null,
           null,
           null,
           null,
           null,
           null,
           null,
           null,
           null,
           null,
           null,
           null,
           null,
           null,
           null,
           null,
           null,
           null,
           null,
           null,
           null,
           null,
           null,
           null,
           null,
           null,
           null,
           null,
           null,
           null,
           null,
           null,
           null,
           null,
           null,
           null,
           null,
           null,
           null,
           null,
           null,
           null,
           null,
           null,
           null,
           null,
           null,
           null,
           null,
           null,
           null,
           null,
           null,
           null,
           null,
           null,
           null,
           null,
           null
          ]
         ]
        },
        {
         "marker": {
          "color": "black",
          "line": {
           "color": "Grey",
           "width": 2
          }
         },
         "mode": "markers",
         "showlegend": false,
         "type": "scatter",
         "x": [
          11.103024875687456,
          19.37186098632145,
          12.984089000856496,
          15.049513619772489,
          1.6830776565363519,
          4.203454504155698,
          4.358603720012281,
          1.8471414539962416,
          30.359051976025665,
          7.215679878616114,
          8.183935099927984,
          6.962031732111057,
          9.334683350820526,
          5.063227875741023,
          3.026975277216243,
          11.620837619489505,
          6.6469414891223995,
          1.0693461847231125,
          9.119755861599971,
          19.015892520415367,
          5.925127113341414,
          4.4372017402794635,
          9.833084936033753,
          5.800270758029982,
          7.357758106663802,
          11.018034950537505,
          4.868519698340214,
          3.289820537727741,
          8.125338886969663,
          15.603805848584186,
          5.723969935507925,
          3.9762615564328034,
          3.2976053346407634,
          12.93921956506717,
          3.0693704525327132,
          5.25101439280781,
          6.871835463820829,
          2.7073268927734984,
          2.389896730592488,
          3.8166941270980814,
          5.068319550456286,
          6.390300542593111,
          7.717476360318786,
          6.797651756187942,
          4.959187978596134,
          9.101760195013545,
          10.52894209755397,
          6.247164164423148,
          8.476365136856352,
          4.343911892620264,
          12.329196788475803,
          22.501291472948505,
          13.416936297851368,
          16.94806693764645,
          7.92853861543846,
          10.32168564253788,
          19.633266446037773,
          9.364089251952608,
          5.7420886465828165,
          7.277611503260899,
          11.441476147736891,
          6.129050665361263,
          5.334737508474816,
          4.525006207988432,
          8.542270850295811,
          7.00419688529958,
          6.823211083348897,
          7.536149898819352,
          10.409331804767302,
          3.802378723765806,
          14.124858426413473,
          5.527684171986348,
          6.241787565775667,
          8.678300329889948,
          4.58862915727576,
          9.817659493959564,
          7.3395669466108036,
          5.009559305978066,
          5.777818071061996,
          6.789955336145924,
          12.014009748192855,
          7.866768457186083,
          8.491875703582727,
          11.518540648810843,
          6.62643276610234,
          5.99179305678057,
          9.360549979250338,
          4.129920579781043,
          5.523511584354126,
          7.327515653095146,
          15.026674869299262,
          4.827386676833755,
          4.777064400703086,
          5.152546568732742,
          6.7385691804457775,
          6.259608473543833,
          7.8844149137643535,
          5.463854936052602,
          10.955769388943057,
          4.138674085031833
         ],
         "y": [
          14,
          20,
          16,
          7,
          13,
          18,
          10,
          8,
          3,
          19,
          14,
          20,
          15,
          17,
          12,
          18,
          10,
          2,
          16,
          5,
          19,
          17,
          14,
          17,
          12,
          15,
          18,
          16,
          20,
          19,
          14,
          12,
          11,
          9,
          13,
          17,
          15,
          12,
          7,
          16,
          19,
          10,
          10,
          13,
          8,
          11,
          9,
          6,
          20,
          13,
          18,
          4,
          14,
          6,
          5,
          11,
          17,
          15,
          2,
          19,
          3,
          19,
          20,
          17,
          18,
          16,
          16,
          14,
          15,
          16,
          12,
          19,
          17,
          18,
          13,
          18,
          19,
          16,
          9,
          15,
          8,
          14,
          15,
          12,
          10,
          16,
          17,
          14,
          13,
          7,
          18,
          20,
          11,
          17,
          16,
          19,
          18,
          15,
          18,
          3
         ]
        }
       ],
       "layout": {
        "template": {
         "data": {
          "bar": [
           {
            "error_x": {
             "color": "#2a3f5f"
            },
            "error_y": {
             "color": "#2a3f5f"
            },
            "marker": {
             "line": {
              "color": "#E5ECF6",
              "width": 0.5
             },
             "pattern": {
              "fillmode": "overlay",
              "size": 10,
              "solidity": 0.2
             }
            },
            "type": "bar"
           }
          ],
          "barpolar": [
           {
            "marker": {
             "line": {
              "color": "#E5ECF6",
              "width": 0.5
             },
             "pattern": {
              "fillmode": "overlay",
              "size": 10,
              "solidity": 0.2
             }
            },
            "type": "barpolar"
           }
          ],
          "carpet": [
           {
            "aaxis": {
             "endlinecolor": "#2a3f5f",
             "gridcolor": "white",
             "linecolor": "white",
             "minorgridcolor": "white",
             "startlinecolor": "#2a3f5f"
            },
            "baxis": {
             "endlinecolor": "#2a3f5f",
             "gridcolor": "white",
             "linecolor": "white",
             "minorgridcolor": "white",
             "startlinecolor": "#2a3f5f"
            },
            "type": "carpet"
           }
          ],
          "choropleth": [
           {
            "colorbar": {
             "outlinewidth": 0,
             "ticks": ""
            },
            "type": "choropleth"
           }
          ],
          "contour": [
           {
            "colorbar": {
             "outlinewidth": 0,
             "ticks": ""
            },
            "colorscale": [
             [
              0,
              "#0d0887"
             ],
             [
              0.1111111111111111,
              "#46039f"
             ],
             [
              0.2222222222222222,
              "#7201a8"
             ],
             [
              0.3333333333333333,
              "#9c179e"
             ],
             [
              0.4444444444444444,
              "#bd3786"
             ],
             [
              0.5555555555555556,
              "#d8576b"
             ],
             [
              0.6666666666666666,
              "#ed7953"
             ],
             [
              0.7777777777777778,
              "#fb9f3a"
             ],
             [
              0.8888888888888888,
              "#fdca26"
             ],
             [
              1,
              "#f0f921"
             ]
            ],
            "type": "contour"
           }
          ],
          "contourcarpet": [
           {
            "colorbar": {
             "outlinewidth": 0,
             "ticks": ""
            },
            "type": "contourcarpet"
           }
          ],
          "heatmap": [
           {
            "colorbar": {
             "outlinewidth": 0,
             "ticks": ""
            },
            "colorscale": [
             [
              0,
              "#0d0887"
             ],
             [
              0.1111111111111111,
              "#46039f"
             ],
             [
              0.2222222222222222,
              "#7201a8"
             ],
             [
              0.3333333333333333,
              "#9c179e"
             ],
             [
              0.4444444444444444,
              "#bd3786"
             ],
             [
              0.5555555555555556,
              "#d8576b"
             ],
             [
              0.6666666666666666,
              "#ed7953"
             ],
             [
              0.7777777777777778,
              "#fb9f3a"
             ],
             [
              0.8888888888888888,
              "#fdca26"
             ],
             [
              1,
              "#f0f921"
             ]
            ],
            "type": "heatmap"
           }
          ],
          "heatmapgl": [
           {
            "colorbar": {
             "outlinewidth": 0,
             "ticks": ""
            },
            "colorscale": [
             [
              0,
              "#0d0887"
             ],
             [
              0.1111111111111111,
              "#46039f"
             ],
             [
              0.2222222222222222,
              "#7201a8"
             ],
             [
              0.3333333333333333,
              "#9c179e"
             ],
             [
              0.4444444444444444,
              "#bd3786"
             ],
             [
              0.5555555555555556,
              "#d8576b"
             ],
             [
              0.6666666666666666,
              "#ed7953"
             ],
             [
              0.7777777777777778,
              "#fb9f3a"
             ],
             [
              0.8888888888888888,
              "#fdca26"
             ],
             [
              1,
              "#f0f921"
             ]
            ],
            "type": "heatmapgl"
           }
          ],
          "histogram": [
           {
            "marker": {
             "pattern": {
              "fillmode": "overlay",
              "size": 10,
              "solidity": 0.2
             }
            },
            "type": "histogram"
           }
          ],
          "histogram2d": [
           {
            "colorbar": {
             "outlinewidth": 0,
             "ticks": ""
            },
            "colorscale": [
             [
              0,
              "#0d0887"
             ],
             [
              0.1111111111111111,
              "#46039f"
             ],
             [
              0.2222222222222222,
              "#7201a8"
             ],
             [
              0.3333333333333333,
              "#9c179e"
             ],
             [
              0.4444444444444444,
              "#bd3786"
             ],
             [
              0.5555555555555556,
              "#d8576b"
             ],
             [
              0.6666666666666666,
              "#ed7953"
             ],
             [
              0.7777777777777778,
              "#fb9f3a"
             ],
             [
              0.8888888888888888,
              "#fdca26"
             ],
             [
              1,
              "#f0f921"
             ]
            ],
            "type": "histogram2d"
           }
          ],
          "histogram2dcontour": [
           {
            "colorbar": {
             "outlinewidth": 0,
             "ticks": ""
            },
            "colorscale": [
             [
              0,
              "#0d0887"
             ],
             [
              0.1111111111111111,
              "#46039f"
             ],
             [
              0.2222222222222222,
              "#7201a8"
             ],
             [
              0.3333333333333333,
              "#9c179e"
             ],
             [
              0.4444444444444444,
              "#bd3786"
             ],
             [
              0.5555555555555556,
              "#d8576b"
             ],
             [
              0.6666666666666666,
              "#ed7953"
             ],
             [
              0.7777777777777778,
              "#fb9f3a"
             ],
             [
              0.8888888888888888,
              "#fdca26"
             ],
             [
              1,
              "#f0f921"
             ]
            ],
            "type": "histogram2dcontour"
           }
          ],
          "mesh3d": [
           {
            "colorbar": {
             "outlinewidth": 0,
             "ticks": ""
            },
            "type": "mesh3d"
           }
          ],
          "parcoords": [
           {
            "line": {
             "colorbar": {
              "outlinewidth": 0,
              "ticks": ""
             }
            },
            "type": "parcoords"
           }
          ],
          "pie": [
           {
            "automargin": true,
            "type": "pie"
           }
          ],
          "scatter": [
           {
            "fillpattern": {
             "fillmode": "overlay",
             "size": 10,
             "solidity": 0.2
            },
            "type": "scatter"
           }
          ],
          "scatter3d": [
           {
            "line": {
             "colorbar": {
              "outlinewidth": 0,
              "ticks": ""
             }
            },
            "marker": {
             "colorbar": {
              "outlinewidth": 0,
              "ticks": ""
             }
            },
            "type": "scatter3d"
           }
          ],
          "scattercarpet": [
           {
            "marker": {
             "colorbar": {
              "outlinewidth": 0,
              "ticks": ""
             }
            },
            "type": "scattercarpet"
           }
          ],
          "scattergeo": [
           {
            "marker": {
             "colorbar": {
              "outlinewidth": 0,
              "ticks": ""
             }
            },
            "type": "scattergeo"
           }
          ],
          "scattergl": [
           {
            "marker": {
             "colorbar": {
              "outlinewidth": 0,
              "ticks": ""
             }
            },
            "type": "scattergl"
           }
          ],
          "scattermapbox": [
           {
            "marker": {
             "colorbar": {
              "outlinewidth": 0,
              "ticks": ""
             }
            },
            "type": "scattermapbox"
           }
          ],
          "scatterpolar": [
           {
            "marker": {
             "colorbar": {
              "outlinewidth": 0,
              "ticks": ""
             }
            },
            "type": "scatterpolar"
           }
          ],
          "scatterpolargl": [
           {
            "marker": {
             "colorbar": {
              "outlinewidth": 0,
              "ticks": ""
             }
            },
            "type": "scatterpolargl"
           }
          ],
          "scatterternary": [
           {
            "marker": {
             "colorbar": {
              "outlinewidth": 0,
              "ticks": ""
             }
            },
            "type": "scatterternary"
           }
          ],
          "surface": [
           {
            "colorbar": {
             "outlinewidth": 0,
             "ticks": ""
            },
            "colorscale": [
             [
              0,
              "#0d0887"
             ],
             [
              0.1111111111111111,
              "#46039f"
             ],
             [
              0.2222222222222222,
              "#7201a8"
             ],
             [
              0.3333333333333333,
              "#9c179e"
             ],
             [
              0.4444444444444444,
              "#bd3786"
             ],
             [
              0.5555555555555556,
              "#d8576b"
             ],
             [
              0.6666666666666666,
              "#ed7953"
             ],
             [
              0.7777777777777778,
              "#fb9f3a"
             ],
             [
              0.8888888888888888,
              "#fdca26"
             ],
             [
              1,
              "#f0f921"
             ]
            ],
            "type": "surface"
           }
          ],
          "table": [
           {
            "cells": {
             "fill": {
              "color": "#EBF0F8"
             },
             "line": {
              "color": "white"
             }
            },
            "header": {
             "fill": {
              "color": "#C8D4E3"
             },
             "line": {
              "color": "white"
             }
            },
            "type": "table"
           }
          ]
         },
         "layout": {
          "annotationdefaults": {
           "arrowcolor": "#2a3f5f",
           "arrowhead": 0,
           "arrowwidth": 1
          },
          "autotypenumbers": "strict",
          "coloraxis": {
           "colorbar": {
            "outlinewidth": 0,
            "ticks": ""
           }
          },
          "colorscale": {
           "diverging": [
            [
             0,
             "#8e0152"
            ],
            [
             0.1,
             "#c51b7d"
            ],
            [
             0.2,
             "#de77ae"
            ],
            [
             0.3,
             "#f1b6da"
            ],
            [
             0.4,
             "#fde0ef"
            ],
            [
             0.5,
             "#f7f7f7"
            ],
            [
             0.6,
             "#e6f5d0"
            ],
            [
             0.7,
             "#b8e186"
            ],
            [
             0.8,
             "#7fbc41"
            ],
            [
             0.9,
             "#4d9221"
            ],
            [
             1,
             "#276419"
            ]
           ],
           "sequential": [
            [
             0,
             "#0d0887"
            ],
            [
             0.1111111111111111,
             "#46039f"
            ],
            [
             0.2222222222222222,
             "#7201a8"
            ],
            [
             0.3333333333333333,
             "#9c179e"
            ],
            [
             0.4444444444444444,
             "#bd3786"
            ],
            [
             0.5555555555555556,
             "#d8576b"
            ],
            [
             0.6666666666666666,
             "#ed7953"
            ],
            [
             0.7777777777777778,
             "#fb9f3a"
            ],
            [
             0.8888888888888888,
             "#fdca26"
            ],
            [
             1,
             "#f0f921"
            ]
           ],
           "sequentialminus": [
            [
             0,
             "#0d0887"
            ],
            [
             0.1111111111111111,
             "#46039f"
            ],
            [
             0.2222222222222222,
             "#7201a8"
            ],
            [
             0.3333333333333333,
             "#9c179e"
            ],
            [
             0.4444444444444444,
             "#bd3786"
            ],
            [
             0.5555555555555556,
             "#d8576b"
            ],
            [
             0.6666666666666666,
             "#ed7953"
            ],
            [
             0.7777777777777778,
             "#fb9f3a"
            ],
            [
             0.8888888888888888,
             "#fdca26"
            ],
            [
             1,
             "#f0f921"
            ]
           ]
          },
          "colorway": [
           "#636efa",
           "#EF553B",
           "#00cc96",
           "#ab63fa",
           "#FFA15A",
           "#19d3f3",
           "#FF6692",
           "#B6E880",
           "#FF97FF",
           "#FECB52"
          ],
          "font": {
           "color": "#2a3f5f"
          },
          "geo": {
           "bgcolor": "white",
           "lakecolor": "white",
           "landcolor": "#E5ECF6",
           "showlakes": true,
           "showland": true,
           "subunitcolor": "white"
          },
          "hoverlabel": {
           "align": "left"
          },
          "hovermode": "closest",
          "mapbox": {
           "style": "light"
          },
          "paper_bgcolor": "white",
          "plot_bgcolor": "#E5ECF6",
          "polar": {
           "angularaxis": {
            "gridcolor": "white",
            "linecolor": "white",
            "ticks": ""
           },
           "bgcolor": "#E5ECF6",
           "radialaxis": {
            "gridcolor": "white",
            "linecolor": "white",
            "ticks": ""
           }
          },
          "scene": {
           "xaxis": {
            "backgroundcolor": "#E5ECF6",
            "gridcolor": "white",
            "gridwidth": 2,
            "linecolor": "white",
            "showbackground": true,
            "ticks": "",
            "zerolinecolor": "white"
           },
           "yaxis": {
            "backgroundcolor": "#E5ECF6",
            "gridcolor": "white",
            "gridwidth": 2,
            "linecolor": "white",
            "showbackground": true,
            "ticks": "",
            "zerolinecolor": "white"
           },
           "zaxis": {
            "backgroundcolor": "#E5ECF6",
            "gridcolor": "white",
            "gridwidth": 2,
            "linecolor": "white",
            "showbackground": true,
            "ticks": "",
            "zerolinecolor": "white"
           }
          },
          "shapedefaults": {
           "line": {
            "color": "#2a3f5f"
           }
          },
          "ternary": {
           "aaxis": {
            "gridcolor": "white",
            "linecolor": "white",
            "ticks": ""
           },
           "baxis": {
            "gridcolor": "white",
            "linecolor": "white",
            "ticks": ""
           },
           "bgcolor": "#E5ECF6",
           "caxis": {
            "gridcolor": "white",
            "linecolor": "white",
            "ticks": ""
           }
          },
          "title": {
           "x": 0.05
          },
          "xaxis": {
           "automargin": true,
           "gridcolor": "white",
           "linecolor": "white",
           "ticks": "",
           "title": {
            "standoff": 15
           },
           "zerolinecolor": "white",
           "zerolinewidth": 2
          },
          "yaxis": {
           "automargin": true,
           "gridcolor": "white",
           "linecolor": "white",
           "ticks": "",
           "title": {
            "standoff": 15
           },
           "zerolinecolor": "white",
           "zerolinewidth": 2
          }
         }
        },
        "title": {
         "text": "Contour Plot"
        },
        "xaxis": {
         "range": [
          -0.04354016980148748,
          1.554946699766068
         ],
         "title": {
          "text": "max_depth"
         },
         "type": "log"
        },
        "yaxis": {
         "range": [
          1.1,
          20.9
         ],
         "title": {
          "text": "n_estimators"
         }
        }
       }
      }
     },
     "metadata": {},
     "output_type": "display_data"
    }
   ],
   "source": [
    "optuna.visualization.plot_contour(study, params=['n_estimators', 'max_depth'])"
   ]
  },
  {
   "cell_type": "code",
   "execution_count": 156,
   "metadata": {},
   "outputs": [
    {
     "data": {
      "text/html": [
       "<style>#sk-container-id-3 {color: black;background-color: white;}#sk-container-id-3 pre{padding: 0;}#sk-container-id-3 div.sk-toggleable {background-color: white;}#sk-container-id-3 label.sk-toggleable__label {cursor: pointer;display: block;width: 100%;margin-bottom: 0;padding: 0.3em;box-sizing: border-box;text-align: center;}#sk-container-id-3 label.sk-toggleable__label-arrow:before {content: \"▸\";float: left;margin-right: 0.25em;color: #696969;}#sk-container-id-3 label.sk-toggleable__label-arrow:hover:before {color: black;}#sk-container-id-3 div.sk-estimator:hover label.sk-toggleable__label-arrow:before {color: black;}#sk-container-id-3 div.sk-toggleable__content {max-height: 0;max-width: 0;overflow: hidden;text-align: left;background-color: #f0f8ff;}#sk-container-id-3 div.sk-toggleable__content pre {margin: 0.2em;color: black;border-radius: 0.25em;background-color: #f0f8ff;}#sk-container-id-3 input.sk-toggleable__control:checked~div.sk-toggleable__content {max-height: 200px;max-width: 100%;overflow: auto;}#sk-container-id-3 input.sk-toggleable__control:checked~label.sk-toggleable__label-arrow:before {content: \"▾\";}#sk-container-id-3 div.sk-estimator input.sk-toggleable__control:checked~label.sk-toggleable__label {background-color: #d4ebff;}#sk-container-id-3 div.sk-label input.sk-toggleable__control:checked~label.sk-toggleable__label {background-color: #d4ebff;}#sk-container-id-3 input.sk-hidden--visually {border: 0;clip: rect(1px 1px 1px 1px);clip: rect(1px, 1px, 1px, 1px);height: 1px;margin: -1px;overflow: hidden;padding: 0;position: absolute;width: 1px;}#sk-container-id-3 div.sk-estimator {font-family: monospace;background-color: #f0f8ff;border: 1px dotted black;border-radius: 0.25em;box-sizing: border-box;margin-bottom: 0.5em;}#sk-container-id-3 div.sk-estimator:hover {background-color: #d4ebff;}#sk-container-id-3 div.sk-parallel-item::after {content: \"\";width: 100%;border-bottom: 1px solid gray;flex-grow: 1;}#sk-container-id-3 div.sk-label:hover label.sk-toggleable__label {background-color: #d4ebff;}#sk-container-id-3 div.sk-serial::before {content: \"\";position: absolute;border-left: 1px solid gray;box-sizing: border-box;top: 0;bottom: 0;left: 50%;z-index: 0;}#sk-container-id-3 div.sk-serial {display: flex;flex-direction: column;align-items: center;background-color: white;padding-right: 0.2em;padding-left: 0.2em;position: relative;}#sk-container-id-3 div.sk-item {position: relative;z-index: 1;}#sk-container-id-3 div.sk-parallel {display: flex;align-items: stretch;justify-content: center;background-color: white;position: relative;}#sk-container-id-3 div.sk-item::before, #sk-container-id-3 div.sk-parallel-item::before {content: \"\";position: absolute;border-left: 1px solid gray;box-sizing: border-box;top: 0;bottom: 0;left: 50%;z-index: -1;}#sk-container-id-3 div.sk-parallel-item {display: flex;flex-direction: column;z-index: 1;position: relative;background-color: white;}#sk-container-id-3 div.sk-parallel-item:first-child::after {align-self: flex-end;width: 50%;}#sk-container-id-3 div.sk-parallel-item:last-child::after {align-self: flex-start;width: 50%;}#sk-container-id-3 div.sk-parallel-item:only-child::after {width: 0;}#sk-container-id-3 div.sk-dashed-wrapped {border: 1px dashed gray;margin: 0 0.4em 0.5em 0.4em;box-sizing: border-box;padding-bottom: 0.4em;background-color: white;}#sk-container-id-3 div.sk-label label {font-family: monospace;font-weight: bold;display: inline-block;line-height: 1.2em;}#sk-container-id-3 div.sk-label-container {text-align: center;}#sk-container-id-3 div.sk-container {/* jupyter's `normalize.less` sets `[hidden] { display: none; }` but bootstrap.min.css set `[hidden] { display: none !important; }` so we also need the `!important` here to be able to override the default hidden behavior on the sphinx rendered scikit-learn.org. See: https://github.com/scikit-learn/scikit-learn/issues/21755 */display: inline-block !important;position: relative;}#sk-container-id-3 div.sk-text-repr-fallback {display: none;}</style><div id=\"sk-container-id-3\" class=\"sk-top-container\"><div class=\"sk-text-repr-fallback\"><pre>Pipeline(memory=None,\n",
       "         steps=[(&#x27;scaler&#x27;,\n",
       "                 StandardScaler(copy=True, with_mean=True, with_std=True)),\n",
       "                (&#x27;pca&#x27;,\n",
       "                 PCA(copy=True, iterated_power=&#x27;auto&#x27;, n_components=2,\n",
       "                     n_oversamples=10, power_iteration_normalizer=&#x27;auto&#x27;,\n",
       "                     random_state=None, svd_solver=&#x27;auto&#x27;, tol=0.0,\n",
       "                     whiten=False)),\n",
       "                (&#x27;classifier&#x27;,\n",
       "                 LogisticRegression(C=1.0, class_weight=None, dual=False,\n",
       "                                    fit_intercept=True, intercept_scaling=1,\n",
       "                                    l1_ratio=None, max_iter=100,\n",
       "                                    multi_class=&#x27;auto&#x27;, n_jobs=None,\n",
       "                                    penalty=&#x27;l2&#x27;, random_state=None,\n",
       "                                    solver=&#x27;lbfgs&#x27;, tol=0.0001, verbose=0,\n",
       "                                    warm_start=False))],\n",
       "         verbose=False)</pre><b>In a Jupyter environment, please rerun this cell to show the HTML representation or trust the notebook. <br />On GitHub, the HTML representation is unable to render, please try loading this page with nbviewer.org.</b></div><div class=\"sk-container\" hidden><div class=\"sk-item sk-dashed-wrapped\"><div class=\"sk-label-container\"><div class=\"sk-label sk-toggleable\"><input class=\"sk-toggleable__control sk-hidden--visually\" id=\"sk-estimator-id-3\" type=\"checkbox\" ><label for=\"sk-estimator-id-3\" class=\"sk-toggleable__label sk-toggleable__label-arrow\">Pipeline</label><div class=\"sk-toggleable__content\"><pre>Pipeline(memory=None,\n",
       "         steps=[(&#x27;scaler&#x27;,\n",
       "                 StandardScaler(copy=True, with_mean=True, with_std=True)),\n",
       "                (&#x27;pca&#x27;,\n",
       "                 PCA(copy=True, iterated_power=&#x27;auto&#x27;, n_components=2,\n",
       "                     n_oversamples=10, power_iteration_normalizer=&#x27;auto&#x27;,\n",
       "                     random_state=None, svd_solver=&#x27;auto&#x27;, tol=0.0,\n",
       "                     whiten=False)),\n",
       "                (&#x27;classifier&#x27;,\n",
       "                 LogisticRegression(C=1.0, class_weight=None, dual=False,\n",
       "                                    fit_intercept=True, intercept_scaling=1,\n",
       "                                    l1_ratio=None, max_iter=100,\n",
       "                                    multi_class=&#x27;auto&#x27;, n_jobs=None,\n",
       "                                    penalty=&#x27;l2&#x27;, random_state=None,\n",
       "                                    solver=&#x27;lbfgs&#x27;, tol=0.0001, verbose=0,\n",
       "                                    warm_start=False))],\n",
       "         verbose=False)</pre></div></div></div><div class=\"sk-serial\"><div class=\"sk-item\"><div class=\"sk-estimator sk-toggleable\"><input class=\"sk-toggleable__control sk-hidden--visually\" id=\"sk-estimator-id-4\" type=\"checkbox\" ><label for=\"sk-estimator-id-4\" class=\"sk-toggleable__label sk-toggleable__label-arrow\">StandardScaler</label><div class=\"sk-toggleable__content\"><pre>StandardScaler()</pre></div></div></div><div class=\"sk-item\"><div class=\"sk-estimator sk-toggleable\"><input class=\"sk-toggleable__control sk-hidden--visually\" id=\"sk-estimator-id-5\" type=\"checkbox\" ><label for=\"sk-estimator-id-5\" class=\"sk-toggleable__label sk-toggleable__label-arrow\">PCA</label><div class=\"sk-toggleable__content\"><pre>PCA(n_components=2)</pre></div></div></div><div class=\"sk-item\"><div class=\"sk-estimator sk-toggleable\"><input class=\"sk-toggleable__control sk-hidden--visually\" id=\"sk-estimator-id-6\" type=\"checkbox\" ><label for=\"sk-estimator-id-6\" class=\"sk-toggleable__label sk-toggleable__label-arrow\">LogisticRegression</label><div class=\"sk-toggleable__content\"><pre>LogisticRegression()</pre></div></div></div></div></div></div></div>"
      ],
      "text/plain": [
       "Pipeline(memory=None,\n",
       "         steps=[('scaler',\n",
       "                 StandardScaler(copy=True, with_mean=True, with_std=True)),\n",
       "                ('pca',\n",
       "                 PCA(copy=True, iterated_power='auto', n_components=2,\n",
       "                     n_oversamples=10, power_iteration_normalizer='auto',\n",
       "                     random_state=None, svd_solver='auto', tol=0.0,\n",
       "                     whiten=False)),\n",
       "                ('classifier',\n",
       "                 LogisticRegression(C=1.0, class_weight=None, dual=False,\n",
       "                                    fit_intercept=True, intercept_scaling=1,\n",
       "                                    l1_ratio=None, max_iter=100,\n",
       "                                    multi_class='auto', n_jobs=None,\n",
       "                                    penalty='l2', random_state=None,\n",
       "                                    solver='lbfgs', tol=0.0001, verbose=0,\n",
       "                                    warm_start=False))],\n",
       "         verbose=False)"
      ]
     },
     "execution_count": 156,
     "metadata": {},
     "output_type": "execute_result"
    }
   ],
   "source": [
    "from sklearn.datasets import load_iris\n",
    "from sklearn.pipeline import Pipeline\n",
    "from sklearn.decomposition import PCA\n",
    "from sklearn.linear_model import LogisticRegression\n",
    "from sklearn.preprocessing import StandardScaler\n",
    "from sklearn.pipeline import make_pipeline\n",
    "from sklearn import set_config\n",
    "\n",
    "set_config(display='diagram')\n",
    "\n",
    "# Load the iris dataset\n",
    "iris = load_iris()\n",
    "\n",
    "# Create a pipeline\n",
    "pipe = Pipeline([\n",
    "        ('scaler', StandardScaler()),\n",
    "        ('pca', PCA(n_components=2)),\n",
    "        ('classifier', LogisticRegression())\n",
    "    ])\n",
    "\n",
    "# Visualize the pipeline\n",
    "pipe\n"
   ]
  },
  {
   "cell_type": "code",
   "execution_count": null,
   "metadata": {},
   "outputs": [],
   "source": []
  },
  {
   "cell_type": "code",
   "execution_count": 18,
   "metadata": {},
   "outputs": [],
   "source": [
    "import flask"
   ]
  },
  {
   "cell_type": "code",
   "execution_count": null,
   "metadata": {},
   "outputs": [],
   "source": []
  },
  {
   "cell_type": "code",
   "execution_count": null,
   "metadata": {},
   "outputs": [],
   "source": []
  },
  {
   "cell_type": "code",
   "execution_count": null,
   "metadata": {},
   "outputs": [],
   "source": []
  },
  {
   "cell_type": "code",
   "execution_count": null,
   "metadata": {},
   "outputs": [],
   "source": []
  },
  {
   "cell_type": "code",
   "execution_count": null,
   "metadata": {},
   "outputs": [],
   "source": []
  },
  {
   "cell_type": "code",
   "execution_count": null,
   "metadata": {},
   "outputs": [],
   "source": []
  },
  {
   "cell_type": "code",
   "execution_count": null,
   "metadata": {},
   "outputs": [],
   "source": []
  },
  {
   "cell_type": "code",
   "execution_count": null,
   "metadata": {},
   "outputs": [],
   "source": []
  },
  {
   "cell_type": "code",
   "execution_count": null,
   "metadata": {},
   "outputs": [],
   "source": []
  },
  {
   "cell_type": "code",
   "execution_count": null,
   "metadata": {},
   "outputs": [],
   "source": []
  },
  {
   "cell_type": "code",
   "execution_count": null,
   "metadata": {},
   "outputs": [],
   "source": []
  },
  {
   "cell_type": "code",
   "execution_count": null,
   "metadata": {},
   "outputs": [],
   "source": []
  },
  {
   "cell_type": "code",
   "execution_count": null,
   "metadata": {},
   "outputs": [],
   "source": []
  },
  {
   "cell_type": "code",
   "execution_count": null,
   "metadata": {},
   "outputs": [],
   "source": []
  },
  {
   "cell_type": "code",
   "execution_count": null,
   "metadata": {},
   "outputs": [],
   "source": []
  },
  {
   "cell_type": "code",
   "execution_count": null,
   "metadata": {},
   "outputs": [],
   "source": []
  },
  {
   "cell_type": "code",
   "execution_count": null,
   "metadata": {},
   "outputs": [],
   "source": []
  },
  {
   "cell_type": "code",
   "execution_count": null,
   "metadata": {},
   "outputs": [],
   "source": []
  },
  {
   "cell_type": "code",
   "execution_count": null,
   "metadata": {},
   "outputs": [],
   "source": []
  },
  {
   "cell_type": "code",
   "execution_count": null,
   "metadata": {},
   "outputs": [],
   "source": []
  },
  {
   "cell_type": "code",
   "execution_count": null,
   "metadata": {},
   "outputs": [],
   "source": []
  }
 ],
 "metadata": {
  "kernelspec": {
   "display_name": "base",
   "language": "python",
   "name": "python3"
  },
  "language_info": {
   "codemirror_mode": {
    "name": "ipython",
    "version": 3
   },
   "file_extension": ".py",
   "mimetype": "text/x-python",
   "name": "python",
   "nbconvert_exporter": "python",
   "pygments_lexer": "ipython3",
   "version": "3.10.11"
  },
  "orig_nbformat": 4
 },
 "nbformat": 4,
 "nbformat_minor": 2
}
