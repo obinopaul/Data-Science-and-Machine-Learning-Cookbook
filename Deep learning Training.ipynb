{
 "cells": [
  {
   "cell_type": "code",
   "execution_count": 31,
   "metadata": {},
   "outputs": [],
   "source": [
    "import numpy as np\n",
    "import torch "
   ]
  },
  {
   "cell_type": "code",
   "execution_count": 32,
   "metadata": {},
   "outputs": [
    {
     "name": "stdout",
     "output_type": "stream",
     "text": [
      "[[1 4 3 5]]\n",
      " \n",
      "[[1]\n",
      " [4]\n",
      " [3]\n",
      " [5]]\n",
      "tensor([[1, 5, 2, 6]])\n",
      " \n",
      "tensor([[1],\n",
      "        [5],\n",
      "        [2],\n",
      "        [6]])\n"
     ]
    }
   ],
   "source": [
    "#transpose vector and matrix\n",
    "\n",
    "arr = np.array([ [1,4,3,5]])\n",
    "print(arr)\n",
    "\n",
    "print(' ')\n",
    "print(arr.T)\n",
    "\n",
    "tens = torch.tensor([ [1,5,2,6]])\n",
    "print(tens)\n",
    "\n",
    "print(' ')\n",
    "print(tens.T)"
   ]
  },
  {
   "cell_type": "code",
   "execution_count": 33,
   "metadata": {},
   "outputs": [
    {
     "name": "stdout",
     "output_type": "stream",
     "text": [
      "[[27 57 53]\n",
      " [40 91 87]\n",
      " [37 82 78]]\n"
     ]
    }
   ],
   "source": [
    "arr_2 = np.array([[1,4,5],\n",
    "                   [4,5,8],\n",
    "                   [3,5,7]])\n",
    "\n",
    "arr_3 = np.array([[1,4,5],\n",
    "                   [4,7,7],\n",
    "                   [2,5,4]])\n",
    "\n",
    "print(np.dot(arr_2, arr_3))\n",
    "# print(np.sum(arr_2, arr_3)) "
   ]
  },
  {
   "attachments": {},
   "cell_type": "markdown",
   "metadata": {},
   "source": [
    ">> Matrix multiplication"
   ]
  },
  {
   "cell_type": "code",
   "execution_count": 34,
   "metadata": {},
   "outputs": [],
   "source": [
    "# array (r1, c1) * (r2, c2)\n",
    "#condition: (c1) = (r2)\n",
    "#shape = (r1, c2)\n",
    "        #where: \n",
    "            # r1 and r2 are the number of rows for 1 and 2\n",
    "            # c1 and c2 are the number of columns for 1 and 2\n",
    "\n"
   ]
  },
  {
   "cell_type": "code",
   "execution_count": 35,
   "metadata": {},
   "outputs": [
    {
     "name": "stdout",
     "output_type": "stream",
     "text": [
      "[[27 57 53]\n",
      " [40 91 87]\n",
      " [37 82 78]]\n"
     ]
    }
   ],
   "source": [
    "\n",
    "arr_2 = np.array([[1,4,5],\n",
    "                   [4,5,8],\n",
    "                   [3,5,7]])\n",
    "\n",
    "arr_3 = np.array([[1,4,5],\n",
    "                   [4,7,7],\n",
    "                   [2,5,4]])\n",
    "\n",
    "print(np.dot(arr_2, arr_3))\n",
    "# print(np.sum(arr_2, arr_3)) "
   ]
  },
  {
   "cell_type": "code",
   "execution_count": 36,
   "metadata": {},
   "outputs": [
    {
     "data": {
      "text/plain": [
       "array([1, 4, 5, 4, 5, 8, 3, 5, 7])"
      ]
     },
     "execution_count": 36,
     "metadata": {},
     "output_type": "execute_result"
    }
   ],
   "source": [
    "arr_2 = np.array([[1,4,5],\n",
    "                   [4,5,8],\n",
    "                   [3,5,7]])\n",
    "\n",
    "arr_2.flatten()"
   ]
  },
  {
   "cell_type": "code",
   "execution_count": 37,
   "metadata": {},
   "outputs": [
    {
     "name": "stdout",
     "output_type": "stream",
     "text": [
      "208\n"
     ]
    }
   ],
   "source": [
    "arr_2 = np.array([[1,4,5],\n",
    "                   [4,5,8],\n",
    "                   [3,5,7]])\n",
    "\n",
    "arr_3 = np.array([[1,4,5],\n",
    "                   [4,7,7],\n",
    "                   [2,5,4]])\n",
    "\n",
    "# Flatten the tensors\n",
    "arr_2_flat = arr_2.flatten()\n",
    "arr_3_flat = arr_3.flatten()\n",
    "\n",
    "print(np.dot(arr_2_flat, arr_3_flat))\n",
    "# print(np.sum(arr_2, arr_3)) "
   ]
  },
  {
   "cell_type": "code",
   "execution_count": 38,
   "metadata": {},
   "outputs": [
    {
     "name": "stdout",
     "output_type": "stream",
     "text": [
      "tensor(208)\n"
     ]
    }
   ],
   "source": [
    "import torch\n",
    "\n",
    "arr_2 = torch.tensor([[1, 4, 5],\n",
    "                      [4, 5, 8],\n",
    "                      [3, 5, 7]])\n",
    "\n",
    "arr_3 = torch.tensor([[1, 4, 5],\n",
    "                      [4, 7, 7],\n",
    "                      [2, 5, 4]])\n",
    "\n",
    "# Flatten the tensors\n",
    "arr_2_flat = arr_2.flatten()\n",
    "arr_3_flat = arr_3.flatten()\n",
    "\n",
    "# Calculate the dot product\n",
    "result = torch.dot(arr_2_flat, arr_3_flat)\n",
    "\n",
    "print(result)\n"
   ]
  },
  {
   "cell_type": "code",
   "execution_count": 39,
   "metadata": {},
   "outputs": [
    {
     "name": "stdout",
     "output_type": "stream",
     "text": [
      "[[ 2. -1. -0.]\n",
      " [ 3. -1. -1.]\n",
      " [ 0. -1. -1.]]\n",
      " \n",
      "[[ 2. -1. -0.]\n",
      " [ 3. -1. -1.]\n",
      " [ 0. -1. -1.]]\n"
     ]
    }
   ],
   "source": [
    "np.random.seed(23)\n",
    "\n",
    "a = np.random.randn(3,3)\n",
    "b = np.random.randn(3,3)\n",
    "c = np.random.randn(3,3)\n",
    "\n",
    "print(np.round(np.matmul(a,b)))\n",
    "print(' ')\n",
    "print(np.round(np.dot(a,b)))\n",
    "\n"
   ]
  },
  {
   "cell_type": "code",
   "execution_count": 40,
   "metadata": {},
   "outputs": [
    {
     "name": "stdout",
     "output_type": "stream",
     "text": [
      "[2, 1, 1]\n",
      "[3, 4, 6]\n",
      "[7, 3, 2]\n"
     ]
    }
   ],
   "source": [
    "import random\n",
    "\n",
    "# Set the number of rows and columns\n",
    "rows = 3\n",
    "columns = 3\n",
    "\n",
    "# Generate random integers for each element in the grid\n",
    "grid = [[random.randint(1, 8) for _ in range(columns)] for _ in range(rows)]\n",
    "\n",
    "# Print the generated grid\n",
    "for row in grid:\n",
    "    print(row)\n"
   ]
  },
  {
   "cell_type": "code",
   "execution_count": 41,
   "metadata": {},
   "outputs": [
    {
     "name": "stdout",
     "output_type": "stream",
     "text": [
      "[3, 5, 1]\n",
      "[4, 5, 4]\n",
      "[5, 1, 5]\n"
     ]
    }
   ],
   "source": [
    "grid = []\n",
    "# row = []\n",
    "\n",
    "for _ in range(rows):\n",
    "    row = []\n",
    "    for _ in range(columns):\n",
    "        row.append(random.randint(1,6))\n",
    "    grid.append(row) \n",
    "    \n",
    "for row in grid:\n",
    "    print(row)"
   ]
  },
  {
   "cell_type": "code",
   "execution_count": 42,
   "metadata": {},
   "outputs": [
    {
     "data": {
      "text/plain": [
       "tensor([[-0.8733,  0.4376, -0.4866],\n",
       "        [-0.7840, -0.2983, -0.9361]])"
      ]
     },
     "execution_count": 42,
     "metadata": {},
     "output_type": "execute_result"
    }
   ],
   "source": [
    "torch.manual_seed(23)           #seed in pytorch\n",
    "\n",
    "torch.randn(2,3)"
   ]
  },
  {
   "attachments": {},
   "cell_type": "markdown",
   "metadata": {},
   "source": [
    ">> Softmax"
   ]
  },
  {
   "cell_type": "code",
   "execution_count": 43,
   "metadata": {},
   "outputs": [],
   "source": [
    "import math\n",
    "import torch\n",
    "import torch.nn as nn  \n",
    "import matplotlib\n",
    "%matplotlib inline"
   ]
  },
  {
   "cell_type": "code",
   "execution_count": 44,
   "metadata": {},
   "outputs": [
    {
     "name": "stdout",
     "output_type": "stream",
     "text": [
      "softmax:  [0.09003057 0.24472847 0.66524096]\n",
      "sum of softmax: 1.0\n"
     ]
    }
   ],
   "source": [
    "z = [1,2,3]\n",
    "\n",
    "ez = ([math.exp(i) for i in z])\n",
    "sum_ez = np.sum(ez)\n",
    "softmax = np.exp(z) / sum_ez\n",
    "print(\"softmax: \", softmax)\n",
    "print(\"sum of softmax:\", np.sum(softmax))\n",
    "# np.round(ez, 2)\n",
    "# ez"
   ]
  },
  {
   "cell_type": "code",
   "execution_count": 45,
   "metadata": {},
   "outputs": [
    {
     "name": "stdout",
     "output_type": "stream",
     "text": [
      "[0.09003057 0.24472847 0.66524096]\n"
     ]
    }
   ],
   "source": [
    "# softmax(x_i) = exp(x_i) / sum(exp(x_j))\n",
    "\n",
    "import numpy as np\n",
    "\n",
    "def softmax(x):\n",
    "    exp_values = np.exp(x)\n",
    "    sum_exp_values = np.sum(exp_values)\n",
    "    softmax_probs = exp_values / sum_exp_values\n",
    "    return softmax_probs\n",
    "\n",
    "# Example input vector\n",
    "x = np.array([1.0, 2.0, 3.0])\n",
    "\n",
    "# Perform softmax\n",
    "softmax_probs = softmax(x)\n",
    "\n",
    "print(softmax_probs)\n",
    "\n"
   ]
  },
  {
   "cell_type": "code",
   "execution_count": 46,
   "metadata": {},
   "outputs": [
    {
     "data": {
      "text/plain": [
       "array([14,  1,  3,  4,  3,  8,  7,  2, 14,  1,  8,  7, 12, -3,  6,  0, -5,\n",
       "        7, 11,  4, 10, 14, -4,  2, 10])"
      ]
     },
     "execution_count": 46,
     "metadata": {},
     "output_type": "execute_result"
    }
   ],
   "source": [
    "ab = [1,2,3,5]\n",
    "np.random.seed(23)\n",
    "z = np.random.randint(-5,high=15,size=25)\n",
    "\n",
    "z"
   ]
  },
  {
   "cell_type": "code",
   "execution_count": 47,
   "metadata": {},
   "outputs": [
    {
     "name": "stdout",
     "output_type": "stream",
     "text": [
      "tensor([3.0960e-01, 6.9981e-07, 5.1709e-06, 1.4056e-05, 5.1709e-06, 7.6743e-04,\n",
      "        2.8232e-04, 1.9023e-06, 3.0960e-01, 6.9981e-07, 7.6743e-04, 2.8232e-04,\n",
      "        4.1900e-02, 1.2817e-08, 1.0386e-04, 2.5745e-07, 1.7347e-09, 2.8232e-04,\n",
      "        1.5414e-02, 1.4056e-05, 5.6706e-03, 3.0960e-01, 4.7153e-09, 1.9023e-06,\n",
      "        5.6706e-03])\n"
     ]
    }
   ],
   "source": [
    "from torch.nn import Softmax\n",
    "\n",
    "softfun = Softmax(dim = 0)\n",
    "sigmaT = softfun( torch.Tensor(z) )\n",
    "\n",
    "print(softfun(torch.Tensor(z)))\n"
   ]
  },
  {
   "cell_type": "code",
   "execution_count": 48,
   "metadata": {},
   "outputs": [
    {
     "name": "stdout",
     "output_type": "stream",
     "text": [
      "tensor([3.0960e-01, 6.9981e-07, 5.1709e-06, 1.4056e-05, 5.1709e-06, 7.6743e-04,\n",
      "        2.8232e-04, 1.9023e-06, 3.0960e-01, 6.9981e-07, 7.6743e-04, 2.8232e-04,\n",
      "        4.1900e-02, 1.2817e-08, 1.0386e-04, 2.5745e-07, 1.7347e-09, 2.8232e-04,\n",
      "        1.5414e-02, 1.4056e-05, 5.6706e-03, 3.0960e-01, 4.7153e-09, 1.9023e-06,\n",
      "        5.6706e-03])\n"
     ]
    }
   ],
   "source": [
    "# slightly more involved using torch.nn\n",
    "\n",
    "# create an instance of the softmax activation class\n",
    "softfun = nn.Softmax(dim=0)\n",
    "\n",
    "# then apply the data to that function\n",
    "sigmaT = softfun( torch.Tensor(z) )\n",
    "\n",
    "# now we get the results\n",
    "print(sigmaT)"
   ]
  },
  {
   "cell_type": "code",
   "execution_count": null,
   "metadata": {},
   "outputs": [],
   "source": []
  },
  {
   "cell_type": "code",
   "execution_count": null,
   "metadata": {},
   "outputs": [],
   "source": []
  },
  {
   "attachments": {},
   "cell_type": "markdown",
   "metadata": {},
   "source": [
    ">> Artificial Neural Network (ANN)"
   ]
  },
  {
   "cell_type": "code",
   "execution_count": 49,
   "metadata": {},
   "outputs": [],
   "source": [
    "# In an Artificial Neural Network (ANN) used for making predictions using data tables, the input values for the \n",
    "# different hidden neurons depend on the specific architecture and design choices. However, in a typical feedforward \n",
    "# neural network, each hidden neuron receives input values from the previous layer's neurons.\n",
    "\n",
    "# Let's consider a simple scenario where we have a feedforward neural network with an input layer, one hidden layer, \n",
    "# and an output layer. The input layer represents the input features or attributes of the data table, and the output \n",
    "# layer represents the predicted values or classes. In this case, the input values for the hidden neurons are the \n",
    "# outputs from the neurons in the input layer. \n",
    "\n",
    "# In a feedforward neural network, each neuron in a hidden layer has its own set of weights, which are initialized \n",
    "# randomly at the beginning of training. The purpose of these weights is to determine the contribution of each input \n",
    "# feature to the neuron's output. The weights are learned and adjusted during the training process.\n",
    "\n",
    "# To illustrate this, let's consider a simple example with three input features (feature1, feature2, feature3) and two \n",
    "# neurons in the first hidden layer (neuron1 and neuron2).\n",
    "\n",
    "# For neuron1 in the first hidden layer, the weighted sum calculation is as follows:\n",
    "# weighted_sum1 = (input1 * weight1_1) + (input2 * weight2_1) + (input3 * weight3_1)\n",
    "\n",
    "# Here, (input1, input2, input3) represents the values of the three input features, and \n",
    "# (weight1_1, weight2_1, weight3_1) represents the corresponding weights for neuron1.\n",
    "\n",
    "# Similarly, for neuron2 in the first hidden layer, the weighted sum calculation is:\n",
    "# weighted_sum2 = (input1 * weight1_2) + (input2 * weight2_2) + (input3 * weight3_2)\n",
    "\n",
    "# Here, (weight1_2, weight2_2, weight3_2) represents the weights associated with neuron2.\n",
    "\n",
    "# Each neuron in the first hidden layer has its own set of weights, which are unique and different from the weights of \n",
    "# other neurons in the same layer. These weights control the contribution of each input feature to the neuron's \n",
    "# output, allowing each neuron to learn and capture different patterns or combinations of features.\n",
    "\n",
    "# After calculating the weighted sums, an activation function is applied to introduce non-linearity into the network. \n",
    "# The activation function transforms the weighted sum into an output value for each neuron.\n",
    "# output = activation_function(weighted_sum)\n"
   ]
  },
  {
   "cell_type": "code",
   "execution_count": 50,
   "metadata": {},
   "outputs": [
    {
     "name": "stdout",
     "output_type": "stream",
     "text": [
      "max value of array m: 10, and location 2\n",
      "max value of array n: 13, and location 3\n",
      "max value of array o: 9, and location 1\n"
     ]
    }
   ],
   "source": [
    "m = np.array([1,5, 10, 3])\n",
    "n = np.array([0,6, 4, 13])\n",
    "o = np.array([1,9, 6, 3])\n",
    "\n",
    "print(f\"max value of array m: {m.max()}, and location {m.argmax()}\")\n",
    "print(f\"max value of array n: {n.max()}, and location {n.argmax()}\")\n",
    "print(f\"max value of array o: {o.max()}, and location {o.argmax()}\")"
   ]
  },
  {
   "cell_type": "code",
   "execution_count": 51,
   "metadata": {},
   "outputs": [
    {
     "name": "stdout",
     "output_type": "stream",
     "text": [
      "max value of the entire tensor: 10\n",
      "row max value of array m: tensor([10,  6,  9]), and location tensor([2, 2, 1])\n",
      "column max value of array m: tensor([ 3,  9, 10,  3]), and location tensor([1, 2, 0, 0])\n"
     ]
    }
   ],
   "source": [
    "m = torch.tensor([[1,5, 10, 3],\n",
    "                 [3,5,6, 3],\n",
    "                 [3,9,2, 3]\n",
    "                 ])\n",
    "\n",
    "print(f\"max value of the entire tensor: {torch.max(m)}\")\n",
    "print(f\"row max value of array m: {torch.max(m, axis = 1).values}, and location {torch.max(m, axis = 1).indices}\")\n",
    "print(f\"column max value of array m: {torch.max(m, axis = 0).values}, and location {torch.max(m, axis = 0).indices}\")"
   ]
  },
  {
   "attachments": {},
   "cell_type": "markdown",
   "metadata": {},
   "source": [
    ">> Random seed"
   ]
  },
  {
   "cell_type": "code",
   "execution_count": 52,
   "metadata": {},
   "outputs": [
    {
     "data": {
      "text/plain": [
       "array([[ 0.66698806,  0.02581308, -0.77761941],\n",
       "       [ 0.94863382,  0.70167179, -1.05108156],\n",
       "       [-0.36754812, -1.13745969, -1.32214752]])"
      ]
     },
     "execution_count": 52,
     "metadata": {},
     "output_type": "execute_result"
    }
   ],
   "source": [
    "np.random.seed(23)  #this will apply random seed to the entire code cell\n",
    "\n",
    "var = np.random.randn(3,3)\n",
    "var"
   ]
  },
  {
   "cell_type": "code",
   "execution_count": 53,
   "metadata": {},
   "outputs": [
    {
     "name": "stdout",
     "output_type": "stream",
     "text": [
      "[[ 0.66698806  0.02581308 -0.77761941]\n",
      " [ 0.94863382  0.70167179 -1.05108156]\n",
      " [-0.36754812 -1.13745969 -1.32214752]]\n",
      " \n",
      "[[ 1.77225828 -0.34745899  0.67014016]\n",
      " [ 0.32227152  0.06034293 -1.04345   ]\n",
      " [-1.00994188  0.44173637  1.12887685]]\n"
     ]
    }
   ],
   "source": [
    "randseed = np.random.RandomState(23) #this will apply random seed to only the variable\n",
    "\n",
    "print(randseed.randn(3,3))\n",
    "print(' ')\n",
    "print(randseed.randn(3,3))"
   ]
  },
  {
   "cell_type": "code",
   "execution_count": 54,
   "metadata": {},
   "outputs": [
    {
     "name": "stdout",
     "output_type": "stream",
     "text": [
      "tensor([[-0.8733,  0.4376, -0.4866],\n",
      "        [-0.7840, -0.2983, -0.9361],\n",
      "        [-0.5051,  1.5187,  0.1880]])\n",
      " \n",
      "[[ 1.77225828 -0.34745899  0.67014016]\n",
      " [ 0.32227152  0.06034293 -1.04345   ]\n",
      " [-1.00994188  0.44173637  1.12887685]]\n"
     ]
    }
   ],
   "source": [
    "torch.manual_seed(23)   #pytorch alternative for random seed\n",
    "\n",
    "print(torch.randn(3,3))\n",
    "print(\" \")\n",
    "print(np.random.randn(3,3))"
   ]
  },
  {
   "cell_type": "code",
   "execution_count": 55,
   "metadata": {},
   "outputs": [
    {
     "data": {
      "text/plain": [
       "'2.0.1'"
      ]
     },
     "execution_count": 55,
     "metadata": {},
     "output_type": "execute_result"
    }
   ],
   "source": [
    "torch.__version__"
   ]
  },
  {
   "cell_type": "code",
   "execution_count": 56,
   "metadata": {},
   "outputs": [],
   "source": [
    "#symbolic maths in python\n",
    "import sympy as sym\n",
    "import sympy.plotting.plot as symplot\n",
    "\n"
   ]
  },
  {
   "attachments": {},
   "cell_type": "markdown",
   "metadata": {},
   "source": [
    ">> Gradient descent"
   ]
  },
  {
   "cell_type": "code",
   "execution_count": null,
   "metadata": {},
   "outputs": [],
   "source": []
  },
  {
   "cell_type": "code",
   "execution_count": 57,
   "metadata": {},
   "outputs": [
    {
     "name": "stdout",
     "output_type": "stream",
     "text": [
      "Make: Toyota\n",
      "Model: Camry\n",
      "Year: 2021\n",
      "Wheels: 4\n",
      "Updated Year: 2022\n",
      "Engine started.\n",
      "The Toyota Camry is driving 50 miles.\n",
      "Engine stopped.\n",
      "Honk! Honk!\n"
     ]
    }
   ],
   "source": [
    "class Car:\n",
    "    # Class attribute\n",
    "    # wheels = 4\n",
    "\n",
    "    def __init__(self, make, model, year, wheels):\n",
    "        # Instance attributes\n",
    "        self.make = make \n",
    "        self.model = model  \n",
    "        self.year = year\n",
    "        self.wheels = wheels\n",
    "        self.engine_status = False\n",
    "\n",
    "    def start_engine(self):\n",
    "        self.engine_status = True\n",
    "        print(\"Engine started.\")\n",
    "\n",
    "    def stop_engine(self):\n",
    "        self.engine_status = False\n",
    "        print(\"Engine stopped.\")\n",
    "\n",
    "    def drive(self, distance):\n",
    "        if self.engine_status:\n",
    "            print(f\"The {self.make} {self.model} is driving {distance} miles.\")\n",
    "        else:\n",
    "            print(\"Start the engine first.\")\n",
    "\n",
    "    def honk_horn(self):\n",
    "        print(\"Honk! Honk!\")\n",
    "\n",
    "# Creating an instance (object) of the Car class\n",
    "my_car = Car(\"Toyota\", \"Camry\", 2021, 4)\n",
    "\n",
    "# Accessing attributes\n",
    "print(f\"Make: {my_car.make}\")\n",
    "print(f\"Model: {my_car.model}\")\n",
    "print(f\"Year: {my_car.year}\")\n",
    "print(f\"Wheels: {my_car.wheels}\")\n",
    "\n",
    "# Modifying attributes\n",
    "my_car.year = 2022\n",
    "print(f\"Updated Year: {my_car.year}\")\n",
    "\n",
    "# Calling object methods\n",
    "my_car.start_engine()\n",
    "my_car.drive(50)\n",
    "my_car.stop_engine()\n",
    "my_car.honk_horn()\n"
   ]
  },
  {
   "cell_type": "code",
   "execution_count": 58,
   "metadata": {},
   "outputs": [],
   "source": [
    "import torch\n",
    "import torch.nn as nn\n",
    "import torch.nn.functional as F\n",
    "import torch.optim as optim"
   ]
  },
  {
   "cell_type": "code",
   "execution_count": 59,
   "metadata": {},
   "outputs": [],
   "source": [
    "x = torch.Tensor(30,1)\n",
    "# x"
   ]
  },
  {
   "cell_type": "code",
   "execution_count": 60,
   "metadata": {},
   "outputs": [],
   "source": [
    "ann_model = nn.Sequential(\n",
    "    nn.Linear(1,1), #input layer\n",
    "    nn.ReLU(),  #activation function\n",
    "    nn.Linear(1,1)  #output layer\n",
    "    \n",
    ")"
   ]
  },
  {
   "cell_type": "code",
   "execution_count": 61,
   "metadata": {},
   "outputs": [],
   "source": [
    "# ann_model(x)"
   ]
  },
  {
   "cell_type": "code",
   "execution_count": 62,
   "metadata": {},
   "outputs": [],
   "source": [
    "optimizer = torch.optim.Adagrad(ann_model.parameters(), lr=1e-2) "
   ]
  },
  {
   "attachments": {},
   "cell_type": "markdown",
   "metadata": {},
   "source": [
    ">> Building your deep learning model (Tutorial code)"
   ]
  },
  {
   "cell_type": "code",
   "execution_count": 72,
   "metadata": {},
   "outputs": [],
   "source": [
    "import matplotlib.pyplot as plt\n",
    "import torch\n",
    "import torch.nn as nn\n",
    "import torch.nn.functional as F\n",
    "import torch.optim as optim"
   ]
  },
  {
   "cell_type": "code",
   "execution_count": 64,
   "metadata": {},
   "outputs": [],
   "source": [
    "x = torch.Tensor(30,1) "
   ]
  },
  {
   "cell_type": "code",
   "execution_count": 65,
   "metadata": {},
   "outputs": [],
   "source": [
    "ann_model = nn.Sequential(\n",
    "    nn.Linear(1,1), #input layer\n",
    "    nn.ReLU(),  #activation function\n",
    "    nn.Linear(1,1)  #output layer\n",
    "    \n",
    ")"
   ]
  },
  {
   "cell_type": "code",
   "execution_count": 66,
   "metadata": {},
   "outputs": [],
   "source": [
    "# learning rate \n",
    "learningRate = .05 \n",
    "\n",
    "# loss function \n",
    "lossfun = nn.MSELoss() \n",
    "\n",
    "# optimizer (the flavor of gradient descent to implement) \n",
    "optimizer = optim.SGD(ann_model.parameters(),lr=learningRate) "
   ]
  },
  {
   "cell_type": "code",
   "execution_count": 70,
   "metadata": {},
   "outputs": [
    {
     "name": "stderr",
     "output_type": "stream",
     "text": [
      "c:\\Users\\Cornel\\anaconda3\\envs\\paul_flask\\lib\\site-packages\\torch\\nn\\modules\\loss.py:536: UserWarning: Using a target size (torch.Size([30, 3])) that is different to the input size (torch.Size([30, 1])). This will likely lead to incorrect results due to broadcasting. Please ensure they have the same size.\n",
      "  return F.mse_loss(input, target, reduction=self.reduction)\n"
     ]
    }
   ],
   "source": [
    "#Lecturers own code:\n",
    "# train the model\n",
    "numepochs = 500\n",
    "losses = torch.zeros(numepochs)\n",
    "y = torch.Tensor(30, 3)\n",
    "\n",
    "## Train the model!\n",
    "for epochi in range(numepochs):\n",
    "\n",
    "  # forward pass\n",
    "  yHat = ann_model(x)\n",
    "\n",
    "  # compute loss\n",
    "  loss = lossfun(yHat,y)\n",
    "  losses[epochi] = loss\n",
    "\n",
    "  # backprop\n",
    "  optimizer.zero_grad()\n",
    "  loss.backward()\n",
    "  optimizer.step()\n",
    "\n"
   ]
  },
  {
   "cell_type": "code",
   "execution_count": 73,
   "metadata": {},
   "outputs": [
    {
     "data": {
      "image/png": "[encoded data removed]",
      "text/plain": [
       "<Figure size 640x480 with 1 Axes>"
      ]
     },
     "metadata": {},
     "output_type": "display_data"
    }
   ],
   "source": [
    "# show the losses\n",
    "\n",
    "# manually compute losses\n",
    "# final forward pass\n",
    "predictions = ann_model(x)\n",
    "\n",
    "# final loss (MSE)\n",
    "testloss = (predictions-y).pow(2).mean()\n",
    "\n",
    "plt.plot(losses.detach(),'o',markerfacecolor='w',linewidth=.1)\n",
    "plt.plot(numepochs,testloss.detach(),'ro')\n",
    "plt.xlabel('Epoch')\n",
    "plt.ylabel('Loss')\n",
    "plt.title('Final loss = %g' %testloss.item())\n",
    "plt.show()"
   ]
  },
  {
   "attachments": {},
   "cell_type": "markdown",
   "metadata": {},
   "source": [
    ">> Build your deep learning model (my code and practice)"
   ]
  },
  {
   "cell_type": "code",
   "execution_count": null,
   "metadata": {},
   "outputs": [],
   "source": [
    "pytorchtf.keras.models.save_model(\n",
    "    model, filePathString, overwrite=True,\n",
    "    include_optimizer=True, save_format=None,\n",
    "    signatures=None, options=None)"
   ]
  },
  {
   "cell_type": "code",
   "execution_count": null,
   "metadata": {},
   "outputs": [],
   "source": [
    "import torch\n",
    "import torch.nn as nn\n",
    "import torch.optim as optim\n",
    "\n",
    "# Example data\n",
    "x = torch.randn(100, 10)  # Input data tensor\n",
    "y = torch.randn(100, 1)   # Target tensor\n",
    "\n",
    "# Model definition\n",
    "class ANN(nn.Module):\n",
    "    def __init__(self):\n",
    "        super(ANN, self).__init__()\n",
    "        self.fc = nn.Linear(10, 1)  # Example fully connected layer\n",
    "\n",
    "    def forward(self, x):\n",
    "        return self.fc(x)\n",
    "\n",
    "# Create the model instance\n",
    "# ANNreg = ANN()\n",
    "\n",
    "# Learning rate\n",
    "learningRate = 0.05\n",
    "\n",
    "# Loss function\n",
    "lossfun = nn.MSELoss()\n",
    "\n",
    "# Optimizer\n",
    "optimizer = optim.SGD(ann_model.parameters(), lr=learningRate)\n",
    "\n",
    "# Train the model\n",
    "numepochs = 500\n",
    "losses = torch.zeros(numepochs)\n",
    "\n",
    "# Train the model!\n",
    "for epochi in range(numepochs):\n",
    "    # Forward pass\n",
    "    yHat = ann_model(x)\n",
    "\n",
    "    # Compute loss\n",
    "    loss = lossfun(yHat, y)\n",
    "    losses[epochi] = loss\n",
    "\n",
    "    # Backpropagation\n",
    "    optimizer.zero_grad()\n",
    "    loss.backward()\n",
    "    optimizer.step()\n",
    "\n",
    "    print('Loss: {}'.format(losses[epochi]))\n",
    "\n",
    "print('Finished Training') \n"
   ]
  },
  {
   "attachments": {},
   "cell_type": "markdown",
   "metadata": {},
   "source": [
    ">> back to practice"
   ]
  },
  {
   "cell_type": "code",
   "execution_count": null,
   "metadata": {},
   "outputs": [],
   "source": [
    "import torch\n",
    "import torch.nn as nn\n",
    "import torch.nn.functional as F\n",
    "import torch.optim as optim"
   ]
  },
  {
   "cell_type": "code",
   "execution_count": 169,
   "metadata": {},
   "outputs": [
    {
     "name": "stdout",
     "output_type": "stream",
     "text": [
      "Loss: 0.8616071939468384\n",
      "Loss: 0.8615117073059082\n",
      "Loss: 0.8614137768745422\n",
      "Loss: 0.8613141775131226\n",
      "Loss: 0.8612133860588074\n",
      "Loss: 0.8611114621162415\n",
      "Loss: 0.8610085248947144\n",
      "Loss: 0.86090487241745\n",
      "Loss: 0.8608003854751587\n",
      "Loss: 0.8606953620910645\n",
      "Finished Training\n",
      "tensor([[0.0654, 0.8558, 0.0000, 0.6128, 0.0000]], grad_fn=<ReluBackward0>)\n"
     ]
    }
   ],
   "source": [
    "import torch\n",
    "import torch.nn as nn\n",
    "import torch.nn.functional as F\n",
    "import torch.optim as optim\n",
    "\n",
    "# Define a simple neural network with ReLU activation\n",
    "class MyModel(nn.Module):\n",
    "    def __init__(self):\n",
    "        super(MyModel, self).__init__()\n",
    "        self.fc1 = nn.Linear(10, 5)  # Input size: 10, Output size: 5\n",
    "        self.relu = nn.ReLU()\n",
    "\n",
    "    def forward(self, x):\n",
    "        x = self.fc1(x)\n",
    "        x = self.relu(x)\n",
    "        return x\n",
    "\n",
    "# Instantiate the model\n",
    "model = MyModel()\n",
    "\n",
    "# Generate sample input data\n",
    "input_data = torch.randn(1, 10)  # Batch size: 1, Input size: 10\n",
    "labels = torch.randint(0, 2, size=(1,5)).float()\n",
    "\n",
    "device = torch.device('cuda:0' if torch.cuda.is_available() else 'cpu') \n",
    "criterion = nn.BCEWithLogitsLoss()\n",
    "optimizer = torch.optim.Adadelta(model.parameters(), lr=1e-2) \n",
    "\n",
    "# loop over the dataset multiple times\n",
    "for epoch in range(10):\n",
    "    running_loss = 0.0 \n",
    "    for i, data in enumerate(input_data, 0):\n",
    "        inputs, labels = input_data.to(device), labels.to(device)\n",
    "\n",
    "        # zero the parameter gradients\n",
    "        optimizer.zero_grad()\n",
    "\n",
    "        # forward + backward + optimize\n",
    "        outputs = model(inputs)\n",
    "        loss = criterion(outputs, labels)\n",
    "        loss.backward()\n",
    "        optimizer.step()\n",
    "\n",
    "        running_loss += loss.item()\n",
    "\n",
    "    print('Loss: {}'.format(running_loss) )\n",
    "\n",
    "print('Finished Training')\n",
    "# Pass the input through the model\n",
    "output = model(input_data)\n",
    "\n",
    "print(output)\n"
   ]
  },
  {
   "cell_type": "code",
   "execution_count": null,
   "metadata": {},
   "outputs": [],
   "source": []
  },
  {
   "cell_type": "code",
   "execution_count": null,
   "metadata": {},
   "outputs": [],
   "source": []
  },
  {
   "cell_type": "code",
   "execution_count": 258,
   "metadata": {},
   "outputs": [
    {
     "data": {
      "image/png": "[encoded data removed]",
      "text/plain": [
       "<Figure size 500x500 with 1 Axes>"
      ]
     },
     "metadata": {},
     "output_type": "display_data"
    }
   ],
   "source": [
    "# create data\n",
    "\n",
    "nPerClust = 100\n",
    "blur = 1\n",
    "\n",
    "A = [  1,  3 ]\n",
    "B = [  1, -2 ]\n",
    "\n",
    "# generate data\n",
    "a = [ A[0]+np.random.randn(nPerClust)*blur , A[1]+np.random.randn(nPerClust)*blur ]\n",
    "b = [ B[0]+np.random.randn(nPerClust)*blur , B[1]+np.random.randn(nPerClust)*blur ]\n",
    "\n",
    "# true labels\n",
    "labels_np = np.vstack((np.zeros((nPerClust,1)),np.ones((nPerClust,1))))\n",
    "\n",
    "# concatanate into a matrix\n",
    "data_np = np.hstack((a,b)).T\n",
    "\n",
    "# convert to a pytorch tensor\n",
    "data = torch.tensor(data_np).float()\n",
    "labels = torch.tensor(labels_np).float()\n",
    "\n",
    "# show the data\n",
    "fig = plt.figure(figsize=(5,5))\n",
    "plt.plot(data[np.where(labels==0)[0],0],data[np.where(labels==0)[0],1],'bs')\n",
    "plt.plot(data[np.where(labels==1)[0],0],data[np.where(labels==1)[0],1],'ko')\n",
    "plt.title('The qwerties!')\n",
    "plt.xlabel('qwerty dimension 1')\n",
    "plt.ylabel('qwerty dimension 2')\n",
    "plt.show()"
   ]
  },
  {
   "cell_type": "code",
   "execution_count": 271,
   "metadata": {},
   "outputs": [
    {
     "name": "stderr",
     "output_type": "stream",
     "text": [
      "Processing:   0%|          | 0/5 [00:00<?, ?it/s]"
     ]
    },
    {
     "name": "stdout",
     "output_type": "stream",
     "text": [
      "items:  2\n"
     ]
    },
    {
     "name": "stderr",
     "output_type": "stream",
     "text": [
      "Processing:  20%|██        | 1/5 [00:02<00:08,  2.02s/it]"
     ]
    },
    {
     "name": "stdout",
     "output_type": "stream",
     "text": [
      "item:  3\n",
      "items:  4\n"
     ]
    },
    {
     "name": "stderr",
     "output_type": "stream",
     "text": [
      "Processing:  40%|████      | 2/5 [00:04<00:06,  2.02s/it]"
     ]
    },
    {
     "name": "stdout",
     "output_type": "stream",
     "text": [
      "item:  5\n",
      "items:  6\n"
     ]
    },
    {
     "name": "stderr",
     "output_type": "stream",
     "text": [
      "Processing:  60%|██████    | 3/5 [00:06<00:04,  2.02s/it]"
     ]
    },
    {
     "name": "stdout",
     "output_type": "stream",
     "text": [
      "item:  7\n",
      "items:  8\n"
     ]
    },
    {
     "name": "stderr",
     "output_type": "stream",
     "text": [
      "Processing:  80%|████████  | 4/5 [00:08<00:02,  2.02s/it]"
     ]
    },
    {
     "name": "stdout",
     "output_type": "stream",
     "text": [
      "item:  9\n",
      "items:  10\n"
     ]
    },
    {
     "name": "stderr",
     "output_type": "stream",
     "text": [
      "Processing: 100%|██████████| 5/5 [00:10<00:00,  2.02s/it]"
     ]
    },
    {
     "name": "stdout",
     "output_type": "stream",
     "text": [
      "item:  11\n"
     ]
    },
    {
     "name": "stderr",
     "output_type": "stream",
     "text": [
      "\n"
     ]
    }
   ],
   "source": [
    "from tqdm import tqdm\n",
    "import time\n",
    "\n",
    "# Create a list of elements\n",
    "my_list = [1, 2, 3, 4, 5]\n",
    "\n",
    "# Iterate over the list using tqdm\n",
    "for item in tqdm(my_list, desc='Processing', leave=True):\n",
    "    # Simulate some work\n",
    "    time.sleep(1)\n",
    "    item *= 2\n",
    "    print('items: ', item)\n",
    "    time.sleep(1)\n",
    "    print('item: ', item+1)\n"
   ]
  },
  {
   "attachments": {},
   "cell_type": "markdown",
   "metadata": {},
   "source": [
    ">> My Iris Project"
   ]
  },
  {
   "cell_type": "code",
   "execution_count": 358,
   "metadata": {},
   "outputs": [],
   "source": [
    "from sklearn.datasets import load_iris\n",
    "import torch\n",
    "import torch.nn as nn\n",
    "import torch.nn.functional as F\n",
    "import torch.optim as optim"
   ]
  },
  {
   "cell_type": "code",
   "execution_count": 356,
   "metadata": {},
   "outputs": [],
   "source": [
    "# input, labels = load_iris(return_X_y=True, as_frame=True)\n",
    "\n",
    "# dataloader = torch.utils.data.DataLoader(input, batch_size=1, shuffle=False)\n",
    "# # dataloader = torch.utils.DataLoader(dataset, batch_size=1, shuffle=False)\n",
    "\n",
    "# dataloader"
   ]
  },
  {
   "cell_type": "code",
   "execution_count": 359,
   "metadata": {},
   "outputs": [],
   "source": [
    "import torch\n",
    "from torch.utils.data import Dataset, DataLoader\n",
    "from sklearn.datasets import load_iris\n",
    "\n",
    "class IrisDataset(Dataset):\n",
    "    def __init__(self, data, targets):\n",
    "        self.data = data\n",
    "        self.targets = targets\n",
    "\n",
    "    def __len__(self):\n",
    "        return len(self.data)\n",
    "\n",
    "    def __getitem__(self, index):\n",
    "        input_data = self.data[index]\n",
    "        label = self.targets[index]\n",
    "        return input_data, label\n",
    "\n",
    "# Load the Iris dataset\n",
    "iris = load_iris()\n",
    "inputs = iris.data\n",
    "labels = iris.target\n",
    "\n",
    "# Create a custom dataset\n",
    "dataset = IrisDataset(inputs, labels)\n",
    "\n",
    "# Create a data loader\n",
    "batch_size = 30\n",
    "shuffle = True\n",
    "dataloader = DataLoader(dataset, batch_size=batch_size, shuffle=shuffle)\n",
    "\n",
    "# # Iterate over the data loader\n",
    "# for inputs, labels in dataloader:\n",
    "#     # Perform your training/validation/test operations here\n",
    "#     # 'inputs' and 'labels' will contain a batch of data\n",
    "#     # You can access individual samples using indexing, e.g., inputs[0], labels[0]\n",
    "#     pass\n"
   ]
  },
  {
   "cell_type": "code",
   "execution_count": 362,
   "metadata": {},
   "outputs": [],
   "source": [
    "#Define the Model\n",
    "\n",
    "class iris_model(nn.Module):\n",
    "    def __init__(self):\n",
    "        super(iris_model, self).__init__()\n",
    "        self.fc1 = nn.Linear(4, 4)\n",
    "        self.fca = nn.ReLU()\n",
    "        self.fc2 = nn.Linear(4, 3)\n",
    "        self.fcb = nn.Softmax() \n",
    "        \n",
    "    def forward(self, x):\n",
    "        out = self.fc1(x)\n",
    "        out = self.fca(out)\n",
    "        out = self.fc2(out)\n",
    "        out = self.fcb(out) \n",
    "        return out\n",
    "\n",
    "model = iris_model()\n",
    "# y_pred = model(x)\n"
   ]
  },
  {
   "cell_type": "code",
   "execution_count": 402,
   "metadata": {},
   "outputs": [
    {
     "name": "stderr",
     "output_type": "stream",
     "text": [
      "C:\\Users\\Cornel\\AppData\\Local\\Temp\\ipykernel_22864\\4265651290.py:15: UserWarning: Implicit dimension choice for softmax has been deprecated. Change the call to include dim=X as an argument.\n",
      "  out = self.fcb(out)\n"
     ]
    },
    {
     "name": "stdout",
     "output_type": "stream",
     "text": [
      "Epoch: 1, Loss: 2.9044, Accuracy: 96.67%\n",
      "Loss: 2.904392421245575\n",
      "Epoch: 2, Loss: 2.8682, Accuracy: 98.00%\n",
      "Loss: 2.8681511878967285\n",
      "Epoch: 3, Loss: 2.8393, Accuracy: 98.67%\n",
      "Loss: 2.839274525642395\n",
      "Epoch: 4, Loss: 2.8549, Accuracy: 98.00%\n",
      "Loss: 2.854915142059326\n",
      "Epoch: 5, Loss: 2.8583, Accuracy: 98.00%\n",
      "Loss: 2.8582616448402405\n",
      "Epoch: 6, Loss: 2.8870, Accuracy: 97.33%\n",
      "Loss: 2.887011229991913\n",
      "Epoch: 7, Loss: 2.8627, Accuracy: 98.00%\n",
      "Loss: 2.8627381324768066\n",
      "Epoch: 8, Loss: 2.8658, Accuracy: 98.00%\n",
      "Loss: 2.865845263004303\n",
      "Epoch: 9, Loss: 2.8476, Accuracy: 98.00%\n",
      "Loss: 2.8476456999778748\n",
      "Epoch: 10, Loss: 2.8476, Accuracy: 98.00%\n",
      "Loss: 2.847555458545685\n",
      "Epoch: 11, Loss: 2.8467, Accuracy: 98.67%\n",
      "Loss: 2.846714675426483\n",
      "Epoch: 12, Loss: 2.8668, Accuracy: 98.00%\n",
      "Loss: 2.8668195605278015\n",
      "Epoch: 13, Loss: 2.8495, Accuracy: 98.00%\n",
      "Loss: 2.849468410015106\n",
      "Epoch: 14, Loss: 2.8497, Accuracy: 98.67%\n",
      "Loss: 2.8497140407562256\n",
      "Epoch: 15, Loss: 2.8627, Accuracy: 98.00%\n",
      "Loss: 2.8626739978790283\n",
      "Epoch: 16, Loss: 2.8524, Accuracy: 98.00%\n",
      "Loss: 2.8523948788642883\n",
      "Epoch: 17, Loss: 2.8521, Accuracy: 98.00%\n",
      "Loss: 2.852142572402954\n",
      "Epoch: 18, Loss: 2.8449, Accuracy: 98.00%\n",
      "Loss: 2.8448832035064697\n",
      "Epoch: 19, Loss: 2.8520, Accuracy: 98.00%\n",
      "Loss: 2.8520122170448303\n",
      "Epoch: 20, Loss: 2.8552, Accuracy: 98.00%\n",
      "Loss: 2.855244219303131\n",
      "Epoch: 21, Loss: 2.8770, Accuracy: 97.33%\n",
      "Loss: 2.8769723773002625\n",
      "Epoch: 22, Loss: 2.8596, Accuracy: 98.00%\n",
      "Loss: 2.8595964908599854\n",
      "Epoch: 23, Loss: 2.8449, Accuracy: 98.00%\n",
      "Loss: 2.844889521598816\n",
      "Epoch: 24, Loss: 2.8365, Accuracy: 98.00%\n",
      "Loss: 2.8364802598953247\n",
      "Epoch: 25, Loss: 2.9169, Accuracy: 96.67%\n",
      "Loss: 2.916944742202759\n",
      "Epoch: 26, Loss: 2.8589, Accuracy: 98.00%\n",
      "Loss: 2.8588687777519226\n",
      "Epoch: 27, Loss: 2.8441, Accuracy: 98.00%\n",
      "Loss: 2.844085156917572\n",
      "Epoch: 28, Loss: 2.8735, Accuracy: 97.33%\n",
      "Loss: 2.873528838157654\n",
      "Epoch: 29, Loss: 2.8505, Accuracy: 98.00%\n",
      "Loss: 2.850463330745697\n",
      "Epoch: 30, Loss: 2.8451, Accuracy: 98.00%\n",
      "Loss: 2.845099449157715\n",
      "Epoch: 31, Loss: 2.8564, Accuracy: 98.00%\n",
      "Loss: 2.8564175367355347\n",
      "Epoch: 32, Loss: 2.9323, Accuracy: 97.33%\n",
      "Loss: 2.93231201171875\n",
      "Epoch: 33, Loss: 2.9305, Accuracy: 96.00%\n",
      "Loss: 2.930497467517853\n",
      "Epoch: 34, Loss: 2.8524, Accuracy: 98.00%\n",
      "Loss: 2.852410674095154\n",
      "Epoch: 35, Loss: 2.8583, Accuracy: 98.00%\n",
      "Loss: 2.8582987785339355\n",
      "Epoch: 36, Loss: 2.8606, Accuracy: 97.33%\n",
      "Loss: 2.860624074935913\n",
      "Epoch: 37, Loss: 2.8470, Accuracy: 98.00%\n",
      "Loss: 2.846983313560486\n",
      "Epoch: 38, Loss: 2.8732, Accuracy: 98.00%\n",
      "Loss: 2.873249590396881\n",
      "Epoch: 39, Loss: 2.8570, Accuracy: 98.00%\n",
      "Loss: 2.8569661378860474\n",
      "Epoch: 40, Loss: 2.8614, Accuracy: 98.00%\n",
      "Loss: 2.8613699674606323\n",
      "Epoch: 41, Loss: 2.8906, Accuracy: 97.33%\n",
      "Loss: 2.89055734872818\n",
      "Epoch: 42, Loss: 2.8510, Accuracy: 98.00%\n",
      "Loss: 2.8510075211524963\n",
      "Epoch: 43, Loss: 2.8461, Accuracy: 98.67%\n",
      "Loss: 2.846098482608795\n",
      "Epoch: 44, Loss: 2.8549, Accuracy: 98.67%\n",
      "Loss: 2.8548874258995056\n",
      "Epoch: 45, Loss: 2.8623, Accuracy: 98.00%\n",
      "Loss: 2.862345576286316\n",
      "Epoch: 46, Loss: 2.8627, Accuracy: 97.33%\n",
      "Loss: 2.862691879272461\n",
      "Epoch: 47, Loss: 2.8564, Accuracy: 98.00%\n",
      "Loss: 2.8563833236694336\n",
      "Epoch: 48, Loss: 2.8438, Accuracy: 98.67%\n",
      "Loss: 2.8437984585762024\n",
      "Epoch: 49, Loss: 2.8488, Accuracy: 97.33%\n",
      "Loss: 2.848808765411377\n",
      "Epoch: 50, Loss: 2.8482, Accuracy: 98.00%\n",
      "Loss: 2.8482216596603394\n",
      "Epoch: 51, Loss: 2.8484, Accuracy: 98.00%\n",
      "Loss: 2.848366677761078\n",
      "Epoch: 52, Loss: 2.8609, Accuracy: 98.00%\n",
      "Loss: 2.8608840107917786\n",
      "Epoch: 53, Loss: 2.8456, Accuracy: 98.00%\n",
      "Loss: 2.8455705642700195\n",
      "Epoch: 54, Loss: 2.8416, Accuracy: 98.67%\n",
      "Loss: 2.841562867164612\n",
      "Epoch: 55, Loss: 2.8576, Accuracy: 98.00%\n",
      "Loss: 2.8575705885887146\n",
      "Epoch: 56, Loss: 2.8605, Accuracy: 98.00%\n",
      "Loss: 2.8604915738105774\n",
      "Epoch: 57, Loss: 2.8757, Accuracy: 97.33%\n",
      "Loss: 2.8757323622703552\n",
      "Epoch: 58, Loss: 2.8944, Accuracy: 97.33%\n",
      "Loss: 2.89435875415802\n",
      "Epoch: 59, Loss: 2.8607, Accuracy: 98.00%\n",
      "Loss: 2.8606834411621094\n",
      "Epoch: 60, Loss: 2.8665, Accuracy: 97.33%\n",
      "Loss: 2.866476893424988\n",
      "Epoch: 61, Loss: 2.8564, Accuracy: 98.00%\n",
      "Loss: 2.856417238712311\n",
      "Epoch: 62, Loss: 2.8433, Accuracy: 98.00%\n",
      "Loss: 2.843302607536316\n",
      "Epoch: 63, Loss: 2.8582, Accuracy: 98.00%\n",
      "Loss: 2.858236610889435\n",
      "Epoch: 64, Loss: 2.8832, Accuracy: 97.33%\n",
      "Loss: 2.8832055926322937\n",
      "Epoch: 65, Loss: 2.8499, Accuracy: 98.00%\n",
      "Loss: 2.849897563457489\n",
      "Epoch: 66, Loss: 2.8701, Accuracy: 97.33%\n",
      "Loss: 2.8701485991477966\n",
      "Epoch: 67, Loss: 2.8591, Accuracy: 98.00%\n",
      "Loss: 2.859052538871765\n",
      "Epoch: 68, Loss: 2.8579, Accuracy: 98.00%\n",
      "Loss: 2.857886493206024\n",
      "Epoch: 69, Loss: 2.8649, Accuracy: 98.00%\n",
      "Loss: 2.8649335503578186\n",
      "Epoch: 70, Loss: 2.8548, Accuracy: 98.00%\n",
      "Loss: 2.854783296585083\n",
      "Epoch: 71, Loss: 2.8630, Accuracy: 98.00%\n",
      "Loss: 2.8630338311195374\n",
      "Epoch: 72, Loss: 2.8588, Accuracy: 98.00%\n",
      "Loss: 2.858777642250061\n",
      "Epoch: 73, Loss: 2.8605, Accuracy: 98.00%\n",
      "Loss: 2.8604867458343506\n",
      "Epoch: 74, Loss: 2.8714, Accuracy: 98.00%\n",
      "Loss: 2.8714460134506226\n",
      "Epoch: 75, Loss: 2.8441, Accuracy: 98.00%\n",
      "Loss: 2.844114661216736\n",
      "Epoch: 76, Loss: 2.8571, Accuracy: 98.00%\n",
      "Loss: 2.8570761680603027\n",
      "Epoch: 77, Loss: 2.8623, Accuracy: 98.00%\n",
      "Loss: 2.8623496294021606\n",
      "Epoch: 78, Loss: 2.8397, Accuracy: 98.67%\n",
      "Loss: 2.8396544456481934\n",
      "Epoch: 79, Loss: 2.8688, Accuracy: 98.00%\n",
      "Loss: 2.8688465356826782\n",
      "Epoch: 80, Loss: 2.8507, Accuracy: 98.00%\n",
      "Loss: 2.850713610649109\n",
      "Epoch: 81, Loss: 2.8416, Accuracy: 98.00%\n",
      "Loss: 2.841571867465973\n",
      "Epoch: 82, Loss: 2.8591, Accuracy: 98.00%\n",
      "Loss: 2.859119474887848\n",
      "Epoch: 83, Loss: 2.8605, Accuracy: 98.00%\n",
      "Loss: 2.860544741153717\n",
      "Epoch: 84, Loss: 2.8448, Accuracy: 98.67%\n",
      "Loss: 2.8448086977005005\n",
      "Epoch: 85, Loss: 2.8612, Accuracy: 98.00%\n",
      "Loss: 2.8611876368522644\n",
      "Epoch: 86, Loss: 2.8579, Accuracy: 98.00%\n",
      "Loss: 2.8578823804855347\n",
      "Epoch: 87, Loss: 2.8599, Accuracy: 98.00%\n",
      "Loss: 2.8598684072494507\n",
      "Epoch: 88, Loss: 2.8446, Accuracy: 98.00%\n",
      "Loss: 2.844642996788025\n",
      "Epoch: 89, Loss: 2.8611, Accuracy: 98.00%\n",
      "Loss: 2.8611406087875366\n",
      "Epoch: 90, Loss: 2.8672, Accuracy: 97.33%\n",
      "Loss: 2.8671655654907227\n",
      "Epoch: 91, Loss: 2.8588, Accuracy: 98.00%\n",
      "Loss: 2.8588324785232544\n",
      "Epoch: 92, Loss: 2.8529, Accuracy: 98.00%\n",
      "Loss: 2.852876663208008\n",
      "Epoch: 93, Loss: 2.8527, Accuracy: 98.00%\n",
      "Loss: 2.8527327179908752\n",
      "Epoch: 94, Loss: 2.8355, Accuracy: 99.33%\n",
      "Loss: 2.8354973196983337\n",
      "Epoch: 95, Loss: 2.8466, Accuracy: 98.00%\n",
      "Loss: 2.8465977907180786\n",
      "Epoch: 96, Loss: 2.8530, Accuracy: 98.00%\n",
      "Loss: 2.8530032634735107\n",
      "Epoch: 97, Loss: 2.8710, Accuracy: 97.33%\n",
      "Loss: 2.871047258377075\n",
      "Epoch: 98, Loss: 2.8770, Accuracy: 97.33%\n",
      "Loss: 2.8769503235816956\n",
      "Epoch: 99, Loss: 2.8428, Accuracy: 98.67%\n",
      "Loss: 2.8427603244781494\n",
      "Epoch: 100, Loss: 2.8366, Accuracy: 98.67%\n",
      "Loss: 2.8366464972496033\n",
      "Epoch: 101, Loss: 2.8620, Accuracy: 98.00%\n",
      "Loss: 2.8620223999023438\n",
      "Epoch: 102, Loss: 2.8631, Accuracy: 98.00%\n",
      "Loss: 2.8630584478378296\n",
      "Epoch: 103, Loss: 2.8632, Accuracy: 97.33%\n",
      "Loss: 2.8631717562675476\n",
      "Epoch: 104, Loss: 2.8546, Accuracy: 98.00%\n",
      "Loss: 2.8546178340911865\n",
      "Epoch: 105, Loss: 2.8459, Accuracy: 98.00%\n",
      "Loss: 2.845858335494995\n",
      "Epoch: 106, Loss: 2.8519, Accuracy: 98.00%\n",
      "Loss: 2.851891338825226\n",
      "Epoch: 107, Loss: 2.8569, Accuracy: 98.67%\n",
      "Loss: 2.8568609952926636\n",
      "Epoch: 108, Loss: 2.8589, Accuracy: 98.00%\n",
      "Loss: 2.8589345812797546\n",
      "Epoch: 109, Loss: 2.8688, Accuracy: 97.33%\n",
      "Loss: 2.8687790036201477\n",
      "Epoch: 110, Loss: 2.8630, Accuracy: 98.00%\n",
      "Loss: 2.863005757331848\n",
      "Epoch: 111, Loss: 2.8511, Accuracy: 98.00%\n",
      "Loss: 2.851076066493988\n",
      "Epoch: 112, Loss: 2.8566, Accuracy: 98.00%\n",
      "Loss: 2.8566402792930603\n",
      "Epoch: 113, Loss: 2.8545, Accuracy: 98.00%\n",
      "Loss: 2.8545401096343994\n",
      "Epoch: 114, Loss: 2.8448, Accuracy: 98.00%\n",
      "Loss: 2.8447766304016113\n",
      "Epoch: 115, Loss: 2.8517, Accuracy: 98.00%\n",
      "Loss: 2.851693332195282\n",
      "Epoch: 116, Loss: 2.8589, Accuracy: 98.00%\n",
      "Loss: 2.85893976688385\n",
      "Epoch: 117, Loss: 2.8478, Accuracy: 98.00%\n",
      "Loss: 2.8478203415870667\n",
      "Epoch: 118, Loss: 2.8475, Accuracy: 98.67%\n",
      "Loss: 2.8475318551063538\n",
      "Epoch: 119, Loss: 2.8456, Accuracy: 98.00%\n",
      "Loss: 2.845602512359619\n",
      "Epoch: 120, Loss: 2.8861, Accuracy: 97.33%\n",
      "Loss: 2.8861136436462402\n",
      "Epoch: 121, Loss: 2.8425, Accuracy: 98.00%\n",
      "Loss: 2.8425177335739136\n",
      "Epoch: 122, Loss: 2.8347, Accuracy: 99.33%\n",
      "Loss: 2.834726095199585\n",
      "Epoch: 123, Loss: 2.8487, Accuracy: 98.00%\n",
      "Loss: 2.848659336566925\n",
      "Epoch: 124, Loss: 2.8514, Accuracy: 98.00%\n",
      "Loss: 2.851405143737793\n",
      "Epoch: 125, Loss: 2.8933, Accuracy: 97.33%\n",
      "Loss: 2.8932610750198364\n",
      "Epoch: 126, Loss: 2.8376, Accuracy: 98.67%\n",
      "Loss: 2.8375855088233948\n",
      "Epoch: 127, Loss: 2.8723, Accuracy: 97.33%\n",
      "Loss: 2.872277319431305\n",
      "Epoch: 128, Loss: 2.8700, Accuracy: 97.33%\n",
      "Loss: 2.8699665665626526\n",
      "Epoch: 129, Loss: 2.8756, Accuracy: 97.33%\n",
      "Loss: 2.8755977153778076\n",
      "Epoch: 130, Loss: 2.8597, Accuracy: 98.00%\n",
      "Loss: 2.859699010848999\n",
      "Epoch: 131, Loss: 2.8436, Accuracy: 98.67%\n",
      "Loss: 2.8435542583465576\n",
      "Epoch: 132, Loss: 2.8765, Accuracy: 97.33%\n",
      "Loss: 2.8765228390693665\n",
      "Epoch: 133, Loss: 2.8680, Accuracy: 97.33%\n",
      "Loss: 2.868044376373291\n",
      "Epoch: 134, Loss: 2.8576, Accuracy: 98.00%\n",
      "Loss: 2.8576332926750183\n",
      "Epoch: 135, Loss: 2.8576, Accuracy: 98.00%\n",
      "Loss: 2.8575586676597595\n",
      "Epoch: 136, Loss: 2.8659, Accuracy: 98.00%\n",
      "Loss: 2.865863621234894\n",
      "Epoch: 137, Loss: 2.8673, Accuracy: 98.00%\n",
      "Loss: 2.86728572845459\n",
      "Epoch: 138, Loss: 2.8533, Accuracy: 98.00%\n",
      "Loss: 2.8533164262771606\n",
      "Epoch: 139, Loss: 2.8486, Accuracy: 98.00%\n",
      "Loss: 2.8486395478248596\n",
      "Epoch: 140, Loss: 2.8410, Accuracy: 98.67%\n",
      "Loss: 2.8410160541534424\n",
      "Epoch: 141, Loss: 2.8553, Accuracy: 98.00%\n",
      "Loss: 2.8553056120872498\n",
      "Epoch: 142, Loss: 2.8446, Accuracy: 98.00%\n",
      "Loss: 2.8445997834205627\n",
      "Epoch: 143, Loss: 2.8606, Accuracy: 98.00%\n",
      "Loss: 2.860612630844116\n",
      "Epoch: 144, Loss: 2.8467, Accuracy: 98.67%\n",
      "Loss: 2.8467050194740295\n",
      "Epoch: 145, Loss: 2.8757, Accuracy: 97.33%\n",
      "Loss: 2.8756814002990723\n",
      "Epoch: 146, Loss: 2.8591, Accuracy: 98.00%\n",
      "Loss: 2.8590769171714783\n",
      "Epoch: 147, Loss: 2.8364, Accuracy: 98.67%\n",
      "Loss: 2.836406648159027\n",
      "Epoch: 148, Loss: 2.8872, Accuracy: 97.33%\n",
      "Loss: 2.8871558904647827\n",
      "Epoch: 149, Loss: 2.8615, Accuracy: 98.00%\n",
      "Loss: 2.8614781498908997\n",
      "Epoch: 150, Loss: 2.8731, Accuracy: 98.00%\n",
      "Loss: 2.873062491416931\n",
      "Epoch: 151, Loss: 2.8604, Accuracy: 98.00%\n",
      "Loss: 2.860437750816345\n",
      "Epoch: 152, Loss: 2.8505, Accuracy: 98.00%\n",
      "Loss: 2.850529968738556\n",
      "Epoch: 153, Loss: 2.8578, Accuracy: 98.00%\n",
      "Loss: 2.8577519059181213\n",
      "Epoch: 154, Loss: 2.8589, Accuracy: 98.00%\n",
      "Loss: 2.8589345812797546\n",
      "Epoch: 155, Loss: 2.8548, Accuracy: 98.00%\n",
      "Loss: 2.8548104763031006\n",
      "Epoch: 156, Loss: 2.8716, Accuracy: 98.00%\n",
      "Loss: 2.871610701084137\n",
      "Epoch: 157, Loss: 2.8439, Accuracy: 98.00%\n",
      "Loss: 2.843887507915497\n",
      "Epoch: 158, Loss: 2.8658, Accuracy: 97.33%\n",
      "Loss: 2.8658313155174255\n",
      "Epoch: 159, Loss: 2.8793, Accuracy: 97.33%\n",
      "Loss: 2.8793259859085083\n",
      "Epoch: 160, Loss: 2.8429, Accuracy: 98.00%\n",
      "Loss: 2.8429455161094666\n",
      "Epoch: 161, Loss: 2.8654, Accuracy: 98.00%\n",
      "Loss: 2.8653982877731323\n",
      "Epoch: 162, Loss: 2.8479, Accuracy: 98.00%\n",
      "Loss: 2.847928524017334\n",
      "Epoch: 163, Loss: 2.8541, Accuracy: 98.00%\n",
      "Loss: 2.8541067242622375\n",
      "Epoch: 164, Loss: 2.8620, Accuracy: 98.00%\n",
      "Loss: 2.8620405197143555\n",
      "Epoch: 165, Loss: 2.8544, Accuracy: 98.00%\n",
      "Loss: 2.854443371295929\n",
      "Epoch: 166, Loss: 2.8382, Accuracy: 98.67%\n",
      "Loss: 2.838220775127411\n",
      "Epoch: 167, Loss: 2.8441, Accuracy: 98.00%\n",
      "Loss: 2.8440994024276733\n",
      "Epoch: 168, Loss: 2.8480, Accuracy: 98.00%\n",
      "Loss: 2.8480186462402344\n",
      "Epoch: 169, Loss: 2.8912, Accuracy: 97.33%\n",
      "Loss: 2.891192376613617\n",
      "Epoch: 170, Loss: 2.8482, Accuracy: 98.00%\n",
      "Loss: 2.8481889367103577\n",
      "Epoch: 171, Loss: 2.9023, Accuracy: 96.00%\n",
      "Loss: 2.9022843837738037\n",
      "Epoch: 172, Loss: 2.8549, Accuracy: 98.00%\n",
      "Loss: 2.8549243211746216\n",
      "Epoch: 173, Loss: 2.8441, Accuracy: 98.00%\n",
      "Loss: 2.8441132307052612\n",
      "Epoch: 174, Loss: 2.8625, Accuracy: 98.00%\n",
      "Loss: 2.8624516129493713\n",
      "Epoch: 175, Loss: 2.8595, Accuracy: 98.00%\n",
      "Loss: 2.85954213142395\n",
      "Epoch: 176, Loss: 2.8692, Accuracy: 98.00%\n",
      "Loss: 2.8692222833633423\n",
      "Epoch: 177, Loss: 2.8689, Accuracy: 98.00%\n",
      "Loss: 2.868919849395752\n",
      "Epoch: 178, Loss: 2.8509, Accuracy: 98.00%\n",
      "Loss: 2.8509095907211304\n",
      "Epoch: 179, Loss: 2.8451, Accuracy: 98.67%\n",
      "Loss: 2.8451107144355774\n",
      "Epoch: 180, Loss: 2.8661, Accuracy: 98.00%\n",
      "Loss: 2.866132974624634\n",
      "Epoch: 181, Loss: 2.8465, Accuracy: 98.00%\n",
      "Loss: 2.846529006958008\n",
      "Epoch: 182, Loss: 2.8645, Accuracy: 98.00%\n",
      "Loss: 2.8644994497299194\n",
      "Epoch: 183, Loss: 2.8534, Accuracy: 98.00%\n",
      "Loss: 2.85342538356781\n",
      "Epoch: 184, Loss: 2.8439, Accuracy: 98.00%\n",
      "Loss: 2.8438802361488342\n",
      "Epoch: 185, Loss: 2.8471, Accuracy: 98.00%\n",
      "Loss: 2.8470670580863953\n",
      "Epoch: 186, Loss: 2.8827, Accuracy: 98.00%\n",
      "Loss: 2.8826926946640015\n",
      "Epoch: 187, Loss: 2.8556, Accuracy: 98.00%\n",
      "Loss: 2.855555832386017\n",
      "Epoch: 188, Loss: 2.8518, Accuracy: 98.00%\n",
      "Loss: 2.8517836332321167\n",
      "Epoch: 189, Loss: 2.8567, Accuracy: 98.00%\n",
      "Loss: 2.856663405895233\n",
      "Epoch: 190, Loss: 2.8660, Accuracy: 97.33%\n",
      "Loss: 2.866004765033722\n",
      "Epoch: 191, Loss: 2.8698, Accuracy: 98.00%\n",
      "Loss: 2.8697803616523743\n",
      "Epoch: 192, Loss: 2.8476, Accuracy: 98.00%\n",
      "Loss: 2.8476316332817078\n",
      "Epoch: 193, Loss: 2.8761, Accuracy: 97.33%\n",
      "Loss: 2.876097798347473\n",
      "Epoch: 194, Loss: 2.8974, Accuracy: 96.00%\n",
      "Loss: 2.897448241710663\n",
      "Epoch: 195, Loss: 2.8580, Accuracy: 98.00%\n",
      "Loss: 2.8580373525619507\n",
      "Epoch: 196, Loss: 2.8479, Accuracy: 98.00%\n",
      "Loss: 2.8479456305503845\n",
      "Epoch: 197, Loss: 2.8467, Accuracy: 98.00%\n",
      "Loss: 2.8467425107955933\n",
      "Epoch: 198, Loss: 2.8372, Accuracy: 98.67%\n",
      "Loss: 2.8372068405151367\n",
      "Epoch: 199, Loss: 2.8601, Accuracy: 98.00%\n",
      "Loss: 2.860109567642212\n",
      "Epoch: 200, Loss: 2.8386, Accuracy: 98.67%\n",
      "Loss: 2.8386353254318237\n",
      "Epoch: 201, Loss: 2.8585, Accuracy: 98.67%\n",
      "Loss: 2.8584874272346497\n",
      "Epoch: 202, Loss: 2.8667, Accuracy: 97.33%\n",
      "Loss: 2.8666810393333435\n",
      "Epoch: 203, Loss: 2.8627, Accuracy: 98.00%\n",
      "Loss: 2.862697124481201\n",
      "Epoch: 204, Loss: 2.8588, Accuracy: 98.00%\n",
      "Loss: 2.858797013759613\n",
      "Epoch: 205, Loss: 2.8541, Accuracy: 98.00%\n",
      "Loss: 2.854095995426178\n",
      "Epoch: 206, Loss: 2.8618, Accuracy: 98.00%\n",
      "Loss: 2.8617833256721497\n",
      "Epoch: 207, Loss: 2.8853, Accuracy: 97.33%\n",
      "Loss: 2.885329246520996\n",
      "Epoch: 208, Loss: 2.8444, Accuracy: 98.00%\n",
      "Loss: 2.844392478466034\n",
      "Epoch: 209, Loss: 2.8639, Accuracy: 97.33%\n",
      "Loss: 2.863927185535431\n",
      "Epoch: 210, Loss: 2.8552, Accuracy: 98.00%\n",
      "Loss: 2.8552178740501404\n",
      "Epoch: 211, Loss: 2.9152, Accuracy: 96.67%\n",
      "Loss: 2.9152453541755676\n",
      "Epoch: 212, Loss: 2.8710, Accuracy: 97.33%\n",
      "Loss: 2.8709537386894226\n",
      "Epoch: 213, Loss: 2.8514, Accuracy: 98.00%\n",
      "Loss: 2.8513705134391785\n",
      "Epoch: 214, Loss: 2.8595, Accuracy: 98.00%\n",
      "Loss: 2.859493911266327\n",
      "Epoch: 215, Loss: 2.8520, Accuracy: 98.00%\n",
      "Loss: 2.851957678794861\n",
      "Epoch: 216, Loss: 2.8466, Accuracy: 98.00%\n",
      "Loss: 2.846647024154663\n",
      "Epoch: 217, Loss: 2.8417, Accuracy: 98.00%\n",
      "Loss: 2.841740846633911\n",
      "Epoch: 218, Loss: 2.8585, Accuracy: 97.33%\n",
      "Loss: 2.8585298657417297\n",
      "Epoch: 219, Loss: 2.8486, Accuracy: 98.00%\n",
      "Loss: 2.8486151099205017\n",
      "Epoch: 220, Loss: 2.8647, Accuracy: 97.33%\n",
      "Loss: 2.864720344543457\n",
      "Epoch: 221, Loss: 2.8563, Accuracy: 98.00%\n",
      "Loss: 2.856269061565399\n",
      "Epoch: 222, Loss: 2.8763, Accuracy: 97.33%\n",
      "Loss: 2.876348376274109\n",
      "Epoch: 223, Loss: 2.8432, Accuracy: 98.00%\n",
      "Loss: 2.8432379961013794\n",
      "Epoch: 224, Loss: 2.8674, Accuracy: 97.33%\n",
      "Loss: 2.8673996329307556\n",
      "Epoch: 225, Loss: 2.8563, Accuracy: 98.00%\n",
      "Loss: 2.856322169303894\n",
      "Epoch: 226, Loss: 2.8874, Accuracy: 96.67%\n",
      "Loss: 2.8874337673187256\n",
      "Epoch: 227, Loss: 2.8641, Accuracy: 97.33%\n",
      "Loss: 2.8641035556793213\n",
      "Epoch: 228, Loss: 2.8595, Accuracy: 98.00%\n",
      "Loss: 2.8595425486564636\n",
      "Epoch: 229, Loss: 2.8554, Accuracy: 98.00%\n",
      "Loss: 2.855420410633087\n",
      "Epoch: 230, Loss: 2.8597, Accuracy: 98.00%\n",
      "Loss: 2.8597236275672913\n",
      "Epoch: 231, Loss: 2.8629, Accuracy: 98.00%\n",
      "Loss: 2.8629469871520996\n",
      "Epoch: 232, Loss: 2.8909, Accuracy: 96.67%\n",
      "Loss: 2.890935003757477\n",
      "Epoch: 233, Loss: 2.8808, Accuracy: 98.00%\n",
      "Loss: 2.8808411955833435\n",
      "Epoch: 234, Loss: 2.8479, Accuracy: 98.00%\n",
      "Loss: 2.8478951454162598\n",
      "Epoch: 235, Loss: 2.8977, Accuracy: 97.33%\n",
      "Loss: 2.8977017998695374\n",
      "Epoch: 236, Loss: 2.8998, Accuracy: 96.67%\n",
      "Loss: 2.899789333343506\n",
      "Epoch: 237, Loss: 2.8509, Accuracy: 98.00%\n",
      "Loss: 2.8508760929107666\n",
      "Epoch: 238, Loss: 2.8487, Accuracy: 98.00%\n",
      "Loss: 2.848689913749695\n",
      "Epoch: 239, Loss: 2.8716, Accuracy: 97.33%\n",
      "Loss: 2.8715640902519226\n",
      "Epoch: 240, Loss: 2.8327, Accuracy: 98.67%\n",
      "Loss: 2.832722306251526\n",
      "Epoch: 241, Loss: 2.8627, Accuracy: 98.00%\n",
      "Loss: 2.8627464175224304\n",
      "Epoch: 242, Loss: 2.8574, Accuracy: 98.00%\n",
      "Loss: 2.8574482202529907\n",
      "Epoch: 243, Loss: 2.8858, Accuracy: 96.67%\n",
      "Loss: 2.8858283162117004\n",
      "Epoch: 244, Loss: 2.8440, Accuracy: 98.00%\n",
      "Loss: 2.8439719676971436\n",
      "Epoch: 245, Loss: 2.8507, Accuracy: 98.00%\n",
      "Loss: 2.850725769996643\n",
      "Epoch: 246, Loss: 2.8688, Accuracy: 98.00%\n",
      "Loss: 2.8688029050827026\n",
      "Epoch: 247, Loss: 2.8686, Accuracy: 97.33%\n",
      "Loss: 2.8686023950576782\n",
      "Epoch: 248, Loss: 2.8682, Accuracy: 98.00%\n",
      "Loss: 2.8681530356407166\n",
      "Epoch: 249, Loss: 2.8598, Accuracy: 98.00%\n",
      "Loss: 2.859815537929535\n",
      "Epoch: 250, Loss: 2.8487, Accuracy: 98.00%\n",
      "Loss: 2.8487123250961304\n",
      "Epoch: 251, Loss: 2.8762, Accuracy: 98.00%\n",
      "Loss: 2.876206398010254\n",
      "Epoch: 252, Loss: 2.8516, Accuracy: 98.67%\n",
      "Loss: 2.851631760597229\n",
      "Epoch: 253, Loss: 2.8619, Accuracy: 98.00%\n",
      "Loss: 2.8619036078453064\n",
      "Epoch: 254, Loss: 2.8558, Accuracy: 98.00%\n",
      "Loss: 2.855798661708832\n",
      "Epoch: 255, Loss: 2.9149, Accuracy: 96.67%\n",
      "Loss: 2.914910912513733\n",
      "Epoch: 256, Loss: 2.8587, Accuracy: 98.00%\n",
      "Loss: 2.858665406703949\n",
      "Epoch: 257, Loss: 2.8522, Accuracy: 98.00%\n",
      "Loss: 2.8522310853004456\n",
      "Epoch: 258, Loss: 2.8426, Accuracy: 98.00%\n",
      "Loss: 2.842595636844635\n",
      "Epoch: 259, Loss: 2.8292, Accuracy: 98.67%\n",
      "Loss: 2.8292402029037476\n",
      "Epoch: 260, Loss: 2.8567, Accuracy: 98.00%\n",
      "Loss: 2.8566706776618958\n",
      "Epoch: 261, Loss: 2.8502, Accuracy: 98.00%\n",
      "Loss: 2.8502057790756226\n",
      "Epoch: 262, Loss: 2.8394, Accuracy: 98.67%\n",
      "Loss: 2.839419901371002\n",
      "Epoch: 263, Loss: 2.8592, Accuracy: 98.00%\n",
      "Loss: 2.859207808971405\n",
      "Epoch: 264, Loss: 2.8560, Accuracy: 98.00%\n",
      "Loss: 2.8559667468070984\n",
      "Epoch: 265, Loss: 2.8923, Accuracy: 97.33%\n",
      "Loss: 2.8923137187957764\n",
      "Epoch: 266, Loss: 2.8706, Accuracy: 98.00%\n",
      "Loss: 2.870648682117462\n",
      "Epoch: 267, Loss: 2.8520, Accuracy: 98.00%\n",
      "Loss: 2.8519756197929382\n",
      "Epoch: 268, Loss: 2.8987, Accuracy: 96.67%\n",
      "Loss: 2.898748219013214\n",
      "Epoch: 269, Loss: 2.8527, Accuracy: 98.00%\n",
      "Loss: 2.8526856303215027\n",
      "Epoch: 270, Loss: 2.8600, Accuracy: 98.67%\n",
      "Loss: 2.8599597811698914\n",
      "Epoch: 271, Loss: 2.8415, Accuracy: 98.67%\n",
      "Loss: 2.8414795994758606\n",
      "Epoch: 272, Loss: 2.8852, Accuracy: 97.33%\n",
      "Loss: 2.8852391242980957\n",
      "Epoch: 273, Loss: 2.8675, Accuracy: 97.33%\n",
      "Loss: 2.8675368428230286\n",
      "Epoch: 274, Loss: 2.8451, Accuracy: 98.67%\n",
      "Loss: 2.845121383666992\n",
      "Epoch: 275, Loss: 2.8637, Accuracy: 98.00%\n",
      "Loss: 2.863693594932556\n",
      "Epoch: 276, Loss: 2.8580, Accuracy: 98.00%\n",
      "Loss: 2.8579564094543457\n",
      "Epoch: 277, Loss: 2.8389, Accuracy: 98.67%\n",
      "Loss: 2.838942587375641\n",
      "Epoch: 278, Loss: 2.8612, Accuracy: 98.00%\n",
      "Loss: 2.8611950278282166\n",
      "Epoch: 279, Loss: 2.8506, Accuracy: 98.00%\n",
      "Loss: 2.8505699634552\n",
      "Epoch: 280, Loss: 2.8491, Accuracy: 98.67%\n",
      "Loss: 2.8490929007530212\n",
      "Epoch: 281, Loss: 2.8584, Accuracy: 98.00%\n",
      "Loss: 2.8583731055259705\n",
      "Epoch: 282, Loss: 2.8843, Accuracy: 97.33%\n",
      "Loss: 2.884290874004364\n",
      "Epoch: 283, Loss: 2.8396, Accuracy: 98.00%\n",
      "Loss: 2.839616298675537\n",
      "Epoch: 284, Loss: 2.8592, Accuracy: 98.00%\n",
      "Loss: 2.859201431274414\n",
      "Epoch: 285, Loss: 2.8484, Accuracy: 98.67%\n",
      "Loss: 2.8483633399009705\n",
      "Epoch: 286, Loss: 2.8495, Accuracy: 98.00%\n",
      "Loss: 2.8495166897773743\n",
      "Epoch: 287, Loss: 2.8760, Accuracy: 97.33%\n",
      "Loss: 2.875989854335785\n",
      "Epoch: 288, Loss: 2.8598, Accuracy: 98.00%\n",
      "Loss: 2.859794855117798\n",
      "Epoch: 289, Loss: 2.8581, Accuracy: 98.00%\n",
      "Loss: 2.858140707015991\n",
      "Epoch: 290, Loss: 2.8847, Accuracy: 97.33%\n",
      "Loss: 2.8847408294677734\n",
      "Epoch: 291, Loss: 2.8631, Accuracy: 98.00%\n",
      "Loss: 2.863087475299835\n",
      "Epoch: 292, Loss: 2.8696, Accuracy: 97.33%\n",
      "Loss: 2.8696308732032776\n",
      "Epoch: 293, Loss: 2.8835, Accuracy: 97.33%\n",
      "Loss: 2.883478283882141\n",
      "Epoch: 294, Loss: 2.8515, Accuracy: 98.00%\n",
      "Loss: 2.8514842987060547\n",
      "Epoch: 295, Loss: 2.8744, Accuracy: 98.00%\n",
      "Loss: 2.874383568763733\n",
      "Epoch: 296, Loss: 2.8498, Accuracy: 98.00%\n",
      "Loss: 2.8497796058654785\n",
      "Epoch: 297, Loss: 2.8702, Accuracy: 98.00%\n",
      "Loss: 2.8702357411384583\n",
      "Epoch: 298, Loss: 2.8434, Accuracy: 98.67%\n",
      "Loss: 2.8433679938316345\n",
      "Epoch: 299, Loss: 2.8636, Accuracy: 98.00%\n",
      "Loss: 2.8636059761047363\n",
      "Epoch: 300, Loss: 2.8447, Accuracy: 98.67%\n",
      "Loss: 2.844705879688263\n",
      "Epoch: 301, Loss: 2.8677, Accuracy: 98.00%\n",
      "Loss: 2.867657959461212\n",
      "Epoch: 302, Loss: 2.8441, Accuracy: 98.67%\n",
      "Loss: 2.8440738916397095\n",
      "Epoch: 303, Loss: 2.8565, Accuracy: 98.00%\n",
      "Loss: 2.856495499610901\n",
      "Epoch: 304, Loss: 2.8552, Accuracy: 98.00%\n",
      "Loss: 2.8552058339118958\n",
      "Epoch: 305, Loss: 2.8416, Accuracy: 98.00%\n",
      "Loss: 2.841630756855011\n",
      "Epoch: 306, Loss: 2.8564, Accuracy: 98.00%\n",
      "Loss: 2.8564407229423523\n",
      "Epoch: 307, Loss: 2.8872, Accuracy: 97.33%\n",
      "Loss: 2.8871604204177856\n",
      "Epoch: 308, Loss: 2.8623, Accuracy: 98.00%\n",
      "Loss: 2.8622607588768005\n",
      "Epoch: 309, Loss: 2.8621, Accuracy: 98.00%\n",
      "Loss: 2.8620733618736267\n",
      "Epoch: 310, Loss: 2.8590, Accuracy: 98.00%\n",
      "Loss: 2.859027624130249\n",
      "Epoch: 311, Loss: 2.8506, Accuracy: 98.00%\n",
      "Loss: 2.8505603671073914\n",
      "Epoch: 312, Loss: 2.8643, Accuracy: 97.33%\n",
      "Loss: 2.8643269538879395\n",
      "Epoch: 313, Loss: 2.8658, Accuracy: 98.00%\n",
      "Loss: 2.8657771944999695\n",
      "Epoch: 314, Loss: 2.8764, Accuracy: 97.33%\n",
      "Loss: 2.876367211341858\n",
      "Epoch: 315, Loss: 2.8365, Accuracy: 98.00%\n",
      "Loss: 2.836491346359253\n",
      "Epoch: 316, Loss: 2.8541, Accuracy: 98.00%\n",
      "Loss: 2.854139804840088\n",
      "Epoch: 317, Loss: 2.8683, Accuracy: 98.00%\n",
      "Loss: 2.8683059215545654\n",
      "Epoch: 318, Loss: 2.8737, Accuracy: 97.33%\n",
      "Loss: 2.873681128025055\n",
      "Epoch: 319, Loss: 2.9435, Accuracy: 95.33%\n",
      "Loss: 2.9434534907341003\n",
      "Epoch: 320, Loss: 2.8463, Accuracy: 98.00%\n",
      "Loss: 2.8463298678398132\n",
      "Epoch: 321, Loss: 2.8515, Accuracy: 98.00%\n",
      "Loss: 2.8515461087226868\n",
      "Epoch: 322, Loss: 2.8464, Accuracy: 98.00%\n",
      "Loss: 2.846444308757782\n",
      "Epoch: 323, Loss: 2.9007, Accuracy: 96.67%\n",
      "Loss: 2.900744378566742\n",
      "Epoch: 324, Loss: 2.8585, Accuracy: 98.00%\n",
      "Loss: 2.8584609627723694\n",
      "Epoch: 325, Loss: 2.8665, Accuracy: 98.00%\n",
      "Loss: 2.866454064846039\n",
      "Epoch: 326, Loss: 2.8502, Accuracy: 98.00%\n",
      "Loss: 2.8501954674720764\n",
      "Epoch: 327, Loss: 2.8586, Accuracy: 98.00%\n",
      "Loss: 2.858556628227234\n",
      "Epoch: 328, Loss: 2.8520, Accuracy: 98.00%\n",
      "Loss: 2.851969361305237\n",
      "Epoch: 329, Loss: 2.8419, Accuracy: 98.00%\n",
      "Loss: 2.841867744922638\n",
      "Epoch: 330, Loss: 2.8560, Accuracy: 98.00%\n",
      "Loss: 2.856000542640686\n",
      "Epoch: 331, Loss: 2.8578, Accuracy: 98.00%\n",
      "Loss: 2.857758402824402\n",
      "Epoch: 332, Loss: 2.8690, Accuracy: 98.00%\n",
      "Loss: 2.869032323360443\n",
      "Epoch: 333, Loss: 2.8560, Accuracy: 98.00%\n",
      "Loss: 2.8560465574264526\n",
      "Epoch: 334, Loss: 2.8436, Accuracy: 98.67%\n",
      "Loss: 2.8436428904533386\n",
      "Epoch: 335, Loss: 2.8400, Accuracy: 98.00%\n",
      "Loss: 2.8400267362594604\n",
      "Epoch: 336, Loss: 2.9041, Accuracy: 97.33%\n",
      "Loss: 2.9041473865509033\n",
      "Epoch: 337, Loss: 2.8577, Accuracy: 98.00%\n",
      "Loss: 2.8576619625091553\n",
      "Epoch: 338, Loss: 2.8638, Accuracy: 98.00%\n",
      "Loss: 2.8637731075286865\n",
      "Epoch: 339, Loss: 2.8597, Accuracy: 98.67%\n",
      "Loss: 2.859732925891876\n",
      "Epoch: 340, Loss: 2.8733, Accuracy: 97.33%\n",
      "Loss: 2.873277008533478\n",
      "Epoch: 341, Loss: 2.8665, Accuracy: 98.00%\n",
      "Loss: 2.8664627075195312\n",
      "Epoch: 342, Loss: 2.8482, Accuracy: 98.00%\n",
      "Loss: 2.8482062220573425\n",
      "Epoch: 343, Loss: 2.8471, Accuracy: 98.00%\n",
      "Loss: 2.847101867198944\n",
      "Epoch: 344, Loss: 2.8879, Accuracy: 97.33%\n",
      "Loss: 2.88789963722229\n",
      "Epoch: 345, Loss: 2.8384, Accuracy: 98.67%\n",
      "Loss: 2.838364005088806\n",
      "Epoch: 346, Loss: 2.8617, Accuracy: 98.00%\n",
      "Loss: 2.861679971218109\n",
      "Epoch: 347, Loss: 2.8563, Accuracy: 98.00%\n",
      "Loss: 2.856292963027954\n",
      "Epoch: 348, Loss: 2.8485, Accuracy: 98.00%\n",
      "Loss: 2.848483681678772\n",
      "Epoch: 349, Loss: 2.8492, Accuracy: 98.00%\n",
      "Loss: 2.8491913080215454\n",
      "Epoch: 350, Loss: 2.8493, Accuracy: 98.67%\n",
      "Loss: 2.8493125438690186\n",
      "Epoch: 351, Loss: 2.8528, Accuracy: 98.00%\n",
      "Loss: 2.8528441786766052\n",
      "Epoch: 352, Loss: 2.8653, Accuracy: 97.33%\n",
      "Loss: 2.865323305130005\n",
      "Epoch: 353, Loss: 2.8555, Accuracy: 97.33%\n",
      "Loss: 2.855523407459259\n",
      "Epoch: 354, Loss: 2.8518, Accuracy: 98.00%\n",
      "Loss: 2.851764976978302\n",
      "Epoch: 355, Loss: 2.9296, Accuracy: 95.33%\n",
      "Loss: 2.929628551006317\n",
      "Epoch: 356, Loss: 2.8531, Accuracy: 98.00%\n",
      "Loss: 2.8531090021133423\n",
      "Epoch: 357, Loss: 2.8711, Accuracy: 97.33%\n",
      "Loss: 2.871146500110626\n",
      "Epoch: 358, Loss: 2.8664, Accuracy: 98.00%\n",
      "Loss: 2.8664276003837585\n",
      "Epoch: 359, Loss: 2.8600, Accuracy: 98.00%\n",
      "Loss: 2.8600175976753235\n",
      "Epoch: 360, Loss: 2.8511, Accuracy: 98.00%\n",
      "Loss: 2.8510746359825134\n",
      "Epoch: 361, Loss: 2.8611, Accuracy: 98.00%\n",
      "Loss: 2.8611302971839905\n",
      "Epoch: 362, Loss: 2.8454, Accuracy: 98.00%\n",
      "Loss: 2.845358669757843\n",
      "Epoch: 363, Loss: 2.8696, Accuracy: 98.00%\n",
      "Loss: 2.869594097137451\n",
      "Epoch: 364, Loss: 2.8596, Accuracy: 98.00%\n",
      "Loss: 2.8595898151397705\n",
      "Epoch: 365, Loss: 2.8873, Accuracy: 97.33%\n",
      "Loss: 2.8872914910316467\n",
      "Epoch: 366, Loss: 2.8527, Accuracy: 98.00%\n",
      "Loss: 2.852681577205658\n",
      "Epoch: 367, Loss: 2.8646, Accuracy: 98.00%\n",
      "Loss: 2.8645615577697754\n",
      "Epoch: 368, Loss: 2.8538, Accuracy: 98.00%\n",
      "Loss: 2.853825628757477\n",
      "Epoch: 369, Loss: 2.8361, Accuracy: 98.67%\n",
      "Loss: 2.836102306842804\n",
      "Epoch: 370, Loss: 2.8450, Accuracy: 98.00%\n",
      "Loss: 2.8450406789779663\n",
      "Epoch: 371, Loss: 2.8643, Accuracy: 97.33%\n",
      "Loss: 2.8642728328704834\n",
      "Epoch: 372, Loss: 2.8531, Accuracy: 98.00%\n",
      "Loss: 2.853066384792328\n",
      "Epoch: 373, Loss: 2.8366, Accuracy: 98.67%\n",
      "Loss: 2.8366262912750244\n",
      "Epoch: 374, Loss: 2.8407, Accuracy: 98.00%\n",
      "Loss: 2.840707242488861\n",
      "Epoch: 375, Loss: 2.8409, Accuracy: 98.00%\n",
      "Loss: 2.84090518951416\n",
      "Epoch: 376, Loss: 2.8242, Accuracy: 99.33%\n",
      "Loss: 2.824168384075165\n",
      "Epoch: 377, Loss: 2.8523, Accuracy: 98.00%\n",
      "Loss: 2.8522664308547974\n",
      "Epoch: 378, Loss: 2.8517, Accuracy: 98.00%\n",
      "Loss: 2.8517117500305176\n",
      "Epoch: 379, Loss: 2.8405, Accuracy: 98.67%\n",
      "Loss: 2.8405033946037292\n",
      "Epoch: 380, Loss: 2.8503, Accuracy: 98.00%\n",
      "Loss: 2.8503441214561462\n",
      "Epoch: 381, Loss: 2.8722, Accuracy: 98.00%\n",
      "Loss: 2.8722084760665894\n",
      "Epoch: 382, Loss: 2.8538, Accuracy: 98.00%\n",
      "Loss: 2.8537840247154236\n",
      "Epoch: 383, Loss: 2.8497, Accuracy: 98.00%\n",
      "Loss: 2.849677264690399\n",
      "Epoch: 384, Loss: 2.8927, Accuracy: 98.00%\n",
      "Loss: 2.8926836252212524\n",
      "Epoch: 385, Loss: 2.8596, Accuracy: 98.00%\n",
      "Loss: 2.8596101999282837\n",
      "Epoch: 386, Loss: 2.8557, Accuracy: 98.00%\n",
      "Loss: 2.8556580543518066\n",
      "Epoch: 387, Loss: 2.8308, Accuracy: 98.67%\n",
      "Loss: 2.8307787775993347\n",
      "Epoch: 388, Loss: 2.8598, Accuracy: 98.00%\n",
      "Loss: 2.859787166118622\n",
      "Epoch: 389, Loss: 2.8555, Accuracy: 98.00%\n",
      "Loss: 2.8554742336273193\n",
      "Epoch: 390, Loss: 2.8648, Accuracy: 98.00%\n",
      "Loss: 2.8648353219032288\n",
      "Epoch: 391, Loss: 2.8644, Accuracy: 98.00%\n",
      "Loss: 2.864375650882721\n",
      "Epoch: 392, Loss: 2.8533, Accuracy: 98.00%\n",
      "Loss: 2.853256642818451\n",
      "Epoch: 393, Loss: 2.8602, Accuracy: 98.00%\n",
      "Loss: 2.860202729701996\n",
      "Epoch: 394, Loss: 2.8366, Accuracy: 98.00%\n",
      "Loss: 2.836586058139801\n",
      "Epoch: 395, Loss: 2.8858, Accuracy: 97.33%\n",
      "Loss: 2.88582980632782\n",
      "Epoch: 396, Loss: 2.8509, Accuracy: 98.00%\n",
      "Loss: 2.8508522510528564\n",
      "Epoch: 397, Loss: 2.9509, Accuracy: 96.00%\n",
      "Loss: 2.950865626335144\n",
      "Epoch: 398, Loss: 2.8649, Accuracy: 98.00%\n",
      "Loss: 2.8648656606674194\n",
      "Epoch: 399, Loss: 2.8617, Accuracy: 98.00%\n",
      "Loss: 2.8616942763328552\n",
      "Epoch: 400, Loss: 2.8453, Accuracy: 98.00%\n",
      "Loss: 2.8453364968299866\n",
      "Finished Training\n"
     ]
    }
   ],
   "source": [
    "# train the model \n",
    "\n",
    "loss_function = nn.CrossEntropyLoss()        # loss function \n",
    "optimizer =  torch.optim.SGD (model.parameters(), lr=0.1)  # optimizer\n",
    "train_epoch = 400 \n",
    "ongoing_accuracy = []\n",
    "losses = torch.zeros(train_epoch)\n",
    "\n",
    "# loop over the dataset multiple times\n",
    "for epoch in range(train_epoch):\n",
    "    running_loss = 0.0\n",
    "    total_correct = 0\n",
    "    total_samples = 0\n",
    "    for i, data in enumerate(dataloader, 0):\n",
    "        inputs, labels = data\n",
    "        inputs = inputs.float()  # Convert inputs to float type\n",
    "        labels = labels.long()  # Convert labels to long type\n",
    "        inputs, labels = inputs.to(device), labels.to(device)\n",
    "\n",
    "        # zero the parameter gradients\n",
    "        optimizer.zero_grad()\n",
    "\n",
    "        # forward + backward + optimize\n",
    "        y_pred = model(inputs)\n",
    "        loss = loss_function(y_pred, labels)\n",
    "        losses[epoch] = loss \n",
    "\n",
    "        loss.backward()\n",
    "        optimizer.step()\n",
    "\n",
    "        running_loss += loss.item()\n",
    "        \n",
    "        # Calculate accuracy\n",
    "        predicted_labels = torch.argmax(y_pred, dim=1)\n",
    "        total_correct += torch.sum(predicted_labels == labels).item()\n",
    "        total_samples += labels.size(0)\n",
    "\n",
    "    accuracy = 100 * total_correct / total_samples\n",
    "    ongoing_accuracy.append(accuracy)\n",
    "    print('Epoch: {}, Loss: {:.4f}, Accuracy: {:.2f}%'.format(epoch + 1, running_loss, accuracy))\n",
    "\n",
    "    print('Loss: {}'.format(running_loss) )\n",
    "    # totalacc = 100*torch.mean(((y_pred >.5) == labels).float())\n",
    "\n",
    "print('Finished Training')\n",
    "\n",
    "\n"
   ]
  },
  {
   "cell_type": "code",
   "execution_count": 403,
   "metadata": {},
   "outputs": [
    {
     "name": "stdout",
     "output_type": "stream",
     "text": [
      "Final accuracy: 99.3333%\n"
     ]
    },
    {
     "data": {
      "image/png": "[encoded data removed]",
      "text/plain": [
       "<Figure size 1300x400 with 2 Axes>"
      ]
     },
     "metadata": {},
     "output_type": "display_data"
    }
   ],
   "source": [
    "# report accuracy\n",
    "print('Final accuracy: %g%%' %np.array(ongoing_accuracy).max())\n",
    "\n",
    "fig,ax = plt.subplots(1,2,figsize=(13,4))\n",
    "\n",
    "ax[0].plot(losses.detach())\n",
    "ax[0].set_ylabel('Loss')\n",
    "ax[0].set_xlabel('epoch')\n",
    "ax[0].set_title('Losses')\n",
    "\n",
    "ax[1].plot(ongoing_accuracy)\n",
    "ax[1].set_ylabel('accuracy')\n",
    "ax[1].set_xlabel('epoch')\n",
    "ax[1].set_title('Accuracy')\n",
    "plt.show()\n",
    "# run training again to see whether this performance is consistent"
   ]
  },
  {
   "cell_type": "code",
   "execution_count": 388,
   "metadata": {},
   "outputs": [
    {
     "data": {
      "text/plain": [
       "tensor([0, 0, 2, 2, 2, 2, 1, 1, 1, 1, 0, 0, 2, 2, 1, 2, 1, 0, 1, 0, 1, 1, 0, 0,\n",
       "        0, 1, 2, 1, 2, 0])"
      ]
     },
     "execution_count": 388,
     "metadata": {},
     "output_type": "execute_result"
    }
   ],
   "source": [
    "torch.argmax(y_pred, dim=1)"
   ]
  },
  {
   "cell_type": "code",
   "execution_count": 386,
   "metadata": {},
   "outputs": [
    {
     "data": {
      "text/plain": [
       "tensor([[0.5761, 0.2119, 0.2119],\n",
       "        [0.5761, 0.2119, 0.2119],\n",
       "        [0.2119, 0.2119, 0.5761],\n",
       "        [0.2119, 0.2119, 0.5761],\n",
       "        [0.2119, 0.2119, 0.5761],\n",
       "        [0.2119, 0.2119, 0.5761],\n",
       "        [0.2119, 0.5761, 0.2119],\n",
       "        [0.2119, 0.5761, 0.2119],\n",
       "        [0.2119, 0.5761, 0.2119],\n",
       "        [0.2119, 0.5761, 0.2119],\n",
       "        [0.5761, 0.2120, 0.2119],\n",
       "        [0.5761, 0.2120, 0.2119],\n",
       "        [0.2119, 0.2119, 0.5761],\n",
       "        [0.2119, 0.2119, 0.5761],\n",
       "        [0.2119, 0.5761, 0.2119],\n",
       "        [0.2119, 0.2119, 0.5761],\n",
       "        [0.2119, 0.5761, 0.2119],\n",
       "        [0.5761, 0.2120, 0.2119],\n",
       "        [0.2186, 0.5415, 0.2399],\n",
       "        [0.5760, 0.2120, 0.2120],\n",
       "        [0.2119, 0.5761, 0.2119],\n",
       "        [0.2120, 0.5760, 0.2120],\n",
       "        [0.5761, 0.2120, 0.2119],\n",
       "        [0.5761, 0.2120, 0.2120],\n",
       "        [0.5761, 0.2120, 0.2119],\n",
       "        [0.2120, 0.5761, 0.2119],\n",
       "        [0.2119, 0.2119, 0.5761],\n",
       "        [0.2120, 0.5758, 0.2122],\n",
       "        [0.2119, 0.2119, 0.5761],\n",
       "        [0.5761, 0.2120, 0.2119]], grad_fn=<SoftmaxBackward0>)"
      ]
     },
     "execution_count": 386,
     "metadata": {},
     "output_type": "execute_result"
    }
   ],
   "source": [
    "y_pred_probabilities = F.softmax(y_pred, dim=1)\n",
    "\n",
    "y_pred_probabilities"
   ]
  }
 ],
 "metadata": {
  "kernelspec": {
   "display_name": "paul_flask",
   "language": "python",
   "name": "python3"
  },
  "language_info": {
   "codemirror_mode": {
    "name": "ipython",
    "version": 3
   },
   "file_extension": ".py",
   "mimetype": "text/x-python",
   "name": "python",
   "nbconvert_exporter": "python",
   "pygments_lexer": "ipython3",
   "version": "3.10.11"
  },
  "orig_nbformat": 4
 },
 "nbformat": 4,
 "nbformat_minor": 2
}
