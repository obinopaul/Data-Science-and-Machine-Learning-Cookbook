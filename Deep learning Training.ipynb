{
 "cells": [
  {
   "cell_type": "code",
   "execution_count": 31,
   "metadata": {},
   "outputs": [],
   "source": [
    "import numpy as np\n",
    "import torch "
   ]
  },
  {
   "cell_type": "code",
   "execution_count": 32,
   "metadata": {},
   "outputs": [
    {
     "name": "stdout",
     "output_type": "stream",
     "text": [
      "[[1 4 3 5]]\n",
      " \n",
      "[[1]\n",
      " [4]\n",
      " [3]\n",
      " [5]]\n",
      "tensor([[1, 5, 2, 6]])\n",
      " \n",
      "tensor([[1],\n",
      "        [5],\n",
      "        [2],\n",
      "        [6]])\n"
     ]
    }
   ],
   "source": [
    "#transpose vector and matrix\n",
    "\n",
    "arr = np.array([ [1,4,3,5]])\n",
    "print(arr)\n",
    "\n",
    "print(' ')\n",
    "print(arr.T)\n",
    "\n",
    "tens = torch.tensor([ [1,5,2,6]])\n",
    "print(tens)\n",
    "\n",
    "print(' ')\n",
    "print(tens.T)"
   ]
  },
  {
   "cell_type": "code",
   "execution_count": 33,
   "metadata": {},
   "outputs": [
    {
     "name": "stdout",
     "output_type": "stream",
     "text": [
      "[[27 57 53]\n",
      " [40 91 87]\n",
      " [37 82 78]]\n"
     ]
    }
   ],
   "source": [
    "arr_2 = np.array([[1,4,5],\n",
    "                   [4,5,8],\n",
    "                   [3,5,7]])\n",
    "\n",
    "arr_3 = np.array([[1,4,5],\n",
    "                   [4,7,7],\n",
    "                   [2,5,4]])\n",
    "\n",
    "print(np.dot(arr_2, arr_3))\n",
    "# print(np.sum(arr_2, arr_3)) "
   ]
  },
  {
   "attachments": {},
   "cell_type": "markdown",
   "metadata": {},
   "source": [
    ">> Matrix multiplication"
   ]
  },
  {
   "cell_type": "code",
   "execution_count": 34,
   "metadata": {},
   "outputs": [],
   "source": [
    "# array (r1, c1) * (r2, c2)\n",
    "#condition: (c1) = (r2)\n",
    "#shape = (r1, c2)\n",
    "        #where: \n",
    "            # r1 and r2 are the number of rows for 1 and 2\n",
    "            # c1 and c2 are the number of columns for 1 and 2\n",
    "\n"
   ]
  },
  {
   "cell_type": "code",
   "execution_count": 35,
   "metadata": {},
   "outputs": [
    {
     "name": "stdout",
     "output_type": "stream",
     "text": [
      "[[27 57 53]\n",
      " [40 91 87]\n",
      " [37 82 78]]\n"
     ]
    }
   ],
   "source": [
    "\n",
    "arr_2 = np.array([[1,4,5],\n",
    "                   [4,5,8],\n",
    "                   [3,5,7]])\n",
    "\n",
    "arr_3 = np.array([[1,4,5],\n",
    "                   [4,7,7],\n",
    "                   [2,5,4]])\n",
    "\n",
    "print(np.dot(arr_2, arr_3))\n",
    "# print(np.sum(arr_2, arr_3)) "
   ]
  },
  {
   "cell_type": "code",
   "execution_count": 36,
   "metadata": {},
   "outputs": [
    {
     "data": {
      "text/plain": [
       "array([1, 4, 5, 4, 5, 8, 3, 5, 7])"
      ]
     },
     "execution_count": 36,
     "metadata": {},
     "output_type": "execute_result"
    }
   ],
   "source": [
    "arr_2 = np.array([[1,4,5],\n",
    "                   [4,5,8],\n",
    "                   [3,5,7]])\n",
    "\n",
    "arr_2.flatten()"
   ]
  },
  {
   "cell_type": "code",
   "execution_count": 37,
   "metadata": {},
   "outputs": [
    {
     "name": "stdout",
     "output_type": "stream",
     "text": [
      "208\n"
     ]
    }
   ],
   "source": [
    "arr_2 = np.array([[1,4,5],\n",
    "                   [4,5,8],\n",
    "                   [3,5,7]])\n",
    "\n",
    "arr_3 = np.array([[1,4,5],\n",
    "                   [4,7,7],\n",
    "                   [2,5,4]])\n",
    "\n",
    "# Flatten the tensors\n",
    "arr_2_flat = arr_2.flatten()\n",
    "arr_3_flat = arr_3.flatten()\n",
    "\n",
    "print(np.dot(arr_2_flat, arr_3_flat))\n",
    "# print(np.sum(arr_2, arr_3)) "
   ]
  },
  {
   "cell_type": "code",
   "execution_count": 38,
   "metadata": {},
   "outputs": [
    {
     "name": "stdout",
     "output_type": "stream",
     "text": [
      "tensor(208)\n"
     ]
    }
   ],
   "source": [
    "import torch\n",
    "\n",
    "arr_2 = torch.tensor([[1, 4, 5],\n",
    "                      [4, 5, 8],\n",
    "                      [3, 5, 7]])\n",
    "\n",
    "arr_3 = torch.tensor([[1, 4, 5],\n",
    "                      [4, 7, 7],\n",
    "                      [2, 5, 4]])\n",
    "\n",
    "# Flatten the tensors\n",
    "arr_2_flat = arr_2.flatten()\n",
    "arr_3_flat = arr_3.flatten()\n",
    "\n",
    "# Calculate the dot product\n",
    "result = torch.dot(arr_2_flat, arr_3_flat)\n",
    "\n",
    "print(result)\n"
   ]
  },
  {
   "cell_type": "code",
   "execution_count": 39,
   "metadata": {},
   "outputs": [
    {
     "name": "stdout",
     "output_type": "stream",
     "text": [
      "[[ 2. -1. -0.]\n",
      " [ 3. -1. -1.]\n",
      " [ 0. -1. -1.]]\n",
      " \n",
      "[[ 2. -1. -0.]\n",
      " [ 3. -1. -1.]\n",
      " [ 0. -1. -1.]]\n"
     ]
    }
   ],
   "source": [
    "np.random.seed(23)\n",
    "\n",
    "a = np.random.randn(3,3)\n",
    "b = np.random.randn(3,3)\n",
    "c = np.random.randn(3,3)\n",
    "\n",
    "print(np.round(np.matmul(a,b)))\n",
    "print(' ')\n",
    "print(np.round(np.dot(a,b)))\n",
    "\n"
   ]
  },
  {
   "cell_type": "code",
   "execution_count": 40,
   "metadata": {},
   "outputs": [
    {
     "name": "stdout",
     "output_type": "stream",
     "text": [
      "[2, 1, 1]\n",
      "[3, 4, 6]\n",
      "[7, 3, 2]\n"
     ]
    }
   ],
   "source": [
    "import random\n",
    "\n",
    "# Set the number of rows and columns\n",
    "rows = 3\n",
    "columns = 3\n",
    "\n",
    "# Generate random integers for each element in the grid\n",
    "grid = [[random.randint(1, 8) for _ in range(columns)] for _ in range(rows)]\n",
    "\n",
    "# Print the generated grid\n",
    "for row in grid:\n",
    "    print(row)\n"
   ]
  },
  {
   "cell_type": "code",
   "execution_count": 41,
   "metadata": {},
   "outputs": [
    {
     "name": "stdout",
     "output_type": "stream",
     "text": [
      "[3, 5, 1]\n",
      "[4, 5, 4]\n",
      "[5, 1, 5]\n"
     ]
    }
   ],
   "source": [
    "grid = []\n",
    "# row = []\n",
    "\n",
    "for _ in range(rows):\n",
    "    row = []\n",
    "    for _ in range(columns):\n",
    "        row.append(random.randint(1,6))\n",
    "    grid.append(row) \n",
    "    \n",
    "for row in grid:\n",
    "    print(row)"
   ]
  },
  {
   "cell_type": "code",
   "execution_count": 42,
   "metadata": {},
   "outputs": [
    {
     "data": {
      "text/plain": [
       "tensor([[-0.8733,  0.4376, -0.4866],\n",
       "        [-0.7840, -0.2983, -0.9361]])"
      ]
     },
     "execution_count": 42,
     "metadata": {},
     "output_type": "execute_result"
    }
   ],
   "source": [
    "torch.manual_seed(23)           #seed in pytorch\n",
    "\n",
    "torch.randn(2,3)"
   ]
  },
  {
   "attachments": {},
   "cell_type": "markdown",
   "metadata": {},
   "source": [
    ">> Softmax"
   ]
  },
  {
   "cell_type": "code",
   "execution_count": 43,
   "metadata": {},
   "outputs": [],
   "source": [
    "import math\n",
    "import torch\n",
    "import torch.nn as nn  \n",
    "import matplotlib\n",
    "%matplotlib inline"
   ]
  },
  {
   "cell_type": "code",
   "execution_count": 44,
   "metadata": {},
   "outputs": [
    {
     "name": "stdout",
     "output_type": "stream",
     "text": [
      "softmax:  [0.09003057 0.24472847 0.66524096]\n",
      "sum of softmax: 1.0\n"
     ]
    }
   ],
   "source": [
    "z = [1,2,3]\n",
    "\n",
    "ez = ([math.exp(i) for i in z])\n",
    "sum_ez = np.sum(ez)\n",
    "softmax = np.exp(z) / sum_ez\n",
    "print(\"softmax: \", softmax)\n",
    "print(\"sum of softmax:\", np.sum(softmax))\n",
    "# np.round(ez, 2)\n",
    "# ez"
   ]
  },
  {
   "cell_type": "code",
   "execution_count": 45,
   "metadata": {},
   "outputs": [
    {
     "name": "stdout",
     "output_type": "stream",
     "text": [
      "[0.09003057 0.24472847 0.66524096]\n"
     ]
    }
   ],
   "source": [
    "# softmax(x_i) = exp(x_i) / sum(exp(x_j))\n",
    "\n",
    "import numpy as np\n",
    "\n",
    "def softmax(x):\n",
    "    exp_values = np.exp(x)\n",
    "    sum_exp_values = np.sum(exp_values)\n",
    "    softmax_probs = exp_values / sum_exp_values\n",
    "    return softmax_probs\n",
    "\n",
    "# Example input vector\n",
    "x = np.array([1.0, 2.0, 3.0])\n",
    "\n",
    "# Perform softmax\n",
    "softmax_probs = softmax(x)\n",
    "\n",
    "print(softmax_probs)\n",
    "\n"
   ]
  },
  {
   "cell_type": "code",
   "execution_count": 46,
   "metadata": {},
   "outputs": [
    {
     "data": {
      "text/plain": [
       "array([14,  1,  3,  4,  3,  8,  7,  2, 14,  1,  8,  7, 12, -3,  6,  0, -5,\n",
       "        7, 11,  4, 10, 14, -4,  2, 10])"
      ]
     },
     "execution_count": 46,
     "metadata": {},
     "output_type": "execute_result"
    }
   ],
   "source": [
    "ab = [1,2,3,5]\n",
    "np.random.seed(23)\n",
    "z = np.random.randint(-5,high=15,size=25)\n",
    "\n",
    "z"
   ]
  },
  {
   "cell_type": "code",
   "execution_count": 47,
   "metadata": {},
   "outputs": [
    {
     "name": "stdout",
     "output_type": "stream",
     "text": [
      "tensor([3.0960e-01, 6.9981e-07, 5.1709e-06, 1.4056e-05, 5.1709e-06, 7.6743e-04,\n",
      "        2.8232e-04, 1.9023e-06, 3.0960e-01, 6.9981e-07, 7.6743e-04, 2.8232e-04,\n",
      "        4.1900e-02, 1.2817e-08, 1.0386e-04, 2.5745e-07, 1.7347e-09, 2.8232e-04,\n",
      "        1.5414e-02, 1.4056e-05, 5.6706e-03, 3.0960e-01, 4.7153e-09, 1.9023e-06,\n",
      "        5.6706e-03])\n"
     ]
    }
   ],
   "source": [
    "from torch.nn import Softmax\n",
    "\n",
    "softfun = Softmax(dim = 0)\n",
    "sigmaT = softfun( torch.Tensor(z) )\n",
    "\n",
    "print(softfun(torch.Tensor(z)))\n"
   ]
  },
  {
   "cell_type": "code",
   "execution_count": 48,
   "metadata": {},
   "outputs": [
    {
     "name": "stdout",
     "output_type": "stream",
     "text": [
      "tensor([3.0960e-01, 6.9981e-07, 5.1709e-06, 1.4056e-05, 5.1709e-06, 7.6743e-04,\n",
      "        2.8232e-04, 1.9023e-06, 3.0960e-01, 6.9981e-07, 7.6743e-04, 2.8232e-04,\n",
      "        4.1900e-02, 1.2817e-08, 1.0386e-04, 2.5745e-07, 1.7347e-09, 2.8232e-04,\n",
      "        1.5414e-02, 1.4056e-05, 5.6706e-03, 3.0960e-01, 4.7153e-09, 1.9023e-06,\n",
      "        5.6706e-03])\n"
     ]
    }
   ],
   "source": [
    "# slightly more involved using torch.nn\n",
    "\n",
    "# create an instance of the softmax activation class\n",
    "softfun = nn.Softmax(dim=0)\n",
    "\n",
    "# then apply the data to that function\n",
    "sigmaT = softfun( torch.Tensor(z) )\n",
    "\n",
    "# now we get the results\n",
    "print(sigmaT)"
   ]
  },
  {
   "cell_type": "code",
   "execution_count": null,
   "metadata": {},
   "outputs": [],
   "source": []
  },
  {
   "cell_type": "code",
   "execution_count": null,
   "metadata": {},
   "outputs": [],
   "source": []
  },
  {
   "attachments": {},
   "cell_type": "markdown",
   "metadata": {},
   "source": [
    ">> Artificial Neural Network (ANN)"
   ]
  },
  {
   "cell_type": "code",
   "execution_count": 49,
   "metadata": {},
   "outputs": [],
   "source": [
    "# In an Artificial Neural Network (ANN) used for making predictions using data tables, the input values for the \n",
    "# different hidden neurons depend on the specific architecture and design choices. However, in a typical feedforward \n",
    "# neural network, each hidden neuron receives input values from the previous layer's neurons.\n",
    "\n",
    "# Let's consider a simple scenario where we have a feedforward neural network with an input layer, one hidden layer, \n",
    "# and an output layer. The input layer represents the input features or attributes of the data table, and the output \n",
    "# layer represents the predicted values or classes. In this case, the input values for the hidden neurons are the \n",
    "# outputs from the neurons in the input layer. \n",
    "\n",
    "# In a feedforward neural network, each neuron in a hidden layer has its own set of weights, which are initialized \n",
    "# randomly at the beginning of training. The purpose of these weights is to determine the contribution of each input \n",
    "# feature to the neuron's output. The weights are learned and adjusted during the training process.\n",
    "\n",
    "# To illustrate this, let's consider a simple example with three input features (feature1, feature2, feature3) and two \n",
    "# neurons in the first hidden layer (neuron1 and neuron2).\n",
    "\n",
    "# For neuron1 in the first hidden layer, the weighted sum calculation is as follows:\n",
    "# weighted_sum1 = (input1 * weight1_1) + (input2 * weight2_1) + (input3 * weight3_1)\n",
    "\n",
    "# Here, (input1, input2, input3) represents the values of the three input features, and \n",
    "# (weight1_1, weight2_1, weight3_1) represents the corresponding weights for neuron1.\n",
    "\n",
    "# Similarly, for neuron2 in the first hidden layer, the weighted sum calculation is:\n",
    "# weighted_sum2 = (input1 * weight1_2) + (input2 * weight2_2) + (input3 * weight3_2)\n",
    "\n",
    "# Here, (weight1_2, weight2_2, weight3_2) represents the weights associated with neuron2.\n",
    "\n",
    "# Each neuron in the first hidden layer has its own set of weights, which are unique and different from the weights of \n",
    "# other neurons in the same layer. These weights control the contribution of each input feature to the neuron's \n",
    "# output, allowing each neuron to learn and capture different patterns or combinations of features.\n",
    "\n",
    "# After calculating the weighted sums, an activation function is applied to introduce non-linearity into the network. \n",
    "# The activation function transforms the weighted sum into an output value for each neuron.\n",
    "# output = activation_function(weighted_sum)\n"
   ]
  },
  {
   "cell_type": "code",
   "execution_count": 50,
   "metadata": {},
   "outputs": [
    {
     "name": "stdout",
     "output_type": "stream",
     "text": [
      "max value of array m: 10, and location 2\n",
      "max value of array n: 13, and location 3\n",
      "max value of array o: 9, and location 1\n"
     ]
    }
   ],
   "source": [
    "m = np.array([1,5, 10, 3])\n",
    "n = np.array([0,6, 4, 13])\n",
    "o = np.array([1,9, 6, 3])\n",
    "\n",
    "print(f\"max value of array m: {m.max()}, and location {m.argmax()}\")\n",
    "print(f\"max value of array n: {n.max()}, and location {n.argmax()}\")\n",
    "print(f\"max value of array o: {o.max()}, and location {o.argmax()}\")"
   ]
  },
  {
   "cell_type": "code",
   "execution_count": 51,
   "metadata": {},
   "outputs": [
    {
     "name": "stdout",
     "output_type": "stream",
     "text": [
      "max value of the entire tensor: 10\n",
      "row max value of array m: tensor([10,  6,  9]), and location tensor([2, 2, 1])\n",
      "column max value of array m: tensor([ 3,  9, 10,  3]), and location tensor([1, 2, 0, 0])\n"
     ]
    }
   ],
   "source": [
    "m = torch.tensor([[1,5, 10, 3],\n",
    "                 [3,5,6, 3],\n",
    "                 [3,9,2, 3]\n",
    "                 ])\n",
    "\n",
    "print(f\"max value of the entire tensor: {torch.max(m)}\")\n",
    "print(f\"row max value of array m: {torch.max(m, axis = 1).values}, and location {torch.max(m, axis = 1).indices}\")\n",
    "print(f\"column max value of array m: {torch.max(m, axis = 0).values}, and location {torch.max(m, axis = 0).indices}\")"
   ]
  },
  {
   "attachments": {},
   "cell_type": "markdown",
   "metadata": {},
   "source": [
    ">> Random seed"
   ]
  },
  {
   "cell_type": "code",
   "execution_count": 52,
   "metadata": {},
   "outputs": [
    {
     "data": {
      "text/plain": [
       "array([[ 0.66698806,  0.02581308, -0.77761941],\n",
       "       [ 0.94863382,  0.70167179, -1.05108156],\n",
       "       [-0.36754812, -1.13745969, -1.32214752]])"
      ]
     },
     "execution_count": 52,
     "metadata": {},
     "output_type": "execute_result"
    }
   ],
   "source": [
    "np.random.seed(23)  #this will apply random seed to the entire code cell\n",
    "\n",
    "var = np.random.randn(3,3)\n",
    "var"
   ]
  },
  {
   "cell_type": "code",
   "execution_count": 53,
   "metadata": {},
   "outputs": [
    {
     "name": "stdout",
     "output_type": "stream",
     "text": [
      "[[ 0.66698806  0.02581308 -0.77761941]\n",
      " [ 0.94863382  0.70167179 -1.05108156]\n",
      " [-0.36754812 -1.13745969 -1.32214752]]\n",
      " \n",
      "[[ 1.77225828 -0.34745899  0.67014016]\n",
      " [ 0.32227152  0.06034293 -1.04345   ]\n",
      " [-1.00994188  0.44173637  1.12887685]]\n"
     ]
    }
   ],
   "source": [
    "randseed = np.random.RandomState(23) #this will apply random seed to only the variable\n",
    "\n",
    "print(randseed.randn(3,3))\n",
    "print(' ')\n",
    "print(randseed.randn(3,3))"
   ]
  },
  {
   "cell_type": "code",
   "execution_count": 54,
   "metadata": {},
   "outputs": [
    {
     "name": "stdout",
     "output_type": "stream",
     "text": [
      "tensor([[-0.8733,  0.4376, -0.4866],\n",
      "        [-0.7840, -0.2983, -0.9361],\n",
      "        [-0.5051,  1.5187,  0.1880]])\n",
      " \n",
      "[[ 1.77225828 -0.34745899  0.67014016]\n",
      " [ 0.32227152  0.06034293 -1.04345   ]\n",
      " [-1.00994188  0.44173637  1.12887685]]\n"
     ]
    }
   ],
   "source": [
    "torch.manual_seed(23)   #pytorch alternative for random seed\n",
    "\n",
    "print(torch.randn(3,3))\n",
    "print(\" \")\n",
    "print(np.random.randn(3,3))"
   ]
  },
  {
   "cell_type": "code",
   "execution_count": 55,
   "metadata": {},
   "outputs": [
    {
     "data": {
      "text/plain": [
       "'2.0.1'"
      ]
     },
     "execution_count": 55,
     "metadata": {},
     "output_type": "execute_result"
    }
   ],
   "source": [
    "torch.__version__"
   ]
  },
  {
   "cell_type": "code",
   "execution_count": 56,
   "metadata": {},
   "outputs": [],
   "source": [
    "#symbolic maths in python\n",
    "import sympy as sym\n",
    "import sympy.plotting.plot as symplot\n",
    "\n"
   ]
  },
  {
   "attachments": {},
   "cell_type": "markdown",
   "metadata": {},
   "source": [
    ">> Gradient descent"
   ]
  },
  {
   "cell_type": "code",
   "execution_count": null,
   "metadata": {},
   "outputs": [],
   "source": []
  },
  {
   "cell_type": "code",
   "execution_count": 57,
   "metadata": {},
   "outputs": [
    {
     "name": "stdout",
     "output_type": "stream",
     "text": [
      "Make: Toyota\n",
      "Model: Camry\n",
      "Year: 2021\n",
      "Wheels: 4\n",
      "Updated Year: 2022\n",
      "Engine started.\n",
      "The Toyota Camry is driving 50 miles.\n",
      "Engine stopped.\n",
      "Honk! Honk!\n"
     ]
    }
   ],
   "source": [
    "class Car:\n",
    "    # Class attribute\n",
    "    # wheels = 4\n",
    "\n",
    "    def __init__(self, make, model, year, wheels):\n",
    "        # Instance attributes\n",
    "        self.make = make \n",
    "        self.model = model  \n",
    "        self.year = year\n",
    "        self.wheels = wheels\n",
    "        self.engine_status = False\n",
    "\n",
    "    def start_engine(self):\n",
    "        self.engine_status = True\n",
    "        print(\"Engine started.\")\n",
    "\n",
    "    def stop_engine(self):\n",
    "        self.engine_status = False\n",
    "        print(\"Engine stopped.\")\n",
    "\n",
    "    def drive(self, distance):\n",
    "        if self.engine_status:\n",
    "            print(f\"The {self.make} {self.model} is driving {distance} miles.\")\n",
    "        else:\n",
    "            print(\"Start the engine first.\")\n",
    "\n",
    "    def honk_horn(self):\n",
    "        print(\"Honk! Honk!\")\n",
    "\n",
    "# Creating an instance (object) of the Car class\n",
    "my_car = Car(\"Toyota\", \"Camry\", 2021, 4)\n",
    "\n",
    "# Accessing attributes\n",
    "print(f\"Make: {my_car.make}\")\n",
    "print(f\"Model: {my_car.model}\")\n",
    "print(f\"Year: {my_car.year}\")\n",
    "print(f\"Wheels: {my_car.wheels}\")\n",
    "\n",
    "# Modifying attributes\n",
    "my_car.year = 2022\n",
    "print(f\"Updated Year: {my_car.year}\")\n",
    "\n",
    "# Calling object methods\n",
    "my_car.start_engine()\n",
    "my_car.drive(50)\n",
    "my_car.stop_engine()\n",
    "my_car.honk_horn()\n"
   ]
  },
  {
   "cell_type": "code",
   "execution_count": 58,
   "metadata": {},
   "outputs": [],
   "source": [
    "import torch\n",
    "import torch.nn as nn\n",
    "import torch.nn.functional as F\n",
    "import torch.optim as optim"
   ]
  },
  {
   "cell_type": "code",
   "execution_count": 59,
   "metadata": {},
   "outputs": [],
   "source": [
    "x = torch.Tensor(30,1)\n",
    "# x"
   ]
  },
  {
   "cell_type": "code",
   "execution_count": 60,
   "metadata": {},
   "outputs": [],
   "source": [
    "ann_model = nn.Sequential(\n",
    "    nn.Linear(1,1), #input layer\n",
    "    nn.ReLU(),  #activation function\n",
    "    nn.Linear(1,1)  #output layer\n",
    "    \n",
    ")"
   ]
  },
  {
   "cell_type": "code",
   "execution_count": 61,
   "metadata": {},
   "outputs": [],
   "source": [
    "# ann_model(x)"
   ]
  },
  {
   "cell_type": "code",
   "execution_count": 62,
   "metadata": {},
   "outputs": [],
   "source": [
    "optimizer = torch.optim.Adagrad(ann_model.parameters(), lr=1e-2) "
   ]
  },
  {
   "attachments": {},
   "cell_type": "markdown",
   "metadata": {},
   "source": [
    ">> Building your deep learning model (Tutorial code)"
   ]
  },
  {
   "cell_type": "code",
   "execution_count": 72,
   "metadata": {},
   "outputs": [],
   "source": [
    "import matplotlib.pyplot as plt\n",
    "import torch\n",
    "import torch.nn as nn\n",
    "import torch.nn.functional as F\n",
    "import torch.optim as optim"
   ]
  },
  {
   "cell_type": "code",
   "execution_count": 64,
   "metadata": {},
   "outputs": [],
   "source": [
    "x = torch.Tensor(30,1) "
   ]
  },
  {
   "cell_type": "code",
   "execution_count": 65,
   "metadata": {},
   "outputs": [],
   "source": [
    "ann_model = nn.Sequential(\n",
    "    nn.Linear(1,1), #input layer\n",
    "    nn.ReLU(),  #activation function\n",
    "    nn.Linear(1,1)  #output layer\n",
    "    \n",
    ")"
   ]
  },
  {
   "cell_type": "code",
   "execution_count": 66,
   "metadata": {},
   "outputs": [],
   "source": [
    "# learning rate \n",
    "learningRate = .05 \n",
    "\n",
    "# loss function \n",
    "lossfun = nn.MSELoss() \n",
    "\n",
    "# optimizer (the flavor of gradient descent to implement) \n",
    "optimizer = optim.SGD(ann_model.parameters(),lr=learningRate) "
   ]
  },
  {
   "cell_type": "code",
   "execution_count": 70,
   "metadata": {},
   "outputs": [
    {
     "name": "stderr",
     "output_type": "stream",
     "text": [
      "c:\\Users\\Cornel\\anaconda3\\envs\\paul_flask\\lib\\site-packages\\torch\\nn\\modules\\loss.py:536: UserWarning: Using a target size (torch.Size([30, 3])) that is different to the input size (torch.Size([30, 1])). This will likely lead to incorrect results due to broadcasting. Please ensure they have the same size.\n",
      "  return F.mse_loss(input, target, reduction=self.reduction)\n"
     ]
    }
   ],
   "source": [
    "#Lecturers own code:\n",
    "# train the model\n",
    "numepochs = 500\n",
    "losses = torch.zeros(numepochs)\n",
    "y = torch.Tensor(30, 3)\n",
    "\n",
    "## Train the model!\n",
    "for epochi in range(numepochs):\n",
    "\n",
    "  # forward pass\n",
    "  yHat = ann_model(x)\n",
    "\n",
    "  # compute loss\n",
    "  loss = lossfun(yHat,y)\n",
    "  losses[epochi] = loss\n",
    "\n",
    "  # backprop\n",
    "  optimizer.zero_grad()\n",
    "  loss.backward()\n",
    "  optimizer.step()\n",
    "\n"
   ]
  },
  {
   "cell_type": "code",
   "execution_count": 73,
   "metadata": {},
   "outputs": [
    {
     "data": {
      "image/png": "[encoded data removed]",
      "text/plain": [
       "<Figure size 640x480 with 1 Axes>"
      ]
     },
     "metadata": {},
     "output_type": "display_data"
    }
   ],
   "source": [
    "# show the losses\n",
    "\n",
    "# manually compute losses\n",
    "# final forward pass\n",
    "predictions = ann_model(x)\n",
    "\n",
    "# final loss (MSE)\n",
    "testloss = (predictions-y).pow(2).mean()\n",
    "\n",
    "plt.plot(losses.detach(),'o',markerfacecolor='w',linewidth=.1)\n",
    "plt.plot(numepochs,testloss.detach(),'ro')\n",
    "plt.xlabel('Epoch')\n",
    "plt.ylabel('Loss')\n",
    "plt.title('Final loss = %g' %testloss.item())\n",
    "plt.show()"
   ]
  },
  {
   "attachments": {},
   "cell_type": "markdown",
   "metadata": {},
   "source": [
    ">> Build your deep learning model (my code and practice)"
   ]
  },
  {
   "cell_type": "code",
   "execution_count": null,
   "metadata": {},
   "outputs": [],
   "source": [
    "pytorchtf.keras.models.save_model(\n",
    "    model, filePathString, overwrite=True,\n",
    "    include_optimizer=True, save_format=None,\n",
    "    signatures=None, options=None)"
   ]
  },
  {
   "cell_type": "code",
   "execution_count": null,
   "metadata": {},
   "outputs": [],
   "source": [
    "import torch\n",
    "import torch.nn as nn\n",
    "import torch.optim as optim\n",
    "\n",
    "# Example data\n",
    "x = torch.randn(100, 10)  # Input data tensor\n",
    "y = torch.randn(100, 1)   # Target tensor\n",
    "\n",
    "# Model definition\n",
    "class ANN(nn.Module):\n",
    "    def __init__(self):\n",
    "        super(ANN, self).__init__()\n",
    "        self.fc = nn.Linear(10, 1)  # Example fully connected layer\n",
    "\n",
    "    def forward(self, x):\n",
    "        return self.fc(x)\n",
    "\n",
    "# Create the model instance\n",
    "# ANNreg = ANN()\n",
    "\n",
    "# Learning rate\n",
    "learningRate = 0.05\n",
    "\n",
    "# Loss function\n",
    "lossfun = nn.MSELoss()\n",
    "\n",
    "# Optimizer\n",
    "optimizer = optim.SGD(ann_model.parameters(), lr=learningRate)\n",
    "\n",
    "# Train the model\n",
    "numepochs = 500\n",
    "losses = torch.zeros(numepochs)\n",
    "\n",
    "# Train the model!\n",
    "for epochi in range(numepochs):\n",
    "    # Forward pass\n",
    "    yHat = ann_model(x)\n",
    "\n",
    "    # Compute loss\n",
    "    loss = lossfun(yHat, y)\n",
    "    losses[epochi] = loss\n",
    "\n",
    "    # Backpropagation\n",
    "    optimizer.zero_grad()\n",
    "    loss.backward()\n",
    "    optimizer.step()\n",
    "\n",
    "    print('Loss: {}'.format(losses[epochi]))\n",
    "\n",
    "print('Finished Training') \n"
   ]
  },
  {
   "attachments": {},
   "cell_type": "markdown",
   "metadata": {},
   "source": [
    ">> back to practice"
   ]
  },
  {
   "cell_type": "code",
   "execution_count": null,
   "metadata": {},
   "outputs": [],
   "source": [
    "import torch\n",
    "import torch.nn as nn\n",
    "import torch.nn.functional as F\n",
    "import torch.optim as optim"
   ]
  },
  {
   "cell_type": "code",
   "execution_count": null,
   "metadata": {},
   "outputs": [],
   "source": []
  },
  {
   "cell_type": "code",
   "execution_count": null,
   "metadata": {},
   "outputs": [],
   "source": []
  },
  {
   "cell_type": "code",
   "execution_count": 21,
   "metadata": {},
   "outputs": [
    {
     "name": "stdout",
     "output_type": "stream",
     "text": [
      "tensor([[-0.8733,  0.4376],\n",
      "        [-0.4866, -0.7840]])\n"
     ]
    }
   ],
   "source": [
    "torch.manual_seed(23)\n",
    "tensor_seq = [torch.randn(1,2),torch.randn(1,2)]\n",
    "x = torch.cat(tensor_seq, dim=0)\n",
    "print(x)"
   ]
  },
  {
   "cell_type": "code",
   "execution_count": 19,
   "metadata": {},
   "outputs": [
    {
     "data": {
      "text/plain": [
       "[tensor([[-0.8733,  0.4376]]), tensor([[-0.4866, -0.7840]])]"
      ]
     },
     "execution_count": 19,
     "metadata": {},
     "output_type": "execute_result"
    }
   ],
   "source": [
    "tensor_seq"
   ]
  }
 ],
 "metadata": {
  "kernelspec": {
   "display_name": "paul_flask",
   "language": "python",
   "name": "python3"
  },
  "language_info": {
   "codemirror_mode": {
    "name": "ipython",
    "version": 3
   },
   "file_extension": ".py",
   "mimetype": "text/x-python",
   "name": "python",
   "nbconvert_exporter": "python",
   "pygments_lexer": "ipython3",
   "version": "3.10.11"
  },
  "orig_nbformat": 4
 },
 "nbformat": 4,
 "nbformat_minor": 2
}
