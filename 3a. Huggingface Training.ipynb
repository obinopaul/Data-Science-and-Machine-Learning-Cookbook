{
 "cells": [
  {
   "cell_type": "markdown",
   "metadata": {},
   "source": [
    "## Helpful Code for Training Models in Huggingface"
   ]
  },
  {
   "cell_type": "markdown",
   "metadata": {},
   "source": [
    "> Import Library"
   ]
  },
  {
   "cell_type": "code",
   "execution_count": null,
   "metadata": {},
   "outputs": [],
   "source": [
    "!pip install evaluate, rouge_score"
   ]
  },
  {
   "cell_type": "code",
   "execution_count": null,
   "metadata": {},
   "outputs": [],
   "source": [
    "import os\n",
    "import sys\n",
    "import json\n",
    "import torch\n",
    "import numpy as np\n",
    "import pandas as pd\n",
    "from tqdm import tqdm\n",
    "from datasets import Dataset\n",
    "import accelerate   # for distributed training\n",
    "from diffusers import StableDiffusionPipeline\n",
    "import evaluate     # custom evaluation script\n",
    "import torchmetrics\n",
    "import arxiv  \n",
    "\n",
    "# Huggingface Transformers\n",
    "from transformers import (\n",
    "    AutoTokenizer, \n",
    "    AutoModelForSeq2SeqLM, \n",
    "    Trainer, \n",
    "    TrainingArguments,\n",
    "    DataCollatorForSeq2Seq\n",
    ")"
   ]
  },
  {
   "cell_type": "markdown",
   "metadata": {},
   "source": [
    "> Data Collection"
   ]
  },
  {
   "cell_type": "code",
   "execution_count": null,
   "metadata": {},
   "outputs": [],
   "source": [
    "# Define the search query\n",
    "search_text = \"Deep Learning for Ageing Research\" \n",
    "\n",
    "# Search for papers on arXiv\n",
    "search = arxiv.Search(query=search_text, max_results=50, sort_by=arxiv.SortCriterion.Relevance)\n",
    "\n",
    "# Collect the results\n",
    "result_list = []\n",
    "for result in search.results():\n",
    "    result_list.append({\n",
    "        \"title\": result.title,\n",
    "        \"published\": result.published,\n",
    "        \"abstract\": result.summary,\n",
    "        \"url\": result.pdf_url,\n",
    "        \"categories\": result.categories\n",
    "    })\n",
    "\n",
    "# Save the results to a JSON file (optional)\n",
    "with open('arxiv_papers.json', 'w') as f:\n",
    "    json.dump(result_list, f, indent=4)\n"
   ]
  },
  {
   "cell_type": "markdown",
   "metadata": {},
   "source": [
    "> Prepare the Dataset"
   ]
  },
  {
   "cell_type": "code",
   "execution_count": null,
   "metadata": {},
   "outputs": [],
   "source": [
    "# Create a list of dictionaries with 'document' and 'summary' keys\n",
    "# For demonstration, we'll use the abstract as both the document and the summary\n",
    "# In practice, you'd want a more meaningful summary\n",
    "train_data = []\n",
    "for paper in result_list:\n",
    "    train_data.append({\n",
    "        \"document\": paper[\"abstract\"],\n",
    "        \"summary\": paper[\"abstract\"]  # Replace with actual summaries if available\n",
    "    })\n",
    "\n",
    "# Convert to Hugging Face Dataset\n",
    "dataset = Dataset.from_pandas(pd.DataFrame(train_data))\n",
    "\n",
    "# Split the dataset into training and evaluation sets\n",
    "split_dataset = dataset.train_test_split(test_size=0.1)\n",
    "train_dataset = split_dataset['train']\n",
    "eval_dataset = split_dataset['test']\n"
   ]
  },
  {
   "cell_type": "markdown",
   "metadata": {},
   "source": [
    "> Tokenization"
   ]
  },
  {
   "cell_type": "code",
   "execution_count": null,
   "metadata": {},
   "outputs": [],
   "source": [
    "\n",
    "model_name = \"facebook/bart-large-cnn\"\n",
    "\n",
    "# Load the tokenizer\n",
    "tokenizer = AutoTokenizer.from_pretrained(model_name)\n",
    "\n",
    "# Define the maximum sequence length\n",
    "max_input_length = 512\n",
    "max_target_length = 128\n",
    "\n",
    "# Tokenization function\n",
    "def tokenize_function(examples):\n",
    "    model_inputs = tokenizer(\n",
    "        examples[\"document\"], \n",
    "        max_length=max_input_length, \n",
    "        truncation=True\n",
    "    )\n",
    "    with tokenizer.as_target_tokenizer():\n",
    "        labels = tokenizer(\n",
    "            examples[\"summary\"], \n",
    "            max_length=max_target_length, \n",
    "            truncation=True\n",
    "        )\n",
    "    model_inputs[\"labels\"] = labels[\"input_ids\"]\n",
    "    return model_inputs\n",
    "\n",
    "# Apply the tokenization\n",
    "tokenized_train = train_dataset.map(tokenize_function, batched=True)\n",
    "tokenized_eval = eval_dataset.map(tokenize_function, batched=True)\n"
   ]
  },
  {
   "cell_type": "markdown",
   "metadata": {},
   "source": [
    "> Data Collator"
   ]
  },
  {
   "cell_type": "code",
   "execution_count": null,
   "metadata": {},
   "outputs": [],
   "source": [
    "# Set up a data collator to dynamically pad the inputs during training:\n",
    "# it loads the data from the dataset and pads it to the maximum length of the samples\n",
    "\n",
    "data_collator = DataCollatorForSeq2Seq(\n",
    "    tokenizer=tokenizer, \n",
    "    model=AutoModelForSeq2SeqLM.from_pretrained(model_name), \n",
    "    padding=True\n",
    ")\n"
   ]
  },
  {
   "cell_type": "markdown",
   "metadata": {},
   "source": [
    "> Define Training Arguments"
   ]
  },
  {
   "cell_type": "code",
   "execution_count": null,
   "metadata": {},
   "outputs": [],
   "source": [
    "# Check if GPU is available\n",
    "device = torch.device(\"cuda\" if torch.cuda.is_available() else \"cpu\")\n",
    "print(f\"Using device: {device}\")\n",
    "\n",
    "# Define training arguments\n",
    "training_args = TrainingArguments(\n",
    "    output_dir=\"./models\",\n",
    "    do_train=True,\n",
    "    do_eval=True,\n",
    "    per_device_train_batch_size=2,\n",
    "    per_device_eval_batch_size=2,\n",
    "    evaluation_strategy=\"steps\",\n",
    "    num_train_epochs=3,\n",
    "    logging_dir=\"./logs\",\n",
    "    logging_steps=10,\n",
    "    save_steps=500,\n",
    "    eval_steps=500,\n",
    "    save_total_limit=2,\n",
    "    fp16=torch.cuda.is_available(),  # Use mixed precision if GPU is available\n",
    "    load_best_model_at_end=True,\n",
    "    metric_for_best_model=\"rouge2\",\n",
    "    greater_is_better=True\n",
    ")\n"
   ]
  },
  {
   "cell_type": "markdown",
   "metadata": {},
   "source": [
    "> Initialize the Trainer"
   ]
  },
  {
   "cell_type": "code",
   "execution_count": null,
   "metadata": {},
   "outputs": [],
   "source": [
    "# Load the pre-trained model\n",
    "model = AutoModelForSeq2SeqLM.from_pretrained(model_name).to(device)\n",
    "\n",
    "\n",
    "rouge = evaluate.load(\"rouge\") # Load evaluation metric\n",
    "\n",
    "# rouge = torchmetrics.text.ROUGEScore()  # Initialize TorchMetrics ROUGE\n",
    "\n",
    "\n",
    "# Define a compute_metrics function\n",
    "def compute_metrics(eval_pred):\n",
    "    predictions, labels = eval_pred\n",
    "    decoded_preds = tokenizer.batch_decode(predictions, skip_special_tokens=True)\n",
    "    # Replace -100 in the labels as we can't decode them\n",
    "    labels = [[(label if label != -100 else tokenizer.pad_token_id) for label in doc] for doc in labels]\n",
    "    decoded_labels = tokenizer.batch_decode(labels, skip_special_tokens=True)\n",
    "    \n",
    "    #------------------------------- ROUGE Score (using evaluate) -------------------------------#\n",
    "    # Rouge expects a newline after each sentence\n",
    "    decoded_preds = [\"\\n\".join(tokenizer.tokenize(pred)) for pred in decoded_preds]\n",
    "    decoded_labels = [\"\\n\".join(tokenizer.tokenize(label)) for label in decoded_labels]\n",
    "    \n",
    "    result = rouge.compute(predictions=decoded_preds, references=decoded_labels, use_stemmer=True)\n",
    "    # Extract the median scores\n",
    "    result = {key: value.mid.fmeasure * 100 for key, value in result.items()}\n",
    "    #--------------------------------------------------------------------------#\n",
    "    #------------------------------- ROUGE Score (using TorchMetrics) -------------------------------#\n",
    "    # # Update the ROUGE metric\n",
    "    # rouge.reset()  # Reset metrics to ensure no accumulation from previous evaluations\n",
    "    # rouge.update(predictions=decoded_preds, references=decoded_labels)\n",
    "    # rouge_scores = rouge.compute()\n",
    "    \n",
    "    # # Extract the scores\n",
    "    # result = {\n",
    "    #     \"rouge1\": rouge_scores[\"rouge1\"].mid.fmeasure * 100,\n",
    "    #     \"rouge2\": rouge_scores[\"rouge2\"].mid.fmeasure * 100,\n",
    "    #     \"rougeL\": rouge_scores[\"rougeL\"].mid.fmeasure * 100,\n",
    "    # }\n",
    "    #--------------------------------------------------------------------------#\n",
    "    return result\n",
    "\n",
    "# Initialize the Trainer\n",
    "trainer = Trainer(\n",
    "    model=model,\n",
    "    args=training_args,\n",
    "    train_dataset=tokenized_train,\n",
    "    eval_dataset=tokenized_eval,\n",
    "    tokenizer=tokenizer,\n",
    "    data_collator=data_collator,\n",
    "    compute_metrics=compute_metrics\n",
    ")\n"
   ]
  },
  {
   "cell_type": "markdown",
   "metadata": {},
   "source": [
    "> Train and Evaluate the Model"
   ]
  },
  {
   "cell_type": "code",
   "execution_count": null,
   "metadata": {},
   "outputs": [],
   "source": [
    "# Start training\n",
    "trainer.train()\n",
    "\n",
    "# Evaluate the model\n",
    "trainer.evaluate()\n"
   ]
  },
  {
   "cell_type": "code",
   "execution_count": null,
   "metadata": {},
   "outputs": [],
   "source": [
    "model.save_pretrained(\"model-saved\")  # Save the model\n",
    "tokenizer.save_pretrained(\"tokenizer-saved\")  # Save the tokenizer\n",
    "\n",
    "\n",
    "# Load the saved model and tokenizer\n",
    "model = AutoModelForSeq2SeqLM.from_pretrained(\"model-saved\").to(device)\n",
    "tokenizer = AutoTokenizer.from_pretrained(\"tokenizer-saved\").to(device)"
   ]
  },
  {
   "cell_type": "markdown",
   "metadata": {},
   "source": [
    "> Visualizing AI Generated Images, Audio, and Video"
   ]
  },
  {
   "cell_type": "code",
   "execution_count": null,
   "metadata": {},
   "outputs": [
    {
     "ename": "TypeError",
     "evalue": "a bytes-like object is required, not 'NoneType'",
     "output_type": "error",
     "traceback": [
      "\u001b[1;31m---------------------------------------------------------------------------\u001b[0m",
      "\u001b[1;31mTypeError\u001b[0m                                 Traceback (most recent call last)",
      "File \u001b[1;32mc:\\Users\\pault\\anaconda3\\Lib\\site-packages\\IPython\\core\\formatters.py:344\u001b[0m, in \u001b[0;36mBaseFormatter.__call__\u001b[1;34m(self, obj)\u001b[0m\n\u001b[0;32m    342\u001b[0m     method \u001b[38;5;241m=\u001b[39m get_real_method(obj, \u001b[38;5;28mself\u001b[39m\u001b[38;5;241m.\u001b[39mprint_method)\n\u001b[0;32m    343\u001b[0m     \u001b[38;5;28;01mif\u001b[39;00m method \u001b[38;5;129;01mis\u001b[39;00m \u001b[38;5;129;01mnot\u001b[39;00m \u001b[38;5;28;01mNone\u001b[39;00m:\n\u001b[1;32m--> 344\u001b[0m         \u001b[38;5;28;01mreturn\u001b[39;00m method()\n\u001b[0;32m    345\u001b[0m     \u001b[38;5;28;01mreturn\u001b[39;00m \u001b[38;5;28;01mNone\u001b[39;00m\n\u001b[0;32m    346\u001b[0m \u001b[38;5;28;01melse\u001b[39;00m:\n",
      "File \u001b[1;32mc:\\Users\\pault\\anaconda3\\Lib\\site-packages\\IPython\\core\\display.py:1201\u001b[0m, in \u001b[0;36mVideo._repr_html_\u001b[1;34m(self)\u001b[0m\n\u001b[0;32m   1199\u001b[0m            b64_video \u001b[38;5;241m=\u001b[39m video\n\u001b[0;32m   1200\u001b[0m        \u001b[38;5;28;01melse\u001b[39;00m:\n\u001b[1;32m-> 1201\u001b[0m            b64_video \u001b[38;5;241m=\u001b[39m b2a_base64(video, newline\u001b[38;5;241m=\u001b[39m\u001b[38;5;28;01mFalse\u001b[39;00m)\u001b[38;5;241m.\u001b[39mdecode(\u001b[38;5;124m\"\u001b[39m\u001b[38;5;124mascii\u001b[39m\u001b[38;5;124m\"\u001b[39m)\u001b[38;5;241m.\u001b[39mrstrip()\n\u001b[0;32m   1203\u001b[0m        output \u001b[38;5;241m=\u001b[39m \u001b[38;5;124m\"\"\"\u001b[39m\u001b[38;5;124m<video \u001b[39m\u001b[38;5;132;01m{0}\u001b[39;00m\u001b[38;5;124m \u001b[39m\u001b[38;5;132;01m{1}\u001b[39;00m\u001b[38;5;124m \u001b[39m\u001b[38;5;132;01m{2}\u001b[39;00m\u001b[38;5;124m>\u001b[39m\n\u001b[0;32m   1204\u001b[0m \u001b[38;5;124m<source src=\u001b[39m\u001b[38;5;124m\"\u001b[39m\u001b[38;5;124mdata:\u001b[39m\u001b[38;5;132;01m{3}\u001b[39;00m\u001b[38;5;124m;base64,\u001b[39m\u001b[38;5;132;01m{4}\u001b[39;00m\u001b[38;5;124m\"\u001b[39m\u001b[38;5;124m type=\u001b[39m\u001b[38;5;124m\"\u001b[39m\u001b[38;5;132;01m{3}\u001b[39;00m\u001b[38;5;124m\"\u001b[39m\u001b[38;5;124m>\u001b[39m\n\u001b[0;32m   1205\u001b[0m \u001b[38;5;124mYour browser does not support the video tag.\u001b[39m\n\u001b[0;32m   1206\u001b[0m \u001b[38;5;124m</video>\u001b[39m\u001b[38;5;124m\"\"\"\u001b[39m\u001b[38;5;241m.\u001b[39mformat(\u001b[38;5;28mself\u001b[39m\u001b[38;5;241m.\u001b[39mhtml_attributes, width, height, mimetype, b64_video)\n\u001b[0;32m   1207\u001b[0m        \u001b[38;5;28;01mreturn\u001b[39;00m output\n",
      "\u001b[1;31mTypeError\u001b[0m: a bytes-like object is required, not 'NoneType'"
     ]
    },
    {
     "data": {
      "text/plain": [
       "<IPython.core.display.Video object>"
      ]
     },
     "metadata": {},
     "output_type": "display_data"
    }
   ],
   "source": [
    "from IPython.display import display, Markdown, Audio, Image, Video\n",
    "import matplotlib.pyplot as plt\n",
    "import librosa\n",
    "import librosa.display\n",
    "import cv2\n",
    "\n",
    "# Display Generated Text (Assuming you have the text)\n",
    "generated_text = \"Once upon a time, in a land far away...\"\n",
    "display(Markdown(f\"### **Generated Text:**\\n{generated_text}\"))\n",
    "\n",
    "# Display Generated Image\n",
    "generated_image_path = \"generated_image.png\"\n",
    "display(Image(filename=generated_image_path, width=400, height=300))\n",
    "\n",
    "# Display Generated Audio\n",
    "generated_audio_path = \"generated_audio.mp3\"\n",
    "display(Audio(filename=generated_audio_path, autoplay=False))\n",
    "\n",
    "# Display Audio Waveform\n",
    "y, sr = librosa.load(generated_audio_path)\n",
    "plt.figure(figsize=(14, 5))\n",
    "librosa.display.waveshow(y, sr=sr)\n",
    "plt.title(\"AI-Generated Audio Waveform\")\n",
    "plt.xlabel(\"Time (seconds)\")\n",
    "plt.ylabel(\"Amplitude\")\n",
    "plt.show()\n",
    "\n",
    "# Display Generated Video\n",
    "generated_video_path = \"generated_video.mp4\"\n",
    "display(Video(filename=generated_video_path, embed=True, width=640, height=480))\n",
    "\n",
    "# Display First Frame of Video\n",
    "cap = cv2.VideoCapture(generated_video_path)\n",
    "ret, frame = cap.read()\n",
    "\n",
    "if ret:\n",
    "    frame = cv2.cvtColor(frame, cv2.COLOR_BGR2RGB)\n",
    "    plt.imshow(frame)\n",
    "    plt.axis('off')\n",
    "    plt.title(\"First Frame of the AI-Generated Video\")\n",
    "    plt.show()\n",
    "else:\n",
    "    print(\"Failed to read the video.\")\n",
    "\n",
    "cap.release()\n"
   ]
  },
  {
   "cell_type": "code",
   "execution_count": 33,
   "metadata": {},
   "outputs": [
    {
     "data": {
      "text/html": [
       "\n",
       "                <audio  controls=\"controls\" autoplay=\"autoplay\">\n",
       "                    <source src=\"https://www.soundjay.com/ambient/sounds/boarding-accouncement-1.mp3\" type=\"audio/mpeg\" />\n",
       "                    Your browser does not support the audio element.\n",
       "                </audio>\n",
       "              "
      ],
      "text/plain": [
       "<IPython.lib.display.Audio object>"
      ]
     },
     "metadata": {},
     "output_type": "display_data"
    }
   ],
   "source": [
    "from IPython.display import Audio, display\n",
    "\n",
    "# Play audio from a URL\n",
    "audio_url = \"https://www.soundjay.com/ambient/sounds/boarding-accouncement-1.mp3\"\n",
    "display(Audio(url=audio_url, autoplay=True))\n",
    "\n",
    "\n"
   ]
  }
 ],
 "metadata": {
  "kernelspec": {
   "display_name": "base",
   "language": "python",
   "name": "python3"
  },
  "language_info": {
   "codemirror_mode": {
    "name": "ipython",
    "version": 3
   },
   "file_extension": ".py",
   "mimetype": "text/x-python",
   "name": "python",
   "nbconvert_exporter": "python",
   "pygments_lexer": "ipython3",
   "version": "3.11.5"
  }
 },
 "nbformat": 4,
 "nbformat_minor": 2
}
