{
 "cells": [
  {
   "cell_type": "code",
   "execution_count": 48,
   "metadata": {},
   "outputs": [],
   "source": [
    "\n",
    "class Person:\n",
    "    def __init__(self, height, shoe_size, shirt_size, pant_size):\n",
    "        self.height = height\n",
    "        self.shoe_size = shoe_size\n",
    "        self.shirt_size = shirt_size\n",
    "        self.pant_size = pant_size\n",
    "\n",
    "    def school(self):   # object functions (methods)\n",
    "        if (self.height >= 6) and (self.pant_size) > 35:\n",
    "            return \"University of Oklahoma\"\n",
    "        else:\n",
    "            return None\n",
    "\n",
    "    def work(self, name): # object function (methods)\n",
    "        print(\"{name} is going to work.\")"
   ]
  },
  {
   "cell_type": "code",
   "execution_count": 4,
   "metadata": {},
   "outputs": [],
   "source": [
    "import sys\n",
    "import pkgutil\n",
    "\n",
    "# This will give you a sorted list of all module names.\n",
    "builtin_modules = sorted([module for _, module, _ in pkgutil.iter_modules() if module in sys.builtin_module_names])\n",
    "\n",
    "for module in builtin_modules:\n",
    "    print(module)\n"
   ]
  },
  {
   "cell_type": "code",
   "execution_count": 17,
   "metadata": {},
   "outputs": [],
   "source": [
    "# 1. **Matrix Multiplication and Conditionals**:  \n",
    "#    Given two matrices `A` (3x3) and `B` (3x3), multiply them together and then find the elements in the resulting matrix that are greater than 10.\n",
    "\n",
    "# 2. **Eigenvalues and Eigenvectors**:  \n",
    "#    Compute the eigenvalues and eigenvectors of a 4x4 matrix.\n",
    "\n",
    "# 3. **Solving Linear Systems**:  \n",
    "#    Solve the linear system of equations \\(Ax = B\\), where `A` is a 3x3 matrix and `B` is a 1x3 vector.\n",
    "\n",
    "# 4. **Advanced Slicing and Indexing**:  \n",
    "#    Create a 5x5 matrix with values ranging from 1 to 25. Extract a 3x3 submatrix from the center of this matrix.\n",
    "\n",
    "# 5. **Broadcasting and Arithmetic Operations**:  \n",
    "#    Given a 1D array of size 10 and a 2D array of size 10x10, perform element-wise multiplication using broadcasting.\n",
    "\n",
    "# 6. **Array Flattening and Reshaping**:  \n",
    "#    Create an array of size 8x8 with a checkerboard pattern of zeros and ones. Flatten this array into a 1D array and then reshape it into a 4x16 array.\n",
    "\n",
    "# 7. **Advanced Statistical Operations**:  \n",
    "#    Generate a 100x10 array of random numbers. Compute the mean, median, and standard deviation of each column.\n",
    "\n",
    "# 8. **Custom Universal Function Creation (UFunc)**:  \n",
    "#    Create a custom universal function that takes two arrays as input and returns the maximum of each element-wise comparison.\n",
    "\n",
    "# 9. **Memory Layout and Performance**:  \n",
    "#    Create a large 2D array (e.g., 10000x10000) and compare the performance of summing its elements along the rows vs. along the columns. Explain the difference in performance based on NumPy's memory layout.\n",
    "\n",
    "# 10. **Advanced File Operations**:  \n",
    "#     Generate a 2D array with random floating-point numbers. Save this array to a file in binary format, then load it back into a NumPy array and verify that the data is unchanged.\n"
   ]
  },
  {
   "cell_type": "code",
   "execution_count": 59,
   "metadata": {},
   "outputs": [],
   "source": [
    "# 1. **Matrix Multiplication and Conditionals**:  \n",
    "#    Given two matrices `A` (3x3) and `B` (3x3), multiply them together and then find the elements in the resulting matrix that are greater than 10.\n"
   ]
  },
  {
   "cell_type": "code",
   "execution_count": 122,
   "metadata": {},
   "outputs": [
    {
     "data": {
      "text/plain": [
       "['rad2deg',\n",
       " 'rad2deg_',\n",
       " 'rand',\n",
       " 'rand_like',\n",
       " 'randint',\n",
       " 'randint_like',\n",
       " 'randn',\n",
       " 'randn_like',\n",
       " 'random',\n",
       " 'randperm',\n",
       " 'range',\n",
       " 'ravel',\n",
       " 'read_vitals',\n",
       " 'real',\n",
       " 'reciprocal',\n",
       " 'reciprocal_',\n",
       " 'relu',\n",
       " 'relu_',\n",
       " 'remainder',\n",
       " 'renorm',\n",
       " 'repeat_interleave',\n",
       " 'res',\n",
       " 'reshape',\n",
       " 'resize_as_',\n",
       " 'resize_as_sparse_',\n",
       " 'resolve_conj',\n",
       " 'resolve_neg',\n",
       " 'result_type',\n",
       " 'return_types',\n",
       " 'rnn_relu',\n",
       " 'rnn_relu_cell',\n",
       " 'rnn_tanh',\n",
       " 'rnn_tanh_cell',\n",
       " 'roll',\n",
       " 'rot90',\n",
       " 'round',\n",
       " 'round_',\n",
       " 'row_indices_copy',\n",
       " 'row_stack',\n",
       " 'rrelu',\n",
       " 'rrelu_',\n",
       " 'rsqrt',\n",
       " 'rsqrt_',\n",
       " 'rsub']"
      ]
     },
     "execution_count": 122,
     "metadata": {},
     "output_type": "execute_result"
    }
   ],
   "source": [
    "[i for i in dir(torch) if i.startswith(\"r\")]"
   ]
  },
  {
   "cell_type": "code",
   "execution_count": null,
   "metadata": {},
   "outputs": [],
   "source": [
    "import numpy as np\n",
    "import pandas as pd"
   ]
  },
  {
   "cell_type": "code",
   "execution_count": 1,
   "metadata": {},
   "outputs": [
    {
     "ename": "NameError",
     "evalue": "name 'np' is not defined",
     "output_type": "error",
     "traceback": [
      "\u001b[1;31m---------------------------------------------------------------------------\u001b[0m",
      "\u001b[1;31mNameError\u001b[0m                                 Traceback (most recent call last)",
      "\u001b[1;32mc:\\Users\\pault\\Documents\\GitHub\\Data-Science-and-Machine-Learning-Cookbook\\python_training.ipynb Cell 22\u001b[0m line \u001b[0;36m1\n\u001b[1;32m----> <a href='vscode-notebook-cell:/c%3A/Users/pault/Documents/GitHub/Data-Science-and-Machine-Learning-Cookbook/python_training.ipynb#X30sZmlsZQ%3D%3D?line=0'>1</a>\u001b[0m np\u001b[39m.\u001b[39mrandom\u001b[39m.\u001b[39mseed(\u001b[39m34\u001b[39m)\n\u001b[0;32m      <a href='vscode-notebook-cell:/c%3A/Users/pault/Documents/GitHub/Data-Science-and-Machine-Learning-Cookbook/python_training.ipynb#X30sZmlsZQ%3D%3D?line=1'>2</a>\u001b[0m \u001b[39m# data = np.random.randint(1, 9, size=(100,15))\u001b[39;00m\n\u001b[0;32m      <a href='vscode-notebook-cell:/c%3A/Users/pault/Documents/GitHub/Data-Science-and-Machine-Learning-Cookbook/python_training.ipynb#X30sZmlsZQ%3D%3D?line=2'>3</a>\u001b[0m data \u001b[39m=\u001b[39m np\u001b[39m.\u001b[39mrandom\u001b[39m.\u001b[39mrand(\u001b[39m15067\u001b[39m, \u001b[39m14\u001b[39m)\n",
      "\u001b[1;31mNameError\u001b[0m: name 'np' is not defined"
     ]
    }
   ],
   "source": [
    "np.random.seed(34)\n",
    "# data = np.random.randint(1, 9, size=(100,15))\n",
    "data = np.random.rand(15067, 14)\n",
    "df = pd.DataFrame(data, columns=[f\"col_{i}\" for i in range(1, data.shape[1] + 1)])\n",
    "\n",
    "df"
   ]
  }
 ],
 "metadata": {
  "kernelspec": {
   "display_name": "paul_flask",
   "language": "python",
   "name": "python3"
  },
  "language_info": {
   "codemirror_mode": {
    "name": "ipython",
    "version": 3
   },
   "file_extension": ".py",
   "mimetype": "text/x-python",
   "name": "python",
   "nbconvert_exporter": "python",
   "pygments_lexer": "ipython3",
   "version": "3.12.0"
  }
 },
 "nbformat": 4,
 "nbformat_minor": 2
}
