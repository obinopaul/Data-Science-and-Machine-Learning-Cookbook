{
 "cells": [
  {
   "cell_type": "code",
   "execution_count": 48,
   "metadata": {},
   "outputs": [],
   "source": [
    "\n",
    "class Person:\n",
    "    def __init__(self, height, shoe_size, shirt_size, pant_size):\n",
    "        self.height = height\n",
    "        self.shoe_size = shoe_size\n",
    "        self.shirt_size = shirt_size\n",
    "        self.pant_size = pant_size\n",
    "\n",
    "    def school(self):   # object functions (methods)\n",
    "        if (self.height >= 6) and (self.pant_size) > 35:\n",
    "            return \"University of Oklahoma\"\n",
    "        else:\n",
    "            return None\n",
    "\n",
    "    def work(self, name): # object function (methods)\n",
    "        print(\"{name} is going to work.\")"
   ]
  },
  {
   "cell_type": "code",
   "execution_count": null,
   "metadata": {},
   "outputs": [
    {
     "ename": "",
     "evalue": "",
     "output_type": "error",
     "traceback": [
      "\u001b[1;31mRunning cells with 'c:\\Users\\pault\\anaconda3\\python.exe' requires the ipykernel package.\n",
      "\u001b[1;31mRun the following command to install 'ipykernel' into the Python environment. \n",
      "\u001b[1;31mCommand: 'conda install -p c:\\Users\\pault\\anaconda3 ipykernel --update-deps --force-reinstall'"
     ]
    }
   ],
   "source": [
    "import sys\n",
    "import pkgutil\n",
    "\n",
    "# This will give you a sorted list of all module names.\n",
    "builtin_modules = sorted([module for _, module, _ in pkgutil.iter_modules() if module in sys.builtin_module_names])\n",
    "\n",
    "for module in builtin_modules:\n",
    "    print(module)\n"
   ]
  },
  {
   "cell_type": "code",
   "execution_count": 17,
   "metadata": {},
   "outputs": [],
   "source": [
    "# 1. **Matrix Multiplication and Conditionals**:  \n",
    "#    Given two matrices `A` (3x3) and `B` (3x3), multiply them together and then find the elements in the resulting matrix that are greater than 10.\n",
    "\n",
    "# 2. **Eigenvalues and Eigenvectors**:  \n",
    "#    Compute the eigenvalues and eigenvectors of a 4x4 matrix.\n",
    "\n",
    "# 3. **Solving Linear Systems**:  \n",
    "#    Solve the linear system of equations \\(Ax = B\\), where `A` is a 3x3 matrix and `B` is a 1x3 vector.\n",
    "\n",
    "# 4. **Advanced Slicing and Indexing**:  \n",
    "#    Create a 5x5 matrix with values ranging from 1 to 25. Extract a 3x3 submatrix from the center of this matrix.\n",
    "\n",
    "# 5. **Broadcasting and Arithmetic Operations**:  \n",
    "#    Given a 1D array of size 10 and a 2D array of size 10x10, perform element-wise multiplication using broadcasting.\n",
    "\n",
    "# 6. **Array Flattening and Reshaping**:  \n",
    "#    Create an array of size 8x8 with a checkerboard pattern of zeros and ones. Flatten this array into a 1D array and then reshape it into a 4x16 array.\n",
    "\n",
    "# 7. **Advanced Statistical Operations**:  \n",
    "#    Generate a 100x10 array of random numbers. Compute the mean, median, and standard deviation of each column.\n",
    "\n",
    "# 8. **Custom Universal Function Creation (UFunc)**:  \n",
    "#    Create a custom universal function that takes two arrays as input and returns the maximum of each element-wise comparison.\n",
    "\n",
    "# 9. **Memory Layout and Performance**:  \n",
    "#    Create a large 2D array (e.g., 10000x10000) and compare the performance of summing its elements along the rows vs. along the columns. Explain the difference in performance based on NumPy's memory layout.\n",
    "\n",
    "# 10. **Advanced File Operations**:  \n",
    "#     Generate a 2D array with random floating-point numbers. Save this array to a file in binary format, then load it back into a NumPy array and verify that the data is unchanged.\n"
   ]
  },
  {
   "cell_type": "code",
   "execution_count": 59,
   "metadata": {},
   "outputs": [],
   "source": [
    "# 1. **Matrix Multiplication and Conditionals**:  \n",
    "#    Given two matrices `A` (3x3) and `B` (3x3), multiply them together and then find the elements in the resulting matrix that are greater than 10.\n"
   ]
  },
  {
   "cell_type": "code",
   "execution_count": 122,
   "metadata": {},
   "outputs": [
    {
     "data": {
      "text/plain": [
       "['rad2deg',\n",
       " 'rad2deg_',\n",
       " 'rand',\n",
       " 'rand_like',\n",
       " 'randint',\n",
       " 'randint_like',\n",
       " 'randn',\n",
       " 'randn_like',\n",
       " 'random',\n",
       " 'randperm',\n",
       " 'range',\n",
       " 'ravel',\n",
       " 'read_vitals',\n",
       " 'real',\n",
       " 'reciprocal',\n",
       " 'reciprocal_',\n",
       " 'relu',\n",
       " 'relu_',\n",
       " 'remainder',\n",
       " 'renorm',\n",
       " 'repeat_interleave',\n",
       " 'res',\n",
       " 'reshape',\n",
       " 'resize_as_',\n",
       " 'resize_as_sparse_',\n",
       " 'resolve_conj',\n",
       " 'resolve_neg',\n",
       " 'result_type',\n",
       " 'return_types',\n",
       " 'rnn_relu',\n",
       " 'rnn_relu_cell',\n",
       " 'rnn_tanh',\n",
       " 'rnn_tanh_cell',\n",
       " 'roll',\n",
       " 'rot90',\n",
       " 'round',\n",
       " 'round_',\n",
       " 'row_indices_copy',\n",
       " 'row_stack',\n",
       " 'rrelu',\n",
       " 'rrelu_',\n",
       " 'rsqrt',\n",
       " 'rsqrt_',\n",
       " 'rsub']"
      ]
     },
     "execution_count": 122,
     "metadata": {},
     "output_type": "execute_result"
    }
   ],
   "source": [
    "[i for i in dir(torch) if i.startswith(\"r\")]"
   ]
  },
  {
   "cell_type": "code",
   "execution_count": 3,
   "metadata": {},
   "outputs": [],
   "source": [
    "import numpy as np\n",
    "import pandas as pd"
   ]
  },
  {
   "cell_type": "code",
   "execution_count": 4,
   "metadata": {},
   "outputs": [
    {
     "data": {
      "text/html": [
       "<div>\n",
       "<style scoped>\n",
       "    .dataframe tbody tr th:only-of-type {\n",
       "        vertical-align: middle;\n",
       "    }\n",
       "\n",
       "    .dataframe tbody tr th {\n",
       "        vertical-align: top;\n",
       "    }\n",
       "\n",
       "    .dataframe thead th {\n",
       "        text-align: right;\n",
       "    }\n",
       "</style>\n",
       "<table border=\"1\" class=\"dataframe\">\n",
       "  <thead>\n",
       "    <tr style=\"text-align: right;\">\n",
       "      <th></th>\n",
       "      <th>col_1</th>\n",
       "      <th>col_2</th>\n",
       "      <th>col_3</th>\n",
       "      <th>col_4</th>\n",
       "      <th>col_5</th>\n",
       "      <th>col_6</th>\n",
       "      <th>col_7</th>\n",
       "      <th>col_8</th>\n",
       "      <th>col_9</th>\n",
       "      <th>col_10</th>\n",
       "      <th>col_11</th>\n",
       "      <th>col_12</th>\n",
       "      <th>col_13</th>\n",
       "      <th>col_14</th>\n",
       "    </tr>\n",
       "  </thead>\n",
       "  <tbody>\n",
       "    <tr>\n",
       "      <th>row_1</th>\n",
       "      <td>2</td>\n",
       "      <td>3</td>\n",
       "      <td>3</td>\n",
       "      <td>2</td>\n",
       "      <td>7</td>\n",
       "      <td>6</td>\n",
       "      <td>5</td>\n",
       "      <td>4</td>\n",
       "      <td>6</td>\n",
       "      <td>4</td>\n",
       "      <td>3</td>\n",
       "      <td>7</td>\n",
       "      <td>6</td>\n",
       "      <td>3</td>\n",
       "    </tr>\n",
       "    <tr>\n",
       "      <th>row_2</th>\n",
       "      <td>6</td>\n",
       "      <td>2</td>\n",
       "      <td>1</td>\n",
       "      <td>6</td>\n",
       "      <td>7</td>\n",
       "      <td>6</td>\n",
       "      <td>7</td>\n",
       "      <td>5</td>\n",
       "      <td>6</td>\n",
       "      <td>1</td>\n",
       "      <td>7</td>\n",
       "      <td>6</td>\n",
       "      <td>5</td>\n",
       "      <td>4</td>\n",
       "    </tr>\n",
       "    <tr>\n",
       "      <th>row_3</th>\n",
       "      <td>4</td>\n",
       "      <td>6</td>\n",
       "      <td>6</td>\n",
       "      <td>8</td>\n",
       "      <td>1</td>\n",
       "      <td>1</td>\n",
       "      <td>8</td>\n",
       "      <td>3</td>\n",
       "      <td>6</td>\n",
       "      <td>5</td>\n",
       "      <td>1</td>\n",
       "      <td>7</td>\n",
       "      <td>3</td>\n",
       "      <td>6</td>\n",
       "    </tr>\n",
       "    <tr>\n",
       "      <th>row_4</th>\n",
       "      <td>5</td>\n",
       "      <td>3</td>\n",
       "      <td>6</td>\n",
       "      <td>3</td>\n",
       "      <td>3</td>\n",
       "      <td>3</td>\n",
       "      <td>4</td>\n",
       "      <td>3</td>\n",
       "      <td>2</td>\n",
       "      <td>3</td>\n",
       "      <td>7</td>\n",
       "      <td>7</td>\n",
       "      <td>1</td>\n",
       "      <td>3</td>\n",
       "    </tr>\n",
       "    <tr>\n",
       "      <th>row_5</th>\n",
       "      <td>7</td>\n",
       "      <td>3</td>\n",
       "      <td>1</td>\n",
       "      <td>4</td>\n",
       "      <td>6</td>\n",
       "      <td>5</td>\n",
       "      <td>8</td>\n",
       "      <td>1</td>\n",
       "      <td>5</td>\n",
       "      <td>5</td>\n",
       "      <td>2</td>\n",
       "      <td>8</td>\n",
       "      <td>7</td>\n",
       "      <td>5</td>\n",
       "    </tr>\n",
       "    <tr>\n",
       "      <th>row_6</th>\n",
       "      <td>3</td>\n",
       "      <td>2</td>\n",
       "      <td>6</td>\n",
       "      <td>5</td>\n",
       "      <td>8</td>\n",
       "      <td>4</td>\n",
       "      <td>3</td>\n",
       "      <td>6</td>\n",
       "      <td>7</td>\n",
       "      <td>7</td>\n",
       "      <td>8</td>\n",
       "      <td>2</td>\n",
       "      <td>6</td>\n",
       "      <td>7</td>\n",
       "    </tr>\n",
       "  </tbody>\n",
       "</table>\n",
       "</div>"
      ],
      "text/plain": [
       "       col_1  col_2  col_3  col_4  col_5  col_6  col_7  col_8  col_9  col_10  \\\n",
       "row_1      2      3      3      2      7      6      5      4      6       4   \n",
       "row_2      6      2      1      6      7      6      7      5      6       1   \n",
       "row_3      4      6      6      8      1      1      8      3      6       5   \n",
       "row_4      5      3      6      3      3      3      4      3      2       3   \n",
       "row_5      7      3      1      4      6      5      8      1      5       5   \n",
       "row_6      3      2      6      5      8      4      3      6      7       7   \n",
       "\n",
       "       col_11  col_12  col_13  col_14  \n",
       "row_1       3       7       6       3  \n",
       "row_2       7       6       5       4  \n",
       "row_3       1       7       3       6  \n",
       "row_4       7       7       1       3  \n",
       "row_5       2       8       7       5  \n",
       "row_6       8       2       6       7  "
      ]
     },
     "execution_count": 4,
     "metadata": {},
     "output_type": "execute_result"
    }
   ],
   "source": [
    "np.random.seed(34)\n",
    "data = np.random.randint(1, 9, size=(15067, 14))\n",
    "# data = np.random.rand(15067, 14)\n",
    "df = pd.DataFrame(data, columns=[f\"col_{i}\" for i in range(1, data.shape[1] + 1)], index= [f\"row_{i}\" for i in range(1, data.shape[0] + 1)])\n",
    "\n",
    "df.head(6)"
   ]
  },
  {
   "cell_type": "code",
   "execution_count": 18,
   "metadata": {},
   "outputs": [
    {
     "name": "stdout",
     "output_type": "stream",
     "text": [
      "\u001b[1;31mSignature:\u001b[0m\n",
      "\u001b[0mdf\u001b[0m\u001b[1;33m.\u001b[0m\u001b[0mmerge\u001b[0m\u001b[1;33m(\u001b[0m\u001b[1;33m\n",
      "\u001b[0m    \u001b[0mright\u001b[0m\u001b[1;33m:\u001b[0m \u001b[1;34m'DataFrame | Series'\u001b[0m\u001b[1;33m,\u001b[0m\u001b[1;33m\n",
      "\u001b[0m    \u001b[0mhow\u001b[0m\u001b[1;33m:\u001b[0m \u001b[1;34m'MergeHow'\u001b[0m \u001b[1;33m=\u001b[0m \u001b[1;34m'inner'\u001b[0m\u001b[1;33m,\u001b[0m\u001b[1;33m\n",
      "\u001b[0m    \u001b[0mon\u001b[0m\u001b[1;33m:\u001b[0m \u001b[1;34m'IndexLabel | None'\u001b[0m \u001b[1;33m=\u001b[0m \u001b[1;32mNone\u001b[0m\u001b[1;33m,\u001b[0m\u001b[1;33m\n",
      "\u001b[0m    \u001b[0mleft_on\u001b[0m\u001b[1;33m:\u001b[0m \u001b[1;34m'IndexLabel | None'\u001b[0m \u001b[1;33m=\u001b[0m \u001b[1;32mNone\u001b[0m\u001b[1;33m,\u001b[0m\u001b[1;33m\n",
      "\u001b[0m    \u001b[0mright_on\u001b[0m\u001b[1;33m:\u001b[0m \u001b[1;34m'IndexLabel | None'\u001b[0m \u001b[1;33m=\u001b[0m \u001b[1;32mNone\u001b[0m\u001b[1;33m,\u001b[0m\u001b[1;33m\n",
      "\u001b[0m    \u001b[0mleft_index\u001b[0m\u001b[1;33m:\u001b[0m \u001b[1;34m'bool'\u001b[0m \u001b[1;33m=\u001b[0m \u001b[1;32mFalse\u001b[0m\u001b[1;33m,\u001b[0m\u001b[1;33m\n",
      "\u001b[0m    \u001b[0mright_index\u001b[0m\u001b[1;33m:\u001b[0m \u001b[1;34m'bool'\u001b[0m \u001b[1;33m=\u001b[0m \u001b[1;32mFalse\u001b[0m\u001b[1;33m,\u001b[0m\u001b[1;33m\n",
      "\u001b[0m    \u001b[0msort\u001b[0m\u001b[1;33m:\u001b[0m \u001b[1;34m'bool'\u001b[0m \u001b[1;33m=\u001b[0m \u001b[1;32mFalse\u001b[0m\u001b[1;33m,\u001b[0m\u001b[1;33m\n",
      "\u001b[0m    \u001b[0msuffixes\u001b[0m\u001b[1;33m:\u001b[0m \u001b[1;34m'Suffixes'\u001b[0m \u001b[1;33m=\u001b[0m \u001b[1;33m(\u001b[0m\u001b[1;34m'_x'\u001b[0m\u001b[1;33m,\u001b[0m \u001b[1;34m'_y'\u001b[0m\u001b[1;33m)\u001b[0m\u001b[1;33m,\u001b[0m\u001b[1;33m\n",
      "\u001b[0m    \u001b[0mcopy\u001b[0m\u001b[1;33m:\u001b[0m \u001b[1;34m'bool | None'\u001b[0m \u001b[1;33m=\u001b[0m \u001b[1;32mNone\u001b[0m\u001b[1;33m,\u001b[0m\u001b[1;33m\n",
      "\u001b[0m    \u001b[0mindicator\u001b[0m\u001b[1;33m:\u001b[0m \u001b[1;34m'str | bool'\u001b[0m \u001b[1;33m=\u001b[0m \u001b[1;32mFalse\u001b[0m\u001b[1;33m,\u001b[0m\u001b[1;33m\n",
      "\u001b[0m    \u001b[0mvalidate\u001b[0m\u001b[1;33m:\u001b[0m \u001b[1;34m'MergeValidate | None'\u001b[0m \u001b[1;33m=\u001b[0m \u001b[1;32mNone\u001b[0m\u001b[1;33m,\u001b[0m\u001b[1;33m\n",
      "\u001b[0m\u001b[1;33m)\u001b[0m \u001b[1;33m->\u001b[0m \u001b[1;34m'DataFrame'\u001b[0m\u001b[1;33m\u001b[0m\u001b[1;33m\u001b[0m\u001b[0m\n",
      "\u001b[1;31mDocstring:\u001b[0m\n",
      "Merge DataFrame or named Series objects with a database-style join.\n",
      "\n",
      "A named Series object is treated as a DataFrame with a single named column.\n",
      "\n",
      "The join is done on columns or indexes. If joining columns on\n",
      "columns, the DataFrame indexes *will be ignored*. Otherwise if joining indexes\n",
      "on indexes or indexes on a column or columns, the index will be passed on.\n",
      "When performing a cross merge, no column specifications to merge on are\n",
      "allowed.\n",
      "\n",
      ".. warning::\n",
      "\n",
      "    If both key columns contain rows where the key is a null value, those\n",
      "    rows will be matched against each other. This is different from usual SQL\n",
      "    join behaviour and can lead to unexpected results.\n",
      "\n",
      "Parameters\n",
      "----------\n",
      "right : DataFrame or named Series\n",
      "    Object to merge with.\n",
      "how : {'left', 'right', 'outer', 'inner', 'cross'}, default 'inner'\n",
      "    Type of merge to be performed.\n",
      "\n",
      "    * left: use only keys from left frame, similar to a SQL left outer join;\n",
      "      preserve key order.\n",
      "    * right: use only keys from right frame, similar to a SQL right outer join;\n",
      "      preserve key order.\n",
      "    * outer: use union of keys from both frames, similar to a SQL full outer\n",
      "      join; sort keys lexicographically.\n",
      "    * inner: use intersection of keys from both frames, similar to a SQL inner\n",
      "      join; preserve the order of the left keys.\n",
      "    * cross: creates the cartesian product from both frames, preserves the order\n",
      "      of the left keys.\n",
      "\n",
      "      .. versionadded:: 1.2.0\n",
      "\n",
      "on : label or list\n",
      "    Column or index level names to join on. These must be found in both\n",
      "    DataFrames. If `on` is None and not merging on indexes then this defaults\n",
      "    to the intersection of the columns in both DataFrames.\n",
      "left_on : label or list, or array-like\n",
      "    Column or index level names to join on in the left DataFrame. Can also\n",
      "    be an array or list of arrays of the length of the left DataFrame.\n",
      "    These arrays are treated as if they are columns.\n",
      "right_on : label or list, or array-like\n",
      "    Column or index level names to join on in the right DataFrame. Can also\n",
      "    be an array or list of arrays of the length of the right DataFrame.\n",
      "    These arrays are treated as if they are columns.\n",
      "left_index : bool, default False\n",
      "    Use the index from the left DataFrame as the join key(s). If it is a\n",
      "    MultiIndex, the number of keys in the other DataFrame (either the index\n",
      "    or a number of columns) must match the number of levels.\n",
      "right_index : bool, default False\n",
      "    Use the index from the right DataFrame as the join key. Same caveats as\n",
      "    left_index.\n",
      "sort : bool, default False\n",
      "    Sort the join keys lexicographically in the result DataFrame. If False,\n",
      "    the order of the join keys depends on the join type (how keyword).\n",
      "suffixes : list-like, default is (\"_x\", \"_y\")\n",
      "    A length-2 sequence where each element is optionally a string\n",
      "    indicating the suffix to add to overlapping column names in\n",
      "    `left` and `right` respectively. Pass a value of `None` instead\n",
      "    of a string to indicate that the column name from `left` or\n",
      "    `right` should be left as-is, with no suffix. At least one of the\n",
      "    values must not be None.\n",
      "copy : bool, default True\n",
      "    If False, avoid copy if possible.\n",
      "indicator : bool or str, default False\n",
      "    If True, adds a column to the output DataFrame called \"_merge\" with\n",
      "    information on the source of each row. The column can be given a different\n",
      "    name by providing a string argument. The column will have a Categorical\n",
      "    type with the value of \"left_only\" for observations whose merge key only\n",
      "    appears in the left DataFrame, \"right_only\" for observations\n",
      "    whose merge key only appears in the right DataFrame, and \"both\"\n",
      "    if the observation's merge key is found in both DataFrames.\n",
      "\n",
      "validate : str, optional\n",
      "    If specified, checks if merge is of specified type.\n",
      "\n",
      "    * \"one_to_one\" or \"1:1\": check if merge keys are unique in both\n",
      "      left and right datasets.\n",
      "    * \"one_to_many\" or \"1:m\": check if merge keys are unique in left\n",
      "      dataset.\n",
      "    * \"many_to_one\" or \"m:1\": check if merge keys are unique in right\n",
      "      dataset.\n",
      "    * \"many_to_many\" or \"m:m\": allowed, but does not result in checks.\n",
      "\n",
      "Returns\n",
      "-------\n",
      "DataFrame\n",
      "    A DataFrame of the two merged objects.\n",
      "\n",
      "See Also\n",
      "--------\n",
      "merge_ordered : Merge with optional filling/interpolation.\n",
      "merge_asof : Merge on nearest keys.\n",
      "DataFrame.join : Similar method using indices.\n",
      "\n",
      "Examples\n",
      "--------\n",
      ">>> df1 = pd.DataFrame({'lkey': ['foo', 'bar', 'baz', 'foo'],\n",
      "...                     'value': [1, 2, 3, 5]})\n",
      ">>> df2 = pd.DataFrame({'rkey': ['foo', 'bar', 'baz', 'foo'],\n",
      "...                     'value': [5, 6, 7, 8]})\n",
      ">>> df1\n",
      "    lkey value\n",
      "0   foo      1\n",
      "1   bar      2\n",
      "2   baz      3\n",
      "3   foo      5\n",
      ">>> df2\n",
      "    rkey value\n",
      "0   foo      5\n",
      "1   bar      6\n",
      "2   baz      7\n",
      "3   foo      8\n",
      "\n",
      "Merge df1 and df2 on the lkey and rkey columns. The value columns have\n",
      "the default suffixes, _x and _y, appended.\n",
      "\n",
      ">>> df1.merge(df2, left_on='lkey', right_on='rkey')\n",
      "  lkey  value_x rkey  value_y\n",
      "0  foo        1  foo        5\n",
      "1  foo        1  foo        8\n",
      "2  foo        5  foo        5\n",
      "3  foo        5  foo        8\n",
      "4  bar        2  bar        6\n",
      "5  baz        3  baz        7\n",
      "\n",
      "Merge DataFrames df1 and df2 with specified left and right suffixes\n",
      "appended to any overlapping columns.\n",
      "\n",
      ">>> df1.merge(df2, left_on='lkey', right_on='rkey',\n",
      "...           suffixes=('_left', '_right'))\n",
      "  lkey  value_left rkey  value_right\n",
      "0  foo           1  foo            5\n",
      "1  foo           1  foo            8\n",
      "2  foo           5  foo            5\n",
      "3  foo           5  foo            8\n",
      "4  bar           2  bar            6\n",
      "5  baz           3  baz            7\n",
      "\n",
      "Merge DataFrames df1 and df2, but raise an exception if the DataFrames have\n",
      "any overlapping columns.\n",
      "\n",
      ">>> df1.merge(df2, left_on='lkey', right_on='rkey', suffixes=(False, False))\n",
      "Traceback (most recent call last):\n",
      "...\n",
      "ValueError: columns overlap but no suffix specified:\n",
      "    Index(['value'], dtype='object')\n",
      "\n",
      ">>> df1 = pd.DataFrame({'a': ['foo', 'bar'], 'b': [1, 2]})\n",
      ">>> df2 = pd.DataFrame({'a': ['foo', 'baz'], 'c': [3, 4]})\n",
      ">>> df1\n",
      "      a  b\n",
      "0   foo  1\n",
      "1   bar  2\n",
      ">>> df2\n",
      "      a  c\n",
      "0   foo  3\n",
      "1   baz  4\n",
      "\n",
      ">>> df1.merge(df2, how='inner', on='a')\n",
      "      a  b  c\n",
      "0   foo  1  3\n",
      "\n",
      ">>> df1.merge(df2, how='left', on='a')\n",
      "      a  b  c\n",
      "0   foo  1  3.0\n",
      "1   bar  2  NaN\n",
      "\n",
      ">>> df1 = pd.DataFrame({'left': ['foo', 'bar']})\n",
      ">>> df2 = pd.DataFrame({'right': [7, 8]})\n",
      ">>> df1\n",
      "    left\n",
      "0   foo\n",
      "1   bar\n",
      ">>> df2\n",
      "    right\n",
      "0   7\n",
      "1   8\n",
      "\n",
      ">>> df1.merge(df2, how='cross')\n",
      "   left  right\n",
      "0   foo      7\n",
      "1   foo      8\n",
      "2   bar      7\n",
      "3   bar      8\n",
      "\u001b[1;31mFile:\u001b[0m      c:\\users\\pault\\anaconda3\\envs\\paul_flask\\lib\\site-packages\\pandas\\core\\frame.py\n",
      "\u001b[1;31mType:\u001b[0m      method"
     ]
    }
   ],
   "source": [
    "df.merge?"
   ]
  },
  {
   "cell_type": "code",
   "execution_count": 82,
   "metadata": {},
   "outputs": [],
   "source": [
    "# df_train[['col_1', 'col_2', 'col_3']]"
   ]
  },
  {
   "cell_type": "code",
   "execution_count": 5,
   "metadata": {},
   "outputs": [
    {
     "name": "stdout",
     "output_type": "stream",
     "text": [
      "(7533, 14)\n",
      "(7534, 14)\n"
     ]
    }
   ],
   "source": [
    "df_shuffle = df.sample(frac = 1, random_state=23)\n",
    "\n",
    "df_train = df_shuffle[: int(0.5 * len(df_shuffle))]\n",
    "df_test = df_shuffle[len(df_train):]\n",
    "\n",
    "\n",
    "print(df_train.shape)\n",
    "print(df_test.shape)"
   ]
  },
  {
   "cell_type": "code",
   "execution_count": 6,
   "metadata": {},
   "outputs": [],
   "source": [
    "df_practice = df.sample(frac=1, random_state=54)\n",
    "\n",
    "df_practice['col_20'] = np.nan"
   ]
  },
  {
   "cell_type": "code",
   "execution_count": 7,
   "metadata": {},
   "outputs": [],
   "source": [
    "df_310 = df.loc[\"row_3\": \"row_10\", [\"col_1\", \"col_4\", \"col_10\"]]\n",
    "df_12 = df.loc[\"row_12\", [\"col_1\", \"col_4\", \"col_10\"]]\n",
    "\n",
    "df_practice.reset_index(drop=[\"index\", \"col_20\"], inplace=True)"
   ]
  },
  {
   "cell_type": "code",
   "execution_count": 8,
   "metadata": {},
   "outputs": [],
   "source": [
    "df_practice.drop(columns=\"col_20\", axis=1, inplace=True)"
   ]
  },
  {
   "cell_type": "code",
   "execution_count": 188,
   "metadata": {},
   "outputs": [
    {
     "name": "stdout",
     "output_type": "stream",
     "text": [
      "[(1, 6), (3, 6), (3, 7), (1, 9)]\n"
     ]
    }
   ],
   "source": [
    "data = [(1, 5), (4, 6), (4, 5), (3, 6), (4, 5), (3, 7), (1, 5), (4, 9)]\n",
    "\n",
    "def turin(data):\n",
    "    new_list = []\n",
    "    for i in range(1, len(data), 2):\n",
    "        if i < len(data):\n",
    "            min_val = min(data[i-1][0], data[i-1][1], data[i][0], data[i][1])\n",
    "            max_val = max(data[i-1][0], data[i-1][1], data[i][0], data[i][1])\n",
    "            result = tuple([min_val, max_val])\n",
    "            new_list.append(result)\n",
    "    print(new_list)\n",
    "\n",
    "\n",
    "turin(data)"
   ]
  },
  {
   "cell_type": "code",
   "execution_count": 11,
   "metadata": {},
   "outputs": [
    {
     "name": "stdout",
     "output_type": "stream",
     "text": [
      "15067 rows and 14 columns\n"
     ]
    }
   ],
   "source": [
    "print(f\"{df_practice.shape[0]} rows and {df.shape[1]} columns\")"
   ]
  },
  {
   "cell_type": "code",
   "execution_count": 12,
   "metadata": {},
   "outputs": [
    {
     "data": {
      "text/plain": [
       "[17, 19, 30, 18, 16, 150, 306, 205, 105]"
      ]
     },
     "execution_count": 12,
     "metadata": {},
     "output_type": "execute_result"
    }
   ],
   "source": [
    "def find_postorder(preorder, inorder):\n",
    "    if not preorder or not inorder:\n",
    "        return []\n",
    "\n",
    "    # Root is always the first element in preorder\n",
    "    root = preorder[0]\n",
    "\n",
    "    # Find the index of the root in inorder traversal\n",
    "    root_index = inorder.index(root)\n",
    "\n",
    "    # Elements before root_index in inorder are in the left subtree\n",
    "    # Elements after root_index in inorder are in the right subtree\n",
    "    left_inorder = inorder[:root_index]\n",
    "    right_inorder = inorder[root_index + 1:]\n",
    "\n",
    "    # Elements in the left subtree will be in the beginning of the preorder list,\n",
    "    # after the root, and their count will be equal to the length of the left_inorder\n",
    "    left_preorder = preorder[1: 1 + len(left_inorder)]\n",
    "    right_preorder = preorder[1 + len(left_inorder):]\n",
    "\n",
    "    # Recursively find postorder traversals of left and right subtrees\n",
    "    left_postorder = find_postorder(left_preorder, left_inorder)\n",
    "    right_postorder = find_postorder(right_preorder, right_inorder)\n",
    "\n",
    "    # Postorder traversal is left subtree, then right subtree, then root\n",
    "    return left_postorder + right_postorder + [root]\n",
    "\n",
    "# Given preorder and inorder traversals\n",
    "preorder = [105, 16, 18, 17, 30, 19, 205, 150, 306]\n",
    "inorder = [16, 17, 18, 19, 30, 105, 150, 205, 306]\n",
    "\n",
    "# Find the postorder traversal\n",
    "postorder = find_postorder(preorder, inorder)\n",
    "postorder\n",
    "\n"
   ]
  },
  {
   "cell_type": "code",
   "execution_count": null,
   "metadata": {},
   "outputs": [],
   "source": [
    "            50\n",
    "           /   \\\n",
    "         17     76\n",
    "        /  \\     /\n",
    "       9   23   54 \n",
    "       \\    /     \\\n",
    "       14  19     72\n",
    "       /          / \n",
    "      12         67\n"
   ]
  },
  {
   "cell_type": "code",
   "execution_count": 2,
   "metadata": {},
   "outputs": [],
   "source": [
    "import pandas as pd\n",
    "import matplotlib.pyplot as plt\n",
    "import numpy as np\n",
    "import seaborn as sns"
   ]
  },
  {
   "cell_type": "code",
   "execution_count": 3,
   "metadata": {},
   "outputs": [
    {
     "data": {
      "text/plain": [
       "Index(['Start Date', 'End Date', 'Response Type', 'IP Address', 'Progress',\n",
       "       'Duration (in seconds)', 'Finished', 'Recorded Date', 'Response ID',\n",
       "       'Recipient Last Name', 'Recipient First Name', 'Recipient Email',\n",
       "       'External Data Reference', 'Location Latitude', 'Location Longitude',\n",
       "       'Distribution Channel', 'User Language', 'RSVP',\n",
       "       'Please provide the following information: - First Name',\n",
       "       'Please provide the following information: - Last Name',\n",
       "       'Please provide the following information: - Email Address',\n",
       "       'Please provide the following information: - OU Department or Area (optional)',\n",
       "       'Select your campus affiliation from the list below - Selected Choice',\n",
       "       'Select your campus affiliation from the list below - Other (please specify) - Text',\n",
       "       'Select your preferred Sandwich option - Selected Choice',\n",
       "       'Select your preferred Sandwich option - None of the above options meet my dietary needs (please specify below) - Text'],\n",
       "      dtype='object')"
      ]
     },
     "execution_count": 3,
     "metadata": {},
     "output_type": "execute_result"
    }
   ],
   "source": [
    "data = pd.read_csv(r\"C:\\Users\\pault\\Downloads\\idpd.csv\", skiprows = 1)\n",
    "\n",
    "data.columns"
   ]
  },
  {
   "cell_type": "code",
   "execution_count": 4,
   "metadata": {},
   "outputs": [],
   "source": [
    "data.drop(['Start Date', 'End Date', 'Response Type', 'IP Address', 'Progress',\n",
    "       'Duration (in seconds)', 'Finished', 'Recorded Date', 'External Data Reference', 'Location Latitude', 'Location Longitude',\n",
    "       'Distribution Channel', 'User Language', 'Response ID', 'Recipient Last Name','Recipient First Name',\t'Recipient Email'], axis = 1, inplace = True)\n",
    "\n",
    "data.drop([0], axis = 0, inplace = True)\n",
    "\n",
    "data.rename(columns = {\n",
    "    'Please provide the following information: - First Name':\"first_name\",\n",
    "    'Please provide the following information: - Last Name': \"last_name\",\n",
    "    'Please provide the following information: - Email Address':'email',\n",
    "    'Please provide the following information: - OU Department or Area (optional)':'ou_department',\n",
    "    'Select your campus affiliation from the list below - Selected Choice':'campus',\n",
    "    'Select your campus affiliation from the list below - Other (please specify) - Text':'campus_other',\n",
    "    'Select your preferred Sandwich option - Selected Choice':'sanwich_option',\n",
    "    'Select your preferred Sandwich option - None of the above options meet my dietary needs (please specify below) - Text':'dietary_needs'\n",
    "}, inplace = True)"
   ]
  },
  {
   "cell_type": "code",
   "execution_count": 33,
   "metadata": {},
   "outputs": [],
   "source": [
    "# pd.DataFrame.rename?"
   ]
  },
  {
   "cell_type": "code",
   "execution_count": 198,
   "metadata": {},
   "outputs": [
    {
     "data": {
      "text/html": [
       "<div>\n",
       "<style scoped>\n",
       "    .dataframe tbody tr th:only-of-type {\n",
       "        vertical-align: middle;\n",
       "    }\n",
       "\n",
       "    .dataframe tbody tr th {\n",
       "        vertical-align: top;\n",
       "    }\n",
       "\n",
       "    .dataframe thead th {\n",
       "        text-align: right;\n",
       "    }\n",
       "</style>\n",
       "<table border=\"1\" class=\"dataframe\">\n",
       "  <thead>\n",
       "    <tr style=\"text-align: right;\">\n",
       "      <th></th>\n",
       "      <th>RSVP</th>\n",
       "      <th>first_name</th>\n",
       "      <th>last_name</th>\n",
       "      <th>email</th>\n",
       "      <th>ou_department</th>\n",
       "      <th>campus</th>\n",
       "      <th>campus_other</th>\n",
       "      <th>sanwich_option</th>\n",
       "      <th>dietary_needs</th>\n",
       "    </tr>\n",
       "  </thead>\n",
       "  <tbody>\n",
       "    <tr>\n",
       "      <th>1</th>\n",
       "      <td>Yes, I will attend</td>\n",
       "      <td>NaN</td>\n",
       "      <td>NaN</td>\n",
       "      <td>NaN</td>\n",
       "      <td>NaN</td>\n",
       "      <td>NaN</td>\n",
       "      <td>NaN</td>\n",
       "      <td>NaN</td>\n",
       "      <td>NaN</td>\n",
       "    </tr>\n",
       "    <tr>\n",
       "      <th>2</th>\n",
       "      <td>NaN</td>\n",
       "      <td>NaN</td>\n",
       "      <td>NaN</td>\n",
       "      <td>NaN</td>\n",
       "      <td>NaN</td>\n",
       "      <td>NaN</td>\n",
       "      <td>NaN</td>\n",
       "      <td>NaN</td>\n",
       "      <td>NaN</td>\n",
       "    </tr>\n",
       "    <tr>\n",
       "      <th>3</th>\n",
       "      <td>NaN</td>\n",
       "      <td>Paul</td>\n",
       "      <td>Okafor</td>\n",
       "      <td>acobapaul@gmail.com</td>\n",
       "      <td>NaN</td>\n",
       "      <td>NaN</td>\n",
       "      <td>NaN</td>\n",
       "      <td>NaN</td>\n",
       "      <td>NaN</td>\n",
       "    </tr>\n",
       "    <tr>\n",
       "      <th>4</th>\n",
       "      <td>NaN</td>\n",
       "      <td>NaN</td>\n",
       "      <td>NaN</td>\n",
       "      <td>NaN</td>\n",
       "      <td>NaN</td>\n",
       "      <td>NaN</td>\n",
       "      <td>NaN</td>\n",
       "      <td>NaN</td>\n",
       "      <td>NaN</td>\n",
       "    </tr>\n",
       "    <tr>\n",
       "      <th>5</th>\n",
       "      <td>No, I am unable to attend</td>\n",
       "      <td>NaN</td>\n",
       "      <td>NaN</td>\n",
       "      <td>NaN</td>\n",
       "      <td>NaN</td>\n",
       "      <td>NaN</td>\n",
       "      <td>NaN</td>\n",
       "      <td>NaN</td>\n",
       "      <td>NaN</td>\n",
       "    </tr>\n",
       "  </tbody>\n",
       "</table>\n",
       "</div>"
      ],
      "text/plain": [
       "                        RSVP first_name last_name                email  \\\n",
       "1         Yes, I will attend        NaN       NaN                  NaN   \n",
       "2                        NaN        NaN       NaN                  NaN   \n",
       "3                        NaN       Paul    Okafor  acobapaul@gmail.com   \n",
       "4                        NaN        NaN       NaN                  NaN   \n",
       "5  No, I am unable to attend        NaN       NaN                  NaN   \n",
       "\n",
       "  ou_department campus campus_other sanwich_option dietary_needs  \n",
       "1           NaN    NaN          NaN            NaN           NaN  \n",
       "2           NaN    NaN          NaN            NaN           NaN  \n",
       "3           NaN    NaN          NaN            NaN           NaN  \n",
       "4           NaN    NaN          NaN            NaN           NaN  \n",
       "5           NaN    NaN          NaN            NaN           NaN  "
      ]
     },
     "execution_count": 198,
     "metadata": {},
     "output_type": "execute_result"
    }
   ],
   "source": [
    "data.head()"
   ]
  },
  {
   "cell_type": "code",
   "execution_count": 5,
   "metadata": {},
   "outputs": [
    {
     "name": "stdout",
     "output_type": "stream",
     "text": [
      "<class 'pandas.core.frame.DataFrame'>\n",
      "RangeIndex: 53 entries, 1 to 53\n",
      "Data columns (total 9 columns):\n",
      " #   Column          Non-Null Count  Dtype \n",
      "---  ------          --------------  ----- \n",
      " 0   RSVP            36 non-null     object\n",
      " 1   first_name      31 non-null     object\n",
      " 2   last_name       31 non-null     object\n",
      " 3   email           31 non-null     object\n",
      " 4   ou_department   19 non-null     object\n",
      " 5   campus          30 non-null     object\n",
      " 6   campus_other    1 non-null      object\n",
      " 7   sanwich_option  29 non-null     object\n",
      " 8   dietary_needs   3 non-null      object\n",
      "dtypes: object(9)\n",
      "memory usage: 3.9+ KB\n"
     ]
    }
   ],
   "source": [
    "data.info()"
   ]
  },
  {
   "cell_type": "code",
   "execution_count": 7,
   "metadata": {},
   "outputs": [
    {
     "data": {
      "text/plain": [
       "RSVP\n",
       "Yes, I will attend           32\n",
       "No, I am unable to attend     4\n",
       "Name: count, dtype: int64"
      ]
     },
     "execution_count": 7,
     "metadata": {},
     "output_type": "execute_result"
    }
   ],
   "source": [
    "data['RSVP'].value_counts()"
   ]
  },
  {
   "cell_type": "code",
   "execution_count": 6,
   "metadata": {},
   "outputs": [
    {
     "data": {
      "text/plain": [
       "sanwich_option\n",
       "Hummus sandwiches (fresh hummus, roasted and grilled red peppers, English cucumbers, and baby spinach on wheat berry bread)                       10\n",
       "Turkey club sandwiches (roasted turkey, bacon, provolone, avocado, tomatoes, Italian greens and pine nut pesto on wheat berry bread)               8\n",
       "Roast beef and cheddar sandwiches (premium roast beef, aged cheddar, Italian greens, tomatoes, onion preserves, and mayo on wheat berry bread)     7\n",
       "None of the above options meet my dietary needs (please specify below)                                                                             4\n",
       "Name: count, dtype: int64"
      ]
     },
     "execution_count": 6,
     "metadata": {},
     "output_type": "execute_result"
    }
   ],
   "source": [
    "data['sanwich_option'].value_counts()"
   ]
  },
  {
   "cell_type": "code",
   "execution_count": 31,
   "metadata": {},
   "outputs": [],
   "source": [
    "# # data['Select your preferred Sandwich option - Selected Choice'].plot()\n",
    "\n",
    "# sns.barplot(data=data, x='Select your preferred Sandwich option - Selected Choice', y='Select your campus affiliation from the list below - Selected Choice')\n",
    "# plt.xticks(rotation=45)  # Rotate labels if they overlap\n",
    "# plt.show()"
   ]
  },
  {
   "cell_type": "code",
   "execution_count": 19,
   "metadata": {},
   "outputs": [
    {
     "data": {
      "text/plain": [
       "campus\n",
       "Norman                                 16\n",
       "Tulsa                                  10\n",
       "Health Sciences Center (HSC) Campus     3\n",
       "Other (please specify)                  1\n",
       "Name: count, dtype: int64"
      ]
     },
     "execution_count": 19,
     "metadata": {},
     "output_type": "execute_result"
    }
   ],
   "source": [
    "data['campus'].value_counts()"
   ]
  },
  {
   "cell_type": "code",
   "execution_count": 20,
   "metadata": {},
   "outputs": [
    {
     "data": {
      "text/html": [
       "<div>\n",
       "<style scoped>\n",
       "    .dataframe tbody tr th:only-of-type {\n",
       "        vertical-align: middle;\n",
       "    }\n",
       "\n",
       "    .dataframe tbody tr th {\n",
       "        vertical-align: top;\n",
       "    }\n",
       "\n",
       "    .dataframe thead th {\n",
       "        text-align: right;\n",
       "    }\n",
       "</style>\n",
       "<table border=\"1\" class=\"dataframe\">\n",
       "  <thead>\n",
       "    <tr style=\"text-align: right;\">\n",
       "      <th></th>\n",
       "      <th>RSVP</th>\n",
       "      <th>first_name</th>\n",
       "      <th>last_name</th>\n",
       "      <th>email</th>\n",
       "      <th>ou_department</th>\n",
       "      <th>campus</th>\n",
       "      <th>campus_other</th>\n",
       "      <th>sanwich_option</th>\n",
       "      <th>dietary_needs</th>\n",
       "    </tr>\n",
       "  </thead>\n",
       "  <tbody>\n",
       "  </tbody>\n",
       "</table>\n",
       "</div>"
      ],
      "text/plain": [
       "Empty DataFrame\n",
       "Columns: [RSVP, first_name, last_name, email, ou_department, campus, campus_other, sanwich_option, dietary_needs]\n",
       "Index: []"
      ]
     },
     "execution_count": 20,
     "metadata": {},
     "output_type": "execute_result"
    }
   ],
   "source": [
    "data.query('campus == \"other\" ')"
   ]
  },
  {
   "cell_type": "code",
   "execution_count": 8,
   "metadata": {},
   "outputs": [
    {
     "data": {
      "image/png": "[encoded data removed]",
      "text/plain": [
       "<Figure size 800x600 with 1 Axes>"
      ]
     },
     "metadata": {},
     "output_type": "display_data"
    },
    {
     "data": {
      "image/png": "[encoded data removed]",
      "text/plain": [
       "<Figure size 1000x600 with 1 Axes>"
      ]
     },
     "metadata": {},
     "output_type": "display_data"
    }
   ],
   "source": [
    "\n",
    "# Function to truncate labels to the first 15 characters\n",
    "def truncate_labels(labels, max_length=15):\n",
    "    return [label[:max_length] for label in labels]\n",
    "\n",
    "# Visualize Sandwich Options\n",
    "plt.figure(figsize=(8, 6))\n",
    "sns.countplot(x='sanwich_option', data=data)\n",
    "plt.title('Distribution of Sandwich Options')\n",
    "plt.ylabel('Count')\n",
    "plt.xlabel('Sandwich Options')\n",
    "# Truncate and set x-axis labels\n",
    "current_labels = [label.get_text() for label in plt.gca().get_xticklabels()]\n",
    "plt.xticks(ticks=range(len(current_labels)), labels=truncate_labels(current_labels), rotation=45)\n",
    "plt.show()\n",
    "\n",
    "# Explore Relationship Between Sandwich Options and Campus Affiliations\n",
    "plt.figure(figsize=(10, 6))\n",
    "sns.countplot(x='sanwich_option', hue='campus', data=data)\n",
    "plt.title('Sandwich Options by Campus Affiliation')\n",
    "plt.ylabel('Count')\n",
    "plt.xlabel('Sandwich Options')\n",
    "plt.legend(title='Campus Affiliation')\n",
    "# Truncate and set x-axis labels\n",
    "current_labels = [label.get_text() for label in plt.gca().get_xticklabels()]\n",
    "plt.xticks(ticks=range(len(current_labels)), labels=truncate_labels(current_labels), rotation=45)\n",
    "plt.show()\n"
   ]
  },
  {
   "cell_type": "code",
   "execution_count": 10,
   "metadata": {},
   "outputs": [
    {
     "data": {
      "text/plain": [
       "dietary_needs\n",
       "Gluten Free                                       1\n",
       "I appreciate the offer, but I don't need food.    1\n",
       "I don't need a foodstuff, thanks though!          1\n",
       "Name: count, dtype: int64"
      ]
     },
     "execution_count": 10,
     "metadata": {},
     "output_type": "execute_result"
    }
   ],
   "source": [
    "# dietary restrictions\n",
    "\n",
    "data.dietary_needs.value_counts()"
   ]
  },
  {
   "cell_type": "markdown",
   "metadata": {},
   "source": [
    "> Diatery Restrictions"
   ]
  },
  {
   "cell_type": "code",
   "execution_count": 9,
   "metadata": {},
   "outputs": [
    {
     "data": {
      "text/html": [
       "<div>\n",
       "<style scoped>\n",
       "    .dataframe tbody tr th:only-of-type {\n",
       "        vertical-align: middle;\n",
       "    }\n",
       "\n",
       "    .dataframe tbody tr th {\n",
       "        vertical-align: top;\n",
       "    }\n",
       "\n",
       "    .dataframe thead th {\n",
       "        text-align: right;\n",
       "    }\n",
       "</style>\n",
       "<table border=\"1\" class=\"dataframe\">\n",
       "  <thead>\n",
       "    <tr style=\"text-align: right;\">\n",
       "      <th></th>\n",
       "      <th>first_name</th>\n",
       "      <th>campus</th>\n",
       "      <th>dietary_needs</th>\n",
       "    </tr>\n",
       "  </thead>\n",
       "  <tbody>\n",
       "    <tr>\n",
       "      <th>30</th>\n",
       "      <td>Maria</td>\n",
       "      <td>Health Sciences Center (HSC) Campus</td>\n",
       "      <td>Gluten Free</td>\n",
       "    </tr>\n",
       "  </tbody>\n",
       "</table>\n",
       "</div>"
      ],
      "text/plain": [
       "   first_name                               campus dietary_needs\n",
       "30     Maria   Health Sciences Center (HSC) Campus   Gluten Free"
      ]
     },
     "execution_count": 9,
     "metadata": {},
     "output_type": "execute_result"
    }
   ],
   "source": [
    "data.query('dietary_needs == \"Gluten Free\" ')[[\"first_name\", 'campus', 'dietary_needs']]"
   ]
  },
  {
   "cell_type": "markdown",
   "metadata": {},
   "source": [
    "> calculate the percentages"
   ]
  },
  {
   "cell_type": "code",
   "execution_count": 69,
   "metadata": {},
   "outputs": [
    {
     "data": {
      "text/plain": [
       "sanwich_option\n",
       "Turkey club sandwiches (roasted turkey, bacon, provolone, avocado, tomatoes, Italian greens and pine nut pesto on wheat berry bread)              0.368421\n",
       "Roast beef and cheddar sandwiches (premium roast beef, aged cheddar, Italian greens, tomatoes, onion preserves, and mayo on wheat berry bread)    0.315789\n",
       "Hummus sandwiches (fresh hummus, roasted and grilled red peppers, English cucumbers, and baby spinach on wheat berry bread)                       0.157895\n",
       "None of the above options meet my dietary needs (please specify below)                                                                            0.157895\n",
       "Name: count, dtype: float64"
      ]
     },
     "execution_count": 69,
     "metadata": {},
     "output_type": "execute_result"
    }
   ],
   "source": [
    "data_sandwich = data['sanwich_option'].value_counts()\n",
    "\n",
    "new_sandwich = data_sandwich/data['sanwich_option'].value_counts().sum()\n",
    "new_sandwich"
   ]
  },
  {
   "cell_type": "code",
   "execution_count": 73,
   "metadata": {},
   "outputs": [
    {
     "data": {
      "image/png": "[encoded data removed]",
      "text/plain": [
       "<Figure size 1000x600 with 1 Axes>"
      ]
     },
     "metadata": {},
     "output_type": "display_data"
    }
   ],
   "source": [
    "\n",
    "sandwich_df = pd.DataFrame(list(new_sandwich.items()), columns=['SandwichOption', 'Proportion'])\n",
    "\n",
    "# Use the truncate_labels function\n",
    "def truncate_labels(labels, max_length=15):\n",
    "    return [label[:max_length] for label in labels]\n",
    "\n",
    "# Visualize Sandwich Options\n",
    "plt.figure(figsize=(10, 6))\n",
    "sns.barplot(x='Proportion', y='SandwichOption', data=sandwich_df)\n",
    "plt.title('Distribution of Sandwich Options')\n",
    "plt.xlabel('Proportion')\n",
    "plt.ylabel('Sandwich Options')\n",
    "# Truncate and set y-axis labels\n",
    "current_labels = [label.get_text() for label in plt.gca().get_yticklabels()]\n",
    "plt.yticks(ticks=range(len(current_labels)), labels=truncate_labels(current_labels), rotation=45)\n",
    "plt.show()\n"
   ]
  },
  {
   "cell_type": "code",
   "execution_count": 83,
   "metadata": {},
   "outputs": [
    {
     "data": {
      "text/plain": [
       "['__annotations__',\n",
       " '__builtins__',\n",
       " '__call__',\n",
       " '__class__',\n",
       " '__closure__',\n",
       " '__code__',\n",
       " '__defaults__',\n",
       " '__delattr__',\n",
       " '__dict__',\n",
       " '__dir__',\n",
       " '__doc__',\n",
       " '__eq__',\n",
       " '__format__',\n",
       " '__ge__',\n",
       " '__get__',\n",
       " '__getattribute__',\n",
       " '__getstate__',\n",
       " '__globals__',\n",
       " '__gt__',\n",
       " '__hash__',\n",
       " '__init__',\n",
       " '__init_subclass__',\n",
       " '__kwdefaults__',\n",
       " '__le__',\n",
       " '__lt__',\n",
       " '__module__',\n",
       " '__name__',\n",
       " '__ne__',\n",
       " '__new__',\n",
       " '__qualname__',\n",
       " '__reduce__',\n",
       " '__reduce_ex__',\n",
       " '__repr__',\n",
       " '__setattr__',\n",
       " '__sizeof__',\n",
       " '__str__',\n",
       " '__subclasshook__']"
      ]
     },
     "execution_count": 83,
     "metadata": {},
     "output_type": "execute_result"
    }
   ],
   "source": [
    "dir(sklearn.clone)"
   ]
  },
  {
   "cell_type": "code",
   "execution_count": 90,
   "metadata": {},
   "outputs": [],
   "source": [
    "from sklearn.cluster import k_means"
   ]
  },
  {
   "cell_type": "code",
   "execution_count": 139,
   "metadata": {},
   "outputs": [
    {
     "data": {
      "text/html": [
       "<div>\n",
       "<style scoped>\n",
       "    .dataframe tbody tr th:only-of-type {\n",
       "        vertical-align: middle;\n",
       "    }\n",
       "\n",
       "    .dataframe tbody tr th {\n",
       "        vertical-align: top;\n",
       "    }\n",
       "\n",
       "    .dataframe thead th {\n",
       "        text-align: right;\n",
       "    }\n",
       "</style>\n",
       "<table border=\"1\" class=\"dataframe\">\n",
       "  <thead>\n",
       "    <tr style=\"text-align: right;\">\n",
       "      <th></th>\n",
       "      <th>HeartDisease</th>\n",
       "      <th>BMI</th>\n",
       "      <th>Smoking</th>\n",
       "      <th>AlcoholDrinking</th>\n",
       "      <th>Stroke</th>\n",
       "      <th>PhysicalHealth</th>\n",
       "      <th>MentalHealth</th>\n",
       "      <th>DiffWalking</th>\n",
       "      <th>Sex</th>\n",
       "      <th>AgeCategory</th>\n",
       "      <th>Race</th>\n",
       "      <th>Diabetic</th>\n",
       "      <th>PhysicalActivity</th>\n",
       "      <th>GenHealth</th>\n",
       "      <th>SleepTime</th>\n",
       "      <th>Asthma</th>\n",
       "      <th>KidneyDisease</th>\n",
       "      <th>SkinCancer</th>\n",
       "    </tr>\n",
       "  </thead>\n",
       "  <tbody>\n",
       "    <tr>\n",
       "      <th>0</th>\n",
       "      <td>No</td>\n",
       "      <td>16.60</td>\n",
       "      <td>Yes</td>\n",
       "      <td>No</td>\n",
       "      <td>No</td>\n",
       "      <td>3</td>\n",
       "      <td>30</td>\n",
       "      <td>No</td>\n",
       "      <td>Female</td>\n",
       "      <td>55-59</td>\n",
       "      <td>White</td>\n",
       "      <td>Yes</td>\n",
       "      <td>Yes</td>\n",
       "      <td>Very good</td>\n",
       "      <td>5</td>\n",
       "      <td>Yes</td>\n",
       "      <td>No</td>\n",
       "      <td>Yes</td>\n",
       "    </tr>\n",
       "    <tr>\n",
       "      <th>1</th>\n",
       "      <td>No</td>\n",
       "      <td>20.34</td>\n",
       "      <td>No</td>\n",
       "      <td>No</td>\n",
       "      <td>Yes</td>\n",
       "      <td>0</td>\n",
       "      <td>0</td>\n",
       "      <td>No</td>\n",
       "      <td>Female</td>\n",
       "      <td>80 or older</td>\n",
       "      <td>White</td>\n",
       "      <td>No</td>\n",
       "      <td>Yes</td>\n",
       "      <td>Very good</td>\n",
       "      <td>7</td>\n",
       "      <td>No</td>\n",
       "      <td>No</td>\n",
       "      <td>No</td>\n",
       "    </tr>\n",
       "    <tr>\n",
       "      <th>2</th>\n",
       "      <td>No</td>\n",
       "      <td>26.58</td>\n",
       "      <td>Yes</td>\n",
       "      <td>No</td>\n",
       "      <td>No</td>\n",
       "      <td>20</td>\n",
       "      <td>30</td>\n",
       "      <td>No</td>\n",
       "      <td>Male</td>\n",
       "      <td>65-69</td>\n",
       "      <td>White</td>\n",
       "      <td>Yes</td>\n",
       "      <td>Yes</td>\n",
       "      <td>Fair</td>\n",
       "      <td>8</td>\n",
       "      <td>Yes</td>\n",
       "      <td>No</td>\n",
       "      <td>No</td>\n",
       "    </tr>\n",
       "    <tr>\n",
       "      <th>3</th>\n",
       "      <td>No</td>\n",
       "      <td>24.21</td>\n",
       "      <td>No</td>\n",
       "      <td>No</td>\n",
       "      <td>No</td>\n",
       "      <td>0</td>\n",
       "      <td>0</td>\n",
       "      <td>No</td>\n",
       "      <td>Female</td>\n",
       "      <td>75-79</td>\n",
       "      <td>White</td>\n",
       "      <td>No</td>\n",
       "      <td>No</td>\n",
       "      <td>Good</td>\n",
       "      <td>6</td>\n",
       "      <td>No</td>\n",
       "      <td>No</td>\n",
       "      <td>Yes</td>\n",
       "    </tr>\n",
       "    <tr>\n",
       "      <th>4</th>\n",
       "      <td>No</td>\n",
       "      <td>23.71</td>\n",
       "      <td>No</td>\n",
       "      <td>No</td>\n",
       "      <td>No</td>\n",
       "      <td>28</td>\n",
       "      <td>0</td>\n",
       "      <td>Yes</td>\n",
       "      <td>Female</td>\n",
       "      <td>40-44</td>\n",
       "      <td>White</td>\n",
       "      <td>No</td>\n",
       "      <td>Yes</td>\n",
       "      <td>Very good</td>\n",
       "      <td>8</td>\n",
       "      <td>No</td>\n",
       "      <td>No</td>\n",
       "      <td>No</td>\n",
       "    </tr>\n",
       "  </tbody>\n",
       "</table>\n",
       "</div>"
      ],
      "text/plain": [
       "  HeartDisease    BMI Smoking AlcoholDrinking Stroke  PhysicalHealth  \\\n",
       "0           No  16.60     Yes              No     No               3   \n",
       "1           No  20.34      No              No    Yes               0   \n",
       "2           No  26.58     Yes              No     No              20   \n",
       "3           No  24.21      No              No     No               0   \n",
       "4           No  23.71      No              No     No              28   \n",
       "\n",
       "   MentalHealth DiffWalking     Sex  AgeCategory   Race Diabetic  \\\n",
       "0            30          No  Female        55-59  White      Yes   \n",
       "1             0          No  Female  80 or older  White       No   \n",
       "2            30          No    Male        65-69  White      Yes   \n",
       "3             0          No  Female        75-79  White       No   \n",
       "4             0         Yes  Female        40-44  White       No   \n",
       "\n",
       "  PhysicalActivity  GenHealth  SleepTime Asthma KidneyDisease SkinCancer  \n",
       "0              Yes  Very good          5    Yes            No        Yes  \n",
       "1              Yes  Very good          7     No            No         No  \n",
       "2              Yes       Fair          8    Yes            No         No  \n",
       "3               No       Good          6     No            No        Yes  \n",
       "4              Yes  Very good          8     No            No         No  "
      ]
     },
     "execution_count": 139,
     "metadata": {},
     "output_type": "execute_result"
    }
   ],
   "source": [
    "file_url = r\"C:\\Users\\pault\\Documents\\7.  DSA MSc\\1. DSA Class\\First Semester\\Intelligent Data Analytics (DSA 5103-001)\\Project\\heart_disease_2.csv\"\n",
    "df = pd.read_csv(file_url)  \n",
    "df.head()"
   ]
  },
  {
   "cell_type": "code",
   "execution_count": null,
   "metadata": {},
   "outputs": [],
   "source": [
    "def fill_nan(df, my_col = []):\n",
    "    for col in df:\n",
    "        if col in my_col and df[col].dtypes != \"O\" and pd.isnull(df[col]).sum() > 0 :\n",
    "            df[col].fillna(value=df[col].mean(),inplace=True)\n",
    "\n",
    "import scipy.stats as stats\n",
    "stats.probplot(df[\"SleepTime\"], dist=\"norm\", plot=plt)"
   ]
  },
  {
   "cell_type": "code",
   "execution_count": 171,
   "metadata": {},
   "outputs": [
    {
     "data": {
      "text/plain": [
       "['ensemble']"
      ]
     },
     "execution_count": 171,
     "metadata": {},
     "output_type": "execute_result"
    }
   ],
   "source": [
    "[i for i in dir(sklearn) if \"ensemble\" in i]"
   ]
  },
  {
   "cell_type": "code",
   "execution_count": 145,
   "metadata": {},
   "outputs": [],
   "source": [
    "from sklearn.preprocessing import FunctionTransformer, PowerTransformer\n",
    "\n",
    "# transform = FunctionTransformer(func = lambda x: 1/x, validate = True)\n",
    "# transform.transform()"
   ]
  },
  {
   "cell_type": "code",
   "execution_count": 178,
   "metadata": {},
   "outputs": [],
   "source": [
    "from sklearn.model_selection import train_test_split"
   ]
  },
  {
   "cell_type": "code",
   "execution_count": 179,
   "metadata": {},
   "outputs": [
    {
     "data": {
      "text/plain": [
       "['BaseCrossValidator',\n",
       " 'BaseShuffleSplit',\n",
       " 'GridSearchCV',\n",
       " 'GroupKFold',\n",
       " 'GroupShuffleSplit',\n",
       " 'KFold',\n",
       " 'LearningCurveDisplay',\n",
       " 'LeaveOneGroupOut',\n",
       " 'LeaveOneOut',\n",
       " 'LeavePGroupsOut',\n",
       " 'LeavePOut',\n",
       " 'ParameterGrid',\n",
       " 'ParameterSampler',\n",
       " 'PredefinedSplit',\n",
       " 'RandomizedSearchCV',\n",
       " 'RepeatedKFold',\n",
       " 'RepeatedStratifiedKFold',\n",
       " 'ShuffleSplit',\n",
       " 'StratifiedGroupKFold',\n",
       " 'StratifiedKFold',\n",
       " 'StratifiedShuffleSplit',\n",
       " 'TimeSeriesSplit',\n",
       " 'ValidationCurveDisplay',\n",
       " '__all__',\n",
       " '__builtins__',\n",
       " '__cached__',\n",
       " '__doc__',\n",
       " '__file__',\n",
       " '__getattr__',\n",
       " '__loader__',\n",
       " '__name__',\n",
       " '__package__',\n",
       " '__path__',\n",
       " '__spec__',\n",
       " '_plot',\n",
       " '_search',\n",
       " '_split',\n",
       " '_validation',\n",
       " 'check_cv',\n",
       " 'cross_val_predict',\n",
       " 'cross_val_score',\n",
       " 'cross_validate',\n",
       " 'learning_curve',\n",
       " 'permutation_test_score',\n",
       " 'train_test_split',\n",
       " 'typing',\n",
       " 'validation_curve']"
      ]
     },
     "execution_count": 179,
     "metadata": {},
     "output_type": "execute_result"
    }
   ],
   "source": [
    "dir(sklearn.model_selection)"
   ]
  },
  {
   "cell_type": "code",
   "execution_count": 182,
   "metadata": {},
   "outputs": [],
   "source": [
    "from sklearn.model_selection import cross_val_score, train_test_split"
   ]
  },
  {
   "cell_type": "code",
   "execution_count": null,
   "metadata": {},
   "outputs": [],
   "source": []
  },
  {
   "cell_type": "code",
   "execution_count": 204,
   "metadata": {},
   "outputs": [],
   "source": [
    "# pd.read_csv"
   ]
  },
  {
   "cell_type": "code",
   "execution_count": null,
   "metadata": {},
   "outputs": [],
   "source": []
  },
  {
   "cell_type": "code",
   "execution_count": 212,
   "metadata": {},
   "outputs": [
    {
     "data": {
      "text/plain": [
       "[0, 0, 1, 3, 5, 6, 9]"
      ]
     },
     "execution_count": 212,
     "metadata": {},
     "output_type": "execute_result"
    }
   ],
   "source": [
    "data = [0,9,3,5,6,1,0]\n",
    "\n",
    "# data[1::2]\n",
    "data.sort()\n",
    "data"
   ]
  },
  {
   "cell_type": "code",
   "execution_count": 218,
   "metadata": {},
   "outputs": [
    {
     "ename": "SyntaxError",
     "evalue": "incomplete input (3574429870.py, line 6)",
     "output_type": "error",
     "traceback": [
      "\u001b[1;36m  Cell \u001b[1;32mIn[218], line 6\u001b[1;36m\u001b[0m\n\u001b[1;33m    \u001b[0m\n\u001b[1;37m    ^\u001b[0m\n\u001b[1;31mSyntaxError\u001b[0m\u001b[1;31m:\u001b[0m incomplete input\n"
     ]
    }
   ],
   "source": [
    "digits = '0234568917'\n",
    "\n",
    "num = \"210\"\n",
    "def num_time (digits, num):\n",
    "    for index, val in enumerate(digits):\n",
    "        for i in enumerate(num):\n",
    "    "
   ]
  },
  {
   "cell_type": "code",
   "execution_count": 247,
   "metadata": {},
   "outputs": [
    {
     "name": "stdout",
     "output_type": "stream",
     "text": [
      "c appears 3 times and is valid\n",
      "i appears only 2\n",
      "f appears only 1\n",
      "e appears 6 times and is valid\n",
      "d appears only 2\n",
      "v appears only 1\n",
      "a appears only 2\n",
      "y appears only 1\n"
     ]
    }
   ],
   "source": [
    "k = \"aaddfeeevccceeiiye\"\n",
    "\n",
    "\n",
    "for i in list(set(k)):\n",
    "    if k.count(i) >= 3:\n",
    "        print(f'{i} appears {k.count(i)} times and is valid')\n",
    "    else:\n",
    "        print(f'{i} appears only {k.count(i)}')\n",
    "        # print(i)\n",
    "        # dict_unique[i].append()"
   ]
  },
  {
   "cell_type": "code",
   "execution_count": 243,
   "metadata": {},
   "outputs": [
    {
     "name": "stdout",
     "output_type": "stream",
     "text": [
      "cdeba\n"
     ]
    }
   ],
   "source": [
    "print(\"\".join([str(x) for x in set(k)]))"
   ]
  },
  {
   "cell_type": "code",
   "execution_count": null,
   "metadata": {},
   "outputs": [],
   "source": []
  },
  {
   "cell_type": "code",
   "execution_count": null,
   "metadata": {},
   "outputs": [],
   "source": []
  }
 ],
 "metadata": {
  "kernelspec": {
   "display_name": "paul_flask",
   "language": "python",
   "name": "python3"
  },
  "language_info": {
   "codemirror_mode": {
    "name": "ipython",
    "version": 3
   },
   "file_extension": ".py",
   "mimetype": "text/x-python",
   "name": "python",
   "nbconvert_exporter": "python",
   "pygments_lexer": "ipython3",
   "version": "3.12.0"
  }
 },
 "nbformat": 4,
 "nbformat_minor": 2
}
