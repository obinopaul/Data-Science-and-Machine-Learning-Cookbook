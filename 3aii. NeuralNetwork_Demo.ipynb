{
  "cells": [
    {
      "cell_type": "markdown",
      "metadata": {
        "id": "EeKPIH5771r0"
      },
      "source": [
        "# Tensorflow Demo\n",
        "\n",
        "This section goes over how to build, train, and tune a model using the \"tensorflow\" library."
      ]
    },
    {
      "cell_type": "markdown",
      "metadata": {
        "id": "asE7pkSJ8clG"
      },
      "source": [
        "## Creating a basic sequential neural network"
      ]
    },
    {
      "cell_type": "code",
      "execution_count": null,
      "metadata": {
        "id": "0PRtCcUG7zly"
      },
      "outputs": [],
      "source": [
        "import tensorflow as tf\n",
        "from tensorflow.keras.models import Sequential\n",
        "from tensorflow.keras.layers import Dense, Flatten\n",
        "from tensorflow.keras.datasets import mnist\n",
        "from tensorflow.keras.utils import to_categorical\n",
        "from sklearn.model_selection import train_test_split\n",
        "import matplotlib.pyplot as plt\n",
        "\n",
        "# Load and preprocess the MNIST dataset\n",
        "(x_train_full, y_train_full), (x_test, y_test) = mnist.load_data()\n",
        "x_train_full, x_test = x_train_full / 255.0, x_test / 255.0  # Normalize the pixel values\n",
        "y_train_full, y_test = to_categorical(y_train_full), to_categorical(y_test)  # One-hot encode the labels\n",
        "\n",
        "# Split off a validation set from the training set\n",
        "x_train, x_val, y_train, y_val = train_test_split(x_train_full, y_train_full, test_size=0.2, random_state=42)"
      ]
    },
    {
      "cell_type": "code",
      "execution_count": null,
      "metadata": {
        "colab": {
          "base_uri": "https://localhost:8080/"
        },
        "id": "2Vd2vOHPNI0y",
        "outputId": "abc27430-9951-4e38-ee3a-1ffcdf6fcfa8"
      },
      "outputs": [
        {
          "data": {
            "text/plain": [
              "(60000, 10)"
            ]
          },
          "execution_count": 14,
          "metadata": {},
          "output_type": "execute_result"
        }
      ],
      "source": [
        "y_train_full.shape"
      ]
    },
    {
      "cell_type": "code",
      "execution_count": null,
      "metadata": {
        "colab": {
          "base_uri": "https://localhost:8080/",
          "height": 450
        },
        "id": "I7QM3PKQMe00",
        "outputId": "8439e66a-2c2e-4bd6-80fe-4ba06902899f"
      },
      "outputs": [
        {
          "data": {
            "image/png": "[encoded data removed]",
            "text/plain": [
              "<Figure size 640x480 with 1 Axes>"
            ]
          },
          "metadata": {},
          "output_type": "display_data"
        }
      ],
      "source": [
        "# Plot the first image in the training set\n",
        "plt.imshow(x_train[0], cmap=plt.cm.binary)\n",
        "plt.show()"
      ]
    },
    {
      "cell_type": "markdown",
      "metadata": {
        "id": "8-o0V2reCe_t"
      },
      "source": [
        "## Building the architecture\n",
        "\n",
        "In the basic list version, you list out your input layer, your hidden layers, and your output layer. In this example, we only have one hidden layer, and the output is using a \"softmax\" activation function since this is a multiclass problem."
      ]
    },
    {
      "cell_type": "code",
      "execution_count": null,
      "metadata": {
        "colab": {
          "base_uri": "https://localhost:8080/"
        },
        "id": "gBlsWLi3CdOU",
        "outputId": "e16d6e5c-bf3c-478d-c6ff-5ca988890b99"
      },
      "outputs": [
        {
          "name": "stderr",
          "output_type": "stream",
          "text": [
            "/usr/local/lib/python3.10/dist-packages/keras/src/layers/reshaping/flatten.py:37: UserWarning: Do not pass an `input_shape`/`input_dim` argument to a layer. When using Sequential models, prefer using an `Input(shape)` object as the first layer in the model instead.\n",
            "  super().__init__(**kwargs)\n"
          ]
        }
      ],
      "source": [
        "# Build a simple neural network model\n",
        "model = Sequential([\n",
        "    Flatten(input_shape=(28, 28)),  # Flatten 28x28 images to a 784-element vector\n",
        "    Dense(128, activation='relu'),  # Hidden layer with 128 neurons and ReLU activation\n",
        "    Dense(10, activation='softmax')  # Output layer with 10 neurons (one for each class) and softmax activation\n",
        "])"
      ]
    },
    {
      "cell_type": "markdown",
      "metadata": {
        "id": "y-KFxjUrC7Ro"
      },
      "source": [
        "## Compiling and training the model\n",
        "\n",
        "Once you've selected your architecture, you can select your [optimizer](https://www.tensorflow.org/api_docs/python/tf/keras/optimizers), [loss function](https://www.tensorflow.org/api_docs/python/tf/keras/losses), and what [metrics](https://www.tensorflow.org/api_docs/python/tf/keras/metrics) you want to keep track of while training. You can also create custom metrics."
      ]
    },
    {
      "cell_type": "code",
      "execution_count": null,
      "metadata": {
        "id": "rIs9j_3bC8VW"
      },
      "outputs": [],
      "source": [
        "# Compile the model\n",
        "model.compile(optimizer='adam',\n",
        "              loss='categorical_crossentropy',\n",
        "              metrics=['accuracy'])"
      ]
    },
    {
      "cell_type": "markdown",
      "metadata": {
        "id": "kAjORw0OEqoP"
      },
      "source": [
        "## Training the model and examining the results\n",
        "\n",
        "To train the model itself, you use the \"fit\" function. You can also save the intermediate results of the fit function in a \"history\" object that keeps track of how the model performed over each epoch."
      ]
    },
    {
      "cell_type": "code",
      "execution_count": null,
      "metadata": {
        "colab": {
          "base_uri": "https://localhost:8080/"
        },
        "id": "bIpJHl_LJst6",
        "outputId": "e8222aba-364b-4d9a-c506-806a490d58b1"
      },
      "outputs": [
        {
          "data": {
            "text/plain": [
              "(48000, 28, 28)"
            ]
          },
          "execution_count": 6,
          "metadata": {},
          "output_type": "execute_result"
        }
      ],
      "source": [
        "x_train.shape"
      ]
    },
    {
      "cell_type": "code",
      "execution_count": null,
      "metadata": {
        "colab": {
          "base_uri": "https://localhost:8080/"
        },
        "id": "qf-1-QZ-J1HD",
        "outputId": "1d9527ae-5a21-4dc8-c4be-971664e83d98"
      },
      "outputs": [
        {
          "data": {
            "text/plain": [
              "187.5"
            ]
          },
          "execution_count": 8,
          "metadata": {},
          "output_type": "execute_result"
        }
      ],
      "source": [
        "x_train.shape[0]/256"
      ]
    },
    {
      "cell_type": "code",
      "execution_count": null,
      "metadata": {
        "colab": {
          "background_save": true
        },
        "id": "zxSkhus1Nvxj",
        "outputId": "cdef288e-cea4-45a2-f447-a4f31d7f3fe9"
      },
      "outputs": [
        {
          "data": {
            "text/plain": [
              "100352"
            ]
          },
          "execution_count": 15,
          "metadata": {},
          "output_type": "execute_result"
        }
      ],
      "source": []
    },
    {
      "cell_type": "code",
      "execution_count": null,
      "metadata": {
        "colab": {
          "base_uri": "https://localhost:8080/",
          "height": 272
        },
        "id": "8NSy7B5BKkk0",
        "outputId": "a5c6ce08-54e7-4354-9a4e-2e5df4aa6e84"
      },
      "outputs": [
        {
          "data": {
            "text/html": [
              "<pre style=\"white-space:pre;overflow-x:auto;line-height:normal;font-family:Menlo,'DejaVu Sans Mono',consolas,'Courier New',monospace\"><span style=\"font-weight: bold\">Model: \"sequential\"</span>\n",
              "</pre>\n"
            ],
            "text/plain": [
              "\u001b[1mModel: \"sequential\"\u001b[0m\n"
            ]
          },
          "metadata": {},
          "output_type": "display_data"
        },
        {
          "data": {
            "text/html": [
              "<pre style=\"white-space:pre;overflow-x:auto;line-height:normal;font-family:Menlo,'DejaVu Sans Mono',consolas,'Courier New',monospace\">┏━━━━━━━━━━━━━━━━━━━━━━━━━━━━━━━━━━━━━━┳━━━━━━━━━━━━━━━━━━━━━━━━━━━━━┳━━━━━━━━━━━━━━━━━┓\n",
              "┃<span style=\"font-weight: bold\"> Layer (type)                         </span>┃<span style=\"font-weight: bold\"> Output Shape                </span>┃<span style=\"font-weight: bold\">         Param # </span>┃\n",
              "┡━━━━━━━━━━━━━━━━━━━━━━━━━━━━━━━━━━━━━━╇━━━━━━━━━━━━━━━━━━━━━━━━━━━━━╇━━━━━━━━━━━━━━━━━┩\n",
              "│ flatten (<span style=\"color: #0087ff; text-decoration-color: #0087ff\">Flatten</span>)                    │ (<span style=\"color: #00d7ff; text-decoration-color: #00d7ff\">None</span>, <span style=\"color: #00af00; text-decoration-color: #00af00\">784</span>)                 │               <span style=\"color: #00af00; text-decoration-color: #00af00\">0</span> │\n",
              "├──────────────────────────────────────┼─────────────────────────────┼─────────────────┤\n",
              "│ dense (<span style=\"color: #0087ff; text-decoration-color: #0087ff\">Dense</span>)                        │ (<span style=\"color: #00d7ff; text-decoration-color: #00d7ff\">None</span>, <span style=\"color: #00af00; text-decoration-color: #00af00\">128</span>)                 │         <span style=\"color: #00af00; text-decoration-color: #00af00\">100,480</span> │\n",
              "├──────────────────────────────────────┼─────────────────────────────┼─────────────────┤\n",
              "│ dense_1 (<span style=\"color: #0087ff; text-decoration-color: #0087ff\">Dense</span>)                      │ (<span style=\"color: #00d7ff; text-decoration-color: #00d7ff\">None</span>, <span style=\"color: #00af00; text-decoration-color: #00af00\">10</span>)                  │           <span style=\"color: #00af00; text-decoration-color: #00af00\">1,290</span> │\n",
              "└──────────────────────────────────────┴─────────────────────────────┴─────────────────┘\n",
              "</pre>\n"
            ],
            "text/plain": [
              "┏━━━━━━━━━━━━━━━━━━━━━━━━━━━━━━━━━━━━━━┳━━━━━━━━━━━━━━━━━━━━━━━━━━━━━┳━━━━━━━━━━━━━━━━━┓\n",
              "┃\u001b[1m \u001b[0m\u001b[1mLayer (type)                        \u001b[0m\u001b[1m \u001b[0m┃\u001b[1m \u001b[0m\u001b[1mOutput Shape               \u001b[0m\u001b[1m \u001b[0m┃\u001b[1m \u001b[0m\u001b[1m        Param #\u001b[0m\u001b[1m \u001b[0m┃\n",
              "┡━━━━━━━━━━━━━━━━━━━━━━━━━━━━━━━━━━━━━━╇━━━━━━━━━━━━━━━━━━━━━━━━━━━━━╇━━━━━━━━━━━━━━━━━┩\n",
              "│ flatten (\u001b[38;5;33mFlatten\u001b[0m)                    │ (\u001b[38;5;45mNone\u001b[0m, \u001b[38;5;34m784\u001b[0m)                 │               \u001b[38;5;34m0\u001b[0m │\n",
              "├──────────────────────────────────────┼─────────────────────────────┼─────────────────┤\n",
              "│ dense (\u001b[38;5;33mDense\u001b[0m)                        │ (\u001b[38;5;45mNone\u001b[0m, \u001b[38;5;34m128\u001b[0m)                 │         \u001b[38;5;34m100,480\u001b[0m │\n",
              "├──────────────────────────────────────┼─────────────────────────────┼─────────────────┤\n",
              "│ dense_1 (\u001b[38;5;33mDense\u001b[0m)                      │ (\u001b[38;5;45mNone\u001b[0m, \u001b[38;5;34m10\u001b[0m)                  │           \u001b[38;5;34m1,290\u001b[0m │\n",
              "└──────────────────────────────────────┴─────────────────────────────┴─────────────────┘\n"
            ]
          },
          "metadata": {},
          "output_type": "display_data"
        },
        {
          "data": {
            "text/html": [
              "<pre style=\"white-space:pre;overflow-x:auto;line-height:normal;font-family:Menlo,'DejaVu Sans Mono',consolas,'Courier New',monospace\"><span style=\"font-weight: bold\"> Total params: </span><span style=\"color: #00af00; text-decoration-color: #00af00\">305,312</span> (1.16 MB)\n",
              "</pre>\n"
            ],
            "text/plain": [
              "\u001b[1m Total params: \u001b[0m\u001b[38;5;34m305,312\u001b[0m (1.16 MB)\n"
            ]
          },
          "metadata": {},
          "output_type": "display_data"
        },
        {
          "data": {
            "text/html": [
              "<pre style=\"white-space:pre;overflow-x:auto;line-height:normal;font-family:Menlo,'DejaVu Sans Mono',consolas,'Courier New',monospace\"><span style=\"font-weight: bold\"> Trainable params: </span><span style=\"color: #00af00; text-decoration-color: #00af00\">101,770</span> (397.54 KB)\n",
              "</pre>\n"
            ],
            "text/plain": [
              "\u001b[1m Trainable params: \u001b[0m\u001b[38;5;34m101,770\u001b[0m (397.54 KB)\n"
            ]
          },
          "metadata": {},
          "output_type": "display_data"
        },
        {
          "data": {
            "text/html": [
              "<pre style=\"white-space:pre;overflow-x:auto;line-height:normal;font-family:Menlo,'DejaVu Sans Mono',consolas,'Courier New',monospace\"><span style=\"font-weight: bold\"> Non-trainable params: </span><span style=\"color: #00af00; text-decoration-color: #00af00\">0</span> (0.00 B)\n",
              "</pre>\n"
            ],
            "text/plain": [
              "\u001b[1m Non-trainable params: \u001b[0m\u001b[38;5;34m0\u001b[0m (0.00 B)\n"
            ]
          },
          "metadata": {},
          "output_type": "display_data"
        },
        {
          "data": {
            "text/html": [
              "<pre style=\"white-space:pre;overflow-x:auto;line-height:normal;font-family:Menlo,'DejaVu Sans Mono',consolas,'Courier New',monospace\"><span style=\"font-weight: bold\"> Optimizer params: </span><span style=\"color: #00af00; text-decoration-color: #00af00\">203,542</span> (795.09 KB)\n",
              "</pre>\n"
            ],
            "text/plain": [
              "\u001b[1m Optimizer params: \u001b[0m\u001b[38;5;34m203,542\u001b[0m (795.09 KB)\n"
            ]
          },
          "metadata": {},
          "output_type": "display_data"
        }
      ],
      "source": [
        "model.summary()"
      ]
    },
    {
      "cell_type": "code",
      "execution_count": null,
      "metadata": {
        "colab": {
          "base_uri": "https://localhost:8080/"
        },
        "id": "VjtOhj-DEuSX",
        "outputId": "d4fca2ef-215a-45f6-f92d-a86d8384d05f"
      },
      "outputs": [
        {
          "name": "stdout",
          "output_type": "stream",
          "text": [
            "Epoch 1/10\n",
            "\u001b[1m188/188\u001b[0m \u001b[32m━━━━━━━━━━━━━━━━━━━━\u001b[0m\u001b[37m\u001b[0m \u001b[1m3s\u001b[0m 9ms/step - accuracy: 0.7676 - loss: 0.8607 - val_accuracy: 0.9283 - val_loss: 0.2562\n",
            "Epoch 2/10\n",
            "\u001b[1m188/188\u001b[0m \u001b[32m━━━━━━━━━━━━━━━━━━━━\u001b[0m\u001b[37m\u001b[0m \u001b[1m2s\u001b[0m 7ms/step - accuracy: 0.9333 - loss: 0.2348 - val_accuracy: 0.9464 - val_loss: 0.1925\n",
            "Epoch 3/10\n",
            "\u001b[1m188/188\u001b[0m \u001b[32m━━━━━━━━━━━━━━━━━━━━\u001b[0m\u001b[37m\u001b[0m \u001b[1m1s\u001b[0m 7ms/step - accuracy: 0.9516 - loss: 0.1715 - val_accuracy: 0.9542 - val_loss: 0.1643\n",
            "Epoch 4/10\n",
            "\u001b[1m188/188\u001b[0m \u001b[32m━━━━━━━━━━━━━━━━━━━━\u001b[0m\u001b[37m\u001b[0m \u001b[1m1s\u001b[0m 7ms/step - accuracy: 0.9598 - loss: 0.1391 - val_accuracy: 0.9619 - val_loss: 0.1396\n",
            "Epoch 5/10\n",
            "\u001b[1m188/188\u001b[0m \u001b[32m━━━━━━━━━━━━━━━━━━━━\u001b[0m\u001b[37m\u001b[0m \u001b[1m3s\u001b[0m 8ms/step - accuracy: 0.9658 - loss: 0.1173 - val_accuracy: 0.9638 - val_loss: 0.1271\n",
            "Epoch 6/10\n",
            "\u001b[1m188/188\u001b[0m \u001b[32m━━━━━━━━━━━━━━━━━━━━\u001b[0m\u001b[37m\u001b[0m \u001b[1m2s\u001b[0m 11ms/step - accuracy: 0.9726 - loss: 0.0990 - val_accuracy: 0.9671 - val_loss: 0.1153\n",
            "Epoch 7/10\n",
            "\u001b[1m188/188\u001b[0m \u001b[32m━━━━━━━━━━━━━━━━━━━━\u001b[0m\u001b[37m\u001b[0m \u001b[1m2s\u001b[0m 9ms/step - accuracy: 0.9774 - loss: 0.0838 - val_accuracy: 0.9699 - val_loss: 0.1065\n",
            "Epoch 8/10\n",
            "\u001b[1m188/188\u001b[0m \u001b[32m━━━━━━━━━━━━━━━━━━━━\u001b[0m\u001b[37m\u001b[0m \u001b[1m1s\u001b[0m 7ms/step - accuracy: 0.9788 - loss: 0.0744 - val_accuracy: 0.9705 - val_loss: 0.1015\n",
            "Epoch 9/10\n",
            "\u001b[1m188/188\u001b[0m \u001b[32m━━━━━━━━━━━━━━━━━━━━\u001b[0m\u001b[37m\u001b[0m \u001b[1m1s\u001b[0m 6ms/step - accuracy: 0.9821 - loss: 0.0638 - val_accuracy: 0.9707 - val_loss: 0.0998\n",
            "Epoch 10/10\n",
            "\u001b[1m188/188\u001b[0m \u001b[32m━━━━━━━━━━━━━━━━━━━━\u001b[0m\u001b[37m\u001b[0m \u001b[1m1s\u001b[0m 7ms/step - accuracy: 0.9839 - loss: 0.0566 - val_accuracy: 0.9716 - val_loss: 0.0930\n",
            "\u001b[1m313/313\u001b[0m \u001b[32m━━━━━━━━━━━━━━━━━━━━\u001b[0m\u001b[37m\u001b[0m \u001b[1m1s\u001b[0m 2ms/step - accuracy: 0.9684 - loss: 0.1019\n",
            "Test accuracy: 97.32%\n"
          ]
        }
      ],
      "source": [
        "# Train the model and capture training history\n",
        "history = model.fit(x_train, y_train, epochs=10, batch_size=256, validation_data=(x_val, y_val))\n",
        "\n",
        "# Evaluate the model on test data\n",
        "test_loss, test_accuracy = model.evaluate(x_test, y_test)\n",
        "print(f\"Test accuracy: {test_accuracy * 100:.2f}%\")"
      ]
    },
    {
      "cell_type": "markdown",
      "metadata": {
        "id": "lLdxG9HnExev"
      },
      "source": [
        "## Graphing the output\n",
        "\n",
        "You can examine the output using the history object and graphing the results. This allows you to see if you're overfitting the model or if you have enough capacity"
      ]
    },
    {
      "cell_type": "code",
      "execution_count": null,
      "metadata": {
        "colab": {
          "base_uri": "https://localhost:8080/",
          "height": 472
        },
        "id": "9FmUHgmTEx2_",
        "outputId": "7bff74c6-15e7-439a-be9e-a553cbc15c93"
      },
      "outputs": [
        {
          "data": {
            "image/png": "[encoded data removed]",
            "text/plain": [
              "<Figure size 640x480 with 1 Axes>"
            ]
          },
          "metadata": {},
          "output_type": "display_data"
        }
      ],
      "source": [
        "import matplotlib.pyplot as plt\n",
        "\n",
        "\n",
        "# Plot training & validation accuracy values\n",
        "plt.plot(history.history['accuracy'], label='Training Accuracy')\n",
        "plt.plot(history.history['val_accuracy'], label='Validation Accuracy')\n",
        "plt.title('Model Accuracy')\n",
        "plt.xlabel('Epoch')\n",
        "plt.ylabel('Accuracy')\n",
        "plt.legend()\n",
        "plt.show()"
      ]
    },
    {
      "cell_type": "markdown",
      "metadata": {
        "id": "Hf9510W_8OJs"
      },
      "source": [
        "## Using model.add() to dynamically add layers\n",
        "\n",
        "Occassionally you'll want to add layers dynamically - in that case, it's better not to define a list and instead use tensorflow's \"model.add()\" function."
      ]
    },
    {
      "cell_type": "code",
      "execution_count": null,
      "metadata": {
        "id": "LwRYwQEu70hQ"
      },
      "outputs": [],
      "source": [
        "# Build a neural network model layer-by-layer\n",
        "model = Sequential()\n",
        "model.add(Flatten(input_shape=(28, 28)))  # Flatten 28x28 images to a 784-element vector\n",
        "model.add(Dense(128, activation='relu'))  # Hidden layer with 128 neurons and ReLU activation\n",
        "model.add(Dense(10, activation='softmax'))  # Output layer with 10 neurons and softmax activation\n",
        "\n",
        "# Compile the model\n",
        "model.compile(optimizer='adam',\n",
        "              loss='categorical_crossentropy',\n",
        "              metrics=['accuracy'])\n",
        "\n",
        "# Train the model\n",
        "model.fit(x_train, y_train, epochs=5, batch_size=256, validation_data=(x_val, y_val))\n",
        "\n",
        "# Evaluate the model on test data\n",
        "test_loss, test_accuracy = model.evaluate(x_test, y_test)\n",
        "print(f\"Test accuracy: {test_accuracy * 100:.2f}%\")\n"
      ]
    },
    {
      "cell_type": "markdown",
      "metadata": {
        "id": "x0MgwUX-8mlh"
      },
      "source": [
        "## Using Keras Tuner to tune the architecture\n",
        "\n",
        "The built in method for hyperparameter tuning is \"Keras Tuner\": https://keras.io/api/keras_tuner/hyperparameters/\n",
        "\n",
        "This method lets you choose a few different ways to tune your objects:\n",
        "\n",
        "\n",
        "\n",
        "*   HyperParameters.Boolean(name, default=False, parent_name=None, parent_values=None)\n",
        "      * Lets you use \"true or false\" as the search space\n",
        "*   HyperParameters.Choice(name, values, ordered=None, default=None,parent_name=None, parent_values=None)\n",
        "      * Select from a list of options\n",
        "*   HyperParameters.Float(name,min_value,max_value,step=None,sampling=\"linear\",default=None,parent_name=None,parent_values=None)\n",
        "      * Search for a floating point (value with a decimal point) number, given a specific sampling strategy\n",
        "*   HyperParameters.Int(name,min_value,max_value,step=None,sampling=\"linear\",default=None,parent_name=None, parent_values=None)\n",
        "      * Search for an integer number given a specific sampling strategy\n",
        "\n",
        "\n",
        "\n",
        "\n",
        "\n",
        "\n"
      ]
    },
    {
      "cell_type": "code",
      "execution_count": null,
      "metadata": {
        "colab": {
          "base_uri": "https://localhost:8080/"
        },
        "id": "ZCT4u41F8xSs",
        "outputId": "16e576e3-410d-40e3-a96f-7c847d504e88"
      },
      "outputs": [
        {
          "name": "stdout",
          "output_type": "stream",
          "text": [
            "Collecting keras-tuner\n",
            "  Downloading keras_tuner-1.4.7-py3-none-any.whl.metadata (5.4 kB)\n",
            "Requirement already satisfied: keras in /usr/local/lib/python3.10/dist-packages (from keras-tuner) (3.4.1)\n",
            "Requirement already satisfied: packaging in /usr/local/lib/python3.10/dist-packages (from keras-tuner) (24.1)\n",
            "Requirement already satisfied: requests in /usr/local/lib/python3.10/dist-packages (from keras-tuner) (2.32.3)\n",
            "Collecting kt-legacy (from keras-tuner)\n",
            "  Downloading kt_legacy-1.0.5-py3-none-any.whl.metadata (221 bytes)\n",
            "Requirement already satisfied: absl-py in /usr/local/lib/python3.10/dist-packages (from keras->keras-tuner) (1.4.0)\n",
            "Requirement already satisfied: numpy in /usr/local/lib/python3.10/dist-packages (from keras->keras-tuner) (1.26.4)\n",
            "Requirement already satisfied: rich in /usr/local/lib/python3.10/dist-packages (from keras->keras-tuner) (13.9.4)\n",
            "Requirement already satisfied: namex in /usr/local/lib/python3.10/dist-packages (from keras->keras-tuner) (0.0.8)\n",
            "Requirement already satisfied: h5py in /usr/local/lib/python3.10/dist-packages (from keras->keras-tuner) (3.12.1)\n",
            "Requirement already satisfied: optree in /usr/local/lib/python3.10/dist-packages (from keras->keras-tuner) (0.13.0)\n",
            "Requirement already satisfied: ml-dtypes in /usr/local/lib/python3.10/dist-packages (from keras->keras-tuner) (0.4.1)\n",
            "Requirement already satisfied: charset-normalizer<4,>=2 in /usr/local/lib/python3.10/dist-packages (from requests->keras-tuner) (3.4.0)\n",
            "Requirement already satisfied: idna<4,>=2.5 in /usr/local/lib/python3.10/dist-packages (from requests->keras-tuner) (3.10)\n",
            "Requirement already satisfied: urllib3<3,>=1.21.1 in /usr/local/lib/python3.10/dist-packages (from requests->keras-tuner) (2.2.3)\n",
            "Requirement already satisfied: certifi>=2017.4.17 in /usr/local/lib/python3.10/dist-packages (from requests->keras-tuner) (2024.8.30)\n",
            "Requirement already satisfied: typing-extensions>=4.5.0 in /usr/local/lib/python3.10/dist-packages (from optree->keras->keras-tuner) (4.12.2)\n",
            "Requirement already satisfied: markdown-it-py>=2.2.0 in /usr/local/lib/python3.10/dist-packages (from rich->keras->keras-tuner) (3.0.0)\n",
            "Requirement already satisfied: pygments<3.0.0,>=2.13.0 in /usr/local/lib/python3.10/dist-packages (from rich->keras->keras-tuner) (2.18.0)\n",
            "Requirement already satisfied: mdurl~=0.1 in /usr/local/lib/python3.10/dist-packages (from markdown-it-py>=2.2.0->rich->keras->keras-tuner) (0.1.2)\n",
            "Downloading keras_tuner-1.4.7-py3-none-any.whl (129 kB)\n",
            "\u001b[2K   \u001b[90m━━━━━━━━━━━━━━━━━━━━━━━━━━━━━━━━━━━━━━━━\u001b[0m \u001b[32m129.1/129.1 kB\u001b[0m \u001b[31m5.6 MB/s\u001b[0m eta \u001b[36m0:00:00\u001b[0m\n",
            "\u001b[?25hDownloading kt_legacy-1.0.5-py3-none-any.whl (9.6 kB)\n",
            "Installing collected packages: kt-legacy, keras-tuner\n",
            "Successfully installed keras-tuner-1.4.7 kt-legacy-1.0.5\n"
          ]
        }
      ],
      "source": [
        "!pip install keras-tuner"
      ]
    },
    {
      "cell_type": "markdown",
      "metadata": {
        "id": "1F55KUWU-LAg"
      },
      "source": [
        "### Building the hyperparameter search space\n",
        "\n",
        "To define the search space, you need to create this \"build_model\" function. This is where you define the model, tell it what you want to tune, and add define how you want to search for those models."
      ]
    },
    {
      "cell_type": "code",
      "execution_count": null,
      "metadata": {
        "id": "lqgnlxoR8oZc"
      },
      "outputs": [],
      "source": [
        "# Define the hypermodel\n",
        "def build_model(hp):\n",
        "    model = Sequential()\n",
        "    model.add(Flatten(input_shape=(28, 28)))\n",
        "\n",
        "    # Tune the number of layers\n",
        "    for i in range(hp.Int('num_layers', min_value=1, max_value=3)):  # Tuning 1-3 layers\n",
        "        # Tune the number of neurons in each layer\n",
        "        model.add(Dense(units=hp.Int(f'units_{i}', min_value=32, max_value=256, step=32),\n",
        "                        activation=hp.Choice(f'activation_{i}', ['relu', 'tanh', 'sigmoid'])))\n",
        "\n",
        "    # Output layer\n",
        "    model.add(Dense(10, activation='softmax'))\n",
        "\n",
        "    # Compile the model\n",
        "    model.compile(\n",
        "        optimizer='adam',\n",
        "        loss='categorical_crossentropy',\n",
        "        metrics=['accuracy']\n",
        "    )\n",
        "\n",
        "    return model\n"
      ]
    },
    {
      "cell_type": "markdown",
      "metadata": {
        "id": "if-451RE_Jgm"
      },
      "source": [
        "## Selecting your tuning algorithm\n",
        "\n",
        "Keras tuner has multiple available tuners:\n",
        "\n",
        "\n",
        "\n",
        "1.   [**Random Search**](https://keras.io/api/keras_tuner/tuners/random/): Selects parameters at random.\n",
        "2.   [**Grid Search**](https://keras.io/api/keras_tuner/tuners/grid/): Searches all available parameters in the search space. Guaranteed to get the best answer, but could take way too long if you're searching a lot of parameters and a very large space\n",
        "3.   [**Bayesian Optimization**](https://keras.io/api/keras_tuner/tuners/bayesian/): Selects parameters by taking into account previous iterations of the algorithm and searching only in areas it knows it's been successful before. Faster than grid search, but can get stuck in local minima.\n",
        "4.   [**Hyperband Optimization**](https://keras.io/api/keras_tuner/tuners/hyperband/): Runs multiple sets of parameters at the same time, but continues training on only the most successful ones. Faster than bayesian and tends to be fairly good\n"
      ]
    },
    {
      "cell_type": "code",
      "execution_count": null,
      "metadata": {
        "id": "7_xw0Q6Q-Af3"
      },
      "outputs": [],
      "source": [
        "from keras_tuner import Hyperband\n",
        "\n",
        "# Initialize the Keras Tuner with Hyperband search\n",
        "tuner = Hyperband(\n",
        "    build_model,\n",
        "    objective='val_accuracy',\n",
        "    max_epochs=10,\n",
        "    factor=3,\n",
        "    directory='my_dir',\n",
        "    project_name='mnist_tuning'\n",
        ")"
      ]
    },
    {
      "cell_type": "markdown",
      "metadata": {
        "id": "i28jFfgeAvrD"
      },
      "source": [
        "## Search and selecting the best model\n",
        "\n",
        "You can then choose to search for the best hyperparamters. This can take a very long time, especially depending on which optimization algorithm you chose, how you set it up, and how large your search space is."
      ]
    },
    {
      "cell_type": "code",
      "execution_count": null,
      "metadata": {
        "colab": {
          "base_uri": "https://localhost:8080/",
          "height": 1000
        },
        "id": "BTjb_Dc88vgn",
        "outputId": "f7a2e655-99e8-4392-9708-233756671f30"
      },
      "outputs": [
        {
          "name": "stdout",
          "output_type": "stream",
          "text": [
            "Trial 26 Complete [00h 00m 55s]\n",
            "val_accuracy: 0.9779166579246521\n",
            "\n",
            "Best val_accuracy So Far: 0.9824166893959045\n",
            "Total elapsed time: 00h 32m 21s\n",
            "\n",
            "Search: Running Trial #27\n",
            "\n",
            "Value             |Best Value So Far |Hyperparameter\n",
            "2                 |1                 |num_layers\n",
            "224               |224               |units_0\n",
            "relu              |relu              |activation_0\n",
            "224               |96                |units_1\n",
            "sigmoid           |sigmoid           |activation_1\n",
            "10                |4                 |tuner/epochs\n",
            "0                 |2                 |tuner/initial_epoch\n",
            "0                 |2                 |tuner/bracket\n",
            "0                 |1                 |tuner/round\n",
            "\n",
            "Epoch 1/10\n",
            "\u001b[1m1500/1500\u001b[0m \u001b[32m━━━━━━━━━━━━━━━━━━━━\u001b[0m\u001b[37m\u001b[0m \u001b[1m11s\u001b[0m 6ms/step - accuracy: 0.8530 - loss: 0.5172 - val_accuracy: 0.9567 - val_loss: 0.1451\n",
            "Epoch 2/10\n",
            "\u001b[1m1500/1500\u001b[0m \u001b[32m━━━━━━━━━━━━━━━━━━━━\u001b[0m\u001b[37m\u001b[0m \u001b[1m9s\u001b[0m 5ms/step - accuracy: 0.9673 - loss: 0.1111 - val_accuracy: 0.9703 - val_loss: 0.0986\n",
            "Epoch 3/10\n",
            "\u001b[1m1500/1500\u001b[0m \u001b[32m━━━━━━━━━━━━━━━━━━━━\u001b[0m\u001b[37m\u001b[0m \u001b[1m12s\u001b[0m 7ms/step - accuracy: 0.9800 - loss: 0.0659 - val_accuracy: 0.9753 - val_loss: 0.0765\n",
            "Epoch 4/10\n",
            "\u001b[1m1500/1500\u001b[0m \u001b[32m━━━━━━━━━━━━━━━━━━━━\u001b[0m\u001b[37m\u001b[0m \u001b[1m10s\u001b[0m 7ms/step - accuracy: 0.9863 - loss: 0.0434 - val_accuracy: 0.9743 - val_loss: 0.0852\n",
            "Epoch 5/10\n",
            "\u001b[1m1500/1500\u001b[0m \u001b[32m━━━━━━━━━━━━━━━━━━━━\u001b[0m\u001b[37m\u001b[0m \u001b[1m9s\u001b[0m 6ms/step - accuracy: 0.9900 - loss: 0.0314 - val_accuracy: 0.9772 - val_loss: 0.0801\n",
            "Epoch 6/10\n",
            "\u001b[1m1500/1500\u001b[0m \u001b[32m━━━━━━━━━━━━━━━━━━━━\u001b[0m\u001b[37m\u001b[0m \u001b[1m9s\u001b[0m 6ms/step - accuracy: 0.9921 - loss: 0.0257 - val_accuracy: 0.9747 - val_loss: 0.0881\n",
            "Epoch 7/10\n",
            "\u001b[1m1500/1500\u001b[0m \u001b[32m━━━━━━━━━━━━━━━━━━━━\u001b[0m\u001b[37m\u001b[0m \u001b[1m10s\u001b[0m 7ms/step - accuracy: 0.9936 - loss: 0.0192 - val_accuracy: 0.9785 - val_loss: 0.0807\n",
            "Epoch 8/10\n",
            "\u001b[1m1500/1500\u001b[0m \u001b[32m━━━━━━━━━━━━━━━━━━━━\u001b[0m\u001b[37m\u001b[0m \u001b[1m19s\u001b[0m 6ms/step - accuracy: 0.9961 - loss: 0.0130 - val_accuracy: 0.9749 - val_loss: 0.1029\n",
            "Epoch 9/10\n",
            "\u001b[1m 857/1500\u001b[0m \u001b[32m━━━━━━━━━━━\u001b[0m\u001b[37m━━━━━━━━━\u001b[0m \u001b[1m3s\u001b[0m 5ms/step - accuracy: 0.9969 - loss: 0.0110"
          ]
        },
        {
          "ename": "KeyboardInterrupt",
          "evalue": "",
          "output_type": "error",
          "traceback": [
            "\u001b[0;31m---------------------------------------------------------------------------\u001b[0m",
            "\u001b[0;31mKeyboardInterrupt\u001b[0m                         Traceback (most recent call last)",
            "\u001b[0;32m<ipython-input-10-66ece19e61be>\u001b[0m in \u001b[0;36m<cell line: 2>\u001b[0;34m()\u001b[0m\n\u001b[1;32m      1\u001b[0m \u001b[0;31m# Perform the search\u001b[0m\u001b[0;34m\u001b[0m\u001b[0;34m\u001b[0m\u001b[0m\n\u001b[0;32m----> 2\u001b[0;31m \u001b[0mtuner\u001b[0m\u001b[0;34m.\u001b[0m\u001b[0msearch\u001b[0m\u001b[0;34m(\u001b[0m\u001b[0mx_train\u001b[0m\u001b[0;34m,\u001b[0m \u001b[0my_train\u001b[0m\u001b[0;34m,\u001b[0m \u001b[0mepochs\u001b[0m\u001b[0;34m=\u001b[0m\u001b[0;36m10\u001b[0m\u001b[0;34m,\u001b[0m \u001b[0mvalidation_data\u001b[0m\u001b[0;34m=\u001b[0m\u001b[0;34m(\u001b[0m\u001b[0mx_val\u001b[0m\u001b[0;34m,\u001b[0m \u001b[0my_val\u001b[0m\u001b[0;34m)\u001b[0m\u001b[0;34m)\u001b[0m\u001b[0;34m\u001b[0m\u001b[0;34m\u001b[0m\u001b[0m\n\u001b[0m\u001b[1;32m      3\u001b[0m \u001b[0;34m\u001b[0m\u001b[0m\n\u001b[1;32m      4\u001b[0m \u001b[0;31m# Retrieve the best model\u001b[0m\u001b[0;34m\u001b[0m\u001b[0;34m\u001b[0m\u001b[0m\n\u001b[1;32m      5\u001b[0m \u001b[0mbest_model\u001b[0m \u001b[0;34m=\u001b[0m \u001b[0mtuner\u001b[0m\u001b[0;34m.\u001b[0m\u001b[0mget_best_models\u001b[0m\u001b[0;34m(\u001b[0m\u001b[0mnum_models\u001b[0m\u001b[0;34m=\u001b[0m\u001b[0;36m1\u001b[0m\u001b[0;34m)\u001b[0m\u001b[0;34m[\u001b[0m\u001b[0;36m0\u001b[0m\u001b[0;34m]\u001b[0m\u001b[0;34m\u001b[0m\u001b[0;34m\u001b[0m\u001b[0m\n",
            "\u001b[0;32m/usr/local/lib/python3.10/dist-packages/keras_tuner/src/engine/base_tuner.py\u001b[0m in \u001b[0;36msearch\u001b[0;34m(self, *fit_args, **fit_kwargs)\u001b[0m\n\u001b[1;32m    232\u001b[0m \u001b[0;34m\u001b[0m\u001b[0m\n\u001b[1;32m    233\u001b[0m             \u001b[0mself\u001b[0m\u001b[0;34m.\u001b[0m\u001b[0mon_trial_begin\u001b[0m\u001b[0;34m(\u001b[0m\u001b[0mtrial\u001b[0m\u001b[0;34m)\u001b[0m\u001b[0;34m\u001b[0m\u001b[0;34m\u001b[0m\u001b[0m\n\u001b[0;32m--> 234\u001b[0;31m             \u001b[0mself\u001b[0m\u001b[0;34m.\u001b[0m\u001b[0m_try_run_and_update_trial\u001b[0m\u001b[0;34m(\u001b[0m\u001b[0mtrial\u001b[0m\u001b[0;34m,\u001b[0m \u001b[0;34m*\u001b[0m\u001b[0mfit_args\u001b[0m\u001b[0;34m,\u001b[0m \u001b[0;34m**\u001b[0m\u001b[0mfit_kwargs\u001b[0m\u001b[0;34m)\u001b[0m\u001b[0;34m\u001b[0m\u001b[0;34m\u001b[0m\u001b[0m\n\u001b[0m\u001b[1;32m    235\u001b[0m             \u001b[0mself\u001b[0m\u001b[0;34m.\u001b[0m\u001b[0mon_trial_end\u001b[0m\u001b[0;34m(\u001b[0m\u001b[0mtrial\u001b[0m\u001b[0;34m)\u001b[0m\u001b[0;34m\u001b[0m\u001b[0;34m\u001b[0m\u001b[0m\n\u001b[1;32m    236\u001b[0m         \u001b[0mself\u001b[0m\u001b[0;34m.\u001b[0m\u001b[0mon_search_end\u001b[0m\u001b[0;34m(\u001b[0m\u001b[0;34m)\u001b[0m\u001b[0;34m\u001b[0m\u001b[0;34m\u001b[0m\u001b[0m\n",
            "\u001b[0;32m/usr/local/lib/python3.10/dist-packages/keras_tuner/src/engine/base_tuner.py\u001b[0m in \u001b[0;36m_try_run_and_update_trial\u001b[0;34m(self, trial, *fit_args, **fit_kwargs)\u001b[0m\n\u001b[1;32m    272\u001b[0m     \u001b[0;32mdef\u001b[0m \u001b[0m_try_run_and_update_trial\u001b[0m\u001b[0;34m(\u001b[0m\u001b[0mself\u001b[0m\u001b[0;34m,\u001b[0m \u001b[0mtrial\u001b[0m\u001b[0;34m,\u001b[0m \u001b[0;34m*\u001b[0m\u001b[0mfit_args\u001b[0m\u001b[0;34m,\u001b[0m \u001b[0;34m**\u001b[0m\u001b[0mfit_kwargs\u001b[0m\u001b[0;34m)\u001b[0m\u001b[0;34m:\u001b[0m\u001b[0;34m\u001b[0m\u001b[0;34m\u001b[0m\u001b[0m\n\u001b[1;32m    273\u001b[0m         \u001b[0;32mtry\u001b[0m\u001b[0;34m:\u001b[0m\u001b[0;34m\u001b[0m\u001b[0;34m\u001b[0m\u001b[0m\n\u001b[0;32m--> 274\u001b[0;31m             \u001b[0mself\u001b[0m\u001b[0;34m.\u001b[0m\u001b[0m_run_and_update_trial\u001b[0m\u001b[0;34m(\u001b[0m\u001b[0mtrial\u001b[0m\u001b[0;34m,\u001b[0m \u001b[0;34m*\u001b[0m\u001b[0mfit_args\u001b[0m\u001b[0;34m,\u001b[0m \u001b[0;34m**\u001b[0m\u001b[0mfit_kwargs\u001b[0m\u001b[0;34m)\u001b[0m\u001b[0;34m\u001b[0m\u001b[0;34m\u001b[0m\u001b[0m\n\u001b[0m\u001b[1;32m    275\u001b[0m             \u001b[0mtrial\u001b[0m\u001b[0;34m.\u001b[0m\u001b[0mstatus\u001b[0m \u001b[0;34m=\u001b[0m \u001b[0mtrial_module\u001b[0m\u001b[0;34m.\u001b[0m\u001b[0mTrialStatus\u001b[0m\u001b[0;34m.\u001b[0m\u001b[0mCOMPLETED\u001b[0m\u001b[0;34m\u001b[0m\u001b[0;34m\u001b[0m\u001b[0m\n\u001b[1;32m    276\u001b[0m             \u001b[0;32mreturn\u001b[0m\u001b[0;34m\u001b[0m\u001b[0;34m\u001b[0m\u001b[0m\n",
            "\u001b[0;32m/usr/local/lib/python3.10/dist-packages/keras_tuner/src/engine/base_tuner.py\u001b[0m in \u001b[0;36m_run_and_update_trial\u001b[0;34m(self, trial, *fit_args, **fit_kwargs)\u001b[0m\n\u001b[1;32m    237\u001b[0m \u001b[0;34m\u001b[0m\u001b[0m\n\u001b[1;32m    238\u001b[0m     \u001b[0;32mdef\u001b[0m \u001b[0m_run_and_update_trial\u001b[0m\u001b[0;34m(\u001b[0m\u001b[0mself\u001b[0m\u001b[0;34m,\u001b[0m \u001b[0mtrial\u001b[0m\u001b[0;34m,\u001b[0m \u001b[0;34m*\u001b[0m\u001b[0mfit_args\u001b[0m\u001b[0;34m,\u001b[0m \u001b[0;34m**\u001b[0m\u001b[0mfit_kwargs\u001b[0m\u001b[0;34m)\u001b[0m\u001b[0;34m:\u001b[0m\u001b[0;34m\u001b[0m\u001b[0;34m\u001b[0m\u001b[0m\n\u001b[0;32m--> 239\u001b[0;31m         \u001b[0mresults\u001b[0m \u001b[0;34m=\u001b[0m \u001b[0mself\u001b[0m\u001b[0;34m.\u001b[0m\u001b[0mrun_trial\u001b[0m\u001b[0;34m(\u001b[0m\u001b[0mtrial\u001b[0m\u001b[0;34m,\u001b[0m \u001b[0;34m*\u001b[0m\u001b[0mfit_args\u001b[0m\u001b[0;34m,\u001b[0m \u001b[0;34m**\u001b[0m\u001b[0mfit_kwargs\u001b[0m\u001b[0;34m)\u001b[0m\u001b[0;34m\u001b[0m\u001b[0;34m\u001b[0m\u001b[0m\n\u001b[0m\u001b[1;32m    240\u001b[0m         if self.oracle.get_trial(trial.trial_id).metrics.exists(\n\u001b[1;32m    241\u001b[0m             \u001b[0mself\u001b[0m\u001b[0;34m.\u001b[0m\u001b[0moracle\u001b[0m\u001b[0;34m.\u001b[0m\u001b[0mobjective\u001b[0m\u001b[0;34m.\u001b[0m\u001b[0mname\u001b[0m\u001b[0;34m\u001b[0m\u001b[0;34m\u001b[0m\u001b[0m\n",
            "\u001b[0;32m/usr/local/lib/python3.10/dist-packages/keras_tuner/src/tuners/hyperband.py\u001b[0m in \u001b[0;36mrun_trial\u001b[0;34m(self, trial, *fit_args, **fit_kwargs)\u001b[0m\n\u001b[1;32m    425\u001b[0m             \u001b[0mfit_kwargs\u001b[0m\u001b[0;34m[\u001b[0m\u001b[0;34m\"epochs\"\u001b[0m\u001b[0;34m]\u001b[0m \u001b[0;34m=\u001b[0m \u001b[0mhp\u001b[0m\u001b[0;34m.\u001b[0m\u001b[0mvalues\u001b[0m\u001b[0;34m[\u001b[0m\u001b[0;34m\"tuner/epochs\"\u001b[0m\u001b[0;34m]\u001b[0m\u001b[0;34m\u001b[0m\u001b[0;34m\u001b[0m\u001b[0m\n\u001b[1;32m    426\u001b[0m             \u001b[0mfit_kwargs\u001b[0m\u001b[0;34m[\u001b[0m\u001b[0;34m\"initial_epoch\"\u001b[0m\u001b[0;34m]\u001b[0m \u001b[0;34m=\u001b[0m \u001b[0mhp\u001b[0m\u001b[0;34m.\u001b[0m\u001b[0mvalues\u001b[0m\u001b[0;34m[\u001b[0m\u001b[0;34m\"tuner/initial_epoch\"\u001b[0m\u001b[0;34m]\u001b[0m\u001b[0;34m\u001b[0m\u001b[0;34m\u001b[0m\u001b[0m\n\u001b[0;32m--> 427\u001b[0;31m         \u001b[0;32mreturn\u001b[0m \u001b[0msuper\u001b[0m\u001b[0;34m(\u001b[0m\u001b[0;34m)\u001b[0m\u001b[0;34m.\u001b[0m\u001b[0mrun_trial\u001b[0m\u001b[0;34m(\u001b[0m\u001b[0mtrial\u001b[0m\u001b[0;34m,\u001b[0m \u001b[0;34m*\u001b[0m\u001b[0mfit_args\u001b[0m\u001b[0;34m,\u001b[0m \u001b[0;34m**\u001b[0m\u001b[0mfit_kwargs\u001b[0m\u001b[0;34m)\u001b[0m\u001b[0;34m\u001b[0m\u001b[0;34m\u001b[0m\u001b[0m\n\u001b[0m\u001b[1;32m    428\u001b[0m \u001b[0;34m\u001b[0m\u001b[0m\n\u001b[1;32m    429\u001b[0m     \u001b[0;32mdef\u001b[0m \u001b[0m_build_hypermodel\u001b[0m\u001b[0;34m(\u001b[0m\u001b[0mself\u001b[0m\u001b[0;34m,\u001b[0m \u001b[0mhp\u001b[0m\u001b[0;34m)\u001b[0m\u001b[0;34m:\u001b[0m\u001b[0;34m\u001b[0m\u001b[0;34m\u001b[0m\u001b[0m\n",
            "\u001b[0;32m/usr/local/lib/python3.10/dist-packages/keras_tuner/src/engine/tuner.py\u001b[0m in \u001b[0;36mrun_trial\u001b[0;34m(self, trial, *args, **kwargs)\u001b[0m\n\u001b[1;32m    312\u001b[0m             \u001b[0mcallbacks\u001b[0m\u001b[0;34m.\u001b[0m\u001b[0mappend\u001b[0m\u001b[0;34m(\u001b[0m\u001b[0mmodel_checkpoint\u001b[0m\u001b[0;34m)\u001b[0m\u001b[0;34m\u001b[0m\u001b[0;34m\u001b[0m\u001b[0m\n\u001b[1;32m    313\u001b[0m             \u001b[0mcopied_kwargs\u001b[0m\u001b[0;34m[\u001b[0m\u001b[0;34m\"callbacks\"\u001b[0m\u001b[0;34m]\u001b[0m \u001b[0;34m=\u001b[0m \u001b[0mcallbacks\u001b[0m\u001b[0;34m\u001b[0m\u001b[0;34m\u001b[0m\u001b[0m\n\u001b[0;32m--> 314\u001b[0;31m             \u001b[0mobj_value\u001b[0m \u001b[0;34m=\u001b[0m \u001b[0mself\u001b[0m\u001b[0;34m.\u001b[0m\u001b[0m_build_and_fit_model\u001b[0m\u001b[0;34m(\u001b[0m\u001b[0mtrial\u001b[0m\u001b[0;34m,\u001b[0m \u001b[0;34m*\u001b[0m\u001b[0margs\u001b[0m\u001b[0;34m,\u001b[0m \u001b[0;34m**\u001b[0m\u001b[0mcopied_kwargs\u001b[0m\u001b[0;34m)\u001b[0m\u001b[0;34m\u001b[0m\u001b[0;34m\u001b[0m\u001b[0m\n\u001b[0m\u001b[1;32m    315\u001b[0m \u001b[0;34m\u001b[0m\u001b[0m\n\u001b[1;32m    316\u001b[0m             \u001b[0mhistories\u001b[0m\u001b[0;34m.\u001b[0m\u001b[0mappend\u001b[0m\u001b[0;34m(\u001b[0m\u001b[0mobj_value\u001b[0m\u001b[0;34m)\u001b[0m\u001b[0;34m\u001b[0m\u001b[0;34m\u001b[0m\u001b[0m\n",
            "\u001b[0;32m/usr/local/lib/python3.10/dist-packages/keras_tuner/src/engine/tuner.py\u001b[0m in \u001b[0;36m_build_and_fit_model\u001b[0;34m(self, trial, *args, **kwargs)\u001b[0m\n\u001b[1;32m    231\u001b[0m         \u001b[0mhp\u001b[0m \u001b[0;34m=\u001b[0m \u001b[0mtrial\u001b[0m\u001b[0;34m.\u001b[0m\u001b[0mhyperparameters\u001b[0m\u001b[0;34m\u001b[0m\u001b[0;34m\u001b[0m\u001b[0m\n\u001b[1;32m    232\u001b[0m         \u001b[0mmodel\u001b[0m \u001b[0;34m=\u001b[0m \u001b[0mself\u001b[0m\u001b[0;34m.\u001b[0m\u001b[0m_try_build\u001b[0m\u001b[0;34m(\u001b[0m\u001b[0mhp\u001b[0m\u001b[0;34m)\u001b[0m\u001b[0;34m\u001b[0m\u001b[0;34m\u001b[0m\u001b[0m\n\u001b[0;32m--> 233\u001b[0;31m         \u001b[0mresults\u001b[0m \u001b[0;34m=\u001b[0m \u001b[0mself\u001b[0m\u001b[0;34m.\u001b[0m\u001b[0mhypermodel\u001b[0m\u001b[0;34m.\u001b[0m\u001b[0mfit\u001b[0m\u001b[0;34m(\u001b[0m\u001b[0mhp\u001b[0m\u001b[0;34m,\u001b[0m \u001b[0mmodel\u001b[0m\u001b[0;34m,\u001b[0m \u001b[0;34m*\u001b[0m\u001b[0margs\u001b[0m\u001b[0;34m,\u001b[0m \u001b[0;34m**\u001b[0m\u001b[0mkwargs\u001b[0m\u001b[0;34m)\u001b[0m\u001b[0;34m\u001b[0m\u001b[0;34m\u001b[0m\u001b[0m\n\u001b[0m\u001b[1;32m    234\u001b[0m \u001b[0;34m\u001b[0m\u001b[0m\n\u001b[1;32m    235\u001b[0m         \u001b[0;31m# Save the build config for model loading later.\u001b[0m\u001b[0;34m\u001b[0m\u001b[0;34m\u001b[0m\u001b[0m\n",
            "\u001b[0;32m/usr/local/lib/python3.10/dist-packages/keras_tuner/src/engine/hypermodel.py\u001b[0m in \u001b[0;36mfit\u001b[0;34m(self, hp, model, *args, **kwargs)\u001b[0m\n\u001b[1;32m    147\u001b[0m             \u001b[0mIf\u001b[0m \u001b[0;32mreturn\u001b[0m \u001b[0ma\u001b[0m \u001b[0mfloat\u001b[0m\u001b[0;34m,\u001b[0m \u001b[0mit\u001b[0m \u001b[0mshould\u001b[0m \u001b[0mbe\u001b[0m \u001b[0mthe\u001b[0m\u001b[0;31m \u001b[0m\u001b[0;31m`\u001b[0m\u001b[0mobjective\u001b[0m\u001b[0;31m`\u001b[0m \u001b[0mvalue\u001b[0m\u001b[0;34m.\u001b[0m\u001b[0;34m\u001b[0m\u001b[0;34m\u001b[0m\u001b[0m\n\u001b[1;32m    148\u001b[0m         \"\"\"\n\u001b[0;32m--> 149\u001b[0;31m         \u001b[0;32mreturn\u001b[0m \u001b[0mmodel\u001b[0m\u001b[0;34m.\u001b[0m\u001b[0mfit\u001b[0m\u001b[0;34m(\u001b[0m\u001b[0;34m*\u001b[0m\u001b[0margs\u001b[0m\u001b[0;34m,\u001b[0m \u001b[0;34m**\u001b[0m\u001b[0mkwargs\u001b[0m\u001b[0;34m)\u001b[0m\u001b[0;34m\u001b[0m\u001b[0;34m\u001b[0m\u001b[0m\n\u001b[0m\u001b[1;32m    150\u001b[0m \u001b[0;34m\u001b[0m\u001b[0m\n\u001b[1;32m    151\u001b[0m \u001b[0;34m\u001b[0m\u001b[0m\n",
            "\u001b[0;32m/usr/local/lib/python3.10/dist-packages/keras/src/utils/traceback_utils.py\u001b[0m in \u001b[0;36merror_handler\u001b[0;34m(*args, **kwargs)\u001b[0m\n\u001b[1;32m    115\u001b[0m         \u001b[0mfiltered_tb\u001b[0m \u001b[0;34m=\u001b[0m \u001b[0;32mNone\u001b[0m\u001b[0;34m\u001b[0m\u001b[0;34m\u001b[0m\u001b[0m\n\u001b[1;32m    116\u001b[0m         \u001b[0;32mtry\u001b[0m\u001b[0;34m:\u001b[0m\u001b[0;34m\u001b[0m\u001b[0;34m\u001b[0m\u001b[0m\n\u001b[0;32m--> 117\u001b[0;31m             \u001b[0;32mreturn\u001b[0m \u001b[0mfn\u001b[0m\u001b[0;34m(\u001b[0m\u001b[0;34m*\u001b[0m\u001b[0margs\u001b[0m\u001b[0;34m,\u001b[0m \u001b[0;34m**\u001b[0m\u001b[0mkwargs\u001b[0m\u001b[0;34m)\u001b[0m\u001b[0;34m\u001b[0m\u001b[0;34m\u001b[0m\u001b[0m\n\u001b[0m\u001b[1;32m    118\u001b[0m         \u001b[0;32mexcept\u001b[0m \u001b[0mException\u001b[0m \u001b[0;32mas\u001b[0m \u001b[0me\u001b[0m\u001b[0;34m:\u001b[0m\u001b[0;34m\u001b[0m\u001b[0;34m\u001b[0m\u001b[0m\n\u001b[1;32m    119\u001b[0m             \u001b[0mfiltered_tb\u001b[0m \u001b[0;34m=\u001b[0m \u001b[0m_process_traceback_frames\u001b[0m\u001b[0;34m(\u001b[0m\u001b[0me\u001b[0m\u001b[0;34m.\u001b[0m\u001b[0m__traceback__\u001b[0m\u001b[0;34m)\u001b[0m\u001b[0;34m\u001b[0m\u001b[0;34m\u001b[0m\u001b[0m\n",
            "\u001b[0;32m/usr/local/lib/python3.10/dist-packages/keras/src/backend/tensorflow/trainer.py\u001b[0m in \u001b[0;36mfit\u001b[0;34m(self, x, y, batch_size, epochs, verbose, callbacks, validation_split, validation_data, shuffle, class_weight, sample_weight, initial_epoch, steps_per_epoch, validation_steps, validation_batch_size, validation_freq)\u001b[0m\n\u001b[1;32m    316\u001b[0m                 \u001b[0;32mfor\u001b[0m \u001b[0mstep\u001b[0m\u001b[0;34m,\u001b[0m \u001b[0miterator\u001b[0m \u001b[0;32min\u001b[0m \u001b[0mepoch_iterator\u001b[0m\u001b[0;34m.\u001b[0m\u001b[0menumerate_epoch\u001b[0m\u001b[0;34m(\u001b[0m\u001b[0;34m)\u001b[0m\u001b[0;34m:\u001b[0m\u001b[0;34m\u001b[0m\u001b[0;34m\u001b[0m\u001b[0m\n\u001b[1;32m    317\u001b[0m                     \u001b[0mcallbacks\u001b[0m\u001b[0;34m.\u001b[0m\u001b[0mon_train_batch_begin\u001b[0m\u001b[0;34m(\u001b[0m\u001b[0mstep\u001b[0m\u001b[0;34m)\u001b[0m\u001b[0;34m\u001b[0m\u001b[0;34m\u001b[0m\u001b[0m\n\u001b[0;32m--> 318\u001b[0;31m                     \u001b[0mlogs\u001b[0m \u001b[0;34m=\u001b[0m \u001b[0mself\u001b[0m\u001b[0;34m.\u001b[0m\u001b[0mtrain_function\u001b[0m\u001b[0;34m(\u001b[0m\u001b[0miterator\u001b[0m\u001b[0;34m)\u001b[0m\u001b[0;34m\u001b[0m\u001b[0;34m\u001b[0m\u001b[0m\n\u001b[0m\u001b[1;32m    319\u001b[0m                     \u001b[0mlogs\u001b[0m \u001b[0;34m=\u001b[0m \u001b[0mself\u001b[0m\u001b[0;34m.\u001b[0m\u001b[0m_pythonify_logs\u001b[0m\u001b[0;34m(\u001b[0m\u001b[0mlogs\u001b[0m\u001b[0;34m)\u001b[0m\u001b[0;34m\u001b[0m\u001b[0;34m\u001b[0m\u001b[0m\n\u001b[1;32m    320\u001b[0m                     \u001b[0mcallbacks\u001b[0m\u001b[0;34m.\u001b[0m\u001b[0mon_train_batch_end\u001b[0m\u001b[0;34m(\u001b[0m\u001b[0mstep\u001b[0m\u001b[0;34m,\u001b[0m \u001b[0mlogs\u001b[0m\u001b[0;34m)\u001b[0m\u001b[0;34m\u001b[0m\u001b[0;34m\u001b[0m\u001b[0m\n",
            "\u001b[0;32m/usr/local/lib/python3.10/dist-packages/tensorflow/python/util/traceback_utils.py\u001b[0m in \u001b[0;36merror_handler\u001b[0;34m(*args, **kwargs)\u001b[0m\n\u001b[1;32m    148\u001b[0m     \u001b[0mfiltered_tb\u001b[0m \u001b[0;34m=\u001b[0m \u001b[0;32mNone\u001b[0m\u001b[0;34m\u001b[0m\u001b[0;34m\u001b[0m\u001b[0m\n\u001b[1;32m    149\u001b[0m     \u001b[0;32mtry\u001b[0m\u001b[0;34m:\u001b[0m\u001b[0;34m\u001b[0m\u001b[0;34m\u001b[0m\u001b[0m\n\u001b[0;32m--> 150\u001b[0;31m       \u001b[0;32mreturn\u001b[0m \u001b[0mfn\u001b[0m\u001b[0;34m(\u001b[0m\u001b[0;34m*\u001b[0m\u001b[0margs\u001b[0m\u001b[0;34m,\u001b[0m \u001b[0;34m**\u001b[0m\u001b[0mkwargs\u001b[0m\u001b[0;34m)\u001b[0m\u001b[0;34m\u001b[0m\u001b[0;34m\u001b[0m\u001b[0m\n\u001b[0m\u001b[1;32m    151\u001b[0m     \u001b[0;32mexcept\u001b[0m \u001b[0mException\u001b[0m \u001b[0;32mas\u001b[0m \u001b[0me\u001b[0m\u001b[0;34m:\u001b[0m\u001b[0;34m\u001b[0m\u001b[0;34m\u001b[0m\u001b[0m\n\u001b[1;32m    152\u001b[0m       \u001b[0mfiltered_tb\u001b[0m \u001b[0;34m=\u001b[0m \u001b[0m_process_traceback_frames\u001b[0m\u001b[0;34m(\u001b[0m\u001b[0me\u001b[0m\u001b[0;34m.\u001b[0m\u001b[0m__traceback__\u001b[0m\u001b[0;34m)\u001b[0m\u001b[0;34m\u001b[0m\u001b[0;34m\u001b[0m\u001b[0m\n",
            "\u001b[0;32m/usr/local/lib/python3.10/dist-packages/tensorflow/python/eager/polymorphic_function/polymorphic_function.py\u001b[0m in \u001b[0;36m__call__\u001b[0;34m(self, *args, **kwds)\u001b[0m\n\u001b[1;32m    831\u001b[0m \u001b[0;34m\u001b[0m\u001b[0m\n\u001b[1;32m    832\u001b[0m       \u001b[0;32mwith\u001b[0m \u001b[0mOptionalXlaContext\u001b[0m\u001b[0;34m(\u001b[0m\u001b[0mself\u001b[0m\u001b[0;34m.\u001b[0m\u001b[0m_jit_compile\u001b[0m\u001b[0;34m)\u001b[0m\u001b[0;34m:\u001b[0m\u001b[0;34m\u001b[0m\u001b[0;34m\u001b[0m\u001b[0m\n\u001b[0;32m--> 833\u001b[0;31m         \u001b[0mresult\u001b[0m \u001b[0;34m=\u001b[0m \u001b[0mself\u001b[0m\u001b[0;34m.\u001b[0m\u001b[0m_call\u001b[0m\u001b[0;34m(\u001b[0m\u001b[0;34m*\u001b[0m\u001b[0margs\u001b[0m\u001b[0;34m,\u001b[0m \u001b[0;34m**\u001b[0m\u001b[0mkwds\u001b[0m\u001b[0;34m)\u001b[0m\u001b[0;34m\u001b[0m\u001b[0;34m\u001b[0m\u001b[0m\n\u001b[0m\u001b[1;32m    834\u001b[0m \u001b[0;34m\u001b[0m\u001b[0m\n\u001b[1;32m    835\u001b[0m       \u001b[0mnew_tracing_count\u001b[0m \u001b[0;34m=\u001b[0m \u001b[0mself\u001b[0m\u001b[0;34m.\u001b[0m\u001b[0mexperimental_get_tracing_count\u001b[0m\u001b[0;34m(\u001b[0m\u001b[0;34m)\u001b[0m\u001b[0;34m\u001b[0m\u001b[0;34m\u001b[0m\u001b[0m\n",
            "\u001b[0;32m/usr/local/lib/python3.10/dist-packages/tensorflow/python/eager/polymorphic_function/polymorphic_function.py\u001b[0m in \u001b[0;36m_call\u001b[0;34m(self, *args, **kwds)\u001b[0m\n\u001b[1;32m    876\u001b[0m       \u001b[0;31m# In this case we have not created variables on the first call. So we can\u001b[0m\u001b[0;34m\u001b[0m\u001b[0;34m\u001b[0m\u001b[0m\n\u001b[1;32m    877\u001b[0m       \u001b[0;31m# run the first trace but we should fail if variables are created.\u001b[0m\u001b[0;34m\u001b[0m\u001b[0;34m\u001b[0m\u001b[0m\n\u001b[0;32m--> 878\u001b[0;31m       results = tracing_compilation.call_function(\n\u001b[0m\u001b[1;32m    879\u001b[0m           \u001b[0margs\u001b[0m\u001b[0;34m,\u001b[0m \u001b[0mkwds\u001b[0m\u001b[0;34m,\u001b[0m \u001b[0mself\u001b[0m\u001b[0;34m.\u001b[0m\u001b[0m_variable_creation_config\u001b[0m\u001b[0;34m\u001b[0m\u001b[0;34m\u001b[0m\u001b[0m\n\u001b[1;32m    880\u001b[0m       )\n",
            "\u001b[0;32m/usr/local/lib/python3.10/dist-packages/tensorflow/python/eager/polymorphic_function/tracing_compilation.py\u001b[0m in \u001b[0;36mcall_function\u001b[0;34m(args, kwargs, tracing_options)\u001b[0m\n\u001b[1;32m    137\u001b[0m   \u001b[0mbound_args\u001b[0m \u001b[0;34m=\u001b[0m \u001b[0mfunction\u001b[0m\u001b[0;34m.\u001b[0m\u001b[0mfunction_type\u001b[0m\u001b[0;34m.\u001b[0m\u001b[0mbind\u001b[0m\u001b[0;34m(\u001b[0m\u001b[0;34m*\u001b[0m\u001b[0margs\u001b[0m\u001b[0;34m,\u001b[0m \u001b[0;34m**\u001b[0m\u001b[0mkwargs\u001b[0m\u001b[0;34m)\u001b[0m\u001b[0;34m\u001b[0m\u001b[0;34m\u001b[0m\u001b[0m\n\u001b[1;32m    138\u001b[0m   \u001b[0mflat_inputs\u001b[0m \u001b[0;34m=\u001b[0m \u001b[0mfunction\u001b[0m\u001b[0;34m.\u001b[0m\u001b[0mfunction_type\u001b[0m\u001b[0;34m.\u001b[0m\u001b[0munpack_inputs\u001b[0m\u001b[0;34m(\u001b[0m\u001b[0mbound_args\u001b[0m\u001b[0;34m)\u001b[0m\u001b[0;34m\u001b[0m\u001b[0;34m\u001b[0m\u001b[0m\n\u001b[0;32m--> 139\u001b[0;31m   return function._call_flat(  # pylint: disable=protected-access\n\u001b[0m\u001b[1;32m    140\u001b[0m       \u001b[0mflat_inputs\u001b[0m\u001b[0;34m,\u001b[0m \u001b[0mcaptured_inputs\u001b[0m\u001b[0;34m=\u001b[0m\u001b[0mfunction\u001b[0m\u001b[0;34m.\u001b[0m\u001b[0mcaptured_inputs\u001b[0m\u001b[0;34m\u001b[0m\u001b[0;34m\u001b[0m\u001b[0m\n\u001b[1;32m    141\u001b[0m   )\n",
            "\u001b[0;32m/usr/local/lib/python3.10/dist-packages/tensorflow/python/eager/polymorphic_function/concrete_function.py\u001b[0m in \u001b[0;36m_call_flat\u001b[0;34m(self, tensor_inputs, captured_inputs)\u001b[0m\n\u001b[1;32m   1320\u001b[0m         and executing_eagerly):\n\u001b[1;32m   1321\u001b[0m       \u001b[0;31m# No tape is watching; skip to running the function.\u001b[0m\u001b[0;34m\u001b[0m\u001b[0;34m\u001b[0m\u001b[0m\n\u001b[0;32m-> 1322\u001b[0;31m       \u001b[0;32mreturn\u001b[0m \u001b[0mself\u001b[0m\u001b[0;34m.\u001b[0m\u001b[0m_inference_function\u001b[0m\u001b[0;34m.\u001b[0m\u001b[0mcall_preflattened\u001b[0m\u001b[0;34m(\u001b[0m\u001b[0margs\u001b[0m\u001b[0;34m)\u001b[0m\u001b[0;34m\u001b[0m\u001b[0;34m\u001b[0m\u001b[0m\n\u001b[0m\u001b[1;32m   1323\u001b[0m     forward_backward = self._select_forward_and_backward_functions(\n\u001b[1;32m   1324\u001b[0m         \u001b[0margs\u001b[0m\u001b[0;34m,\u001b[0m\u001b[0;34m\u001b[0m\u001b[0;34m\u001b[0m\u001b[0m\n",
            "\u001b[0;32m/usr/local/lib/python3.10/dist-packages/tensorflow/python/eager/polymorphic_function/atomic_function.py\u001b[0m in \u001b[0;36mcall_preflattened\u001b[0;34m(self, args)\u001b[0m\n\u001b[1;32m    214\u001b[0m   \u001b[0;32mdef\u001b[0m \u001b[0mcall_preflattened\u001b[0m\u001b[0;34m(\u001b[0m\u001b[0mself\u001b[0m\u001b[0;34m,\u001b[0m \u001b[0margs\u001b[0m\u001b[0;34m:\u001b[0m \u001b[0mSequence\u001b[0m\u001b[0;34m[\u001b[0m\u001b[0mcore\u001b[0m\u001b[0;34m.\u001b[0m\u001b[0mTensor\u001b[0m\u001b[0;34m]\u001b[0m\u001b[0;34m)\u001b[0m \u001b[0;34m->\u001b[0m \u001b[0mAny\u001b[0m\u001b[0;34m:\u001b[0m\u001b[0;34m\u001b[0m\u001b[0;34m\u001b[0m\u001b[0m\n\u001b[1;32m    215\u001b[0m     \u001b[0;34m\"\"\"Calls with flattened tensor inputs and returns the structured output.\"\"\"\u001b[0m\u001b[0;34m\u001b[0m\u001b[0;34m\u001b[0m\u001b[0m\n\u001b[0;32m--> 216\u001b[0;31m     \u001b[0mflat_outputs\u001b[0m \u001b[0;34m=\u001b[0m \u001b[0mself\u001b[0m\u001b[0;34m.\u001b[0m\u001b[0mcall_flat\u001b[0m\u001b[0;34m(\u001b[0m\u001b[0;34m*\u001b[0m\u001b[0margs\u001b[0m\u001b[0;34m)\u001b[0m\u001b[0;34m\u001b[0m\u001b[0;34m\u001b[0m\u001b[0m\n\u001b[0m\u001b[1;32m    217\u001b[0m     \u001b[0;32mreturn\u001b[0m \u001b[0mself\u001b[0m\u001b[0;34m.\u001b[0m\u001b[0mfunction_type\u001b[0m\u001b[0;34m.\u001b[0m\u001b[0mpack_output\u001b[0m\u001b[0;34m(\u001b[0m\u001b[0mflat_outputs\u001b[0m\u001b[0;34m)\u001b[0m\u001b[0;34m\u001b[0m\u001b[0;34m\u001b[0m\u001b[0m\n\u001b[1;32m    218\u001b[0m \u001b[0;34m\u001b[0m\u001b[0m\n",
            "\u001b[0;32m/usr/local/lib/python3.10/dist-packages/tensorflow/python/eager/polymorphic_function/atomic_function.py\u001b[0m in \u001b[0;36mcall_flat\u001b[0;34m(self, *args)\u001b[0m\n\u001b[1;32m    249\u001b[0m         \u001b[0;32mwith\u001b[0m \u001b[0mrecord\u001b[0m\u001b[0;34m.\u001b[0m\u001b[0mstop_recording\u001b[0m\u001b[0;34m(\u001b[0m\u001b[0;34m)\u001b[0m\u001b[0;34m:\u001b[0m\u001b[0;34m\u001b[0m\u001b[0;34m\u001b[0m\u001b[0m\n\u001b[1;32m    250\u001b[0m           \u001b[0;32mif\u001b[0m \u001b[0mself\u001b[0m\u001b[0;34m.\u001b[0m\u001b[0m_bound_context\u001b[0m\u001b[0;34m.\u001b[0m\u001b[0mexecuting_eagerly\u001b[0m\u001b[0;34m(\u001b[0m\u001b[0;34m)\u001b[0m\u001b[0;34m:\u001b[0m\u001b[0;34m\u001b[0m\u001b[0;34m\u001b[0m\u001b[0m\n\u001b[0;32m--> 251\u001b[0;31m             outputs = self._bound_context.call_function(\n\u001b[0m\u001b[1;32m    252\u001b[0m                 \u001b[0mself\u001b[0m\u001b[0;34m.\u001b[0m\u001b[0mname\u001b[0m\u001b[0;34m,\u001b[0m\u001b[0;34m\u001b[0m\u001b[0;34m\u001b[0m\u001b[0m\n\u001b[1;32m    253\u001b[0m                 \u001b[0mlist\u001b[0m\u001b[0;34m(\u001b[0m\u001b[0margs\u001b[0m\u001b[0;34m)\u001b[0m\u001b[0;34m,\u001b[0m\u001b[0;34m\u001b[0m\u001b[0;34m\u001b[0m\u001b[0m\n",
            "\u001b[0;32m/usr/local/lib/python3.10/dist-packages/tensorflow/python/eager/context.py\u001b[0m in \u001b[0;36mcall_function\u001b[0;34m(self, name, tensor_inputs, num_outputs)\u001b[0m\n\u001b[1;32m   1550\u001b[0m     \u001b[0mcancellation_context\u001b[0m \u001b[0;34m=\u001b[0m \u001b[0mcancellation\u001b[0m\u001b[0;34m.\u001b[0m\u001b[0mcontext\u001b[0m\u001b[0;34m(\u001b[0m\u001b[0;34m)\u001b[0m\u001b[0;34m\u001b[0m\u001b[0;34m\u001b[0m\u001b[0m\n\u001b[1;32m   1551\u001b[0m     \u001b[0;32mif\u001b[0m \u001b[0mcancellation_context\u001b[0m \u001b[0;32mis\u001b[0m \u001b[0;32mNone\u001b[0m\u001b[0;34m:\u001b[0m\u001b[0;34m\u001b[0m\u001b[0;34m\u001b[0m\u001b[0m\n\u001b[0;32m-> 1552\u001b[0;31m       outputs = execute.execute(\n\u001b[0m\u001b[1;32m   1553\u001b[0m           \u001b[0mname\u001b[0m\u001b[0;34m.\u001b[0m\u001b[0mdecode\u001b[0m\u001b[0;34m(\u001b[0m\u001b[0;34m\"utf-8\"\u001b[0m\u001b[0;34m)\u001b[0m\u001b[0;34m,\u001b[0m\u001b[0;34m\u001b[0m\u001b[0;34m\u001b[0m\u001b[0m\n\u001b[1;32m   1554\u001b[0m           \u001b[0mnum_outputs\u001b[0m\u001b[0;34m=\u001b[0m\u001b[0mnum_outputs\u001b[0m\u001b[0;34m,\u001b[0m\u001b[0;34m\u001b[0m\u001b[0;34m\u001b[0m\u001b[0m\n",
            "\u001b[0;32m/usr/local/lib/python3.10/dist-packages/tensorflow/python/eager/execute.py\u001b[0m in \u001b[0;36mquick_execute\u001b[0;34m(op_name, num_outputs, inputs, attrs, ctx, name)\u001b[0m\n\u001b[1;32m     51\u001b[0m   \u001b[0;32mtry\u001b[0m\u001b[0;34m:\u001b[0m\u001b[0;34m\u001b[0m\u001b[0;34m\u001b[0m\u001b[0m\n\u001b[1;32m     52\u001b[0m     \u001b[0mctx\u001b[0m\u001b[0;34m.\u001b[0m\u001b[0mensure_initialized\u001b[0m\u001b[0;34m(\u001b[0m\u001b[0;34m)\u001b[0m\u001b[0;34m\u001b[0m\u001b[0;34m\u001b[0m\u001b[0m\n\u001b[0;32m---> 53\u001b[0;31m     tensors = pywrap_tfe.TFE_Py_Execute(ctx._handle, device_name, op_name,\n\u001b[0m\u001b[1;32m     54\u001b[0m                                         inputs, attrs, num_outputs)\n\u001b[1;32m     55\u001b[0m   \u001b[0;32mexcept\u001b[0m \u001b[0mcore\u001b[0m\u001b[0;34m.\u001b[0m\u001b[0m_NotOkStatusException\u001b[0m \u001b[0;32mas\u001b[0m \u001b[0me\u001b[0m\u001b[0;34m:\u001b[0m\u001b[0;34m\u001b[0m\u001b[0;34m\u001b[0m\u001b[0m\n",
            "\u001b[0;31mKeyboardInterrupt\u001b[0m: "
          ]
        }
      ],
      "source": [
        "# Perform the search\n",
        "tuner.search(x_train, y_train, epochs=10, validation_data=(x_val, y_val))\n",
        "\n",
        "# Retrieve the best model\n",
        "best_model = tuner.get_best_models(num_models=1)[0]\n",
        "\n",
        "# Evaluate the best model\n",
        "test_loss, test_accuracy = best_model.evaluate(x_test, y_test)\n",
        "print(f\"Best model test accuracy: {test_accuracy * 100:.2f}%\")"
      ]
    },
    {
      "cell_type": "markdown",
      "metadata": {
        "id": "YvV1sdf_GTrN"
      },
      "source": [
        "# Pytorch"
      ]
    },
    {
      "cell_type": "markdown",
      "metadata": {
        "id": "JrKXefZ4x0zk"
      },
      "source": [
        "Pytorch loads its data a little differently - instead of directly inputting the data, we can use a \"DataLoader\" that will automatically batch, sample, and shuffle our data. In the below example, we've set the batch size to 64 and chosen to shuffle the training data, but not the test data since no training is being done and the order of the samples won't affect the results."
      ]
    },
    {
      "cell_type": "code",
      "execution_count": null,
      "metadata": {
        "id": "SXovRSqeGUc9"
      },
      "outputs": [],
      "source": [
        "import torch\n",
        "import torch.nn as nn\n",
        "import torch.optim as optim\n",
        "from torchvision import datasets, transforms\n",
        "from torch.utils.data import DataLoader\n",
        "\n",
        "# Define transformations for the MNIST dataset\n",
        "transform = transforms.Compose([\n",
        "    transforms.ToTensor(),\n",
        "    transforms.Normalize((0.5,), (0.5,))  # Normalize the images\n",
        "])\n",
        "\n",
        "# Load the MNIST dataset\n",
        "train_dataset = datasets.MNIST(root='./data', train=True, download=True, transform=transform)\n",
        "test_dataset = datasets.MNIST(root='./data', train=False, download=True, transform=transform)\n",
        "train_loader = DataLoader(train_dataset, batch_size=64, shuffle=True)\n",
        "test_loader = DataLoader(test_dataset, batch_size=64, shuffle=False)"
      ]
    },
    {
      "cell_type": "markdown",
      "metadata": {
        "id": "XVzEL9k0MvnY"
      },
      "source": [
        "## Building the Architecture\n",
        "\n",
        "In pytorch, you create the architecture by extending from a basic nn.Module class. You can then define the initial architecture in the \"initialization\" section, then define the activations in the \"forward\" function."
      ]
    },
    {
      "cell_type": "code",
      "execution_count": null,
      "metadata": {
        "id": "-GDd4MQ3MxKg"
      },
      "outputs": [],
      "source": [
        "# Define the neural network model\n",
        "class SimpleNN(nn.Module):\n",
        "    def __init__(self):\n",
        "        super(SimpleNN, self).__init__()\n",
        "        self.flatten = nn.Flatten()\n",
        "        self.fc1 = nn.Linear(28 * 28, 128)  # First hidden layer\n",
        "        self.fc2 = nn.Linear(128, 64)       # Second hidden layer\n",
        "        self.fc3 = nn.Linear(64, 10)        # Output layer\n",
        "\n",
        "    def forward(self, x):\n",
        "        x = self.flatten(x)\n",
        "        x = torch.relu(self.fc1(x))\n",
        "        x = torch.relu(self.fc2(x))\n",
        "        x = self.fc3(x)  # No activation here because CrossEntropyLoss expects raw logits\n",
        "        return x\n"
      ]
    },
    {
      "cell_type": "markdown",
      "metadata": {
        "id": "dJvOf86XM0AA"
      },
      "source": [
        "## Creating the model and defining the loss and optimization\n",
        "\n",
        "Just like before, once the architecture is set we can select the [loss function](https://pytorch.org/docs/stable/nn.html#loss-functions) and [optimizer](https://pytorch.org/docs/stable/optim.html) we want to use, as well as set the learning rate for that optimizer."
      ]
    },
    {
      "cell_type": "code",
      "execution_count": null,
      "metadata": {
        "id": "U_EoDs5BMACM"
      },
      "outputs": [],
      "source": [
        "# Instantiate the model, define the loss function and the optimizer\n",
        "model = SimpleNN()\n",
        "criterion = nn.CrossEntropyLoss()\n",
        "optimizer = optim.Adam(model.parameters(), lr=0.001)\n"
      ]
    },
    {
      "cell_type": "markdown",
      "metadata": {
        "id": "5uISd9e6NPtM"
      },
      "source": [
        "## Training the model - method 1"
      ]
    },
    {
      "cell_type": "code",
      "execution_count": null,
      "metadata": {
        "colab": {
          "base_uri": "https://localhost:8080/"
        },
        "id": "3hGJ3nu3NQcK",
        "outputId": "fbb7e260-c69e-440d-8df8-b8370dcccf19"
      },
      "outputs": [
        {
          "name": "stdout",
          "output_type": "stream",
          "text": [
            "Epoch 1/5, Loss: 0.4039\n",
            "Epoch 2/5, Loss: 0.1980\n",
            "Epoch 3/5, Loss: 0.1468\n",
            "Epoch 4/5, Loss: 0.1175\n",
            "Epoch 5/5, Loss: 0.1005\n"
          ]
        }
      ],
      "source": [
        "# Training loop\n",
        "epochs = 5\n",
        "for epoch in range(epochs):\n",
        "    model.train()  # Set the model to training mode\n",
        "    running_loss = 0.0\n",
        "    for images, labels in train_loader:\n",
        "        optimizer.zero_grad()         # Zero the gradients\n",
        "        outputs = model(images)       # Forward pass\n",
        "        loss = criterion(outputs, labels)  # Calculate the loss\n",
        "        loss.backward()               # Backpropagation\n",
        "        optimizer.step()              # Update the weights\n",
        "\n",
        "        running_loss += loss.item()\n",
        "\n",
        "    print(f\"Epoch {epoch+1}/{epochs}, Loss: {running_loss/len(train_loader):.4f}\")"
      ]
    },
    {
      "cell_type": "code",
      "execution_count": null,
      "metadata": {
        "colab": {
          "base_uri": "https://localhost:8080/"
        },
        "id": "QUu8p0mINc-L",
        "outputId": "59bb1363-68a9-44a5-e511-3eebdb10327a"
      },
      "outputs": [
        {
          "name": "stdout",
          "output_type": "stream",
          "text": [
            "Test Accuracy: 96.20%\n"
          ]
        }
      ],
      "source": [
        "# Evaluation loop\n",
        "model.eval()  # Set the model to evaluation mode\n",
        "correct = 0\n",
        "total = 0\n",
        "with torch.no_grad():  # No need to track gradients during evaluation\n",
        "    for images, labels in test_loader:\n",
        "        outputs = model(images)\n",
        "        _, predicted = torch.max(outputs, 1) # Creates predictions by selecting the output with the maximum softmax value\n",
        "        total += labels.size(0)\n",
        "        correct += (predicted == labels).sum().item()\n",
        "\n",
        "accuracy = 100 * correct / total\n",
        "print(f\"Test Accuracy: {accuracy:.2f}%\")"
      ]
    },
    {
      "cell_type": "markdown",
      "metadata": {
        "id": "lWJrLlyF1bk6"
      },
      "source": [
        "### Training the model method 2 - creating test and training functions\n",
        "\n",
        "You can make the code a bit more modular by creating functions for the train and evaluation functions. This also makes the code a little easier to read."
      ]
    },
    {
      "cell_type": "code",
      "execution_count": null,
      "metadata": {
        "id": "T3a-y_Z71faL"
      },
      "outputs": [],
      "source": [
        "# Define training function\n",
        "def train(model, loader, criterion, optimizer):\n",
        "    model.train()\n",
        "    running_loss = 0.0\n",
        "    correct = 0\n",
        "    total = 0\n",
        "\n",
        "    for X_batch, y_batch in loader:\n",
        "        optimizer.zero_grad()               # Zero the gradients\n",
        "        outputs = model(X_batch)            # Forward pass\n",
        "        loss = criterion(outputs, y_batch)  # Calculate the loss\n",
        "        loss.backward()                     # Backpropagation\n",
        "        optimizer.step()                    # Update the weights\n",
        "\n",
        "        running_loss += loss.item()\n",
        "        _, predictions = torch.max(outputs, 1)            # Predict output\n",
        "        correct += (predictions == y_batch).sum().item()  # Calculate the number of correct outputs\n",
        "        total += y_batch.size(0)                          # Calculats the number of samples processed across all batches\n",
        "\n",
        "    accuracy = 100 * correct / total\n",
        "    avg_loss = running_loss / len(loader)\n",
        "    return avg_loss, accuracy"
      ]
    },
    {
      "cell_type": "markdown",
      "metadata": {
        "id": "zAyvuSqS2dEq"
      },
      "source": [
        "This might also make it a bit easier to add in other performance metrics"
      ]
    },
    {
      "cell_type": "code",
      "execution_count": null,
      "metadata": {
        "id": "ehG4C-BS2jnj"
      },
      "outputs": [],
      "source": [
        "from sklearn.metrics import accuracy_score, precision_score, recall_score, f1_score\n",
        "\n",
        "# Define evaluation function\n",
        "def evaluate(model, loader):\n",
        "    model.eval()\n",
        "    correct = 0\n",
        "    total = 0\n",
        "    y_true = []\n",
        "    y_pred = []\n",
        "    with torch.no_grad(): # No need to track gradients during evaluation\n",
        "        for X_batch, y_batch in loader: # For each x and y in the loader\n",
        "            outputs = model(X_batch)    # forward pass to create outputs\n",
        "            _, predictions = torch.max(outputs, 1) # Make a prediction\n",
        "            y_true.extend(y_batch.tolist())  # Add the batch's true values to the y_true list\n",
        "            y_pred.extend(predictions.tolist()) # Add the predictions to the predictin list\n",
        "            correct += (predictions == y_batch).sum().item()  # Calculate the number of true values\n",
        "            total += y_batch.size(0)  # Sum up the total number of points in the batch\n",
        "\n",
        "    # You can then get the current epoch's training metrics using all of the true and predicted values\n",
        "    accuracy = 100 * correct / total\n",
        "    precision = precision_score(y_true, y_pred, average='weighted')\n",
        "    recall = recall_score(y_true, y_pred, average='weighted')\n",
        "    f1 = f1_score(y_true, y_pred, average='weighted')\n",
        "    return accuracy, precision, recall, f1"
      ]
    },
    {
      "cell_type": "markdown",
      "metadata": {
        "id": "7lvwV87s2mvc"
      },
      "source": [
        "Once you have your metrics, you can then perform the training and evaluation per epoch much easier."
      ]
    },
    {
      "cell_type": "code",
      "execution_count": null,
      "metadata": {
        "colab": {
          "base_uri": "https://localhost:8080/"
        },
        "id": "vHWZoiKm2njy",
        "outputId": "ffd85bfe-cc8c-4af3-c9b7-43403f956bfa"
      },
      "outputs": [
        {
          "name": "stdout",
          "output_type": "stream",
          "text": [
            "Epoch 1/5, Train Loss: 0.4062, Train Accuracy: 88.00%, Val Accuracy: 92.38%, Precision: 0.93, Recall: 0.92, F1: 0.92\n",
            "Epoch 2/5, Train Loss: 0.1968, Train Accuracy: 94.14%, Val Accuracy: 95.20%, Precision: 0.95, Recall: 0.95, F1: 0.95\n",
            "Epoch 3/5, Train Loss: 0.1435, Train Accuracy: 95.69%, Val Accuracy: 95.93%, Precision: 0.96, Recall: 0.96, F1: 0.96\n",
            "Epoch 4/5, Train Loss: 0.1175, Train Accuracy: 96.34%, Val Accuracy: 96.27%, Precision: 0.96, Recall: 0.96, F1: 0.96\n",
            "Epoch 5/5, Train Loss: 0.1000, Train Accuracy: 96.85%, Val Accuracy: 96.37%, Precision: 0.96, Recall: 0.96, F1: 0.96\n"
          ]
        }
      ],
      "source": [
        "# Track metrics\n",
        "train_losses = []\n",
        "train_accuracies = []\n",
        "val_accuracies = []\n",
        "\n",
        "# Training and evaluation loop\n",
        "epochs = 5\n",
        "for epoch in range(epochs):\n",
        "    train_loss, train_accuracy = train(model, train_loader, criterion, optimizer)\n",
        "    val_accuracy, val_precision, val_recall, val_f1 = evaluate(model, test_loader)\n",
        "\n",
        "    # Append this epoch's losses and accuracies to the list\n",
        "    train_losses.append(train_loss)\n",
        "    train_accuracies.append(train_accuracy)\n",
        "    val_accuracies.append(val_accuracy)\n",
        "\n",
        "    print(f\"Epoch {epoch+1}/{epochs}, \"\n",
        "          f\"Train Loss: {train_loss:.4f}, Train Accuracy: {train_accuracy:.2f}%, \"\n",
        "          f\"Val Accuracy: {val_accuracy:.2f}%, \"\n",
        "          f\"Precision: {val_precision:.2f}, Recall: {val_recall:.2f}, F1: {val_f1:.2f}\")\n"
      ]
    },
    {
      "cell_type": "markdown",
      "metadata": {
        "id": "B_MHurol272E"
      },
      "source": [
        "## Plotting the training"
      ]
    },
    {
      "cell_type": "code",
      "execution_count": null,
      "metadata": {
        "colab": {
          "base_uri": "https://localhost:8080/",
          "height": 472
        },
        "id": "9URVd7Us3Ebk",
        "outputId": "a69f7b5a-a8d4-4140-d703-86f4a737a73a"
      },
      "outputs": [
        {
          "data": {
            "image/png": "[encoded data removed]",
            "text/plain": [
              "<Figure size 640x480 with 1 Axes>"
            ]
          },
          "metadata": {},
          "output_type": "display_data"
        }
      ],
      "source": [
        "# Plot training and validation accuracy over epochs\n",
        "plt.plot(train_accuracies, label='Train Accuracy')\n",
        "plt.plot(val_accuracies, label='Validation Accuracy')\n",
        "plt.xlabel('Epoch')\n",
        "plt.ylabel('Accuracy')\n",
        "plt.title('Accuracy over Epochs')\n",
        "plt.legend()\n",
        "plt.show()"
      ]
    },
    {
      "cell_type": "markdown",
      "metadata": {
        "id": "-2sF2gCNyfJc"
      },
      "source": [
        "## Using tabular data\n",
        "\n",
        "Just as an extra - for tabular data, the process is largely the same, you just have to ensure that you're converting your data into tensors prior to creating the data loaders. Also the output here is a sigmoid activation for binary classification, not softmax"
      ]
    },
    {
      "cell_type": "code",
      "execution_count": null,
      "metadata": {
        "id": "uh137tmQNooT"
      },
      "outputs": [],
      "source": [
        "import torch\n",
        "import torch.nn as nn\n",
        "import torch.optim as optim\n",
        "from sklearn.datasets import make_classification\n",
        "from sklearn.model_selection import train_test_split\n",
        "from sklearn.preprocessing import StandardScaler\n",
        "from sklearn.metrics import accuracy_score, precision_score, recall_score, f1_score\n",
        "from torch.utils.data import DataLoader, TensorDataset\n",
        "import matplotlib.pyplot as plt\n",
        "\n",
        "# Generate a synthetic dataset\n",
        "X, y = make_classification(n_samples=1000, n_features=20, n_classes=2, random_state=42)\n",
        "\n",
        "# Split into train and test sets\n",
        "X_train, X_test, y_train, y_test = train_test_split(X, y, test_size=0.2, random_state=42)\n",
        "\n",
        "# Standardize features\n",
        "scaler = StandardScaler()\n",
        "X_train = scaler.fit_transform(X_train)\n",
        "X_test = scaler.transform(X_test)\n",
        "\n",
        "# Convert to PyTorch tensors\n",
        "X_train_tensor = torch.tensor(X_train, dtype=torch.float32)\n",
        "y_train_tensor = torch.tensor(y_train, dtype=torch.long)\n",
        "X_test_tensor = torch.tensor(X_test, dtype=torch.float32)\n",
        "y_test_tensor = torch.tensor(y_test, dtype=torch.long)\n",
        "\n",
        "# Create DataLoader for training and testing\n",
        "train_dataset = TensorDataset(X_train_tensor, y_train_tensor)\n",
        "test_dataset = TensorDataset(X_test_tensor, y_test_tensor)\n",
        "train_loader = DataLoader(train_dataset, batch_size=32, shuffle=True)\n",
        "test_loader = DataLoader(test_dataset, batch_size=32, shuffle=False)\n",
        "\n",
        "# Define a simple feedforward neural network for tabular data\n",
        "class TabularNN(nn.Module):\n",
        "    def __init__(self, input_dim):\n",
        "        super(TabularNN, self).__init__()\n",
        "        self.fc1 = nn.Linear(input_dim, 64)\n",
        "        self.fc2 = nn.Linear(64, 32)\n",
        "        self.fc3 = nn.Linear(32, 1)\n",
        "\n",
        "    def forward(self, x):\n",
        "        x = torch.relu(self.fc1(x))\n",
        "        x = torch.relu(self.fc2(x))\n",
        "        x = torch.sigmoid(self.fc3(x))\n",
        "        return x\n",
        "\n",
        "# Instantiate the model, define loss function and optimizer\n",
        "model = TabularNN(input_dim=X_train.shape[1])\n",
        "criterion = nn.BCELoss()\n",
        "optimizer = optim.Adam(model.parameters(), lr=0.001)\n",
        "\n",
        "# Define training function\n",
        "def train(model, loader, criterion, optimizer):\n",
        "    model.train()\n",
        "    running_loss = 0.0\n",
        "    correct = 0\n",
        "    total = 0\n",
        "\n",
        "    for X_batch, y_batch in loader:\n",
        "        optimizer.zero_grad()\n",
        "        outputs = model(X_batch).squeeze()          # Forward pass\n",
        "        loss = criterion(outputs, y_batch.float())  # Calculate the loss\n",
        "        loss.backward()                             # Backprop\n",
        "        optimizer.step()                            # Update the gradients\n",
        "\n",
        "        running_loss += loss.item()\n",
        "        predictions = (outputs > 0.5).long()\n",
        "        correct += (predictions == y_batch).sum().item()\n",
        "        total += y_batch.size(0)\n",
        "\n",
        "    accuracy = 100 * correct / total\n",
        "    avg_loss = running_loss / len(loader)\n",
        "    return avg_loss, accuracy\n",
        "\n",
        "# Define evaluation function\n",
        "def evaluate(model, loader):\n",
        "    model.eval()                                    # Set to evaluation mode\n",
        "    correct = 0\n",
        "    total = 0\n",
        "    y_true = []\n",
        "    y_pred = []\n",
        "    with torch.no_grad():                           # Do not update gradients\n",
        "        for X_batch, y_batch in loader:\n",
        "            outputs = model(X_batch).squeeze()      # Calculate outputs\n",
        "            predictions = (outputs > 0.5).long()    # Convert to predictions\n",
        "            y_true.extend(y_batch.tolist())\n",
        "            y_pred.extend(predictions.tolist())\n",
        "            correct += (predictions == y_batch).sum().item()\n",
        "            total += y_batch.size(0)\n",
        "\n",
        "    accuracy = 100 * correct / total\n",
        "    precision = precision_score(y_true, y_pred)\n",
        "    recall = recall_score(y_true, y_pred)\n",
        "    f1 = f1_score(y_true, y_pred)\n",
        "    return accuracy, precision, recall, f1\n",
        "\n",
        "# Track training and validation metrics\n",
        "train_losses = []\n",
        "train_accuracies = []\n",
        "val_accuracies = []\n",
        "\n",
        "# Training and evaluation loop\n",
        "epochs = 20\n",
        "for epoch in range(epochs):\n",
        "    train_loss, train_accuracy = train(model, train_loader, criterion, optimizer)\n",
        "    val_accuracy, val_precision, val_recall, val_f1 = evaluate(model, test_loader)\n",
        "\n",
        "    train_losses.append(train_loss)\n",
        "    train_accuracies.append(train_accuracy)\n",
        "    val_accuracies.append(val_accuracy)\n",
        "\n",
        "    print(f\"Epoch {epoch+1}/{epochs}, \"\n",
        "          f\"Train Loss: {train_loss:.4f}, Train Accuracy: {train_accuracy:.2f}%, \"\n",
        "          f\"Val Accuracy: {val_accuracy:.2f}%, \"\n",
        "          f\"Precision: {val_precision:.2f}, Recall: {val_recall:.2f}, F1: {val_f1:.2f}\")\n",
        "\n",
        "# Plot training and validation accuracy over epochs\n",
        "plt.plot(train_accuracies, label='Train Accuracy')\n",
        "plt.plot(val_accuracies, label='Validation Accuracy')\n",
        "plt.xlabel('Epoch')\n",
        "plt.ylabel('Accuracy')\n",
        "plt.title('Accuracy over Epochs')\n",
        "plt.legend()\n",
        "plt.show()\n",
        "\n",
        "# Plot training loss over epochs\n",
        "plt.plot(train_losses, label='Train Loss')\n",
        "plt.xlabel('Epoch')\n",
        "plt.ylabel('Loss')\n",
        "plt.title('Training Loss over Epochs')\n",
        "plt.legend()\n",
        "plt.show()\n"
      ]
    },
    {
      "cell_type": "markdown",
      "metadata": {
        "id": "l4-FQ-tofsGU"
      },
      "source": [
        "## Hyperparameter Tuning with Ray Tune\n",
        "\n",
        "There's a few different methods for performing hyperparameter tuning on pytorch models. [Ray Tune](https://pytorch.org/tutorials/beginner/hyperparameter_tuning_tutorial.html) seems to be one the developers recommend"
      ]
    },
    {
      "cell_type": "code",
      "execution_count": null,
      "metadata": {
        "colab": {
          "base_uri": "https://localhost:8080/"
        },
        "id": "J_qIzwEYgikJ",
        "outputId": "4e261adf-4b8c-4bad-d1eb-55a196b54f3f"
      },
      "outputs": [
        {
          "name": "stdout",
          "output_type": "stream",
          "text": [
            "Collecting ray\n",
            "  Downloading ray-2.39.0-cp310-cp310-manylinux2014_x86_64.whl.metadata (17 kB)\n",
            "Requirement already satisfied: click>=7.0 in /usr/local/lib/python3.10/dist-packages (from ray) (8.1.7)\n",
            "Requirement already satisfied: filelock in /usr/local/lib/python3.10/dist-packages (from ray) (3.16.1)\n",
            "Requirement already satisfied: jsonschema in /usr/local/lib/python3.10/dist-packages (from ray) (4.23.0)\n",
            "Requirement already satisfied: msgpack<2.0.0,>=1.0.0 in /usr/local/lib/python3.10/dist-packages (from ray) (1.1.0)\n",
            "Requirement already satisfied: packaging in /usr/local/lib/python3.10/dist-packages (from ray) (24.2)\n",
            "Requirement already satisfied: protobuf!=3.19.5,>=3.15.3 in /usr/local/lib/python3.10/dist-packages (from ray) (4.25.5)\n",
            "Requirement already satisfied: pyyaml in /usr/local/lib/python3.10/dist-packages (from ray) (6.0.2)\n",
            "Requirement already satisfied: aiosignal in /usr/local/lib/python3.10/dist-packages (from ray) (1.3.1)\n",
            "Requirement already satisfied: frozenlist in /usr/local/lib/python3.10/dist-packages (from ray) (1.5.0)\n",
            "Requirement already satisfied: requests in /usr/local/lib/python3.10/dist-packages (from ray) (2.32.3)\n",
            "Requirement already satisfied: attrs>=22.2.0 in /usr/local/lib/python3.10/dist-packages (from jsonschema->ray) (24.2.0)\n",
            "Requirement already satisfied: jsonschema-specifications>=2023.03.6 in /usr/local/lib/python3.10/dist-packages (from jsonschema->ray) (2024.10.1)\n",
            "Requirement already satisfied: referencing>=0.28.4 in /usr/local/lib/python3.10/dist-packages (from jsonschema->ray) (0.35.1)\n",
            "Requirement already satisfied: rpds-py>=0.7.1 in /usr/local/lib/python3.10/dist-packages (from jsonschema->ray) (0.21.0)\n",
            "Requirement already satisfied: charset-normalizer<4,>=2 in /usr/local/lib/python3.10/dist-packages (from requests->ray) (3.4.0)\n",
            "Requirement already satisfied: idna<4,>=2.5 in /usr/local/lib/python3.10/dist-packages (from requests->ray) (3.10)\n",
            "Requirement already satisfied: urllib3<3,>=1.21.1 in /usr/local/lib/python3.10/dist-packages (from requests->ray) (2.2.3)\n",
            "Requirement already satisfied: certifi>=2017.4.17 in /usr/local/lib/python3.10/dist-packages (from requests->ray) (2024.8.30)\n",
            "Downloading ray-2.39.0-cp310-cp310-manylinux2014_x86_64.whl (66.3 MB)\n",
            "\u001b[2K   \u001b[90m━━━━━━━━━━━━━━━━━━━━━━━━━━━━━━━━━━━━━━━━\u001b[0m \u001b[32m66.3/66.3 MB\u001b[0m \u001b[31m7.6 MB/s\u001b[0m eta \u001b[36m0:00:00\u001b[0m\n",
            "\u001b[?25hInstalling collected packages: ray\n",
            "Successfully installed ray-2.39.0\n"
          ]
        }
      ],
      "source": [
        "!pip install ray"
      ]
    },
    {
      "cell_type": "code",
      "execution_count": null,
      "metadata": {
        "colab": {
          "base_uri": "https://localhost:8080/",
          "height": 1000
        },
        "id": "WT_K2xYofthe",
        "outputId": "deb42ca6-ad65-4475-bb77-b9411805a037"
      },
      "outputs": [
        {
          "name": "stdout",
          "output_type": "stream",
          "text": [
            "Downloading http://yann.lecun.com/exdb/mnist/train-images-idx3-ubyte.gz\n",
            "Failed to download (trying next):\n",
            "HTTP Error 403: Forbidden\n",
            "\n",
            "Downloading https://ossci-datasets.s3.amazonaws.com/mnist/train-images-idx3-ubyte.gz\n",
            "Downloading https://ossci-datasets.s3.amazonaws.com/mnist/train-images-idx3-ubyte.gz to ./data/MNIST/raw/train-images-idx3-ubyte.gz\n"
          ]
        },
        {
          "name": "stderr",
          "output_type": "stream",
          "text": [
            "100%|██████████| 9.91M/9.91M [00:00<00:00, 17.9MB/s]\n"
          ]
        },
        {
          "name": "stdout",
          "output_type": "stream",
          "text": [
            "Extracting ./data/MNIST/raw/train-images-idx3-ubyte.gz to ./data/MNIST/raw\n",
            "\n",
            "Downloading http://yann.lecun.com/exdb/mnist/train-labels-idx1-ubyte.gz\n",
            "Failed to download (trying next):\n",
            "HTTP Error 403: Forbidden\n",
            "\n",
            "Downloading https://ossci-datasets.s3.amazonaws.com/mnist/train-labels-idx1-ubyte.gz\n",
            "Downloading https://ossci-datasets.s3.amazonaws.com/mnist/train-labels-idx1-ubyte.gz to ./data/MNIST/raw/train-labels-idx1-ubyte.gz\n"
          ]
        },
        {
          "name": "stderr",
          "output_type": "stream",
          "text": [
            "100%|██████████| 28.9k/28.9k [00:00<00:00, 574kB/s]\n"
          ]
        },
        {
          "name": "stdout",
          "output_type": "stream",
          "text": [
            "Extracting ./data/MNIST/raw/train-labels-idx1-ubyte.gz to ./data/MNIST/raw\n",
            "\n",
            "Downloading http://yann.lecun.com/exdb/mnist/t10k-images-idx3-ubyte.gz\n",
            "Failed to download (trying next):\n",
            "HTTP Error 403: Forbidden\n",
            "\n",
            "Downloading https://ossci-datasets.s3.amazonaws.com/mnist/t10k-images-idx3-ubyte.gz\n",
            "Downloading https://ossci-datasets.s3.amazonaws.com/mnist/t10k-images-idx3-ubyte.gz to ./data/MNIST/raw/t10k-images-idx3-ubyte.gz\n"
          ]
        },
        {
          "name": "stderr",
          "output_type": "stream",
          "text": [
            "100%|██████████| 1.65M/1.65M [00:00<00:00, 4.27MB/s]\n"
          ]
        },
        {
          "name": "stdout",
          "output_type": "stream",
          "text": [
            "Extracting ./data/MNIST/raw/t10k-images-idx3-ubyte.gz to ./data/MNIST/raw\n",
            "\n",
            "Downloading http://yann.lecun.com/exdb/mnist/t10k-labels-idx1-ubyte.gz\n",
            "Failed to download (trying next):\n",
            "HTTP Error 403: Forbidden\n",
            "\n",
            "Downloading https://ossci-datasets.s3.amazonaws.com/mnist/t10k-labels-idx1-ubyte.gz\n",
            "Downloading https://ossci-datasets.s3.amazonaws.com/mnist/t10k-labels-idx1-ubyte.gz to ./data/MNIST/raw/t10k-labels-idx1-ubyte.gz\n"
          ]
        },
        {
          "name": "stderr",
          "output_type": "stream",
          "text": [
            "100%|██████████| 4.54k/4.54k [00:00<00:00, 2.22MB/s]\n"
          ]
        },
        {
          "name": "stdout",
          "output_type": "stream",
          "text": [
            "Extracting ./data/MNIST/raw/t10k-labels-idx1-ubyte.gz to ./data/MNIST/raw\n",
            "\n"
          ]
        },
        {
          "name": "stderr",
          "output_type": "stream",
          "text": [
            "2024-11-13 17:12:20,684\tINFO worker.py:1819 -- Started a local Ray instance.\n",
            "2024-11-13 17:12:22,432\tINFO tune.py:253 -- Initializing Ray automatically. For cluster usage or custom Ray initialization, call `ray.init(...)` before `tune.run(...)`.\n",
            "2024-11-13 17:12:23,425\tINFO tensorboardx.py:193 -- pip install \"ray[tune]\" to see TensorBoard files.\n",
            "2024-11-13 17:12:23,427\tWARNING callback.py:136 -- The TensorboardX logger cannot be instantiated because either TensorboardX or one of it's dependencies is not installed. Please make sure you have the latest version of TensorboardX installed: `pip install -U tensorboardx`\n",
            "2024-11-13 17:12:23,434\tWARNING tune.py:902 -- AIR_VERBOSITY is set, ignoring passed-in ProgressReporter for now.\n"
          ]
        },
        {
          "name": "stdout",
          "output_type": "stream",
          "text": [
            "+--------------------------------------------------------------------+\n",
            "| Configuration for experiment     train_mnist_2024-11-13_17-12-23   |\n",
            "+--------------------------------------------------------------------+\n",
            "| Search algorithm                 BasicVariantGenerator             |\n",
            "| Scheduler                        AsyncHyperBandScheduler           |\n",
            "| Number of trials                 20                                |\n",
            "+--------------------------------------------------------------------+\n",
            "\n",
            "View detailed results here: /root/ray_results/train_mnist_2024-11-13_17-12-23\n",
            "\u001b[33m(raylet)\u001b[0m Warning: The actor ImplicitFunc is very large (91 MiB). Check that its definition is not implicitly capturing a large array or other object in scope. Tip: use ray.put() to put large objects in the Ray object store.\n",
            "\n",
            "Trial status: 20 PENDING\n",
            "Current time: 2024-11-13 17:12:47. Total running time: 23s\n",
            "Logical resource usage: 2.0/2 CPUs, 0/0 GPUs\n",
            "+------------------------------------------------------------------------------------------+\n",
            "| Trial name                status              lr     batch_size     n_layers     n_units |\n",
            "+------------------------------------------------------------------------------------------+\n",
            "| train_mnist_72e7b_00000   PENDING    0.000105659             64            2         128 |\n",
            "| train_mnist_72e7b_00001   PENDING    0.00118331              64            3         128 |\n",
            "| train_mnist_72e7b_00002   PENDING    5.91159e-05            128            2          32 |\n",
            "| train_mnist_72e7b_00003   PENDING    0.00611151              32            2         128 |\n",
            "| train_mnist_72e7b_00004   PENDING    0.00223458             128            2          32 |\n",
            "| train_mnist_72e7b_00005   PENDING    0.00289927             128            3          32 |\n",
            "| train_mnist_72e7b_00006   PENDING    0.0008884               32            1          64 |\n",
            "| train_mnist_72e7b_00007   PENDING    0.000242121            128            1          32 |\n",
            "| train_mnist_72e7b_00008   PENDING    0.00366188              64            3          32 |\n",
            "| train_mnist_72e7b_00009   PENDING    8.52954e-05             32            3          32 |\n",
            "| train_mnist_72e7b_00010   PENDING    0.00280513              32            2         128 |\n",
            "| train_mnist_72e7b_00011   PENDING    1.78921e-05             64            3         128 |\n",
            "| train_mnist_72e7b_00012   PENDING    2.09159e-05             32            1          64 |\n",
            "| train_mnist_72e7b_00013   PENDING    3.86109e-05             32            3         128 |\n",
            "| train_mnist_72e7b_00014   PENDING    0.000190781             64            2          64 |\n",
            "| train_mnist_72e7b_00015   PENDING    0.000135533            128            3         128 |\n",
            "| train_mnist_72e7b_00016   PENDING    0.000180571             32            3         128 |\n",
            "| train_mnist_72e7b_00017   PENDING    0.0004525               64            3         128 |\n",
            "| train_mnist_72e7b_00018   PENDING    5.73823e-05             32            3          32 |\n",
            "| train_mnist_72e7b_00019   PENDING    0.000175165            128            1          64 |\n",
            "+------------------------------------------------------------------------------------------+\n",
            "\n",
            "Trial train_mnist_72e7b_00000 started with configuration:\n",
            "+--------------------------------------------------+\n",
            "| Trial train_mnist_72e7b_00000 config             |\n",
            "+--------------------------------------------------+\n",
            "| batch_size                                    64 |\n",
            "| lr                                       0.00011 |\n",
            "| n_layers                                       2 |\n",
            "| n_units                                      128 |\n",
            "+--------------------------------------------------+\n",
            "\n",
            "Trial train_mnist_72e7b_00001 started with configuration:\n",
            "+--------------------------------------------------+\n",
            "| Trial train_mnist_72e7b_00001 config             |\n",
            "+--------------------------------------------------+\n",
            "| batch_size                                    64 |\n",
            "| lr                                       0.00118 |\n",
            "| n_layers                                       3 |\n",
            "| n_units                                      128 |\n",
            "+--------------------------------------------------+\n",
            "\n",
            "Trial status: 2 RUNNING | 18 PENDING\n",
            "Current time: 2024-11-13 17:13:17. Total running time: 53s\n",
            "Logical resource usage: 2.0/2 CPUs, 0/0 GPUs\n",
            "+------------------------------------------------------------------------------------------+\n",
            "| Trial name                status              lr     batch_size     n_layers     n_units |\n",
            "+------------------------------------------------------------------------------------------+\n",
            "| train_mnist_72e7b_00000   RUNNING    0.000105659             64            2         128 |\n",
            "| train_mnist_72e7b_00001   RUNNING    0.00118331              64            3         128 |\n",
            "| train_mnist_72e7b_00002   PENDING    5.91159e-05            128            2          32 |\n",
            "| train_mnist_72e7b_00003   PENDING    0.00611151              32            2         128 |\n",
            "| train_mnist_72e7b_00004   PENDING    0.00223458             128            2          32 |\n",
            "| train_mnist_72e7b_00005   PENDING    0.00289927             128            3          32 |\n",
            "| train_mnist_72e7b_00006   PENDING    0.0008884               32            1          64 |\n",
            "| train_mnist_72e7b_00007   PENDING    0.000242121            128            1          32 |\n",
            "| train_mnist_72e7b_00008   PENDING    0.00366188              64            3          32 |\n",
            "| train_mnist_72e7b_00009   PENDING    8.52954e-05             32            3          32 |\n",
            "| train_mnist_72e7b_00010   PENDING    0.00280513              32            2         128 |\n",
            "| train_mnist_72e7b_00011   PENDING    1.78921e-05             64            3         128 |\n",
            "| train_mnist_72e7b_00012   PENDING    2.09159e-05             32            1          64 |\n",
            "| train_mnist_72e7b_00013   PENDING    3.86109e-05             32            3         128 |\n",
            "| train_mnist_72e7b_00014   PENDING    0.000190781             64            2          64 |\n",
            "| train_mnist_72e7b_00015   PENDING    0.000135533            128            3         128 |\n",
            "| train_mnist_72e7b_00016   PENDING    0.000180571             32            3         128 |\n",
            "| train_mnist_72e7b_00017   PENDING    0.0004525               64            3         128 |\n",
            "| train_mnist_72e7b_00018   PENDING    5.73823e-05             32            3          32 |\n",
            "| train_mnist_72e7b_00019   PENDING    0.000175165            128            1          64 |\n",
            "+------------------------------------------------------------------------------------------+\n"
          ]
        },
        {
          "name": "stderr",
          "output_type": "stream",
          "text": [
            "2024-11-13 17:13:39,497\tERROR tune_controller.py:1331 -- Trial task failed for trial train_mnist_72e7b_00000\n",
            "Traceback (most recent call last):\n",
            "  File \"/usr/local/lib/python3.10/dist-packages/ray/air/execution/_internal/event_manager.py\", line 110, in resolve_future\n",
            "    result = ray.get(future)\n",
            "  File \"/usr/local/lib/python3.10/dist-packages/ray/_private/auto_init_hook.py\", line 21, in auto_init_wrapper\n",
            "    return fn(*args, **kwargs)\n",
            "  File \"/usr/local/lib/python3.10/dist-packages/ray/_private/client_mode_hook.py\", line 103, in wrapper\n",
            "    return func(*args, **kwargs)\n",
            "  File \"/usr/local/lib/python3.10/dist-packages/ray/_private/worker.py\", line 2753, in get\n",
            "    values, debugger_breakpoint = worker.get_objects(object_refs, timeout=timeout)\n",
            "  File \"/usr/local/lib/python3.10/dist-packages/ray/_private/worker.py\", line 904, in get_objects\n",
            "    raise value.as_instanceof_cause()\n",
            "ray.exceptions.RayTaskError(AttributeError): \u001b[36mray::ImplicitFunc.train()\u001b[39m (pid=1520, ip=172.28.0.12, actor_id=def06d423d3cc469849b045a01000000, repr=train_mnist)\n",
            "  File \"/usr/local/lib/python3.10/dist-packages/ray/tune/trainable/trainable.py\", line 331, in train\n",
            "    raise skipped from exception_cause(skipped)\n",
            "  File \"/usr/local/lib/python3.10/dist-packages/ray/air/_internal/util.py\", line 104, in run\n",
            "    self._ret = self._target(*self._args, **self._kwargs)\n",
            "  File \"/usr/local/lib/python3.10/dist-packages/ray/tune/trainable/function_trainable.py\", line 45, in <lambda>\n",
            "    training_func=lambda: self._trainable_func(self.config),\n",
            "  File \"/usr/local/lib/python3.10/dist-packages/ray/tune/trainable/function_trainable.py\", line 250, in _trainable_func\n",
            "    output = fn()\n",
            "  File \"<ipython-input-3-8222499238c3>\", line 78, in train_mnist\n",
            "AttributeError: module 'ray.tune' has no attribute 'report'\n"
          ]
        },
        {
          "name": "stdout",
          "output_type": "stream",
          "text": [
            "\n",
            "Trial train_mnist_72e7b_00000 errored after 0 iterations at 2024-11-13 17:13:39. Total running time: 1min 16s\n",
            "Error file: /tmp/ray/session_2024-11-13_17-12-15_277287_683/artifacts/2024-11-13_17-12-23/train_mnist_2024-11-13_17-12-23/driver_artifacts/train_mnist_72e7b_00000_0_batch_size=64,lr=0.0001,n_layers=2,n_units=128_2024-11-13_17-12-35/error.txt\n"
          ]
        },
        {
          "name": "stderr",
          "output_type": "stream",
          "text": [
            "2024-11-13 17:13:40,740\tERROR tune_controller.py:1331 -- Trial task failed for trial train_mnist_72e7b_00001\n",
            "Traceback (most recent call last):\n",
            "  File \"/usr/local/lib/python3.10/dist-packages/ray/air/execution/_internal/event_manager.py\", line 110, in resolve_future\n",
            "    result = ray.get(future)\n",
            "  File \"/usr/local/lib/python3.10/dist-packages/ray/_private/auto_init_hook.py\", line 21, in auto_init_wrapper\n",
            "    return fn(*args, **kwargs)\n",
            "  File \"/usr/local/lib/python3.10/dist-packages/ray/_private/client_mode_hook.py\", line 103, in wrapper\n",
            "    return func(*args, **kwargs)\n",
            "  File \"/usr/local/lib/python3.10/dist-packages/ray/_private/worker.py\", line 2753, in get\n",
            "    values, debugger_breakpoint = worker.get_objects(object_refs, timeout=timeout)\n",
            "  File \"/usr/local/lib/python3.10/dist-packages/ray/_private/worker.py\", line 904, in get_objects\n",
            "    raise value.as_instanceof_cause()\n",
            "ray.exceptions.RayTaskError(AttributeError): \u001b[36mray::ImplicitFunc.train()\u001b[39m (pid=1519, ip=172.28.0.12, actor_id=50bcd4b8854d80ea5dec5f5401000000, repr=train_mnist)\n",
            "  File \"/usr/local/lib/python3.10/dist-packages/ray/tune/trainable/trainable.py\", line 331, in train\n",
            "    raise skipped from exception_cause(skipped)\n",
            "  File \"/usr/local/lib/python3.10/dist-packages/ray/air/_internal/util.py\", line 104, in run\n",
            "    self._ret = self._target(*self._args, **self._kwargs)\n",
            "  File \"/usr/local/lib/python3.10/dist-packages/ray/tune/trainable/function_trainable.py\", line 45, in <lambda>\n",
            "    training_func=lambda: self._trainable_func(self.config),\n",
            "  File \"/usr/local/lib/python3.10/dist-packages/ray/tune/trainable/function_trainable.py\", line 250, in _trainable_func\n",
            "    output = fn()\n",
            "  File \"<ipython-input-3-8222499238c3>\", line 78, in train_mnist\n",
            "AttributeError: module 'ray.tune' has no attribute 'report'\n"
          ]
        },
        {
          "name": "stdout",
          "output_type": "stream",
          "text": [
            "\n",
            "Trial train_mnist_72e7b_00001 errored after 0 iterations at 2024-11-13 17:13:40. Total running time: 1min 17s\n",
            "Error file: /tmp/ray/session_2024-11-13_17-12-15_277287_683/artifacts/2024-11-13_17-12-23/train_mnist_2024-11-13_17-12-23/driver_artifacts/train_mnist_72e7b_00001_1_batch_size=64,lr=0.0012,n_layers=3,n_units=128_2024-11-13_17-12-36/error.txt\n",
            "\n",
            "Trial status: 2 ERROR | 18 PENDING\n",
            "Current time: 2024-11-13 17:13:47. Total running time: 1min 23s\n",
            "Logical resource usage: 2.0/2 CPUs, 0/0 GPUs\n",
            "+------------------------------------------------------------------------------------------+\n",
            "| Trial name                status              lr     batch_size     n_layers     n_units |\n",
            "+------------------------------------------------------------------------------------------+\n",
            "| train_mnist_72e7b_00002   PENDING    5.91159e-05            128            2          32 |\n",
            "| train_mnist_72e7b_00003   PENDING    0.00611151              32            2         128 |\n",
            "| train_mnist_72e7b_00004   PENDING    0.00223458             128            2          32 |\n",
            "| train_mnist_72e7b_00005   PENDING    0.00289927             128            3          32 |\n",
            "| train_mnist_72e7b_00006   PENDING    0.0008884               32            1          64 |\n",
            "| train_mnist_72e7b_00007   PENDING    0.000242121            128            1          32 |\n",
            "| train_mnist_72e7b_00008   PENDING    0.00366188              64            3          32 |\n",
            "| train_mnist_72e7b_00009   PENDING    8.52954e-05             32            3          32 |\n",
            "| train_mnist_72e7b_00010   PENDING    0.00280513              32            2         128 |\n",
            "| train_mnist_72e7b_00011   PENDING    1.78921e-05             64            3         128 |\n",
            "| train_mnist_72e7b_00012   PENDING    2.09159e-05             32            1          64 |\n",
            "| train_mnist_72e7b_00013   PENDING    3.86109e-05             32            3         128 |\n",
            "| train_mnist_72e7b_00014   PENDING    0.000190781             64            2          64 |\n",
            "| train_mnist_72e7b_00015   PENDING    0.000135533            128            3         128 |\n",
            "| train_mnist_72e7b_00016   PENDING    0.000180571             32            3         128 |\n",
            "| train_mnist_72e7b_00017   PENDING    0.0004525               64            3         128 |\n",
            "| train_mnist_72e7b_00018   PENDING    5.73823e-05             32            3          32 |\n",
            "| train_mnist_72e7b_00019   PENDING    0.000175165            128            1          64 |\n",
            "| train_mnist_72e7b_00000   ERROR      0.000105659             64            2         128 |\n",
            "| train_mnist_72e7b_00001   ERROR      0.00118331              64            3         128 |\n",
            "+------------------------------------------------------------------------------------------+\n",
            "\n",
            "Trial train_mnist_72e7b_00002 started with configuration:\n",
            "+------------------------------------------------+\n",
            "| Trial train_mnist_72e7b_00002 config           |\n",
            "+------------------------------------------------+\n",
            "| batch_size                                 128 |\n",
            "| lr                                       6e-05 |\n",
            "| n_layers                                     2 |\n",
            "| n_units                                     32 |\n",
            "+------------------------------------------------+\n",
            "\n",
            "Trial train_mnist_72e7b_00003 started with configuration:\n",
            "+--------------------------------------------------+\n",
            "| Trial train_mnist_72e7b_00003 config             |\n",
            "+--------------------------------------------------+\n",
            "| batch_size                                    32 |\n",
            "| lr                                       0.00611 |\n",
            "| n_layers                                       2 |\n",
            "| n_units                                      128 |\n",
            "+--------------------------------------------------+\n",
            "\n",
            "Trial status: 2 ERROR | 2 RUNNING | 16 PENDING\n",
            "Current time: 2024-11-13 17:14:17. Total running time: 1min 53s\n",
            "Logical resource usage: 2.0/2 CPUs, 0/0 GPUs\n",
            "+------------------------------------------------------------------------------------------+\n",
            "| Trial name                status              lr     batch_size     n_layers     n_units |\n",
            "+------------------------------------------------------------------------------------------+\n",
            "| train_mnist_72e7b_00002   RUNNING    5.91159e-05            128            2          32 |\n",
            "| train_mnist_72e7b_00003   RUNNING    0.00611151              32            2         128 |\n",
            "| train_mnist_72e7b_00004   PENDING    0.00223458             128            2          32 |\n",
            "| train_mnist_72e7b_00005   PENDING    0.00289927             128            3          32 |\n",
            "| train_mnist_72e7b_00006   PENDING    0.0008884               32            1          64 |\n",
            "| train_mnist_72e7b_00007   PENDING    0.000242121            128            1          32 |\n",
            "| train_mnist_72e7b_00008   PENDING    0.00366188              64            3          32 |\n",
            "| train_mnist_72e7b_00009   PENDING    8.52954e-05             32            3          32 |\n",
            "| train_mnist_72e7b_00010   PENDING    0.00280513              32            2         128 |\n",
            "| train_mnist_72e7b_00011   PENDING    1.78921e-05             64            3         128 |\n",
            "| train_mnist_72e7b_00012   PENDING    2.09159e-05             32            1          64 |\n",
            "| train_mnist_72e7b_00013   PENDING    3.86109e-05             32            3         128 |\n",
            "| train_mnist_72e7b_00014   PENDING    0.000190781             64            2          64 |\n",
            "| train_mnist_72e7b_00015   PENDING    0.000135533            128            3         128 |\n",
            "| train_mnist_72e7b_00016   PENDING    0.000180571             32            3         128 |\n",
            "| train_mnist_72e7b_00017   PENDING    0.0004525               64            3         128 |\n",
            "| train_mnist_72e7b_00018   PENDING    5.73823e-05             32            3          32 |\n",
            "| train_mnist_72e7b_00019   PENDING    0.000175165            128            1          64 |\n",
            "| train_mnist_72e7b_00000   ERROR      0.000105659             64            2         128 |\n",
            "| train_mnist_72e7b_00001   ERROR      0.00118331              64            3         128 |\n",
            "+------------------------------------------------------------------------------------------+\n"
          ]
        },
        {
          "name": "stderr",
          "output_type": "stream",
          "text": [
            "2024-11-13 17:14:24,271\tERROR tune_controller.py:1331 -- Trial task failed for trial train_mnist_72e7b_00002\n",
            "Traceback (most recent call last):\n",
            "  File \"/usr/local/lib/python3.10/dist-packages/ray/air/execution/_internal/event_manager.py\", line 110, in resolve_future\n",
            "    result = ray.get(future)\n",
            "  File \"/usr/local/lib/python3.10/dist-packages/ray/_private/auto_init_hook.py\", line 21, in auto_init_wrapper\n",
            "    return fn(*args, **kwargs)\n",
            "  File \"/usr/local/lib/python3.10/dist-packages/ray/_private/client_mode_hook.py\", line 103, in wrapper\n",
            "    return func(*args, **kwargs)\n",
            "  File \"/usr/local/lib/python3.10/dist-packages/ray/_private/worker.py\", line 2753, in get\n",
            "    values, debugger_breakpoint = worker.get_objects(object_refs, timeout=timeout)\n",
            "  File \"/usr/local/lib/python3.10/dist-packages/ray/_private/worker.py\", line 904, in get_objects\n",
            "    raise value.as_instanceof_cause()\n",
            "ray.exceptions.RayTaskError(AttributeError): \u001b[36mray::ImplicitFunc.train()\u001b[39m (pid=1854, ip=172.28.0.12, actor_id=aad8d3776aaa1515e09b304c01000000, repr=train_mnist)\n",
            "  File \"/usr/local/lib/python3.10/dist-packages/ray/tune/trainable/trainable.py\", line 331, in train\n",
            "    raise skipped from exception_cause(skipped)\n",
            "  File \"/usr/local/lib/python3.10/dist-packages/ray/air/_internal/util.py\", line 104, in run\n",
            "    self._ret = self._target(*self._args, **self._kwargs)\n",
            "  File \"/usr/local/lib/python3.10/dist-packages/ray/tune/trainable/function_trainable.py\", line 45, in <lambda>\n",
            "    training_func=lambda: self._trainable_func(self.config),\n",
            "  File \"/usr/local/lib/python3.10/dist-packages/ray/tune/trainable/function_trainable.py\", line 250, in _trainable_func\n",
            "    output = fn()\n",
            "  File \"<ipython-input-3-8222499238c3>\", line 78, in train_mnist\n",
            "AttributeError: module 'ray.tune' has no attribute 'report'\n"
          ]
        },
        {
          "name": "stdout",
          "output_type": "stream",
          "text": [
            "\n",
            "Trial train_mnist_72e7b_00002 errored after 0 iterations at 2024-11-13 17:14:24. Total running time: 2min 0s\n",
            "Error file: /tmp/ray/session_2024-11-13_17-12-15_277287_683/artifacts/2024-11-13_17-12-23/train_mnist_2024-11-13_17-12-23/driver_artifacts/train_mnist_72e7b_00002_2_batch_size=128,lr=0.0001,n_layers=2,n_units=32_2024-11-13_17-12-36/error.txt\n"
          ]
        },
        {
          "name": "stderr",
          "output_type": "stream",
          "text": [
            "2024-11-13 17:14:36,665\tERROR tune_controller.py:1331 -- Trial task failed for trial train_mnist_72e7b_00003\n",
            "Traceback (most recent call last):\n",
            "  File \"/usr/local/lib/python3.10/dist-packages/ray/air/execution/_internal/event_manager.py\", line 110, in resolve_future\n",
            "    result = ray.get(future)\n",
            "  File \"/usr/local/lib/python3.10/dist-packages/ray/_private/auto_init_hook.py\", line 21, in auto_init_wrapper\n",
            "    return fn(*args, **kwargs)\n",
            "  File \"/usr/local/lib/python3.10/dist-packages/ray/_private/client_mode_hook.py\", line 103, in wrapper\n",
            "    return func(*args, **kwargs)\n",
            "  File \"/usr/local/lib/python3.10/dist-packages/ray/_private/worker.py\", line 2753, in get\n",
            "    values, debugger_breakpoint = worker.get_objects(object_refs, timeout=timeout)\n",
            "  File \"/usr/local/lib/python3.10/dist-packages/ray/_private/worker.py\", line 904, in get_objects\n",
            "    raise value.as_instanceof_cause()\n",
            "ray.exceptions.RayTaskError(AttributeError): \u001b[36mray::ImplicitFunc.train()\u001b[39m (pid=1859, ip=172.28.0.12, actor_id=ffc8017d883618a2aa9eb1fe01000000, repr=train_mnist)\n",
            "  File \"/usr/local/lib/python3.10/dist-packages/ray/tune/trainable/trainable.py\", line 331, in train\n",
            "    raise skipped from exception_cause(skipped)\n",
            "  File \"/usr/local/lib/python3.10/dist-packages/ray/air/_internal/util.py\", line 104, in run\n",
            "    self._ret = self._target(*self._args, **self._kwargs)\n",
            "  File \"/usr/local/lib/python3.10/dist-packages/ray/tune/trainable/function_trainable.py\", line 45, in <lambda>\n",
            "    training_func=lambda: self._trainable_func(self.config),\n",
            "  File \"/usr/local/lib/python3.10/dist-packages/ray/tune/trainable/function_trainable.py\", line 250, in _trainable_func\n",
            "    output = fn()\n",
            "  File \"<ipython-input-3-8222499238c3>\", line 78, in train_mnist\n",
            "AttributeError: module 'ray.tune' has no attribute 'report'\n"
          ]
        },
        {
          "name": "stdout",
          "output_type": "stream",
          "text": [
            "\n",
            "Trial train_mnist_72e7b_00003 errored after 0 iterations at 2024-11-13 17:14:36. Total running time: 2min 13s\n",
            "Error file: /tmp/ray/session_2024-11-13_17-12-15_277287_683/artifacts/2024-11-13_17-12-23/train_mnist_2024-11-13_17-12-23/driver_artifacts/train_mnist_72e7b_00003_3_batch_size=32,lr=0.0061,n_layers=2,n_units=128_2024-11-13_17-12-37/error.txt\n",
            "\n",
            "Trial train_mnist_72e7b_00004 started with configuration:\n",
            "+--------------------------------------------------+\n",
            "| Trial train_mnist_72e7b_00004 config             |\n",
            "+--------------------------------------------------+\n",
            "| batch_size                                   128 |\n",
            "| lr                                       0.00223 |\n",
            "| n_layers                                       2 |\n",
            "| n_units                                       32 |\n",
            "+--------------------------------------------------+\n",
            "\n",
            "Trial status: 4 ERROR | 1 RUNNING | 15 PENDING\n",
            "Current time: 2024-11-13 17:14:47. Total running time: 2min 23s\n",
            "Logical resource usage: 2.0/2 CPUs, 0/0 GPUs\n",
            "+------------------------------------------------------------------------------------------+\n",
            "| Trial name                status              lr     batch_size     n_layers     n_units |\n",
            "+------------------------------------------------------------------------------------------+\n",
            "| train_mnist_72e7b_00004   RUNNING    0.00223458             128            2          32 |\n",
            "| train_mnist_72e7b_00005   PENDING    0.00289927             128            3          32 |\n",
            "| train_mnist_72e7b_00006   PENDING    0.0008884               32            1          64 |\n",
            "| train_mnist_72e7b_00007   PENDING    0.000242121            128            1          32 |\n",
            "| train_mnist_72e7b_00008   PENDING    0.00366188              64            3          32 |\n",
            "| train_mnist_72e7b_00009   PENDING    8.52954e-05             32            3          32 |\n",
            "| train_mnist_72e7b_00010   PENDING    0.00280513              32            2         128 |\n",
            "| train_mnist_72e7b_00011   PENDING    1.78921e-05             64            3         128 |\n",
            "| train_mnist_72e7b_00012   PENDING    2.09159e-05             32            1          64 |\n",
            "| train_mnist_72e7b_00013   PENDING    3.86109e-05             32            3         128 |\n",
            "| train_mnist_72e7b_00014   PENDING    0.000190781             64            2          64 |\n",
            "| train_mnist_72e7b_00015   PENDING    0.000135533            128            3         128 |\n",
            "| train_mnist_72e7b_00016   PENDING    0.000180571             32            3         128 |\n",
            "| train_mnist_72e7b_00017   PENDING    0.0004525               64            3         128 |\n",
            "| train_mnist_72e7b_00018   PENDING    5.73823e-05             32            3          32 |\n",
            "| train_mnist_72e7b_00019   PENDING    0.000175165            128            1          64 |\n",
            "| train_mnist_72e7b_00000   ERROR      0.000105659             64            2         128 |\n",
            "| train_mnist_72e7b_00001   ERROR      0.00118331              64            3         128 |\n",
            "| train_mnist_72e7b_00002   ERROR      5.91159e-05            128            2          32 |\n",
            "| train_mnist_72e7b_00003   ERROR      0.00611151              32            2         128 |\n",
            "+------------------------------------------------------------------------------------------+\n",
            "\n",
            "Trial train_mnist_72e7b_00005 started with configuration:\n",
            "+-------------------------------------------------+\n",
            "| Trial train_mnist_72e7b_00005 config            |\n",
            "+-------------------------------------------------+\n",
            "| batch_size                                  128 |\n",
            "| lr                                       0.0029 |\n",
            "| n_layers                                      3 |\n",
            "| n_units                                      32 |\n",
            "+-------------------------------------------------+\n"
          ]
        },
        {
          "name": "stderr",
          "output_type": "stream",
          "text": [
            "2024-11-13 17:15:11,154\tERROR tune_controller.py:1331 -- Trial task failed for trial train_mnist_72e7b_00004\n",
            "Traceback (most recent call last):\n",
            "  File \"/usr/local/lib/python3.10/dist-packages/ray/air/execution/_internal/event_manager.py\", line 110, in resolve_future\n",
            "    result = ray.get(future)\n",
            "  File \"/usr/local/lib/python3.10/dist-packages/ray/_private/auto_init_hook.py\", line 21, in auto_init_wrapper\n",
            "    return fn(*args, **kwargs)\n",
            "  File \"/usr/local/lib/python3.10/dist-packages/ray/_private/client_mode_hook.py\", line 103, in wrapper\n",
            "    return func(*args, **kwargs)\n",
            "  File \"/usr/local/lib/python3.10/dist-packages/ray/_private/worker.py\", line 2753, in get\n",
            "    values, debugger_breakpoint = worker.get_objects(object_refs, timeout=timeout)\n",
            "  File \"/usr/local/lib/python3.10/dist-packages/ray/_private/worker.py\", line 904, in get_objects\n",
            "    raise value.as_instanceof_cause()\n",
            "ray.exceptions.RayTaskError(AttributeError): \u001b[36mray::ImplicitFunc.train()\u001b[39m (pid=2134, ip=172.28.0.12, actor_id=85974033bea0ba58f4a756b001000000, repr=train_mnist)\n",
            "  File \"/usr/local/lib/python3.10/dist-packages/ray/tune/trainable/trainable.py\", line 331, in train\n",
            "    raise skipped from exception_cause(skipped)\n",
            "  File \"/usr/local/lib/python3.10/dist-packages/ray/air/_internal/util.py\", line 104, in run\n",
            "    self._ret = self._target(*self._args, **self._kwargs)\n",
            "  File \"/usr/local/lib/python3.10/dist-packages/ray/tune/trainable/function_trainable.py\", line 45, in <lambda>\n",
            "    training_func=lambda: self._trainable_func(self.config),\n",
            "  File \"/usr/local/lib/python3.10/dist-packages/ray/tune/trainable/function_trainable.py\", line 250, in _trainable_func\n",
            "    output = fn()\n",
            "  File \"<ipython-input-3-8222499238c3>\", line 78, in train_mnist\n",
            "AttributeError: module 'ray.tune' has no attribute 'report'\n"
          ]
        },
        {
          "name": "stdout",
          "output_type": "stream",
          "text": [
            "\n",
            "Trial train_mnist_72e7b_00004 errored after 0 iterations at 2024-11-13 17:15:11. Total running time: 2min 47s\n",
            "Error file: /tmp/ray/session_2024-11-13_17-12-15_277287_683/artifacts/2024-11-13_17-12-23/train_mnist_2024-11-13_17-12-23/driver_artifacts/train_mnist_72e7b_00004_4_batch_size=128,lr=0.0022,n_layers=2,n_units=32_2024-11-13_17-12-37/error.txt\n",
            "\n",
            "Trial status: 5 ERROR | 1 RUNNING | 14 PENDING\n",
            "Current time: 2024-11-13 17:15:17. Total running time: 2min 53s\n",
            "Logical resource usage: 2.0/2 CPUs, 0/0 GPUs\n",
            "+------------------------------------------------------------------------------------------+\n",
            "| Trial name                status              lr     batch_size     n_layers     n_units |\n",
            "+------------------------------------------------------------------------------------------+\n",
            "| train_mnist_72e7b_00005   RUNNING    0.00289927             128            3          32 |\n",
            "| train_mnist_72e7b_00006   PENDING    0.0008884               32            1          64 |\n",
            "| train_mnist_72e7b_00007   PENDING    0.000242121            128            1          32 |\n",
            "| train_mnist_72e7b_00008   PENDING    0.00366188              64            3          32 |\n",
            "| train_mnist_72e7b_00009   PENDING    8.52954e-05             32            3          32 |\n",
            "| train_mnist_72e7b_00010   PENDING    0.00280513              32            2         128 |\n",
            "| train_mnist_72e7b_00011   PENDING    1.78921e-05             64            3         128 |\n",
            "| train_mnist_72e7b_00012   PENDING    2.09159e-05             32            1          64 |\n",
            "| train_mnist_72e7b_00013   PENDING    3.86109e-05             32            3         128 |\n",
            "| train_mnist_72e7b_00014   PENDING    0.000190781             64            2          64 |\n",
            "| train_mnist_72e7b_00015   PENDING    0.000135533            128            3         128 |\n",
            "| train_mnist_72e7b_00016   PENDING    0.000180571             32            3         128 |\n",
            "| train_mnist_72e7b_00017   PENDING    0.0004525               64            3         128 |\n",
            "| train_mnist_72e7b_00018   PENDING    5.73823e-05             32            3          32 |\n",
            "| train_mnist_72e7b_00019   PENDING    0.000175165            128            1          64 |\n",
            "| train_mnist_72e7b_00000   ERROR      0.000105659             64            2         128 |\n",
            "| train_mnist_72e7b_00001   ERROR      0.00118331              64            3         128 |\n",
            "| train_mnist_72e7b_00002   ERROR      5.91159e-05            128            2          32 |\n",
            "| train_mnist_72e7b_00003   ERROR      0.00611151              32            2         128 |\n",
            "| train_mnist_72e7b_00004   ERROR      0.00223458             128            2          32 |\n",
            "+------------------------------------------------------------------------------------------+\n",
            "\n",
            "Trial train_mnist_72e7b_00006 started with configuration:\n",
            "+--------------------------------------------------+\n",
            "| Trial train_mnist_72e7b_00006 config             |\n",
            "+--------------------------------------------------+\n",
            "| batch_size                                    32 |\n",
            "| lr                                       0.00089 |\n",
            "| n_layers                                       1 |\n",
            "| n_units                                       64 |\n",
            "+--------------------------------------------------+\n"
          ]
        },
        {
          "name": "stderr",
          "output_type": "stream",
          "text": [
            "2024-11-13 17:15:24,793\tERROR tune_controller.py:1331 -- Trial task failed for trial train_mnist_72e7b_00005\n",
            "Traceback (most recent call last):\n",
            "  File \"/usr/local/lib/python3.10/dist-packages/ray/air/execution/_internal/event_manager.py\", line 110, in resolve_future\n",
            "    result = ray.get(future)\n",
            "  File \"/usr/local/lib/python3.10/dist-packages/ray/_private/auto_init_hook.py\", line 21, in auto_init_wrapper\n",
            "    return fn(*args, **kwargs)\n",
            "  File \"/usr/local/lib/python3.10/dist-packages/ray/_private/client_mode_hook.py\", line 103, in wrapper\n",
            "    return func(*args, **kwargs)\n",
            "  File \"/usr/local/lib/python3.10/dist-packages/ray/_private/worker.py\", line 2753, in get\n",
            "    values, debugger_breakpoint = worker.get_objects(object_refs, timeout=timeout)\n",
            "  File \"/usr/local/lib/python3.10/dist-packages/ray/_private/worker.py\", line 904, in get_objects\n",
            "    raise value.as_instanceof_cause()\n",
            "ray.exceptions.RayTaskError(AttributeError): \u001b[36mray::ImplicitFunc.train()\u001b[39m (pid=2253, ip=172.28.0.12, actor_id=6452d141a8a4f52f3230c9df01000000, repr=train_mnist)\n",
            "  File \"/usr/local/lib/python3.10/dist-packages/ray/tune/trainable/trainable.py\", line 331, in train\n",
            "    raise skipped from exception_cause(skipped)\n",
            "  File \"/usr/local/lib/python3.10/dist-packages/ray/air/_internal/util.py\", line 104, in run\n",
            "    self._ret = self._target(*self._args, **self._kwargs)\n",
            "  File \"/usr/local/lib/python3.10/dist-packages/ray/tune/trainable/function_trainable.py\", line 45, in <lambda>\n",
            "    training_func=lambda: self._trainable_func(self.config),\n",
            "  File \"/usr/local/lib/python3.10/dist-packages/ray/tune/trainable/function_trainable.py\", line 250, in _trainable_func\n",
            "    output = fn()\n",
            "  File \"<ipython-input-3-8222499238c3>\", line 78, in train_mnist\n",
            "AttributeError: module 'ray.tune' has no attribute 'report'\n"
          ]
        },
        {
          "name": "stdout",
          "output_type": "stream",
          "text": [
            "\n",
            "Trial train_mnist_72e7b_00005 errored after 0 iterations at 2024-11-13 17:15:24. Total running time: 3min 1s\n",
            "Error file: /tmp/ray/session_2024-11-13_17-12-15_277287_683/artifacts/2024-11-13_17-12-23/train_mnist_2024-11-13_17-12-23/driver_artifacts/train_mnist_72e7b_00005_5_batch_size=128,lr=0.0029,n_layers=3,n_units=32_2024-11-13_17-12-38/error.txt\n",
            "\n",
            "Trial train_mnist_72e7b_00007 started with configuration:\n",
            "+--------------------------------------------------+\n",
            "| Trial train_mnist_72e7b_00007 config             |\n",
            "+--------------------------------------------------+\n",
            "| batch_size                                   128 |\n",
            "| lr                                       0.00024 |\n",
            "| n_layers                                       1 |\n",
            "| n_units                                       32 |\n",
            "+--------------------------------------------------+\n",
            "\n",
            "Trial status: 6 ERROR | 2 RUNNING | 12 PENDING\n",
            "Current time: 2024-11-13 17:15:47. Total running time: 3min 23s\n",
            "Logical resource usage: 2.0/2 CPUs, 0/0 GPUs\n",
            "+------------------------------------------------------------------------------------------+\n",
            "| Trial name                status              lr     batch_size     n_layers     n_units |\n",
            "+------------------------------------------------------------------------------------------+\n",
            "| train_mnist_72e7b_00006   RUNNING    0.0008884               32            1          64 |\n",
            "| train_mnist_72e7b_00007   RUNNING    0.000242121            128            1          32 |\n",
            "| train_mnist_72e7b_00008   PENDING    0.00366188              64            3          32 |\n",
            "| train_mnist_72e7b_00009   PENDING    8.52954e-05             32            3          32 |\n",
            "| train_mnist_72e7b_00010   PENDING    0.00280513              32            2         128 |\n",
            "| train_mnist_72e7b_00011   PENDING    1.78921e-05             64            3         128 |\n",
            "| train_mnist_72e7b_00012   PENDING    2.09159e-05             32            1          64 |\n",
            "| train_mnist_72e7b_00013   PENDING    3.86109e-05             32            3         128 |\n",
            "| train_mnist_72e7b_00014   PENDING    0.000190781             64            2          64 |\n",
            "| train_mnist_72e7b_00015   PENDING    0.000135533            128            3         128 |\n",
            "| train_mnist_72e7b_00016   PENDING    0.000180571             32            3         128 |\n",
            "| train_mnist_72e7b_00017   PENDING    0.0004525               64            3         128 |\n",
            "| train_mnist_72e7b_00018   PENDING    5.73823e-05             32            3          32 |\n",
            "| train_mnist_72e7b_00019   PENDING    0.000175165            128            1          64 |\n",
            "| train_mnist_72e7b_00000   ERROR      0.000105659             64            2         128 |\n",
            "| train_mnist_72e7b_00001   ERROR      0.00118331              64            3         128 |\n",
            "| train_mnist_72e7b_00002   ERROR      5.91159e-05            128            2          32 |\n",
            "| train_mnist_72e7b_00003   ERROR      0.00611151              32            2         128 |\n",
            "| train_mnist_72e7b_00004   ERROR      0.00223458             128            2          32 |\n",
            "| train_mnist_72e7b_00005   ERROR      0.00289927             128            3          32 |\n",
            "+------------------------------------------------------------------------------------------+\n"
          ]
        },
        {
          "name": "stderr",
          "output_type": "stream",
          "text": [
            "2024-11-13 17:16:02,377\tERROR tune_controller.py:1331 -- Trial task failed for trial train_mnist_72e7b_00006\n",
            "Traceback (most recent call last):\n",
            "  File \"/usr/local/lib/python3.10/dist-packages/ray/air/execution/_internal/event_manager.py\", line 110, in resolve_future\n",
            "    result = ray.get(future)\n",
            "  File \"/usr/local/lib/python3.10/dist-packages/ray/_private/auto_init_hook.py\", line 21, in auto_init_wrapper\n",
            "    return fn(*args, **kwargs)\n",
            "  File \"/usr/local/lib/python3.10/dist-packages/ray/_private/client_mode_hook.py\", line 103, in wrapper\n",
            "    return func(*args, **kwargs)\n",
            "  File \"/usr/local/lib/python3.10/dist-packages/ray/_private/worker.py\", line 2753, in get\n",
            "    values, debugger_breakpoint = worker.get_objects(object_refs, timeout=timeout)\n",
            "  File \"/usr/local/lib/python3.10/dist-packages/ray/_private/worker.py\", line 904, in get_objects\n",
            "    raise value.as_instanceof_cause()\n",
            "ray.exceptions.RayTaskError(AttributeError): \u001b[36mray::ImplicitFunc.train()\u001b[39m (pid=2453, ip=172.28.0.12, actor_id=279ee46b5e5c20ac736aa57b01000000, repr=train_mnist)\n",
            "  File \"/usr/local/lib/python3.10/dist-packages/ray/tune/trainable/trainable.py\", line 331, in train\n",
            "    raise skipped from exception_cause(skipped)\n",
            "  File \"/usr/local/lib/python3.10/dist-packages/ray/air/_internal/util.py\", line 104, in run\n",
            "    self._ret = self._target(*self._args, **self._kwargs)\n",
            "  File \"/usr/local/lib/python3.10/dist-packages/ray/tune/trainable/function_trainable.py\", line 45, in <lambda>\n",
            "    training_func=lambda: self._trainable_func(self.config),\n",
            "  File \"/usr/local/lib/python3.10/dist-packages/ray/tune/trainable/function_trainable.py\", line 250, in _trainable_func\n",
            "    output = fn()\n",
            "  File \"<ipython-input-3-8222499238c3>\", line 78, in train_mnist\n",
            "AttributeError: module 'ray.tune' has no attribute 'report'\n"
          ]
        },
        {
          "name": "stdout",
          "output_type": "stream",
          "text": [
            "\n",
            "Trial train_mnist_72e7b_00006 errored after 0 iterations at 2024-11-13 17:16:02. Total running time: 3min 38s\n",
            "Error file: /tmp/ray/session_2024-11-13_17-12-15_277287_683/artifacts/2024-11-13_17-12-23/train_mnist_2024-11-13_17-12-23/driver_artifacts/train_mnist_72e7b_00006_6_batch_size=32,lr=0.0009,n_layers=1,n_units=64_2024-11-13_17-12-38/error.txt\n"
          ]
        },
        {
          "name": "stderr",
          "output_type": "stream",
          "text": [
            "2024-11-13 17:16:10,906\tERROR tune_controller.py:1331 -- Trial task failed for trial train_mnist_72e7b_00007\n",
            "Traceback (most recent call last):\n",
            "  File \"/usr/local/lib/python3.10/dist-packages/ray/air/execution/_internal/event_manager.py\", line 110, in resolve_future\n",
            "    result = ray.get(future)\n",
            "  File \"/usr/local/lib/python3.10/dist-packages/ray/_private/auto_init_hook.py\", line 21, in auto_init_wrapper\n",
            "    return fn(*args, **kwargs)\n",
            "  File \"/usr/local/lib/python3.10/dist-packages/ray/_private/client_mode_hook.py\", line 103, in wrapper\n",
            "    return func(*args, **kwargs)\n",
            "  File \"/usr/local/lib/python3.10/dist-packages/ray/_private/worker.py\", line 2753, in get\n",
            "    values, debugger_breakpoint = worker.get_objects(object_refs, timeout=timeout)\n",
            "  File \"/usr/local/lib/python3.10/dist-packages/ray/_private/worker.py\", line 904, in get_objects\n",
            "    raise value.as_instanceof_cause()\n",
            "ray.exceptions.RayTaskError(AttributeError): \u001b[36mray::ImplicitFunc.train()\u001b[39m (pid=2576, ip=172.28.0.12, actor_id=47fe556c5f299ab27d00c83f01000000, repr=train_mnist)\n",
            "  File \"/usr/local/lib/python3.10/dist-packages/ray/tune/trainable/trainable.py\", line 331, in train\n",
            "    raise skipped from exception_cause(skipped)\n",
            "  File \"/usr/local/lib/python3.10/dist-packages/ray/air/_internal/util.py\", line 104, in run\n",
            "    self._ret = self._target(*self._args, **self._kwargs)\n",
            "  File \"/usr/local/lib/python3.10/dist-packages/ray/tune/trainable/function_trainable.py\", line 45, in <lambda>\n",
            "    training_func=lambda: self._trainable_func(self.config),\n",
            "  File \"/usr/local/lib/python3.10/dist-packages/ray/tune/trainable/function_trainable.py\", line 250, in _trainable_func\n",
            "    output = fn()\n",
            "  File \"<ipython-input-3-8222499238c3>\", line 78, in train_mnist\n",
            "AttributeError: module 'ray.tune' has no attribute 'report'\n"
          ]
        },
        {
          "name": "stdout",
          "output_type": "stream",
          "text": [
            "\n",
            "Trial train_mnist_72e7b_00007 errored after 0 iterations at 2024-11-13 17:16:10. Total running time: 3min 47s\n",
            "Error file: /tmp/ray/session_2024-11-13_17-12-15_277287_683/artifacts/2024-11-13_17-12-23/train_mnist_2024-11-13_17-12-23/driver_artifacts/train_mnist_72e7b_00007_7_batch_size=128,lr=0.0002,n_layers=1,n_units=32_2024-11-13_17-12-39/error.txt\n",
            "\n",
            "Trial train_mnist_72e7b_00008 started with configuration:\n",
            "+--------------------------------------------------+\n",
            "| Trial train_mnist_72e7b_00008 config             |\n",
            "+--------------------------------------------------+\n",
            "| batch_size                                    64 |\n",
            "| lr                                       0.00366 |\n",
            "| n_layers                                       3 |\n",
            "| n_units                                       32 |\n",
            "+--------------------------------------------------+\n",
            "\n",
            "Trial status: 8 ERROR | 1 RUNNING | 11 PENDING\n",
            "Current time: 2024-11-13 17:16:17. Total running time: 3min 54s\n",
            "Logical resource usage: 2.0/2 CPUs, 0/0 GPUs\n",
            "+------------------------------------------------------------------------------------------+\n",
            "| Trial name                status              lr     batch_size     n_layers     n_units |\n",
            "+------------------------------------------------------------------------------------------+\n",
            "| train_mnist_72e7b_00008   RUNNING    0.00366188              64            3          32 |\n",
            "| train_mnist_72e7b_00009   PENDING    8.52954e-05             32            3          32 |\n",
            "| train_mnist_72e7b_00010   PENDING    0.00280513              32            2         128 |\n",
            "| train_mnist_72e7b_00011   PENDING    1.78921e-05             64            3         128 |\n",
            "| train_mnist_72e7b_00012   PENDING    2.09159e-05             32            1          64 |\n",
            "| train_mnist_72e7b_00013   PENDING    3.86109e-05             32            3         128 |\n",
            "| train_mnist_72e7b_00014   PENDING    0.000190781             64            2          64 |\n",
            "| train_mnist_72e7b_00015   PENDING    0.000135533            128            3         128 |\n",
            "| train_mnist_72e7b_00016   PENDING    0.000180571             32            3         128 |\n",
            "| train_mnist_72e7b_00017   PENDING    0.0004525               64            3         128 |\n",
            "| train_mnist_72e7b_00018   PENDING    5.73823e-05             32            3          32 |\n",
            "| train_mnist_72e7b_00019   PENDING    0.000175165            128            1          64 |\n",
            "| train_mnist_72e7b_00000   ERROR      0.000105659             64            2         128 |\n",
            "| train_mnist_72e7b_00001   ERROR      0.00118331              64            3         128 |\n",
            "| train_mnist_72e7b_00002   ERROR      5.91159e-05            128            2          32 |\n",
            "| train_mnist_72e7b_00003   ERROR      0.00611151              32            2         128 |\n",
            "| train_mnist_72e7b_00004   ERROR      0.00223458             128            2          32 |\n",
            "| train_mnist_72e7b_00005   ERROR      0.00289927             128            3          32 |\n",
            "| train_mnist_72e7b_00006   ERROR      0.0008884               32            1          64 |\n",
            "| train_mnist_72e7b_00007   ERROR      0.000242121            128            1          32 |\n",
            "+------------------------------------------------------------------------------------------+\n",
            "\n",
            "Trial train_mnist_72e7b_00009 started with configuration:\n",
            "+------------------------------------------------+\n",
            "| Trial train_mnist_72e7b_00009 config           |\n",
            "+------------------------------------------------+\n",
            "| batch_size                                  32 |\n",
            "| lr                                       9e-05 |\n",
            "| n_layers                                     3 |\n",
            "| n_units                                     32 |\n",
            "+------------------------------------------------+\n",
            "\n",
            "Trial status: 8 ERROR | 2 RUNNING | 10 PENDING\n",
            "Current time: 2024-11-13 17:16:47. Total running time: 4min 24s\n",
            "Logical resource usage: 2.0/2 CPUs, 0/0 GPUs\n",
            "+------------------------------------------------------------------------------------------+\n",
            "| Trial name                status              lr     batch_size     n_layers     n_units |\n",
            "+------------------------------------------------------------------------------------------+\n",
            "| train_mnist_72e7b_00008   RUNNING    0.00366188              64            3          32 |\n",
            "| train_mnist_72e7b_00009   RUNNING    8.52954e-05             32            3          32 |\n",
            "| train_mnist_72e7b_00010   PENDING    0.00280513              32            2         128 |\n",
            "| train_mnist_72e7b_00011   PENDING    1.78921e-05             64            3         128 |\n",
            "| train_mnist_72e7b_00012   PENDING    2.09159e-05             32            1          64 |\n",
            "| train_mnist_72e7b_00013   PENDING    3.86109e-05             32            3         128 |\n",
            "| train_mnist_72e7b_00014   PENDING    0.000190781             64            2          64 |\n",
            "| train_mnist_72e7b_00015   PENDING    0.000135533            128            3         128 |\n",
            "| train_mnist_72e7b_00016   PENDING    0.000180571             32            3         128 |\n",
            "| train_mnist_72e7b_00017   PENDING    0.0004525               64            3         128 |\n",
            "| train_mnist_72e7b_00018   PENDING    5.73823e-05             32            3          32 |\n",
            "| train_mnist_72e7b_00019   PENDING    0.000175165            128            1          64 |\n",
            "| train_mnist_72e7b_00000   ERROR      0.000105659             64            2         128 |\n",
            "| train_mnist_72e7b_00001   ERROR      0.00118331              64            3         128 |\n",
            "| train_mnist_72e7b_00002   ERROR      5.91159e-05            128            2          32 |\n",
            "| train_mnist_72e7b_00003   ERROR      0.00611151              32            2         128 |\n",
            "| train_mnist_72e7b_00004   ERROR      0.00223458             128            2          32 |\n",
            "| train_mnist_72e7b_00005   ERROR      0.00289927             128            3          32 |\n",
            "| train_mnist_72e7b_00006   ERROR      0.0008884               32            1          64 |\n",
            "| train_mnist_72e7b_00007   ERROR      0.000242121            128            1          32 |\n",
            "+------------------------------------------------------------------------------------------+\n"
          ]
        },
        {
          "name": "stderr",
          "output_type": "stream",
          "text": [
            "2024-11-13 17:16:50,413\tERROR tune_controller.py:1331 -- Trial task failed for trial train_mnist_72e7b_00008\n",
            "Traceback (most recent call last):\n",
            "  File \"/usr/local/lib/python3.10/dist-packages/ray/air/execution/_internal/event_manager.py\", line 110, in resolve_future\n",
            "    result = ray.get(future)\n",
            "  File \"/usr/local/lib/python3.10/dist-packages/ray/_private/auto_init_hook.py\", line 21, in auto_init_wrapper\n",
            "    return fn(*args, **kwargs)\n",
            "  File \"/usr/local/lib/python3.10/dist-packages/ray/_private/client_mode_hook.py\", line 103, in wrapper\n",
            "    return func(*args, **kwargs)\n",
            "  File \"/usr/local/lib/python3.10/dist-packages/ray/_private/worker.py\", line 2753, in get\n",
            "    values, debugger_breakpoint = worker.get_objects(object_refs, timeout=timeout)\n",
            "  File \"/usr/local/lib/python3.10/dist-packages/ray/_private/worker.py\", line 904, in get_objects\n",
            "    raise value.as_instanceof_cause()\n",
            "ray.exceptions.RayTaskError(AttributeError): \u001b[36mray::ImplicitFunc.train()\u001b[39m (pid=2793, ip=172.28.0.12, actor_id=80e93d6fe882a95697d0a15d01000000, repr=train_mnist)\n",
            "  File \"/usr/local/lib/python3.10/dist-packages/ray/tune/trainable/trainable.py\", line 331, in train\n",
            "    raise skipped from exception_cause(skipped)\n",
            "  File \"/usr/local/lib/python3.10/dist-packages/ray/air/_internal/util.py\", line 104, in run\n",
            "    self._ret = self._target(*self._args, **self._kwargs)\n",
            "  File \"/usr/local/lib/python3.10/dist-packages/ray/tune/trainable/function_trainable.py\", line 45, in <lambda>\n",
            "    training_func=lambda: self._trainable_func(self.config),\n",
            "  File \"/usr/local/lib/python3.10/dist-packages/ray/tune/trainable/function_trainable.py\", line 250, in _trainable_func\n",
            "    output = fn()\n",
            "  File \"<ipython-input-3-8222499238c3>\", line 78, in train_mnist\n",
            "AttributeError: module 'ray.tune' has no attribute 'report'\n"
          ]
        },
        {
          "name": "stdout",
          "output_type": "stream",
          "text": [
            "\n",
            "Trial train_mnist_72e7b_00008 errored after 0 iterations at 2024-11-13 17:16:50. Total running time: 4min 26s\n",
            "Error file: /tmp/ray/session_2024-11-13_17-12-15_277287_683/artifacts/2024-11-13_17-12-23/train_mnist_2024-11-13_17-12-23/driver_artifacts/train_mnist_72e7b_00008_8_batch_size=64,lr=0.0037,n_layers=3,n_units=32_2024-11-13_17-12-39/error.txt\n"
          ]
        },
        {
          "name": "stderr",
          "output_type": "stream",
          "text": [
            "2024-11-13 17:17:03,233\tERROR tune_controller.py:1331 -- Trial task failed for trial train_mnist_72e7b_00009\n",
            "Traceback (most recent call last):\n",
            "  File \"/usr/local/lib/python3.10/dist-packages/ray/air/execution/_internal/event_manager.py\", line 110, in resolve_future\n",
            "    result = ray.get(future)\n",
            "  File \"/usr/local/lib/python3.10/dist-packages/ray/_private/auto_init_hook.py\", line 21, in auto_init_wrapper\n",
            "    return fn(*args, **kwargs)\n",
            "  File \"/usr/local/lib/python3.10/dist-packages/ray/_private/client_mode_hook.py\", line 103, in wrapper\n",
            "    return func(*args, **kwargs)\n",
            "  File \"/usr/local/lib/python3.10/dist-packages/ray/_private/worker.py\", line 2753, in get\n",
            "    values, debugger_breakpoint = worker.get_objects(object_refs, timeout=timeout)\n",
            "  File \"/usr/local/lib/python3.10/dist-packages/ray/_private/worker.py\", line 904, in get_objects\n",
            "    raise value.as_instanceof_cause()\n",
            "ray.exceptions.RayTaskError(AttributeError): \u001b[36mray::ImplicitFunc.train()\u001b[39m (pid=2893, ip=172.28.0.12, actor_id=b3c56975b47d889be80734a201000000, repr=train_mnist)\n",
            "  File \"/usr/local/lib/python3.10/dist-packages/ray/tune/trainable/trainable.py\", line 331, in train\n",
            "    raise skipped from exception_cause(skipped)\n",
            "  File \"/usr/local/lib/python3.10/dist-packages/ray/air/_internal/util.py\", line 104, in run\n",
            "    self._ret = self._target(*self._args, **self._kwargs)\n",
            "  File \"/usr/local/lib/python3.10/dist-packages/ray/tune/trainable/function_trainable.py\", line 45, in <lambda>\n",
            "    training_func=lambda: self._trainable_func(self.config),\n",
            "  File \"/usr/local/lib/python3.10/dist-packages/ray/tune/trainable/function_trainable.py\", line 250, in _trainable_func\n",
            "    output = fn()\n",
            "  File \"<ipython-input-3-8222499238c3>\", line 78, in train_mnist\n",
            "AttributeError: module 'ray.tune' has no attribute 'report'\n"
          ]
        },
        {
          "name": "stdout",
          "output_type": "stream",
          "text": [
            "\n",
            "Trial train_mnist_72e7b_00009 errored after 0 iterations at 2024-11-13 17:17:03. Total running time: 4min 39s\n",
            "Error file: /tmp/ray/session_2024-11-13_17-12-15_277287_683/artifacts/2024-11-13_17-12-23/train_mnist_2024-11-13_17-12-23/driver_artifacts/train_mnist_72e7b_00009_9_batch_size=32,lr=0.0001,n_layers=3,n_units=32_2024-11-13_17-12-40/error.txt\n",
            "\n",
            "Trial train_mnist_72e7b_00010 started with configuration:\n",
            "+--------------------------------------------------+\n",
            "| Trial train_mnist_72e7b_00010 config             |\n",
            "+--------------------------------------------------+\n",
            "| batch_size                                    32 |\n",
            "| lr                                       0.00281 |\n",
            "| n_layers                                       2 |\n",
            "| n_units                                      128 |\n",
            "+--------------------------------------------------+\n",
            "\n",
            "Trial train_mnist_72e7b_00011 started with configuration:\n",
            "+------------------------------------------------+\n",
            "| Trial train_mnist_72e7b_00011 config           |\n",
            "+------------------------------------------------+\n",
            "| batch_size                                  64 |\n",
            "| lr                                       2e-05 |\n",
            "| n_layers                                     3 |\n",
            "| n_units                                    128 |\n",
            "+------------------------------------------------+\n",
            "\n",
            "Trial status: 10 ERROR | 2 RUNNING | 8 PENDING\n",
            "Current time: 2024-11-13 17:17:17. Total running time: 4min 54s\n",
            "Logical resource usage: 2.0/2 CPUs, 0/0 GPUs\n",
            "+------------------------------------------------------------------------------------------+\n",
            "| Trial name                status              lr     batch_size     n_layers     n_units |\n",
            "+------------------------------------------------------------------------------------------+\n",
            "| train_mnist_72e7b_00010   RUNNING    0.00280513              32            2         128 |\n",
            "| train_mnist_72e7b_00011   RUNNING    1.78921e-05             64            3         128 |\n",
            "| train_mnist_72e7b_00012   PENDING    2.09159e-05             32            1          64 |\n",
            "| train_mnist_72e7b_00013   PENDING    3.86109e-05             32            3         128 |\n",
            "| train_mnist_72e7b_00014   PENDING    0.000190781             64            2          64 |\n",
            "| train_mnist_72e7b_00015   PENDING    0.000135533            128            3         128 |\n",
            "| train_mnist_72e7b_00016   PENDING    0.000180571             32            3         128 |\n",
            "| train_mnist_72e7b_00017   PENDING    0.0004525               64            3         128 |\n",
            "| train_mnist_72e7b_00018   PENDING    5.73823e-05             32            3          32 |\n",
            "| train_mnist_72e7b_00019   PENDING    0.000175165            128            1          64 |\n",
            "| train_mnist_72e7b_00000   ERROR      0.000105659             64            2         128 |\n",
            "| train_mnist_72e7b_00001   ERROR      0.00118331              64            3         128 |\n",
            "| train_mnist_72e7b_00002   ERROR      5.91159e-05            128            2          32 |\n",
            "| train_mnist_72e7b_00003   ERROR      0.00611151              32            2         128 |\n",
            "| train_mnist_72e7b_00004   ERROR      0.00223458             128            2          32 |\n",
            "| train_mnist_72e7b_00005   ERROR      0.00289927             128            3          32 |\n",
            "| train_mnist_72e7b_00006   ERROR      0.0008884               32            1          64 |\n",
            "| train_mnist_72e7b_00007   ERROR      0.000242121            128            1          32 |\n",
            "| train_mnist_72e7b_00008   ERROR      0.00366188              64            3          32 |\n",
            "| train_mnist_72e7b_00009   ERROR      8.52954e-05             32            3          32 |\n",
            "+------------------------------------------------------------------------------------------+\n",
            "Trial status: 10 ERROR | 2 RUNNING | 8 PENDING\n",
            "Current time: 2024-11-13 17:17:47. Total running time: 5min 24s\n",
            "Logical resource usage: 2.0/2 CPUs, 0/0 GPUs\n",
            "+------------------------------------------------------------------------------------------+\n",
            "| Trial name                status              lr     batch_size     n_layers     n_units |\n",
            "+------------------------------------------------------------------------------------------+\n",
            "| train_mnist_72e7b_00010   RUNNING    0.00280513              32            2         128 |\n",
            "| train_mnist_72e7b_00011   RUNNING    1.78921e-05             64            3         128 |\n",
            "| train_mnist_72e7b_00012   PENDING    2.09159e-05             32            1          64 |\n",
            "| train_mnist_72e7b_00013   PENDING    3.86109e-05             32            3         128 |\n",
            "| train_mnist_72e7b_00014   PENDING    0.000190781             64            2          64 |\n",
            "| train_mnist_72e7b_00015   PENDING    0.000135533            128            3         128 |\n",
            "| train_mnist_72e7b_00016   PENDING    0.000180571             32            3         128 |\n",
            "| train_mnist_72e7b_00017   PENDING    0.0004525               64            3         128 |\n",
            "| train_mnist_72e7b_00018   PENDING    5.73823e-05             32            3          32 |\n",
            "| train_mnist_72e7b_00019   PENDING    0.000175165            128            1          64 |\n",
            "| train_mnist_72e7b_00000   ERROR      0.000105659             64            2         128 |\n",
            "| train_mnist_72e7b_00001   ERROR      0.00118331              64            3         128 |\n",
            "| train_mnist_72e7b_00002   ERROR      5.91159e-05            128            2          32 |\n",
            "| train_mnist_72e7b_00003   ERROR      0.00611151              32            2         128 |\n",
            "| train_mnist_72e7b_00004   ERROR      0.00223458             128            2          32 |\n",
            "| train_mnist_72e7b_00005   ERROR      0.00289927             128            3          32 |\n",
            "| train_mnist_72e7b_00006   ERROR      0.0008884               32            1          64 |\n",
            "| train_mnist_72e7b_00007   ERROR      0.000242121            128            1          32 |\n",
            "| train_mnist_72e7b_00008   ERROR      0.00366188              64            3          32 |\n",
            "| train_mnist_72e7b_00009   ERROR      8.52954e-05             32            3          32 |\n",
            "+------------------------------------------------------------------------------------------+\n"
          ]
        },
        {
          "name": "stderr",
          "output_type": "stream",
          "text": [
            "2024-11-13 17:17:48,335\tERROR tune_controller.py:1331 -- Trial task failed for trial train_mnist_72e7b_00010\n",
            "Traceback (most recent call last):\n",
            "  File \"/usr/local/lib/python3.10/dist-packages/ray/air/execution/_internal/event_manager.py\", line 110, in resolve_future\n",
            "    result = ray.get(future)\n",
            "  File \"/usr/local/lib/python3.10/dist-packages/ray/_private/auto_init_hook.py\", line 21, in auto_init_wrapper\n",
            "    return fn(*args, **kwargs)\n",
            "  File \"/usr/local/lib/python3.10/dist-packages/ray/_private/client_mode_hook.py\", line 103, in wrapper\n",
            "    return func(*args, **kwargs)\n",
            "  File \"/usr/local/lib/python3.10/dist-packages/ray/_private/worker.py\", line 2753, in get\n",
            "    values, debugger_breakpoint = worker.get_objects(object_refs, timeout=timeout)\n",
            "  File \"/usr/local/lib/python3.10/dist-packages/ray/_private/worker.py\", line 904, in get_objects\n",
            "    raise value.as_instanceof_cause()\n",
            "ray.exceptions.RayTaskError(AttributeError): \u001b[36mray::ImplicitFunc.train()\u001b[39m (pid=3120, ip=172.28.0.12, actor_id=26af1e1baee249d6dd7b47f001000000, repr=train_mnist)\n",
            "  File \"/usr/local/lib/python3.10/dist-packages/ray/tune/trainable/trainable.py\", line 331, in train\n",
            "    raise skipped from exception_cause(skipped)\n",
            "  File \"/usr/local/lib/python3.10/dist-packages/ray/air/_internal/util.py\", line 104, in run\n",
            "    self._ret = self._target(*self._args, **self._kwargs)\n",
            "  File \"/usr/local/lib/python3.10/dist-packages/ray/tune/trainable/function_trainable.py\", line 45, in <lambda>\n",
            "    training_func=lambda: self._trainable_func(self.config),\n",
            "  File \"/usr/local/lib/python3.10/dist-packages/ray/tune/trainable/function_trainable.py\", line 250, in _trainable_func\n",
            "    output = fn()\n",
            "  File \"<ipython-input-3-8222499238c3>\", line 78, in train_mnist\n",
            "AttributeError: module 'ray.tune' has no attribute 'report'\n"
          ]
        },
        {
          "name": "stdout",
          "output_type": "stream",
          "text": [
            "\n",
            "Trial train_mnist_72e7b_00010 errored after 0 iterations at 2024-11-13 17:17:48. Total running time: 5min 24s\n",
            "Error file: /tmp/ray/session_2024-11-13_17-12-15_277287_683/artifacts/2024-11-13_17-12-23/train_mnist_2024-11-13_17-12-23/driver_artifacts/train_mnist_72e7b_00010_10_batch_size=32,lr=0.0028,n_layers=2,n_units=128_2024-11-13_17-12-40/error.txt\n"
          ]
        },
        {
          "name": "stderr",
          "output_type": "stream",
          "text": [
            "2024-11-13 17:17:54,278\tERROR tune_controller.py:1331 -- Trial task failed for trial train_mnist_72e7b_00011\n",
            "Traceback (most recent call last):\n",
            "  File \"/usr/local/lib/python3.10/dist-packages/ray/air/execution/_internal/event_manager.py\", line 110, in resolve_future\n",
            "    result = ray.get(future)\n",
            "  File \"/usr/local/lib/python3.10/dist-packages/ray/_private/auto_init_hook.py\", line 21, in auto_init_wrapper\n",
            "    return fn(*args, **kwargs)\n",
            "  File \"/usr/local/lib/python3.10/dist-packages/ray/_private/client_mode_hook.py\", line 103, in wrapper\n",
            "    return func(*args, **kwargs)\n",
            "  File \"/usr/local/lib/python3.10/dist-packages/ray/_private/worker.py\", line 2753, in get\n",
            "    values, debugger_breakpoint = worker.get_objects(object_refs, timeout=timeout)\n",
            "  File \"/usr/local/lib/python3.10/dist-packages/ray/_private/worker.py\", line 904, in get_objects\n",
            "    raise value.as_instanceof_cause()\n",
            "ray.exceptions.RayTaskError(AttributeError): \u001b[36mray::ImplicitFunc.train()\u001b[39m (pid=3238, ip=172.28.0.12, actor_id=2921a76e6137f35290497cc801000000, repr=train_mnist)\n",
            "  File \"/usr/local/lib/python3.10/dist-packages/ray/tune/trainable/trainable.py\", line 331, in train\n",
            "    raise skipped from exception_cause(skipped)\n",
            "  File \"/usr/local/lib/python3.10/dist-packages/ray/air/_internal/util.py\", line 104, in run\n",
            "    self._ret = self._target(*self._args, **self._kwargs)\n",
            "  File \"/usr/local/lib/python3.10/dist-packages/ray/tune/trainable/function_trainable.py\", line 45, in <lambda>\n",
            "    training_func=lambda: self._trainable_func(self.config),\n",
            "  File \"/usr/local/lib/python3.10/dist-packages/ray/tune/trainable/function_trainable.py\", line 250, in _trainable_func\n",
            "    output = fn()\n",
            "  File \"<ipython-input-3-8222499238c3>\", line 78, in train_mnist\n",
            "AttributeError: module 'ray.tune' has no attribute 'report'\n"
          ]
        },
        {
          "name": "stdout",
          "output_type": "stream",
          "text": [
            "\n",
            "Trial train_mnist_72e7b_00011 errored after 0 iterations at 2024-11-13 17:17:54. Total running time: 5min 30s\n",
            "Error file: /tmp/ray/session_2024-11-13_17-12-15_277287_683/artifacts/2024-11-13_17-12-23/train_mnist_2024-11-13_17-12-23/driver_artifacts/train_mnist_72e7b_00011_11_batch_size=64,lr=0.0000,n_layers=3,n_units=128_2024-11-13_17-12-41/error.txt\n",
            "\n",
            "Trial train_mnist_72e7b_00012 started with configuration:\n",
            "+------------------------------------------------+\n",
            "| Trial train_mnist_72e7b_00012 config           |\n",
            "+------------------------------------------------+\n",
            "| batch_size                                  32 |\n",
            "| lr                                       2e-05 |\n",
            "| n_layers                                     1 |\n",
            "| n_units                                     64 |\n",
            "+------------------------------------------------+\n",
            "\n",
            "Trial train_mnist_72e7b_00013 started with configuration:\n",
            "+------------------------------------------------+\n",
            "| Trial train_mnist_72e7b_00013 config           |\n",
            "+------------------------------------------------+\n",
            "| batch_size                                  32 |\n",
            "| lr                                       4e-05 |\n",
            "| n_layers                                     3 |\n",
            "| n_units                                    128 |\n",
            "+------------------------------------------------+\n",
            "\n",
            "Trial status: 12 ERROR | 2 RUNNING | 6 PENDING\n",
            "Current time: 2024-11-13 17:18:17. Total running time: 5min 54s\n",
            "Logical resource usage: 2.0/2 CPUs, 0/0 GPUs\n",
            "+------------------------------------------------------------------------------------------+\n",
            "| Trial name                status              lr     batch_size     n_layers     n_units |\n",
            "+------------------------------------------------------------------------------------------+\n",
            "| train_mnist_72e7b_00012   RUNNING    2.09159e-05             32            1          64 |\n",
            "| train_mnist_72e7b_00013   RUNNING    3.86109e-05             32            3         128 |\n",
            "| train_mnist_72e7b_00014   PENDING    0.000190781             64            2          64 |\n",
            "| train_mnist_72e7b_00015   PENDING    0.000135533            128            3         128 |\n",
            "| train_mnist_72e7b_00016   PENDING    0.000180571             32            3         128 |\n",
            "| train_mnist_72e7b_00017   PENDING    0.0004525               64            3         128 |\n",
            "| train_mnist_72e7b_00018   PENDING    5.73823e-05             32            3          32 |\n",
            "| train_mnist_72e7b_00019   PENDING    0.000175165            128            1          64 |\n",
            "| train_mnist_72e7b_00000   ERROR      0.000105659             64            2         128 |\n",
            "| train_mnist_72e7b_00001   ERROR      0.00118331              64            3         128 |\n",
            "| train_mnist_72e7b_00002   ERROR      5.91159e-05            128            2          32 |\n",
            "| train_mnist_72e7b_00003   ERROR      0.00611151              32            2         128 |\n",
            "| train_mnist_72e7b_00004   ERROR      0.00223458             128            2          32 |\n",
            "| train_mnist_72e7b_00005   ERROR      0.00289927             128            3          32 |\n",
            "| train_mnist_72e7b_00006   ERROR      0.0008884               32            1          64 |\n",
            "| train_mnist_72e7b_00007   ERROR      0.000242121            128            1          32 |\n",
            "| train_mnist_72e7b_00008   ERROR      0.00366188              64            3          32 |\n",
            "| train_mnist_72e7b_00009   ERROR      8.52954e-05             32            3          32 |\n",
            "| train_mnist_72e7b_00010   ERROR      0.00280513              32            2         128 |\n",
            "| train_mnist_72e7b_00011   ERROR      1.78921e-05             64            3         128 |\n",
            "+------------------------------------------------------------------------------------------+\n"
          ]
        },
        {
          "name": "stderr",
          "output_type": "stream",
          "text": [
            "2024-11-13 17:18:38,025\tERROR tune_controller.py:1331 -- Trial task failed for trial train_mnist_72e7b_00012\n",
            "Traceback (most recent call last):\n",
            "  File \"/usr/local/lib/python3.10/dist-packages/ray/air/execution/_internal/event_manager.py\", line 110, in resolve_future\n",
            "    result = ray.get(future)\n",
            "  File \"/usr/local/lib/python3.10/dist-packages/ray/_private/auto_init_hook.py\", line 21, in auto_init_wrapper\n",
            "    return fn(*args, **kwargs)\n",
            "  File \"/usr/local/lib/python3.10/dist-packages/ray/_private/client_mode_hook.py\", line 103, in wrapper\n",
            "    return func(*args, **kwargs)\n",
            "  File \"/usr/local/lib/python3.10/dist-packages/ray/_private/worker.py\", line 2753, in get\n",
            "    values, debugger_breakpoint = worker.get_objects(object_refs, timeout=timeout)\n",
            "  File \"/usr/local/lib/python3.10/dist-packages/ray/_private/worker.py\", line 904, in get_objects\n",
            "    raise value.as_instanceof_cause()\n",
            "ray.exceptions.RayTaskError(AttributeError): \u001b[36mray::ImplicitFunc.train()\u001b[39m (pid=3483, ip=172.28.0.12, actor_id=cf345de542c0cf3070e5c57c01000000, repr=train_mnist)\n",
            "  File \"/usr/local/lib/python3.10/dist-packages/ray/tune/trainable/trainable.py\", line 331, in train\n",
            "    raise skipped from exception_cause(skipped)\n",
            "  File \"/usr/local/lib/python3.10/dist-packages/ray/air/_internal/util.py\", line 104, in run\n",
            "    self._ret = self._target(*self._args, **self._kwargs)\n",
            "  File \"/usr/local/lib/python3.10/dist-packages/ray/tune/trainable/function_trainable.py\", line 45, in <lambda>\n",
            "    training_func=lambda: self._trainable_func(self.config),\n",
            "  File \"/usr/local/lib/python3.10/dist-packages/ray/tune/trainable/function_trainable.py\", line 250, in _trainable_func\n",
            "    output = fn()\n",
            "  File \"<ipython-input-3-8222499238c3>\", line 78, in train_mnist\n",
            "AttributeError: module 'ray.tune' has no attribute 'report'\n"
          ]
        },
        {
          "name": "stdout",
          "output_type": "stream",
          "text": [
            "\n",
            "Trial train_mnist_72e7b_00012 errored after 0 iterations at 2024-11-13 17:18:38. Total running time: 6min 14s\n",
            "Error file: /tmp/ray/session_2024-11-13_17-12-15_277287_683/artifacts/2024-11-13_17-12-23/train_mnist_2024-11-13_17-12-23/driver_artifacts/train_mnist_72e7b_00012_12_batch_size=32,lr=0.0000,n_layers=1,n_units=64_2024-11-13_17-12-41/error.txt\n",
            "\n",
            "Trial status: 13 ERROR | 1 RUNNING | 6 PENDING\n",
            "Current time: 2024-11-13 17:18:47. Total running time: 6min 24s\n",
            "Logical resource usage: 2.0/2 CPUs, 0/0 GPUs\n",
            "+------------------------------------------------------------------------------------------+\n",
            "| Trial name                status              lr     batch_size     n_layers     n_units |\n",
            "+------------------------------------------------------------------------------------------+\n",
            "| train_mnist_72e7b_00013   RUNNING    3.86109e-05             32            3         128 |\n",
            "| train_mnist_72e7b_00014   PENDING    0.000190781             64            2          64 |\n",
            "| train_mnist_72e7b_00015   PENDING    0.000135533            128            3         128 |\n",
            "| train_mnist_72e7b_00016   PENDING    0.000180571             32            3         128 |\n",
            "| train_mnist_72e7b_00017   PENDING    0.0004525               64            3         128 |\n",
            "| train_mnist_72e7b_00018   PENDING    5.73823e-05             32            3          32 |\n",
            "| train_mnist_72e7b_00019   PENDING    0.000175165            128            1          64 |\n",
            "| train_mnist_72e7b_00000   ERROR      0.000105659             64            2         128 |\n",
            "| train_mnist_72e7b_00001   ERROR      0.00118331              64            3         128 |\n",
            "| train_mnist_72e7b_00002   ERROR      5.91159e-05            128            2          32 |\n",
            "| train_mnist_72e7b_00003   ERROR      0.00611151              32            2         128 |\n",
            "| train_mnist_72e7b_00004   ERROR      0.00223458             128            2          32 |\n",
            "| train_mnist_72e7b_00005   ERROR      0.00289927             128            3          32 |\n",
            "| train_mnist_72e7b_00006   ERROR      0.0008884               32            1          64 |\n",
            "| train_mnist_72e7b_00007   ERROR      0.000242121            128            1          32 |\n",
            "| train_mnist_72e7b_00008   ERROR      0.00366188              64            3          32 |\n",
            "| train_mnist_72e7b_00009   ERROR      8.52954e-05             32            3          32 |\n",
            "| train_mnist_72e7b_00010   ERROR      0.00280513              32            2         128 |\n",
            "| train_mnist_72e7b_00011   ERROR      1.78921e-05             64            3         128 |\n",
            "| train_mnist_72e7b_00012   ERROR      2.09159e-05             32            1          64 |\n",
            "+------------------------------------------------------------------------------------------+\n"
          ]
        },
        {
          "name": "stderr",
          "output_type": "stream",
          "text": [
            "2024-11-13 17:18:51,300\tERROR tune_controller.py:1331 -- Trial task failed for trial train_mnist_72e7b_00013\n",
            "Traceback (most recent call last):\n",
            "  File \"/usr/local/lib/python3.10/dist-packages/ray/air/execution/_internal/event_manager.py\", line 110, in resolve_future\n",
            "    result = ray.get(future)\n",
            "  File \"/usr/local/lib/python3.10/dist-packages/ray/_private/auto_init_hook.py\", line 21, in auto_init_wrapper\n",
            "    return fn(*args, **kwargs)\n",
            "  File \"/usr/local/lib/python3.10/dist-packages/ray/_private/client_mode_hook.py\", line 103, in wrapper\n",
            "    return func(*args, **kwargs)\n",
            "  File \"/usr/local/lib/python3.10/dist-packages/ray/_private/worker.py\", line 2753, in get\n",
            "    values, debugger_breakpoint = worker.get_objects(object_refs, timeout=timeout)\n",
            "  File \"/usr/local/lib/python3.10/dist-packages/ray/_private/worker.py\", line 904, in get_objects\n",
            "    raise value.as_instanceof_cause()\n",
            "ray.exceptions.RayTaskError(AttributeError): \u001b[36mray::ImplicitFunc.train()\u001b[39m (pid=3569, ip=172.28.0.12, actor_id=108831311f43e5e3e74cb61301000000, repr=train_mnist)\n",
            "  File \"/usr/local/lib/python3.10/dist-packages/ray/tune/trainable/trainable.py\", line 331, in train\n",
            "    raise skipped from exception_cause(skipped)\n",
            "  File \"/usr/local/lib/python3.10/dist-packages/ray/air/_internal/util.py\", line 104, in run\n",
            "    self._ret = self._target(*self._args, **self._kwargs)\n",
            "  File \"/usr/local/lib/python3.10/dist-packages/ray/tune/trainable/function_trainable.py\", line 45, in <lambda>\n",
            "    training_func=lambda: self._trainable_func(self.config),\n",
            "  File \"/usr/local/lib/python3.10/dist-packages/ray/tune/trainable/function_trainable.py\", line 250, in _trainable_func\n",
            "    output = fn()\n",
            "  File \"<ipython-input-3-8222499238c3>\", line 78, in train_mnist\n",
            "AttributeError: module 'ray.tune' has no attribute 'report'\n"
          ]
        },
        {
          "name": "stdout",
          "output_type": "stream",
          "text": [
            "\n",
            "Trial train_mnist_72e7b_00013 errored after 0 iterations at 2024-11-13 17:18:51. Total running time: 6min 27s\n",
            "Error file: /tmp/ray/session_2024-11-13_17-12-15_277287_683/artifacts/2024-11-13_17-12-23/train_mnist_2024-11-13_17-12-23/driver_artifacts/train_mnist_72e7b_00013_13_batch_size=32,lr=0.0000,n_layers=3,n_units=128_2024-11-13_17-12-42/error.txt\n",
            "\n",
            "Trial train_mnist_72e7b_00014 started with configuration:\n",
            "+--------------------------------------------------+\n",
            "| Trial train_mnist_72e7b_00014 config             |\n",
            "+--------------------------------------------------+\n",
            "| batch_size                                    64 |\n",
            "| lr                                       0.00019 |\n",
            "| n_layers                                       2 |\n",
            "| n_units                                       64 |\n",
            "+--------------------------------------------------+\n",
            "\n",
            "Trial train_mnist_72e7b_00015 started with configuration:\n",
            "+--------------------------------------------------+\n",
            "| Trial train_mnist_72e7b_00015 config             |\n",
            "+--------------------------------------------------+\n",
            "| batch_size                                   128 |\n",
            "| lr                                       0.00014 |\n",
            "| n_layers                                       3 |\n",
            "| n_units                                      128 |\n",
            "+--------------------------------------------------+\n",
            "\n",
            "Trial status: 14 ERROR | 2 RUNNING | 4 PENDING\n",
            "Current time: 2024-11-13 17:19:17. Total running time: 6min 54s\n",
            "Logical resource usage: 2.0/2 CPUs, 0/0 GPUs\n",
            "+------------------------------------------------------------------------------------------+\n",
            "| Trial name                status              lr     batch_size     n_layers     n_units |\n",
            "+------------------------------------------------------------------------------------------+\n",
            "| train_mnist_72e7b_00014   RUNNING    0.000190781             64            2          64 |\n",
            "| train_mnist_72e7b_00015   RUNNING    0.000135533            128            3         128 |\n",
            "| train_mnist_72e7b_00016   PENDING    0.000180571             32            3         128 |\n",
            "| train_mnist_72e7b_00017   PENDING    0.0004525               64            3         128 |\n",
            "| train_mnist_72e7b_00018   PENDING    5.73823e-05             32            3          32 |\n",
            "| train_mnist_72e7b_00019   PENDING    0.000175165            128            1          64 |\n",
            "| train_mnist_72e7b_00000   ERROR      0.000105659             64            2         128 |\n",
            "| train_mnist_72e7b_00001   ERROR      0.00118331              64            3         128 |\n",
            "| train_mnist_72e7b_00002   ERROR      5.91159e-05            128            2          32 |\n",
            "| train_mnist_72e7b_00003   ERROR      0.00611151              32            2         128 |\n",
            "| train_mnist_72e7b_00004   ERROR      0.00223458             128            2          32 |\n",
            "| train_mnist_72e7b_00005   ERROR      0.00289927             128            3          32 |\n",
            "| train_mnist_72e7b_00006   ERROR      0.0008884               32            1          64 |\n",
            "| train_mnist_72e7b_00007   ERROR      0.000242121            128            1          32 |\n",
            "| train_mnist_72e7b_00008   ERROR      0.00366188              64            3          32 |\n",
            "| train_mnist_72e7b_00009   ERROR      8.52954e-05             32            3          32 |\n",
            "| train_mnist_72e7b_00010   ERROR      0.00280513              32            2         128 |\n",
            "| train_mnist_72e7b_00011   ERROR      1.78921e-05             64            3         128 |\n",
            "| train_mnist_72e7b_00012   ERROR      2.09159e-05             32            1          64 |\n",
            "| train_mnist_72e7b_00013   ERROR      3.86109e-05             32            3         128 |\n",
            "+------------------------------------------------------------------------------------------+\n"
          ]
        },
        {
          "name": "stderr",
          "output_type": "stream",
          "text": [
            "2024-11-13 17:19:27,909\tERROR tune_controller.py:1331 -- Trial task failed for trial train_mnist_72e7b_00014\n",
            "Traceback (most recent call last):\n",
            "  File \"/usr/local/lib/python3.10/dist-packages/ray/air/execution/_internal/event_manager.py\", line 110, in resolve_future\n",
            "    result = ray.get(future)\n",
            "  File \"/usr/local/lib/python3.10/dist-packages/ray/_private/auto_init_hook.py\", line 21, in auto_init_wrapper\n",
            "    return fn(*args, **kwargs)\n",
            "  File \"/usr/local/lib/python3.10/dist-packages/ray/_private/client_mode_hook.py\", line 103, in wrapper\n",
            "    return func(*args, **kwargs)\n",
            "  File \"/usr/local/lib/python3.10/dist-packages/ray/_private/worker.py\", line 2753, in get\n",
            "    values, debugger_breakpoint = worker.get_objects(object_refs, timeout=timeout)\n",
            "  File \"/usr/local/lib/python3.10/dist-packages/ray/_private/worker.py\", line 904, in get_objects\n",
            "    raise value.as_instanceof_cause()\n",
            "ray.exceptions.RayTaskError(AttributeError): \u001b[36mray::ImplicitFunc.train()\u001b[39m (pid=3818, ip=172.28.0.12, actor_id=2b06190ecc38075a7f3b5c9301000000, repr=train_mnist)\n",
            "  File \"/usr/local/lib/python3.10/dist-packages/ray/tune/trainable/trainable.py\", line 331, in train\n",
            "    raise skipped from exception_cause(skipped)\n",
            "  File \"/usr/local/lib/python3.10/dist-packages/ray/air/_internal/util.py\", line 104, in run\n",
            "    self._ret = self._target(*self._args, **self._kwargs)\n",
            "  File \"/usr/local/lib/python3.10/dist-packages/ray/tune/trainable/function_trainable.py\", line 45, in <lambda>\n",
            "    training_func=lambda: self._trainable_func(self.config),\n",
            "  File \"/usr/local/lib/python3.10/dist-packages/ray/tune/trainable/function_trainable.py\", line 250, in _trainable_func\n",
            "    output = fn()\n",
            "  File \"<ipython-input-3-8222499238c3>\", line 78, in train_mnist\n",
            "AttributeError: module 'ray.tune' has no attribute 'report'\n"
          ]
        },
        {
          "name": "stdout",
          "output_type": "stream",
          "text": [
            "\n",
            "Trial train_mnist_72e7b_00014 errored after 0 iterations at 2024-11-13 17:19:27. Total running time: 7min 4s\n",
            "Error file: /tmp/ray/session_2024-11-13_17-12-15_277287_683/artifacts/2024-11-13_17-12-23/train_mnist_2024-11-13_17-12-23/driver_artifacts/train_mnist_72e7b_00014_14_batch_size=64,lr=0.0002,n_layers=2,n_units=64_2024-11-13_17-12-42/error.txt\n"
          ]
        },
        {
          "name": "stderr",
          "output_type": "stream",
          "text": [
            "2024-11-13 17:19:40,672\tERROR tune_controller.py:1331 -- Trial task failed for trial train_mnist_72e7b_00015\n",
            "Traceback (most recent call last):\n",
            "  File \"/usr/local/lib/python3.10/dist-packages/ray/air/execution/_internal/event_manager.py\", line 110, in resolve_future\n",
            "    result = ray.get(future)\n",
            "  File \"/usr/local/lib/python3.10/dist-packages/ray/_private/auto_init_hook.py\", line 21, in auto_init_wrapper\n",
            "    return fn(*args, **kwargs)\n",
            "  File \"/usr/local/lib/python3.10/dist-packages/ray/_private/client_mode_hook.py\", line 103, in wrapper\n",
            "    return func(*args, **kwargs)\n",
            "  File \"/usr/local/lib/python3.10/dist-packages/ray/_private/worker.py\", line 2753, in get\n",
            "    values, debugger_breakpoint = worker.get_objects(object_refs, timeout=timeout)\n",
            "  File \"/usr/local/lib/python3.10/dist-packages/ray/_private/worker.py\", line 904, in get_objects\n",
            "    raise value.as_instanceof_cause()\n",
            "ray.exceptions.RayTaskError(AttributeError): \u001b[36mray::ImplicitFunc.train()\u001b[39m (pid=3936, ip=172.28.0.12, actor_id=41e6b3082bdc2b5ef72d80bf01000000, repr=train_mnist)\n",
            "  File \"/usr/local/lib/python3.10/dist-packages/ray/tune/trainable/trainable.py\", line 331, in train\n",
            "    raise skipped from exception_cause(skipped)\n",
            "  File \"/usr/local/lib/python3.10/dist-packages/ray/air/_internal/util.py\", line 104, in run\n",
            "    self._ret = self._target(*self._args, **self._kwargs)\n",
            "  File \"/usr/local/lib/python3.10/dist-packages/ray/tune/trainable/function_trainable.py\", line 45, in <lambda>\n",
            "    training_func=lambda: self._trainable_func(self.config),\n",
            "  File \"/usr/local/lib/python3.10/dist-packages/ray/tune/trainable/function_trainable.py\", line 250, in _trainable_func\n",
            "    output = fn()\n",
            "  File \"<ipython-input-3-8222499238c3>\", line 78, in train_mnist\n",
            "AttributeError: module 'ray.tune' has no attribute 'report'\n"
          ]
        },
        {
          "name": "stdout",
          "output_type": "stream",
          "text": [
            "\n",
            "Trial train_mnist_72e7b_00015 errored after 0 iterations at 2024-11-13 17:19:40. Total running time: 7min 17s\n",
            "Error file: /tmp/ray/session_2024-11-13_17-12-15_277287_683/artifacts/2024-11-13_17-12-23/train_mnist_2024-11-13_17-12-23/driver_artifacts/train_mnist_72e7b_00015_15_batch_size=128,lr=0.0001,n_layers=3,n_units=128_2024-11-13_17-12-43/error.txt\n",
            "\n",
            "Trial train_mnist_72e7b_00016 started with configuration:\n",
            "+--------------------------------------------------+\n",
            "| Trial train_mnist_72e7b_00016 config             |\n",
            "+--------------------------------------------------+\n",
            "| batch_size                                    32 |\n",
            "| lr                                       0.00018 |\n",
            "| n_layers                                       3 |\n",
            "| n_units                                      128 |\n",
            "+--------------------------------------------------+\n",
            "\n",
            "Trial status: 16 ERROR | 1 RUNNING | 3 PENDING\n",
            "Current time: 2024-11-13 17:19:47. Total running time: 7min 24s\n",
            "Logical resource usage: 2.0/2 CPUs, 0/0 GPUs\n",
            "+------------------------------------------------------------------------------------------+\n",
            "| Trial name                status              lr     batch_size     n_layers     n_units |\n",
            "+------------------------------------------------------------------------------------------+\n",
            "| train_mnist_72e7b_00016   RUNNING    0.000180571             32            3         128 |\n",
            "| train_mnist_72e7b_00017   PENDING    0.0004525               64            3         128 |\n",
            "| train_mnist_72e7b_00018   PENDING    5.73823e-05             32            3          32 |\n",
            "| train_mnist_72e7b_00019   PENDING    0.000175165            128            1          64 |\n",
            "| train_mnist_72e7b_00000   ERROR      0.000105659             64            2         128 |\n",
            "| train_mnist_72e7b_00001   ERROR      0.00118331              64            3         128 |\n",
            "| train_mnist_72e7b_00002   ERROR      5.91159e-05            128            2          32 |\n",
            "| train_mnist_72e7b_00003   ERROR      0.00611151              32            2         128 |\n",
            "| train_mnist_72e7b_00004   ERROR      0.00223458             128            2          32 |\n",
            "| train_mnist_72e7b_00005   ERROR      0.00289927             128            3          32 |\n",
            "| train_mnist_72e7b_00006   ERROR      0.0008884               32            1          64 |\n",
            "| train_mnist_72e7b_00007   ERROR      0.000242121            128            1          32 |\n",
            "| train_mnist_72e7b_00008   ERROR      0.00366188              64            3          32 |\n",
            "| train_mnist_72e7b_00009   ERROR      8.52954e-05             32            3          32 |\n",
            "| train_mnist_72e7b_00010   ERROR      0.00280513              32            2         128 |\n",
            "| train_mnist_72e7b_00011   ERROR      1.78921e-05             64            3         128 |\n",
            "| train_mnist_72e7b_00012   ERROR      2.09159e-05             32            1          64 |\n",
            "| train_mnist_72e7b_00013   ERROR      3.86109e-05             32            3         128 |\n",
            "| train_mnist_72e7b_00014   ERROR      0.000190781             64            2          64 |\n",
            "| train_mnist_72e7b_00015   ERROR      0.000135533            128            3         128 |\n",
            "+------------------------------------------------------------------------------------------+\n",
            "\n",
            "Trial train_mnist_72e7b_00017 started with configuration:\n",
            "+--------------------------------------------------+\n",
            "| Trial train_mnist_72e7b_00017 config             |\n",
            "+--------------------------------------------------+\n",
            "| batch_size                                    64 |\n",
            "| lr                                       0.00045 |\n",
            "| n_layers                                       3 |\n",
            "| n_units                                      128 |\n",
            "+--------------------------------------------------+\n",
            "\n",
            "Trial status: 16 ERROR | 2 RUNNING | 2 PENDING\n",
            "Current time: 2024-11-13 17:20:17. Total running time: 7min 54s\n",
            "Logical resource usage: 2.0/2 CPUs, 0/0 GPUs\n",
            "+------------------------------------------------------------------------------------------+\n",
            "| Trial name                status              lr     batch_size     n_layers     n_units |\n",
            "+------------------------------------------------------------------------------------------+\n",
            "| train_mnist_72e7b_00016   RUNNING    0.000180571             32            3         128 |\n",
            "| train_mnist_72e7b_00017   RUNNING    0.0004525               64            3         128 |\n",
            "| train_mnist_72e7b_00018   PENDING    5.73823e-05             32            3          32 |\n",
            "| train_mnist_72e7b_00019   PENDING    0.000175165            128            1          64 |\n",
            "| train_mnist_72e7b_00000   ERROR      0.000105659             64            2         128 |\n",
            "| train_mnist_72e7b_00001   ERROR      0.00118331              64            3         128 |\n",
            "| train_mnist_72e7b_00002   ERROR      5.91159e-05            128            2          32 |\n",
            "| train_mnist_72e7b_00003   ERROR      0.00611151              32            2         128 |\n",
            "| train_mnist_72e7b_00004   ERROR      0.00223458             128            2          32 |\n",
            "| train_mnist_72e7b_00005   ERROR      0.00289927             128            3          32 |\n",
            "| train_mnist_72e7b_00006   ERROR      0.0008884               32            1          64 |\n",
            "| train_mnist_72e7b_00007   ERROR      0.000242121            128            1          32 |\n",
            "| train_mnist_72e7b_00008   ERROR      0.00366188              64            3          32 |\n",
            "| train_mnist_72e7b_00009   ERROR      8.52954e-05             32            3          32 |\n",
            "| train_mnist_72e7b_00010   ERROR      0.00280513              32            2         128 |\n",
            "| train_mnist_72e7b_00011   ERROR      1.78921e-05             64            3         128 |\n",
            "| train_mnist_72e7b_00012   ERROR      2.09159e-05             32            1          64 |\n",
            "| train_mnist_72e7b_00013   ERROR      3.86109e-05             32            3         128 |\n",
            "| train_mnist_72e7b_00014   ERROR      0.000190781             64            2          64 |\n",
            "| train_mnist_72e7b_00015   ERROR      0.000135533            128            3         128 |\n",
            "+------------------------------------------------------------------------------------------+\n"
          ]
        },
        {
          "name": "stderr",
          "output_type": "stream",
          "text": [
            "2024-11-13 17:20:26,477\tERROR tune_controller.py:1331 -- Trial task failed for trial train_mnist_72e7b_00016\n",
            "Traceback (most recent call last):\n",
            "  File \"/usr/local/lib/python3.10/dist-packages/ray/air/execution/_internal/event_manager.py\", line 110, in resolve_future\n",
            "    result = ray.get(future)\n",
            "  File \"/usr/local/lib/python3.10/dist-packages/ray/_private/auto_init_hook.py\", line 21, in auto_init_wrapper\n",
            "    return fn(*args, **kwargs)\n",
            "  File \"/usr/local/lib/python3.10/dist-packages/ray/_private/client_mode_hook.py\", line 103, in wrapper\n",
            "    return func(*args, **kwargs)\n",
            "  File \"/usr/local/lib/python3.10/dist-packages/ray/_private/worker.py\", line 2753, in get\n",
            "    values, debugger_breakpoint = worker.get_objects(object_refs, timeout=timeout)\n",
            "  File \"/usr/local/lib/python3.10/dist-packages/ray/_private/worker.py\", line 904, in get_objects\n",
            "    raise value.as_instanceof_cause()\n",
            "ray.exceptions.RayTaskError(AttributeError): \u001b[36mray::ImplicitFunc.train()\u001b[39m (pid=4153, ip=172.28.0.12, actor_id=710791ed9d74243b9e940cad01000000, repr=train_mnist)\n",
            "  File \"/usr/local/lib/python3.10/dist-packages/ray/tune/trainable/trainable.py\", line 331, in train\n",
            "    raise skipped from exception_cause(skipped)\n",
            "  File \"/usr/local/lib/python3.10/dist-packages/ray/air/_internal/util.py\", line 104, in run\n",
            "    self._ret = self._target(*self._args, **self._kwargs)\n",
            "  File \"/usr/local/lib/python3.10/dist-packages/ray/tune/trainable/function_trainable.py\", line 45, in <lambda>\n",
            "    training_func=lambda: self._trainable_func(self.config),\n",
            "  File \"/usr/local/lib/python3.10/dist-packages/ray/tune/trainable/function_trainable.py\", line 250, in _trainable_func\n",
            "    output = fn()\n",
            "  File \"<ipython-input-3-8222499238c3>\", line 78, in train_mnist\n",
            "AttributeError: module 'ray.tune' has no attribute 'report'\n"
          ]
        },
        {
          "name": "stdout",
          "output_type": "stream",
          "text": [
            "\n",
            "Trial train_mnist_72e7b_00016 errored after 0 iterations at 2024-11-13 17:20:26. Total running time: 8min 3s\n",
            "Error file: /tmp/ray/session_2024-11-13_17-12-15_277287_683/artifacts/2024-11-13_17-12-23/train_mnist_2024-11-13_17-12-23/driver_artifacts/train_mnist_72e7b_00016_16_batch_size=32,lr=0.0002,n_layers=3,n_units=128_2024-11-13_17-12-43/error.txt\n"
          ]
        },
        {
          "name": "stderr",
          "output_type": "stream",
          "text": [
            "2024-11-13 17:20:34,351\tERROR tune_controller.py:1331 -- Trial task failed for trial train_mnist_72e7b_00017\n",
            "Traceback (most recent call last):\n",
            "  File \"/usr/local/lib/python3.10/dist-packages/ray/air/execution/_internal/event_manager.py\", line 110, in resolve_future\n",
            "    result = ray.get(future)\n",
            "  File \"/usr/local/lib/python3.10/dist-packages/ray/_private/auto_init_hook.py\", line 21, in auto_init_wrapper\n",
            "    return fn(*args, **kwargs)\n",
            "  File \"/usr/local/lib/python3.10/dist-packages/ray/_private/client_mode_hook.py\", line 103, in wrapper\n",
            "    return func(*args, **kwargs)\n",
            "  File \"/usr/local/lib/python3.10/dist-packages/ray/_private/worker.py\", line 2753, in get\n",
            "    values, debugger_breakpoint = worker.get_objects(object_refs, timeout=timeout)\n",
            "  File \"/usr/local/lib/python3.10/dist-packages/ray/_private/worker.py\", line 904, in get_objects\n",
            "    raise value.as_instanceof_cause()\n",
            "ray.exceptions.RayTaskError(AttributeError): \u001b[36mray::ImplicitFunc.train()\u001b[39m (pid=4266, ip=172.28.0.12, actor_id=2a82b730313a632aa300467001000000, repr=train_mnist)\n",
            "  File \"/usr/local/lib/python3.10/dist-packages/ray/tune/trainable/trainable.py\", line 331, in train\n",
            "    raise skipped from exception_cause(skipped)\n",
            "  File \"/usr/local/lib/python3.10/dist-packages/ray/air/_internal/util.py\", line 104, in run\n",
            "    self._ret = self._target(*self._args, **self._kwargs)\n",
            "  File \"/usr/local/lib/python3.10/dist-packages/ray/tune/trainable/function_trainable.py\", line 45, in <lambda>\n",
            "    training_func=lambda: self._trainable_func(self.config),\n",
            "  File \"/usr/local/lib/python3.10/dist-packages/ray/tune/trainable/function_trainable.py\", line 250, in _trainable_func\n",
            "    output = fn()\n",
            "  File \"<ipython-input-3-8222499238c3>\", line 78, in train_mnist\n",
            "AttributeError: module 'ray.tune' has no attribute 'report'\n"
          ]
        },
        {
          "name": "stdout",
          "output_type": "stream",
          "text": [
            "\n",
            "Trial train_mnist_72e7b_00017 errored after 0 iterations at 2024-11-13 17:20:34. Total running time: 8min 10s\n",
            "Error file: /tmp/ray/session_2024-11-13_17-12-15_277287_683/artifacts/2024-11-13_17-12-23/train_mnist_2024-11-13_17-12-23/driver_artifacts/train_mnist_72e7b_00017_17_batch_size=64,lr=0.0005,n_layers=3,n_units=128_2024-11-13_17-12-44/error.txt\n",
            "\n",
            "Trial train_mnist_72e7b_00018 started with configuration:\n",
            "+------------------------------------------------+\n",
            "| Trial train_mnist_72e7b_00018 config           |\n",
            "+------------------------------------------------+\n",
            "| batch_size                                  32 |\n",
            "| lr                                       6e-05 |\n",
            "| n_layers                                     3 |\n",
            "| n_units                                     32 |\n",
            "+------------------------------------------------+\n",
            "\n",
            "Trial train_mnist_72e7b_00019 started with configuration:\n",
            "+--------------------------------------------------+\n",
            "| Trial train_mnist_72e7b_00019 config             |\n",
            "+--------------------------------------------------+\n",
            "| batch_size                                   128 |\n",
            "| lr                                       0.00018 |\n",
            "| n_layers                                       1 |\n",
            "| n_units                                       64 |\n",
            "+--------------------------------------------------+\n",
            "\n",
            "Trial status: 18 ERROR | 2 RUNNING\n",
            "Current time: 2024-11-13 17:20:48. Total running time: 8min 24s\n",
            "Logical resource usage: 2.0/2 CPUs, 0/0 GPUs\n",
            "+------------------------------------------------------------------------------------------+\n",
            "| Trial name                status              lr     batch_size     n_layers     n_units |\n",
            "+------------------------------------------------------------------------------------------+\n",
            "| train_mnist_72e7b_00018   RUNNING    5.73823e-05             32            3          32 |\n",
            "| train_mnist_72e7b_00019   RUNNING    0.000175165            128            1          64 |\n",
            "| train_mnist_72e7b_00000   ERROR      0.000105659             64            2         128 |\n",
            "| train_mnist_72e7b_00001   ERROR      0.00118331              64            3         128 |\n",
            "| train_mnist_72e7b_00002   ERROR      5.91159e-05            128            2          32 |\n",
            "| train_mnist_72e7b_00003   ERROR      0.00611151              32            2         128 |\n",
            "| train_mnist_72e7b_00004   ERROR      0.00223458             128            2          32 |\n",
            "| train_mnist_72e7b_00005   ERROR      0.00289927             128            3          32 |\n",
            "| train_mnist_72e7b_00006   ERROR      0.0008884               32            1          64 |\n",
            "| train_mnist_72e7b_00007   ERROR      0.000242121            128            1          32 |\n",
            "| train_mnist_72e7b_00008   ERROR      0.00366188              64            3          32 |\n",
            "| train_mnist_72e7b_00009   ERROR      8.52954e-05             32            3          32 |\n",
            "| train_mnist_72e7b_00010   ERROR      0.00280513              32            2         128 |\n",
            "| train_mnist_72e7b_00011   ERROR      1.78921e-05             64            3         128 |\n",
            "| train_mnist_72e7b_00012   ERROR      2.09159e-05             32            1          64 |\n",
            "| train_mnist_72e7b_00013   ERROR      3.86109e-05             32            3         128 |\n",
            "| train_mnist_72e7b_00014   ERROR      0.000190781             64            2          64 |\n",
            "| train_mnist_72e7b_00015   ERROR      0.000135533            128            3         128 |\n",
            "| train_mnist_72e7b_00016   ERROR      0.000180571             32            3         128 |\n",
            "| train_mnist_72e7b_00017   ERROR      0.0004525               64            3         128 |\n",
            "+------------------------------------------------------------------------------------------+\n",
            "Trial status: 18 ERROR | 2 RUNNING\n",
            "Current time: 2024-11-13 17:21:18. Total running time: 8min 54s\n",
            "Logical resource usage: 2.0/2 CPUs, 0/0 GPUs\n",
            "+------------------------------------------------------------------------------------------+\n",
            "| Trial name                status              lr     batch_size     n_layers     n_units |\n",
            "+------------------------------------------------------------------------------------------+\n",
            "| train_mnist_72e7b_00018   RUNNING    5.73823e-05             32            3          32 |\n",
            "| train_mnist_72e7b_00019   RUNNING    0.000175165            128            1          64 |\n",
            "| train_mnist_72e7b_00000   ERROR      0.000105659             64            2         128 |\n",
            "| train_mnist_72e7b_00001   ERROR      0.00118331              64            3         128 |\n",
            "| train_mnist_72e7b_00002   ERROR      5.91159e-05            128            2          32 |\n",
            "| train_mnist_72e7b_00003   ERROR      0.00611151              32            2         128 |\n",
            "| train_mnist_72e7b_00004   ERROR      0.00223458             128            2          32 |\n",
            "| train_mnist_72e7b_00005   ERROR      0.00289927             128            3          32 |\n",
            "| train_mnist_72e7b_00006   ERROR      0.0008884               32            1          64 |\n",
            "| train_mnist_72e7b_00007   ERROR      0.000242121            128            1          32 |\n",
            "| train_mnist_72e7b_00008   ERROR      0.00366188              64            3          32 |\n",
            "| train_mnist_72e7b_00009   ERROR      8.52954e-05             32            3          32 |\n",
            "| train_mnist_72e7b_00010   ERROR      0.00280513              32            2         128 |\n",
            "| train_mnist_72e7b_00011   ERROR      1.78921e-05             64            3         128 |\n",
            "| train_mnist_72e7b_00012   ERROR      2.09159e-05             32            1          64 |\n",
            "| train_mnist_72e7b_00013   ERROR      3.86109e-05             32            3         128 |\n",
            "| train_mnist_72e7b_00014   ERROR      0.000190781             64            2          64 |\n",
            "| train_mnist_72e7b_00015   ERROR      0.000135533            128            3         128 |\n",
            "| train_mnist_72e7b_00016   ERROR      0.000180571             32            3         128 |\n",
            "| train_mnist_72e7b_00017   ERROR      0.0004525               64            3         128 |\n",
            "+------------------------------------------------------------------------------------------+\n"
          ]
        },
        {
          "name": "stderr",
          "output_type": "stream",
          "text": [
            "2024-11-13 17:21:20,279\tERROR tune_controller.py:1331 -- Trial task failed for trial train_mnist_72e7b_00018\n",
            "Traceback (most recent call last):\n",
            "  File \"/usr/local/lib/python3.10/dist-packages/ray/air/execution/_internal/event_manager.py\", line 110, in resolve_future\n",
            "    result = ray.get(future)\n",
            "  File \"/usr/local/lib/python3.10/dist-packages/ray/_private/auto_init_hook.py\", line 21, in auto_init_wrapper\n",
            "    return fn(*args, **kwargs)\n",
            "  File \"/usr/local/lib/python3.10/dist-packages/ray/_private/client_mode_hook.py\", line 103, in wrapper\n",
            "    return func(*args, **kwargs)\n",
            "  File \"/usr/local/lib/python3.10/dist-packages/ray/_private/worker.py\", line 2753, in get\n",
            "    values, debugger_breakpoint = worker.get_objects(object_refs, timeout=timeout)\n",
            "  File \"/usr/local/lib/python3.10/dist-packages/ray/_private/worker.py\", line 904, in get_objects\n",
            "    raise value.as_instanceof_cause()\n",
            "ray.exceptions.RayTaskError(AttributeError): \u001b[36mray::ImplicitFunc.train()\u001b[39m (pid=4519, ip=172.28.0.12, actor_id=8998bd67a57acceaeded0ec601000000, repr=train_mnist)\n",
            "  File \"/usr/local/lib/python3.10/dist-packages/ray/tune/trainable/trainable.py\", line 331, in train\n",
            "    raise skipped from exception_cause(skipped)\n",
            "  File \"/usr/local/lib/python3.10/dist-packages/ray/air/_internal/util.py\", line 104, in run\n",
            "    self._ret = self._target(*self._args, **self._kwargs)\n",
            "  File \"/usr/local/lib/python3.10/dist-packages/ray/tune/trainable/function_trainable.py\", line 45, in <lambda>\n",
            "    training_func=lambda: self._trainable_func(self.config),\n",
            "  File \"/usr/local/lib/python3.10/dist-packages/ray/tune/trainable/function_trainable.py\", line 250, in _trainable_func\n",
            "    output = fn()\n",
            "  File \"<ipython-input-3-8222499238c3>\", line 78, in train_mnist\n",
            "AttributeError: module 'ray.tune' has no attribute 'report'\n",
            "2024-11-13 17:21:20,377\tERROR tune_controller.py:1331 -- Trial task failed for trial train_mnist_72e7b_00019\n",
            "Traceback (most recent call last):\n",
            "  File \"/usr/local/lib/python3.10/dist-packages/ray/air/execution/_internal/event_manager.py\", line 110, in resolve_future\n",
            "    result = ray.get(future)\n",
            "  File \"/usr/local/lib/python3.10/dist-packages/ray/_private/auto_init_hook.py\", line 21, in auto_init_wrapper\n",
            "    return fn(*args, **kwargs)\n",
            "  File \"/usr/local/lib/python3.10/dist-packages/ray/_private/client_mode_hook.py\", line 103, in wrapper\n",
            "    return func(*args, **kwargs)\n",
            "  File \"/usr/local/lib/python3.10/dist-packages/ray/_private/worker.py\", line 2753, in get\n",
            "    values, debugger_breakpoint = worker.get_objects(object_refs, timeout=timeout)\n",
            "  File \"/usr/local/lib/python3.10/dist-packages/ray/_private/worker.py\", line 904, in get_objects\n",
            "    raise value.as_instanceof_cause()\n",
            "ray.exceptions.RayTaskError(AttributeError): \u001b[36mray::ImplicitFunc.train()\u001b[39m (pid=4615, ip=172.28.0.12, actor_id=a79fc895708ba23474ccebbb01000000, repr=train_mnist)\n",
            "  File \"/usr/local/lib/python3.10/dist-packages/ray/tune/trainable/trainable.py\", line 331, in train\n",
            "    raise skipped from exception_cause(skipped)\n",
            "  File \"/usr/local/lib/python3.10/dist-packages/ray/air/_internal/util.py\", line 104, in run\n",
            "    self._ret = self._target(*self._args, **self._kwargs)\n",
            "  File \"/usr/local/lib/python3.10/dist-packages/ray/tune/trainable/function_trainable.py\", line 45, in <lambda>\n",
            "    training_func=lambda: self._trainable_func(self.config),\n",
            "  File \"/usr/local/lib/python3.10/dist-packages/ray/tune/trainable/function_trainable.py\", line 250, in _trainable_func\n",
            "    output = fn()\n",
            "  File \"<ipython-input-3-8222499238c3>\", line 78, in train_mnist\n",
            "AttributeError: module 'ray.tune' has no attribute 'report'\n",
            "2024-11-13 17:21:20,429\tINFO tune.py:1009 -- Wrote the latest version of all result files and experiment state to '/root/ray_results/train_mnist_2024-11-13_17-12-23' in 0.0421s.\n"
          ]
        },
        {
          "name": "stdout",
          "output_type": "stream",
          "text": [
            "\n",
            "Trial train_mnist_72e7b_00018 errored after 0 iterations at 2024-11-13 17:21:20. Total running time: 8min 56s\n",
            "Error file: /tmp/ray/session_2024-11-13_17-12-15_277287_683/artifacts/2024-11-13_17-12-23/train_mnist_2024-11-13_17-12-23/driver_artifacts/train_mnist_72e7b_00018_18_batch_size=32,lr=0.0001,n_layers=3,n_units=32_2024-11-13_17-12-44/error.txt\n",
            "\n",
            "Trial train_mnist_72e7b_00019 errored after 0 iterations at 2024-11-13 17:21:20. Total running time: 8min 56s\n",
            "Error file: /tmp/ray/session_2024-11-13_17-12-15_277287_683/artifacts/2024-11-13_17-12-23/train_mnist_2024-11-13_17-12-23/driver_artifacts/train_mnist_72e7b_00019_19_batch_size=128,lr=0.0002,n_layers=1,n_units=64_2024-11-13_17-12-45/error.txt\n",
            "\n",
            "Trial status: 20 ERROR\n",
            "Current time: 2024-11-13 17:21:20. Total running time: 8min 56s\n",
            "Logical resource usage: 1.0/2 CPUs, 0/0 GPUs\n",
            "+------------------------------------------------------------------------------------------+\n",
            "| Trial name                status              lr     batch_size     n_layers     n_units |\n",
            "+------------------------------------------------------------------------------------------+\n",
            "| train_mnist_72e7b_00000   ERROR      0.000105659             64            2         128 |\n",
            "| train_mnist_72e7b_00001   ERROR      0.00118331              64            3         128 |\n",
            "| train_mnist_72e7b_00002   ERROR      5.91159e-05            128            2          32 |\n",
            "| train_mnist_72e7b_00003   ERROR      0.00611151              32            2         128 |\n",
            "| train_mnist_72e7b_00004   ERROR      0.00223458             128            2          32 |\n",
            "| train_mnist_72e7b_00005   ERROR      0.00289927             128            3          32 |\n",
            "| train_mnist_72e7b_00006   ERROR      0.0008884               32            1          64 |\n",
            "| train_mnist_72e7b_00007   ERROR      0.000242121            128            1          32 |\n",
            "| train_mnist_72e7b_00008   ERROR      0.00366188              64            3          32 |\n",
            "| train_mnist_72e7b_00009   ERROR      8.52954e-05             32            3          32 |\n",
            "| train_mnist_72e7b_00010   ERROR      0.00280513              32            2         128 |\n",
            "| train_mnist_72e7b_00011   ERROR      1.78921e-05             64            3         128 |\n",
            "| train_mnist_72e7b_00012   ERROR      2.09159e-05             32            1          64 |\n",
            "| train_mnist_72e7b_00013   ERROR      3.86109e-05             32            3         128 |\n",
            "| train_mnist_72e7b_00014   ERROR      0.000190781             64            2          64 |\n",
            "| train_mnist_72e7b_00015   ERROR      0.000135533            128            3         128 |\n",
            "| train_mnist_72e7b_00016   ERROR      0.000180571             32            3         128 |\n",
            "| train_mnist_72e7b_00017   ERROR      0.0004525               64            3         128 |\n",
            "| train_mnist_72e7b_00018   ERROR      5.73823e-05             32            3          32 |\n",
            "| train_mnist_72e7b_00019   ERROR      0.000175165            128            1          64 |\n",
            "+------------------------------------------------------------------------------------------+\n",
            "\n",
            "Number of errored trials: 20\n",
            "+----------------------------------------------------------------------------------------------------------------------------------------------------------------------------------------------------------------------------------------------------------------------------------+\n",
            "| Trial name                  # failures   error file                                                                                                                                                                                                                              |\n",
            "+----------------------------------------------------------------------------------------------------------------------------------------------------------------------------------------------------------------------------------------------------------------------------------+\n",
            "| train_mnist_72e7b_00000              1   /tmp/ray/session_2024-11-13_17-12-15_277287_683/artifacts/2024-11-13_17-12-23/train_mnist_2024-11-13_17-12-23/driver_artifacts/train_mnist_72e7b_00000_0_batch_size=64,lr=0.0001,n_layers=2,n_units=128_2024-11-13_17-12-35/error.txt   |\n",
            "| train_mnist_72e7b_00001              1   /tmp/ray/session_2024-11-13_17-12-15_277287_683/artifacts/2024-11-13_17-12-23/train_mnist_2024-11-13_17-12-23/driver_artifacts/train_mnist_72e7b_00001_1_batch_size=64,lr=0.0012,n_layers=3,n_units=128_2024-11-13_17-12-36/error.txt   |\n",
            "| train_mnist_72e7b_00002              1   /tmp/ray/session_2024-11-13_17-12-15_277287_683/artifacts/2024-11-13_17-12-23/train_mnist_2024-11-13_17-12-23/driver_artifacts/train_mnist_72e7b_00002_2_batch_size=128,lr=0.0001,n_layers=2,n_units=32_2024-11-13_17-12-36/error.txt   |\n",
            "| train_mnist_72e7b_00003              1   /tmp/ray/session_2024-11-13_17-12-15_277287_683/artifacts/2024-11-13_17-12-23/train_mnist_2024-11-13_17-12-23/driver_artifacts/train_mnist_72e7b_00003_3_batch_size=32,lr=0.0061,n_layers=2,n_units=128_2024-11-13_17-12-37/error.txt   |\n",
            "| train_mnist_72e7b_00004              1   /tmp/ray/session_2024-11-13_17-12-15_277287_683/artifacts/2024-11-13_17-12-23/train_mnist_2024-11-13_17-12-23/driver_artifacts/train_mnist_72e7b_00004_4_batch_size=128,lr=0.0022,n_layers=2,n_units=32_2024-11-13_17-12-37/error.txt   |\n",
            "| train_mnist_72e7b_00005              1   /tmp/ray/session_2024-11-13_17-12-15_277287_683/artifacts/2024-11-13_17-12-23/train_mnist_2024-11-13_17-12-23/driver_artifacts/train_mnist_72e7b_00005_5_batch_size=128,lr=0.0029,n_layers=3,n_units=32_2024-11-13_17-12-38/error.txt   |\n",
            "| train_mnist_72e7b_00006              1   /tmp/ray/session_2024-11-13_17-12-15_277287_683/artifacts/2024-11-13_17-12-23/train_mnist_2024-11-13_17-12-23/driver_artifacts/train_mnist_72e7b_00006_6_batch_size=32,lr=0.0009,n_layers=1,n_units=64_2024-11-13_17-12-38/error.txt    |\n",
            "| train_mnist_72e7b_00007              1   /tmp/ray/session_2024-11-13_17-12-15_277287_683/artifacts/2024-11-13_17-12-23/train_mnist_2024-11-13_17-12-23/driver_artifacts/train_mnist_72e7b_00007_7_batch_size=128,lr=0.0002,n_layers=1,n_units=32_2024-11-13_17-12-39/error.txt   |\n",
            "| train_mnist_72e7b_00008              1   /tmp/ray/session_2024-11-13_17-12-15_277287_683/artifacts/2024-11-13_17-12-23/train_mnist_2024-11-13_17-12-23/driver_artifacts/train_mnist_72e7b_00008_8_batch_size=64,lr=0.0037,n_layers=3,n_units=32_2024-11-13_17-12-39/error.txt    |\n",
            "| train_mnist_72e7b_00009              1   /tmp/ray/session_2024-11-13_17-12-15_277287_683/artifacts/2024-11-13_17-12-23/train_mnist_2024-11-13_17-12-23/driver_artifacts/train_mnist_72e7b_00009_9_batch_size=32,lr=0.0001,n_layers=3,n_units=32_2024-11-13_17-12-40/error.txt    |\n",
            "| train_mnist_72e7b_00010              1   /tmp/ray/session_2024-11-13_17-12-15_277287_683/artifacts/2024-11-13_17-12-23/train_mnist_2024-11-13_17-12-23/driver_artifacts/train_mnist_72e7b_00010_10_batch_size=32,lr=0.0028,n_layers=2,n_units=128_2024-11-13_17-12-40/error.txt  |\n",
            "| train_mnist_72e7b_00011              1   /tmp/ray/session_2024-11-13_17-12-15_277287_683/artifacts/2024-11-13_17-12-23/train_mnist_2024-11-13_17-12-23/driver_artifacts/train_mnist_72e7b_00011_11_batch_size=64,lr=0.0000,n_layers=3,n_units=128_2024-11-13_17-12-41/error.txt  |\n",
            "| train_mnist_72e7b_00012              1   /tmp/ray/session_2024-11-13_17-12-15_277287_683/artifacts/2024-11-13_17-12-23/train_mnist_2024-11-13_17-12-23/driver_artifacts/train_mnist_72e7b_00012_12_batch_size=32,lr=0.0000,n_layers=1,n_units=64_2024-11-13_17-12-41/error.txt   |\n",
            "| train_mnist_72e7b_00013              1   /tmp/ray/session_2024-11-13_17-12-15_277287_683/artifacts/2024-11-13_17-12-23/train_mnist_2024-11-13_17-12-23/driver_artifacts/train_mnist_72e7b_00013_13_batch_size=32,lr=0.0000,n_layers=3,n_units=128_2024-11-13_17-12-42/error.txt  |\n",
            "| train_mnist_72e7b_00014              1   /tmp/ray/session_2024-11-13_17-12-15_277287_683/artifacts/2024-11-13_17-12-23/train_mnist_2024-11-13_17-12-23/driver_artifacts/train_mnist_72e7b_00014_14_batch_size=64,lr=0.0002,n_layers=2,n_units=64_2024-11-13_17-12-42/error.txt   |\n",
            "| train_mnist_72e7b_00015              1   /tmp/ray/session_2024-11-13_17-12-15_277287_683/artifacts/2024-11-13_17-12-23/train_mnist_2024-11-13_17-12-23/driver_artifacts/train_mnist_72e7b_00015_15_batch_size=128,lr=0.0001,n_layers=3,n_units=128_2024-11-13_17-12-43/error.txt |\n",
            "| train_mnist_72e7b_00016              1   /tmp/ray/session_2024-11-13_17-12-15_277287_683/artifacts/2024-11-13_17-12-23/train_mnist_2024-11-13_17-12-23/driver_artifacts/train_mnist_72e7b_00016_16_batch_size=32,lr=0.0002,n_layers=3,n_units=128_2024-11-13_17-12-43/error.txt  |\n",
            "| train_mnist_72e7b_00017              1   /tmp/ray/session_2024-11-13_17-12-15_277287_683/artifacts/2024-11-13_17-12-23/train_mnist_2024-11-13_17-12-23/driver_artifacts/train_mnist_72e7b_00017_17_batch_size=64,lr=0.0005,n_layers=3,n_units=128_2024-11-13_17-12-44/error.txt  |\n",
            "| train_mnist_72e7b_00018              1   /tmp/ray/session_2024-11-13_17-12-15_277287_683/artifacts/2024-11-13_17-12-23/train_mnist_2024-11-13_17-12-23/driver_artifacts/train_mnist_72e7b_00018_18_batch_size=32,lr=0.0001,n_layers=3,n_units=32_2024-11-13_17-12-44/error.txt   |\n",
            "| train_mnist_72e7b_00019              1   /tmp/ray/session_2024-11-13_17-12-15_277287_683/artifacts/2024-11-13_17-12-23/train_mnist_2024-11-13_17-12-23/driver_artifacts/train_mnist_72e7b_00019_19_batch_size=128,lr=0.0002,n_layers=1,n_units=64_2024-11-13_17-12-45/error.txt  |\n",
            "+----------------------------------------------------------------------------------------------------------------------------------------------------------------------------------------------------------------------------------------------------------------------------------+\n",
            "\n"
          ]
        },
        {
          "ename": "TuneError",
          "evalue": "('Trials did not complete', [train_mnist_72e7b_00000, train_mnist_72e7b_00001, train_mnist_72e7b_00002, train_mnist_72e7b_00003, train_mnist_72e7b_00004, train_mnist_72e7b_00005, train_mnist_72e7b_00006, train_mnist_72e7b_00007, train_mnist_72e7b_00008, train_mnist_72e7b_00009, train_mnist_72e7b_00010, train_mnist_72e7b_00011, train_mnist_72e7b_00012, train_mnist_72e7b_00013, train_mnist_72e7b_00014, train_mnist_72e7b_00015, train_mnist_72e7b_00016, train_mnist_72e7b_00017, train_mnist_72e7b_00018, train_mnist_72e7b_00019])",
          "output_type": "error",
          "traceback": [
            "\u001b[0;31m---------------------------------------------------------------------------\u001b[0m",
            "\u001b[0;31mTuneError\u001b[0m                                 Traceback (most recent call last)",
            "\u001b[0;32m<ipython-input-3-8222499238c3>\u001b[0m in \u001b[0;36m<cell line: 102>\u001b[0;34m()\u001b[0m\n\u001b[1;32m    100\u001b[0m \u001b[0;34m\u001b[0m\u001b[0m\n\u001b[1;32m    101\u001b[0m \u001b[0;31m# Run Ray Tune\u001b[0m\u001b[0;34m\u001b[0m\u001b[0;34m\u001b[0m\u001b[0m\n\u001b[0;32m--> 102\u001b[0;31m analysis = tune.run(\n\u001b[0m\u001b[1;32m    103\u001b[0m     \u001b[0mtrain_mnist\u001b[0m\u001b[0;34m,\u001b[0m\u001b[0;34m\u001b[0m\u001b[0;34m\u001b[0m\u001b[0m\n\u001b[1;32m    104\u001b[0m     \u001b[0mresources_per_trial\u001b[0m\u001b[0;34m=\u001b[0m\u001b[0;34m{\u001b[0m\u001b[0;34m\"cpu\"\u001b[0m\u001b[0;34m:\u001b[0m \u001b[0;36m1\u001b[0m\u001b[0;34m,\u001b[0m \u001b[0;34m\"gpu\"\u001b[0m\u001b[0;34m:\u001b[0m \u001b[0;36m1\u001b[0m \u001b[0;32mif\u001b[0m \u001b[0mtorch\u001b[0m\u001b[0;34m.\u001b[0m\u001b[0mcuda\u001b[0m\u001b[0;34m.\u001b[0m\u001b[0mis_available\u001b[0m\u001b[0;34m(\u001b[0m\u001b[0;34m)\u001b[0m \u001b[0;32melse\u001b[0m \u001b[0;36m0\u001b[0m\u001b[0;34m}\u001b[0m\u001b[0;34m,\u001b[0m\u001b[0;34m\u001b[0m\u001b[0;34m\u001b[0m\u001b[0m\n",
            "\u001b[0;32m/usr/local/lib/python3.10/dist-packages/ray/tune/tune.py\u001b[0m in \u001b[0;36mrun\u001b[0;34m(run_or_experiment, name, metric, mode, stop, time_budget_s, config, resources_per_trial, num_samples, storage_path, storage_filesystem, search_alg, scheduler, checkpoint_config, verbose, progress_reporter, log_to_file, trial_name_creator, trial_dirname_creator, sync_config, export_formats, max_failures, fail_fast, restore, resume, resume_config, reuse_actors, raise_on_failed_trial, callbacks, max_concurrent_trials, keep_checkpoints_num, checkpoint_score_attr, checkpoint_freq, checkpoint_at_end, chdir_to_trial_dir, local_dir, _remote, _remote_string_queue, _entrypoint)\u001b[0m\n\u001b[1;32m   1033\u001b[0m     \u001b[0;32mif\u001b[0m \u001b[0mincomplete_trials\u001b[0m\u001b[0;34m:\u001b[0m\u001b[0;34m\u001b[0m\u001b[0;34m\u001b[0m\u001b[0m\n\u001b[1;32m   1034\u001b[0m         \u001b[0;32mif\u001b[0m \u001b[0mraise_on_failed_trial\u001b[0m \u001b[0;32mand\u001b[0m \u001b[0;32mnot\u001b[0m \u001b[0mexperiment_interrupted_event\u001b[0m\u001b[0;34m.\u001b[0m\u001b[0mis_set\u001b[0m\u001b[0;34m(\u001b[0m\u001b[0;34m)\u001b[0m\u001b[0;34m:\u001b[0m\u001b[0;34m\u001b[0m\u001b[0;34m\u001b[0m\u001b[0m\n\u001b[0;32m-> 1035\u001b[0;31m             \u001b[0;32mraise\u001b[0m \u001b[0mTuneError\u001b[0m\u001b[0;34m(\u001b[0m\u001b[0;34m\"Trials did not complete\"\u001b[0m\u001b[0;34m,\u001b[0m \u001b[0mincomplete_trials\u001b[0m\u001b[0;34m)\u001b[0m\u001b[0;34m\u001b[0m\u001b[0;34m\u001b[0m\u001b[0m\n\u001b[0m\u001b[1;32m   1036\u001b[0m         \u001b[0;32melse\u001b[0m\u001b[0;34m:\u001b[0m\u001b[0;34m\u001b[0m\u001b[0;34m\u001b[0m\u001b[0m\n\u001b[1;32m   1037\u001b[0m             \u001b[0mlogger\u001b[0m\u001b[0;34m.\u001b[0m\u001b[0merror\u001b[0m\u001b[0;34m(\u001b[0m\u001b[0;34m\"Trials did not complete: %s\"\u001b[0m\u001b[0;34m,\u001b[0m \u001b[0mincomplete_trials\u001b[0m\u001b[0;34m)\u001b[0m\u001b[0;34m\u001b[0m\u001b[0;34m\u001b[0m\u001b[0m\n",
            "\u001b[0;31mTuneError\u001b[0m: ('Trials did not complete', [train_mnist_72e7b_00000, train_mnist_72e7b_00001, train_mnist_72e7b_00002, train_mnist_72e7b_00003, train_mnist_72e7b_00004, train_mnist_72e7b_00005, train_mnist_72e7b_00006, train_mnist_72e7b_00007, train_mnist_72e7b_00008, train_mnist_72e7b_00009, train_mnist_72e7b_00010, train_mnist_72e7b_00011, train_mnist_72e7b_00012, train_mnist_72e7b_00013, train_mnist_72e7b_00014, train_mnist_72e7b_00015, train_mnist_72e7b_00016, train_mnist_72e7b_00017, train_mnist_72e7b_00018, train_mnist_72e7b_00019])"
          ]
        }
      ],
      "source": [
        "import torch\n",
        "import torch.nn as nn\n",
        "import torch.optim as optim\n",
        "from torchvision import datasets, transforms\n",
        "from torch.utils.data import DataLoader, random_split\n",
        "from ray import tune\n",
        "from ray.tune import CLIReporter\n",
        "from ray.tune.schedulers import ASHAScheduler\n",
        "\n",
        "# Define transformations for the MNIST dataset\n",
        "transform = transforms.Compose([\n",
        "    transforms.ToTensor(),\n",
        "    transforms.Normalize((0.5,), (0.5,))  # Normalize the images\n",
        "])\n",
        "\n",
        "# Load the MNIST training and test datasets\n",
        "train_val_dataset = datasets.MNIST(root='./data', train=True, download=True, transform=transform)\n",
        "test_dataset = datasets.MNIST(root='./data', train=False, download=True, transform=transform)\n",
        "\n",
        "# Split train_val_dataset into training and validation sets (e.g., 90% train, 10% validation)\n",
        "train_size = int(0.9 * len(train_val_dataset))\n",
        "val_size = len(train_val_dataset) - train_size\n",
        "train_dataset, val_dataset = random_split(train_val_dataset, [train_size, val_size])\n",
        "\n",
        "# Define the PyTorch model\n",
        "class SimpleNN(nn.Module):\n",
        "    def __init__(self, config):\n",
        "        super(SimpleNN, self).__init__()\n",
        "        layers = [nn.Flatten()]\n",
        "        in_features = 28 * 28\n",
        "        for _ in range(config[\"n_layers\"]):\n",
        "            layers.append(nn.Linear(in_features, config[\"n_units\"]))\n",
        "            layers.append(nn.ReLU())\n",
        "            in_features = config[\"n_units\"]\n",
        "        layers.append(nn.Linear(in_features, 10))  # Output layer for 10 classes\n",
        "        self.model = nn.Sequential(*layers)\n",
        "\n",
        "    def forward(self, x):\n",
        "        return self.model(x)\n",
        "\n",
        "# Training function for Ray Tune\n",
        "def train_mnist(config, checkpoint_dir=None):\n",
        "    model = SimpleNN(config)\n",
        "    device = \"cuda\" if torch.cuda.is_available() else \"cpu\"\n",
        "    model.to(device)\n",
        "\n",
        "    criterion = nn.CrossEntropyLoss()\n",
        "    optimizer = optim.Adam(model.parameters(), lr=config[\"lr\"])\n",
        "\n",
        "    # Load data\n",
        "    train_loader = DataLoader(train_dataset, batch_size=config[\"batch_size\"], shuffle=True)\n",
        "    val_loader = DataLoader(val_dataset, batch_size=config[\"batch_size\"], shuffle=False)\n",
        "\n",
        "    # Training loop\n",
        "    for epoch in range(5):  # Training for a few epochs\n",
        "        model.train()\n",
        "        for X_batch, y_batch in train_loader:\n",
        "            X_batch, y_batch = X_batch.to(device), y_batch.to(device)\n",
        "            optimizer.zero_grad()\n",
        "            outputs = model(X_batch)\n",
        "            loss = criterion(outputs, y_batch)\n",
        "            loss.backward()\n",
        "            optimizer.step()\n",
        "\n",
        "        # Validation accuracy\n",
        "        model.eval()\n",
        "        correct = 0\n",
        "        total = 0\n",
        "        with torch.no_grad():\n",
        "            for X_batch, y_batch in val_loader:\n",
        "                X_batch, y_batch = X_batch.to(device), y_batch.to(device)\n",
        "                outputs = model(X_batch)\n",
        "                _, predicted = torch.max(outputs, 1)\n",
        "                correct += (predicted == y_batch).sum().item()\n",
        "                total += y_batch.size(0)\n",
        "\n",
        "        val_accuracy = correct / total\n",
        "        tune.report(mean_accuracy=val_accuracy)\n",
        "\n",
        "# Hyperparameter tuning configuration\n",
        "config = {\n",
        "    \"lr\": tune.loguniform(1e-5, 1e-2),\n",
        "    \"batch_size\": tune.choice([32, 64, 128]),\n",
        "    \"n_layers\": tune.randint(1, 4),\n",
        "    \"n_units\": tune.choice([32, 64, 128])\n",
        "}\n",
        "\n",
        "# Scheduler and Reporter for Ray Tune\n",
        "scheduler = ASHAScheduler(\n",
        "    metric=\"mean_accuracy\",\n",
        "    mode=\"max\",\n",
        "    max_t=5,  # Max epochs\n",
        "    grace_period=1,\n",
        "    reduction_factor=2\n",
        ")\n",
        "\n",
        "reporter = CLIReporter(\n",
        "    metric_columns=[\"mean_accuracy\", \"training_iteration\"]\n",
        ")\n",
        "\n",
        "# Run Ray Tune\n",
        "analysis = tune.run(\n",
        "    train_mnist,\n",
        "    resources_per_trial={\"cpu\": 1, \"gpu\": 1 if torch.cuda.is_available() else 0},\n",
        "    config=config,\n",
        "    num_samples=20,  # Number of hyperparameter configurations to try\n",
        "    scheduler=scheduler,\n",
        "    progress_reporter=reporter\n",
        ")\n",
        "\n",
        "# Best hyperparameters\n",
        "print(\"Best hyperparameters found were: \", analysis.best_config)\n",
        "\n",
        "# Optional: Evaluate the best model on the test set\n",
        "best_config = analysis.best_config\n",
        "\n",
        "# Load the test set with the best batch size\n",
        "test_loader = DataLoader(test_dataset, batch_size=best_config[\"batch_size\"], shuffle=False)\n",
        "\n",
        "# Define the best model and set it up for testing\n",
        "best_model = SimpleNN(best_config).to(device)\n",
        "optimizer = optim.Adam(best_model.parameters(), lr=best_config[\"lr\"])\n",
        "\n",
        "# Train the best model on the entire training dataset\n",
        "def train_final_model(model, train_loader, criterion, optimizer, epochs=5):\n",
        "    model.train()\n",
        "    for epoch in range(epochs):\n",
        "        for X_batch, y_batch in train_loader:\n",
        "            X_batch, y_batch = X_batch.to(device), y_batch.to(device)\n",
        "            optimizer.zero_grad()\n",
        "            outputs = model(X_batch)\n",
        "            loss = criterion(outputs, y_batch)\n",
        "            loss.backward()\n",
        "            optimizer.step()\n",
        "\n",
        "train_loader = DataLoader(train_dataset, batch_size=best_config[\"batch_size\"], shuffle=True)\n",
        "train_final_model(best_model, train_loader, criterion, optimizer)\n",
        "\n",
        "# Evaluate on the test set\n",
        "best_model.eval()\n",
        "correct = 0\n",
        "total = 0\n",
        "with torch.no_grad():\n",
        "    for X_batch, y_batch in test_loader:\n",
        "        X_batch, y_batch = X_batch.to(device), y_batch.to(device)\n",
        "        outputs = best_model(X_batch)\n",
        "        _, predicted = torch.max(outputs, 1)\n",
        "        correct += (predicted == y_batch).sum().item()\n",
        "        total += y_batch.size(0)\n",
        "\n",
        "test_accuracy = correct / total\n",
        "print(f\"Test Accuracy with best hyperparameters: {test_accuracy * 100:.2f}%\")\n"
      ]
    },
    {
      "cell_type": "code",
      "execution_count": null,
      "metadata": {
        "id": "dMQuhRBmgW7V"
      },
      "outputs": [],
      "source": []
    },
    {
      "cell_type": "markdown",
      "metadata": {
        "id": "xdFO1m5fImpp"
      },
      "source": [
        "# Other Resources\n",
        "\n",
        "# 6 - Useful Resources\n",
        "\n",
        "\n",
        "## Textbooks\n",
        "\n",
        "-\tGéron, Aurélien. *Hands-on machine learning with Scikit-Learn, Keras, and TensorFlow*. \" O'Reilly Media, Inc.\", 2022.\n",
        "-\tHastie, Trevor, et al. *The elements of statistical learning: data mining, inference, and prediction*. Vol. 2. New York: springer, 2009.\n",
        "-\tGoodfellow, Ian, Yoshua Bengio, and Aaron Courville. [*Deep learning*](https://www.deeplearningbook.org/). MIT press, 2016.\n",
        "-\tParr, Terence, and Jeremy Howard. [\"*The matrix calculus you need for deep learning.*\"](https://arxiv.org/abs/1802.01528) arXiv preprint arXiv:1802.01528 (2018).\n",
        "\n",
        "\n",
        "\n",
        "\n",
        "## Websites\n",
        "-\t[Hand's on machine learning Github Repository](https://github.com/ageron/handson-ml2) - a series of Jupyter notebooks that includes example code for extremely important concepts.\n",
        "-\t[Machine Learning Mastery](https://machinelearningmastery.com/) - A blog that covers almost every possible topic and includes example codes, links to papers, and more. Code mostly written in Python, with some entries in R.\n",
        "-\t[Papers with Code](https://paperswithcode.com/) - a website that contains links to research papers and their code.\n",
        "- [kaggle](https://www.kaggle.com/) - a website for data science competitions, as well as free learning modules in a variety of machine learning topics\n",
        "-\t[AI2ES](https://www.ai2es.org/products/education/) - a research group mostly focused on machine learning in weather, but that has extremely useful resources.\n",
        "\n",
        "## Other\n",
        "- [Anaconda](https://www.anaconda.com/) - a data science application that includes software and a package manager, as well as pre-installed basic packages used for machine learning."
      ]
    }
  ],
  "metadata": {
    "colab": {
      "provenance": []
    },
    "kernelspec": {
      "display_name": "Python 3",
      "name": "python3"
    },
    "language_info": {
      "name": "python"
    }
  },
  "nbformat": 4,
  "nbformat_minor": 0
}